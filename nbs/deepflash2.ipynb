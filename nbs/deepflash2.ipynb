{
 "cells": [
  {
   "cell_type": "markdown",
   "metadata": {
    "colab_type": "text",
    "id": "OcsetTMwKXqC"
   },
   "source": [
    "# deepflash2\n",
    "\n",
    "> A deep learning pipeline for segmentation of fluorescent labels in microscopy images.\n",
    "\n",
    "**Watch the [deepflash2 tutorials](https://matjesg.github.io/deepflash2/tutorial/) and read the [deepflash2 docs](https://matjesg.github.io/deepflash2/)**.\n",
    "\n",
    "If you're working on [Google Colab](https://colab.research.google.com), you will be abled to connect to your [Google Drive](https://drive.google.com/drive/my-drive) (recommended)."
   ]
  },
  {
   "cell_type": "code",
   "execution_count": null,
   "metadata": {},
   "outputs": [
    {
     "name": "stdout",
     "output_type": "stream",
     "text": [
      "Exception reporting mode: Plain\n"
     ]
    }
   ],
   "source": [
    "#@title Set up environment\n",
    "#@markdown Please run this cell to get started.\n",
    "try:\n",
    "    import deepflash2\n",
    "except ImportError:\n",
    "    !pip install -Uqq deepflash2\n",
    "from deepflash2.gui import GUI, _connect_to_drive\n",
    "path=_connect_to_drive()\n",
    "%xmode Plain"
   ]
  },
  {
   "cell_type": "code",
   "execution_count": null,
   "metadata": {},
   "outputs": [
    {
     "data": {
      "text/html": [
       "<style>\n",
       ".tooltip {\n",
       "  position: relative;\n",
       "  display: inline-block;\n",
       "}\n",
       "\n",
       ".tooltip .tooltiptext {\n",
       "  visibility: hidden;\n",
       "  width: max-content;\n",
       "  max-width: 280px;\n",
       "  background-color: #00bcd4;\n",
       "  text-align: left;\n",
       "  color: white;\n",
       "  border-radius: 4px;\n",
       "  padding: 4px 4px;\n",
       "  border: solid 0px black;\n",
       "  line-height: 1em;\n",
       "\n",
       "  /* Position the tooltip */\n",
       "  position: absolute;\n",
       "  z-index: 1;\n",
       "}\n",
       "\n",
       ".tooltip:hover .tooltiptext {\n",
       "  visibility: visible;\n",
       "}\n",
       "</style>"
      ],
      "text/plain": [
       "<IPython.core.display.HTML object>"
      ]
     },
     "metadata": {},
     "output_type": "display_data"
    },
    {
     "data": {
      "application/vnd.jupyter.widget-view+json": {
       "model_id": "a3a1c428dec443a7836bfd4eeac678f1",
       "version_major": 2,
       "version_minor": 0
      },
      "text/plain": [
       "GridBox(children=(HTML(value=\"<h4 style='text-align:center;background-color:lightgray'>deepflash</h4>\", layout…"
      ]
     },
     "metadata": {},
     "output_type": "display_data"
    }
   ],
   "source": [
    "#@title deepflash2 UI\n",
    "#@markdown Start UI. If something goes wrong, click \"Runtime\" -> \"Factory Reset Runtime\" and start over!\n",
    "GUI(path);"
   ]
  }
 ],
 "metadata": {
  "accelerator": "GPU",
  "colab": {
   "collapsed_sections": [
    "Qg0Ni1QRKXqj",
    "zpwPtQGsKXqr",
    "Ym7ZktGpKXq4",
    "MzOXPOo7KXrF",
    "zbUfv4xkKXrs",
    "OqyqRWJdKXsm"
   ],
   "name": "train.ipynb",
   "provenance": [],
   "toc_visible": true
  },
  "kernelspec": {
   "display_name": "fastai",
   "language": "python",
   "name": "fastai"
  }
 },
 "nbformat": 4,
 "nbformat_minor": 4
}
