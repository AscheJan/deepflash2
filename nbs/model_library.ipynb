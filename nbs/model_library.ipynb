{
 "cells": [
  {
   "cell_type": "markdown",
   "metadata": {},
   "source": [
    "# Model Library\n",
    "> This Notebook contains information on the datasets of the pretrained models."
   ]
  },
  {
   "cell_type": "markdown",
   "metadata": {},
   "source": [
    "* [cFOS_Wue]: \n",
    "Trained on 36 image-mask pairs of cFOS labels in the dorsal hippocampus (including 12 images of each sub-region: dentate gyrus, CA3 and CA1). Masks for training were prepared by five independent experts. Images were acquired using laser-scanning confocal microscopy with a resolution of 1.6 pixel per µm.\n",
    "    \n",
    "    <img src=\"https://raw.githubusercontent.com/matjesg/DeepFLaSH/master/assets/cFOS_Wue.png\" width=\"250\" height=\"250\" alt=\"cFOS_Wue\">\n",
    "    <img src=\"https://raw.githubusercontent.com/matjesg/DeepFLaSH/master/assets/cFOS_Wue_mask.png\" width=\"250\" height=\"250\" alt=\"cFOS_Wue_mask\">"
   ]
  },
  {
   "cell_type": "markdown",
   "metadata": {},
   "source": [
    "* [Parv]:\n",
    "Trained on 36 image-mask pairs of Parvalbumin-labels in the dorsal hippocampus (including 12 images of each sub-region: dentate gyrus, CA3 and CA1). Masks for training were prepared by five independent experts. Images were acquired using laser-scanning confocal microscopy with a resolution of 1.6 pixel per µm.\n",
    "    \n",
    "    <img src=\"https://raw.githubusercontent.com/matjesg/DeepFLaSH/master/assets/Parv.png\" width=\"250\" height=\"250\" alt=\"Parv\">\n",
    "    <img src=\"https://raw.githubusercontent.com/matjesg/DeepFLaSH/master/assets/Parv_mask.png\" width=\"250\" height=\"250\" alt=\"Parv\">"
   ]
  },
  {
   "cell_type": "markdown",
   "metadata": {},
   "source": [
    "* [cFOS_Inns1]:\n",
    "with five image-mask pairs of cFOS labels in the amygdala. Masks for fine-tuning were prepared by one expert. Images acquired using epifluorescence microscopy with a resolution of 1 pixel per µm.\n",
    "\n",
    "    <img src=\"https://raw.githubusercontent.com/matjesg/DeepFLaSH/master/assets/cFOS_Inns1.png\" width=\"250\" height=\"250\" alt=\"cFOS_Inns1\">\n",
    "    <img src=\"https://raw.githubusercontent.com/matjesg/DeepFLaSH/master/assets/cFOS_Inns1_mask.png\" width=\"250\" height=\"250\" alt=\"cFOS_Inns1_mask\">"
   ]
  },
  {
   "cell_type": "markdown",
   "metadata": {},
   "source": [
    "* [cFOS_Inns2]:\n",
    "with five image-mask pairs of cFOS labels in the infralimbic cortex. Masks for fine-tuning were prepared by one expert. Images acquired using epifluorescence microscopy with a resolution of 2 pixel per µm.\n",
    "\n",
    "    <img src=\"https://raw.githubusercontent.com/matjesg/DeepFLaSH/master/assets/cFOS_Inns2.png\" width=\"250\" height=\"250\" alt=\"cFOS_Inns2\">\n",
    "    <img src=\"https://raw.githubusercontent.com/matjesg/DeepFLaSH/master/assets/cFOS_Inns2_mask.png\" width=\"250\" height=\"250\" alt=\"cFOS_Inns2_mask\">"
   ]
  },
  {
   "cell_type": "markdown",
   "metadata": {},
   "source": [
    "* [cFOS_Mue]:\n",
    "with five image-mask pairs of cFOS labels in the paraventricular nucleus of the thalamus. Masks for fine-tuning were prepared by one expert. Images acquired using laser-scanning confocal microscopy with a resolution of 0.8 pixel per µm.\n",
    "\n",
    "    <img src=\"https://raw.githubusercontent.com/matjesg/DeepFLaSH/master/assets/cFOS_Mue.png\" width=\"250\" height=\"250\" alt=\"cFOS_Mue\">\n",
    "    <img src=\"https://raw.githubusercontent.com/matjesg/DeepFLaSH/master/assets/cFOS_Mue_mask.png\" width=\"250\" height=\"250\" alt=\"cFOS_Mue_mask\">"
   ]
  }
 ],
 "metadata": {
  "kernelspec": {
   "display_name": "Python 3",
   "language": "python",
   "name": "python3"
  }
 },
 "nbformat": 4,
 "nbformat_minor": 4
}
