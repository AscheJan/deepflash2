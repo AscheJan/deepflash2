{
 "cells": [
  {
   "cell_type": "markdown",
   "metadata": {},
   "source": [
    "# Tutorials\n",
    "> This Notebook contains tutorials for the use of _deepflash2_."
   ]
  },
  {
   "cell_type": "markdown",
   "metadata": {},
   "source": [
    "deepflash2 consists of three major compenents."
   ]
  },
  {
   "cell_type": "code",
   "execution_count": null,
   "metadata": {},
   "outputs": [],
   "source": [
    "Run deepflash2 in Colab\n",
    "Connect to Google Drive"
   ]
  },
  {
   "cell_type": "markdown",
   "metadata": {},
   "source": [
    "## Ground Truth Estimation\n",
    "> Derive reference segmentations from segmentations of multiple experts. \n",
    "\n",
    "![](https://img.shields.io/badge/INPUT-expert%20segmentations-blue) \n",
    "![](https://img.shields.io/badge/OUTPUT-ground%20truth%20segmentations-success) \n",
    "![](https://img.shields.io/badge/OUTPUT-expert%20performance%20scores-success) \n",
    "\n",
    "\n",
    "***INPUT - Expert Segmentations***\n",
    "\n",
    "- binary segmentations of an image, that is, there must be a single foreground value that represents positively classified pixels\n",
    "- instance segmentations of an image (instances represent positively classified pixels)\n",
    "\n",
    "Examplary input folder structure:\n",
    ">\n",
    "```\n",
    "expert_segmentations  -> one parent folder\n",
    "│                     \n",
    "│───expert1           -> one folder per expert\n",
    "│   │   mask1.png     -> segmentation masks\n",
    "│   │   mask2.png\n",
    "│   \n",
    "└───expert2\n",
    "    │   mask1.png\n",
    "    │   mask2.png\n",
    "```\n",
    "\n",
    "All common image formats (tif, png, etc.) are supported. See [imageio docs](https://imageio.readthedocs.io/en/stable/formats/index.html).\n",
    "\n",
    "![deepflash2 training getting started](https://raw.githubusercontent.com/matjesg/deepflash2/master/nbs/media/screen_captures/GUI_Train_start.gif)\n",
    "\n",
    "---\n",
    "\n",
    "***OUTPUT -  Ground Truth Estimation***\n",
    "\n",
    "![deepflash2 training getting started](https://raw.githubusercontent.com/matjesg/deepflash2/master/nbs/media/screen_captures/GUI_Train_start.gif)\n",
    "\n",
    "- **Simultaneous truth and performance level estimation (STAPLE).** The STAPLE algorithm considers a collection of segmentations and computes a probabilistic estimate of the true segmentation and a measure of the performance level represented by each segmentation. _Source: Warfield, Simon K., Kelly H. Zou, and William M. Wells. \"Simultaneous truth and performance level estimation (STAPLE): an algorithm for the validation of image segmentation.\" IEEE transactions on medical imaging 23.7 (2004): 903-921_\n",
    "- **Majority Voting.** Use majority voting to obtain the reference segmentation. Note that this filter does not resolve ties. In case of ties it will assign the indicated *MV undecided* label to the result. \n",
    "\n",
    "EXAMPLE\n",
    "\n",
    "---\n",
    "\n",
    "***OUTPUT -  Expert Performance Scores***\n",
    "\n",
    "\n",
    "EXAMPLE\n"
   ]
  },
  {
   "cell_type": "markdown",
   "metadata": {},
   "source": [
    "## Training\n",
    "\n",
    "> Train models ensembles for image segmentation\n",
    "\n",
    "![](https://img.shields.io/badge/INPUT-image%20segmentations%20pairs-blue)   ![](https://img.shields.io/badge/OUTPUT-trained%20model%20ensemble-success) \n",
    "\n",
    "\n",
    "load data\n",
    "training\n",
    "validation\n"
   ]
  },
  {
   "cell_type": "markdown",
   "metadata": {},
   "source": [
    "## Prediction for Evaluation"
   ]
  },
  {
   "cell_type": "markdown",
   "metadata": {},
   "source": [
    "- __One folder for training images__\n",
    "    - Images must have unique name or ID\n",
    "        - _0001.tif --> name/ID: 0001; img_5.png --> name/ID: img_5, ..._ \n",
    "- __One folder containing trained models (ensemble)__\n",
    "    - Ensemble folder and models will be created during Training__\n",
    "        - Do not change the naming of the models\n",
    "        - If you want to train different ensembles, simply rename the ensemble folder\n",
    "\n",
    "_Examplary structure:_\n",
    "* [folder] images\n",
    "  * [file] 0001.tif\n",
    "  * [file] 0002.tif\n",
    "* [folder] ensemble\n",
    "  * [file] unext50_deepflash2_model-1.pth\n",
    "  * [file] unext50_deepflash2_model-2.pth\n",
    "\n",
    "load data\n",
    "prediction and QA\n",
    "cellpose prediction"
   ]
  },
  {
   "cell_type": "markdown",
   "metadata": {},
   "source": [
    "## Prediction with Quality Assurance"
   ]
  },
  {
   "cell_type": "code",
   "execution_count": null,
   "metadata": {},
   "outputs": [],
   "source": []
  }
 ],
 "metadata": {
  "kernelspec": {
   "display_name": "Python 3",
   "language": "python",
   "name": "python3"
  }
 },
 "nbformat": 4,
 "nbformat_minor": 4
}
