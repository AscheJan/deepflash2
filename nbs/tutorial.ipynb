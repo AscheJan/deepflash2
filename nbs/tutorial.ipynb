{
 "cells": [
  {
   "cell_type": "markdown",
   "metadata": {},
   "source": [
    "# Tutorials\n",
    "> This notebook contains tutorials for the use of _deepflash2_."
   ]
  },
  {
   "cell_type": "markdown",
   "metadata": {},
   "source": [
    "## Tutorials for the bioimage analysis workflow\n",
    "\n",
    "### 1. GUI - [Ground Truth Estimation](https://matjesg.github.io/deepflash2/tutorial_gt.html)\n",
    "### 2. GUI - [Training and Validation](https://matjesg.github.io/deepflash2/tutorial_train.html)\n",
    "### 3. GUI - [Prediction - Evaluation and Quality Assurance](https://matjesg.github.io/deepflash2/tutorial_pred.html)\n",
    "### 4. Code-based [Monuseg](https://matjesg.github.io/deepflash2/tutorial_monuseg.html)\n",
    "\n",
    "\n",
    "<img src=\"https://raw.githubusercontent.com/matjesg/deepflash2/master/nbs/media/workflow.png\" width=\"100%\"/>"
   ]
  },
  {
   "cell_type": "markdown",
   "metadata": {},
   "source": [
    "## Installation\n",
    "\n",
    "### Set up deepflash on Google Colab\n",
    "\n",
    "You can use **deepflash2** by using [Google Colab](colab.research.google.com). You can run every page of the [documentation](https://matjesg.github.io/deepflash2/) as an interactive notebook - click \"Open in Colab\" at the top of any page to open it.\n",
    " \n",
    "**Required Steps:**\n",
    "1. Click play to *set up environment*\n",
    "    - Optional: Connect to Google Drive (follow instructions)\n",
    "1. Click play to *start deepflash2 GUI*\n",
    "1. Select project folder\n",
    "\n",
    "[![Colab](https://colab.research.google.com/assets/colab-badge.svg)](https://colab.research.google.com/github/matjesg/deepflash2/blob/master/deepflash2_GUI.ipynb)\n",
    "<video src=\"https://user-images.githubusercontent.com/13711052/139751414-acf737db-2d8a-4203-8a34-7a38e5326b5e.mov\" controls width=\"100%\"></video>\n",
    "\n",
    "### Local installation\n",
    "\n",
    "You can install **deepflash2**  on your own machines with conda/mamba (highly recommended):\n",
    "\n",
    "```bash\n",
    "conda install -c fastchan -c matjesg deepflash2 \n",
    "```\n",
    "To install with pip, use\n",
    "\n",
    "```bash\n",
    "pip install deepflash2\n",
    "```\n",
    "If you install with pip, you should install PyTorch first by following the installation instructions of [pytorch](https://pytorch.org/get-started/locally/) or [fastai](https://docs.fast.ai/#Installing).\n",
    "\n",
    "***\n",
    "\n",
    "Continue watching the other tutorials for\n",
    "\n",
    "- [Ground Truth Estimation](https://matjesg.github.io/deepflash2/tutorial_gt.html)\n",
    "- [Training and Validation](https://matjesg.github.io/deepflash2/tutorial_train.html)\n",
    "- [Prediction - Evaluation and Quality Assurance](https://matjesg.github.io/deepflash2/tutorial_pred.html)"
   ]
  }
 ],
 "metadata": {
  "kernelspec": {
   "display_name": "Python 3 (ipykernel)",
   "language": "python",
   "name": "python3"
  }
 },
 "nbformat": 4,
 "nbformat_minor": 4
}
