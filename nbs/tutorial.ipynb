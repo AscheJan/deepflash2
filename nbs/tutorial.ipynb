{
 "cells": [
  {
   "cell_type": "markdown",
   "metadata": {},
   "source": [
    "# Tutorials\n",
    "> This Notebook contains tutorials for the use of _deepflash2_."
   ]
  },
  {
   "cell_type": "markdown",
   "metadata": {},
   "source": [
    "Run deepflash2 in Colab\n",
    "Connect to Google Drive"
   ]
  },
  {
   "cell_type": "markdown",
   "metadata": {},
   "source": [
    "Watch the test video\n",
    "\n",
    "<video src=\"https://user-images.githubusercontent.com/13711052/139706170-fae120e3-e3c5-4413-9cf2-4c20edd8346a.mp4\" controls width=\"100%\"></video>"
   ]
  }
 ],
 "metadata": {
  "kernelspec": {
   "display_name": "Python 3",
   "language": "python",
   "name": "python3"
  }
 },
 "nbformat": 4,
 "nbformat_minor": 4
}
