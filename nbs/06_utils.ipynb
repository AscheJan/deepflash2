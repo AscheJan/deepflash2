{
 "cells": [
  {
   "cell_type": "code",
   "execution_count": null,
   "metadata": {},
   "outputs": [],
   "source": [
    "# default_exp utils"
   ]
  },
  {
   "cell_type": "markdown",
   "metadata": {},
   "source": [
    "# Utility functions\n",
    "\n",
    "> Utility functions for deepflash2"
   ]
  },
  {
   "cell_type": "code",
   "execution_count": null,
   "metadata": {},
   "outputs": [],
   "source": [
    "#hide\n",
    "from nbdev.showdoc import *"
   ]
  },
  {
   "cell_type": "code",
   "execution_count": null,
   "metadata": {},
   "outputs": [],
   "source": [
    "#export \n",
    "import numpy as np\n",
    "from scipy import ndimage\n",
    "from scipy.spatial.distance import jaccard\n",
    "from skimage.feature import peak_local_max\n",
    "from skimage.segmentation import clear_border\n",
    "from skimage.measure import label\n",
    "from skimage.segmentation import relabel_sequential\n",
    "from skimage.morphology import watershed\n",
    "from scipy.optimize import linear_sum_assignment"
   ]
  },
  {
   "cell_type": "markdown",
   "metadata": {},
   "source": [
    "## Pixelwise Analysis\n",
    "### Intersection-Over-Union (numpy)"
   ]
  },
  {
   "cell_type": "code",
   "execution_count": null,
   "metadata": {},
   "outputs": [],
   "source": [
    "#export\n",
    "def iou(a,b,threshold=0.5):\n",
    "    '''Computes the Intersection-Over-Union metric.'''\n",
    "    a = np.array(a) > threshold\n",
    "    b = np.array(b) > threshold\n",
    "    overlap = a*b # Logical AND\n",
    "    union = a+b # Logical OR\n",
    "    return np.count_nonzero(overlap)/np.count_nonzero(union)"
   ]
  },
  {
   "cell_type": "markdown",
   "metadata": {},
   "source": [
    "## ROI-wise Analysis"
   ]
  },
  {
   "cell_type": "code",
   "execution_count": null,
   "metadata": {},
   "outputs": [],
   "source": [
    "#export\n",
    "def label_mask(mask, threshold=0.5, min_pixel=15, do_watershed=True, exclude_border=False):\n",
    "    '''Analyze regions and return labels'''\n",
    "    if mask.ndim == 3:\n",
    "        mask = np.squeeze(mask, axis=2)\n",
    "\n",
    "    # apply threshold to mask\n",
    "    # bw = closing(mask > threshold, square(2))\n",
    "    bw = (mask > threshold).astype(int)\n",
    "\n",
    "    # label image regions\n",
    "    label_image = label(bw, connectivity=2) # Falk p.13, 8-“connectivity”.\n",
    "\n",
    "    # Watershed: Separates objects in image by generate the markers\n",
    "    # as local maxima of the distance to the background\n",
    "    if do_watershed:\n",
    "        distance = ndimage.distance_transform_edt(bw)\n",
    "        # Minimum number of pixels separating peaks in a region of `2 * min_distance + 1`\n",
    "        # (i.e. peaks are separated by at least `min_distance`)\n",
    "        min_distance = int(np.ceil(np.sqrt(min_pixel / np.pi)))\n",
    "        local_maxi = peak_local_max(distance, indices=False, exclude_border=False,\n",
    "                                    min_distance=min_distance, labels=label_image)\n",
    "        markers = label(local_maxi)\n",
    "        label_image = watershed(-distance, markers, mask=bw)\n",
    "\n",
    "    # remove artifacts connected to image border\n",
    "    if exclude_border:\n",
    "        label_image = clear_border(label_image)\n",
    "    \n",
    "    # remove areas < min pixel   \n",
    "    unique, counts = np.unique(label_image, return_counts=True)\n",
    "    label_image[np.isin(label_image, unique[counts<min_pixel])] = 0\n",
    "    \n",
    "    # re-label image\n",
    "    label_image, _ , _ = relabel_sequential(label_image, offset=1)\n",
    "\n",
    "    return (label_image)"
   ]
  },
  {
   "cell_type": "code",
   "execution_count": null,
   "metadata": {},
   "outputs": [],
   "source": [
    "#export\n",
    "def get_candidates(labels_a, labels_b):\n",
    "    '''Get candiate masks for ROI-wise analysis'''\n",
    "    \n",
    "    label_stack = np.dstack((labels_a, labels_b))\n",
    "    cadidates = np.unique(label_stack.reshape(-1, label_stack.shape[2]), axis=0)\n",
    "    # Remove Zero Entries\n",
    "    cadidates = cadidates[np.prod(cadidates, axis=1) > 0]\n",
    "    return(cadidates)\n",
    "    "
   ]
  },
  {
   "cell_type": "code",
   "execution_count": null,
   "metadata": {},
   "outputs": [],
   "source": [
    "#export\n",
    "def iou_mapping(labels_a, labels_b, min_roi_size=30): \n",
    "    '''Compare masks using ROI-wise analysis'''\n",
    "\n",
    "    candidates = get_candidates(labels_a, labels_b)\n",
    "    \n",
    "    if candidates.size > 0:\n",
    "        # create a similarity matrix\n",
    "        dim_a = np.max(candidates[:,0])+1\n",
    "        dim_b = np.max(candidates[:,1])+1\n",
    "        similarity_matrix = np.zeros((dim_a, dim_b))\n",
    "\n",
    "        for x,y in candidates:\n",
    "            roi_a = (labels_a == x).astype(np.uint8).flatten()\n",
    "            roi_b = (labels_b == y).astype(np.uint8).flatten()\n",
    "            similarity_matrix[x,y] = 1-jaccard(roi_a, roi_b)\n",
    "\n",
    "        row_ind, col_ind = linear_sum_assignment(-similarity_matrix)\n",
    "        \n",
    "        return(similarity_matrix[row_ind,col_ind], \n",
    "               row_ind, col_ind,\n",
    "               np.max(labels_a), \n",
    "               np.max(labels_b)\n",
    "               )\n",
    "    else:\n",
    "        return([], \n",
    "               np.nan, np.nan,\n",
    "               np.max(labels_a), \n",
    "               np.max(labels_b)\n",
    "               )"
   ]
  },
  {
   "cell_type": "code",
   "execution_count": null,
   "metadata": {},
   "outputs": [],
   "source": []
  }
 ],
 "metadata": {
  "kernelspec": {
   "display_name": "Python 3",
   "language": "python",
   "name": "python3"
  }
 },
 "nbformat": 4,
 "nbformat_minor": 4
}
