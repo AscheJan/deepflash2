{
 "cells": [
  {
   "cell_type": "code",
   "execution_count": null,
   "metadata": {},
   "outputs": [],
   "source": [
    "#default_exp gui\n",
    "from nbdev.showdoc import show_doc"
   ]
  },
  {
   "cell_type": "markdown",
   "metadata": {
    "id": "TtBKE5yK37Gi"
   },
   "source": [
    "# Graphical user interface\n",
    "\n",
    "> Simple GUI with ipywidgets."
   ]
  },
  {
   "cell_type": "markdown",
   "metadata": {},
   "source": [
    "- Human level performance to models\n",
    "- GT Est description\n",
    "- !rm -rf sample_data on colab"
   ]
  },
  {
   "cell_type": "code",
   "execution_count": null,
   "metadata": {
    "id": "-VTNURM737Go"
   },
   "outputs": [],
   "source": [
    "#export\n",
    "import sys, shutil, time, zipfile, urllib, subprocess\n",
    "import ipywidgets as w, numpy as np, pandas as pd, IPython.display as d\n",
    "from pathlib import Path\n",
    "from fastcore.foundation import store_attr\n",
    "from fastcore.basics import GetAttr\n",
    "import matplotlib.pyplot as plt\n",
    "\n",
    "from deepflash2.utils import unzip, get_label_fn\n",
    "from deepflash2.learner import EnsembleLearner, Config, _optim_dict, _archs, _pretrained\n",
    "from deepflash2.gt import GTEstimator\n",
    "\n",
    "try:\n",
    "    from google import colab\n",
    "    COLAB = True\n",
    "except ImportError:\n",
    "    COLAB = False\n",
    "    \n",
    "GRID_COLS = 2"
   ]
  },
  {
   "cell_type": "markdown",
   "metadata": {},
   "source": [
    "Descriptions with tuples of name, tooltip, and link"
   ]
  },
  {
   "cell_type": "code",
   "execution_count": null,
   "metadata": {},
   "outputs": [],
   "source": [
    "#export\n",
    "_descr = {\n",
    "    #GT\n",
    "    'exp' : ('Expert Masks*', 'The parent folder containing sub-folders with segmentation masks, one folder per expert.', 'https://matjesg.github.io/deepflash2/add_information.html#Naming'),\n",
    "    'up_gt': ('Upload Data', 'Upload a zip file. It will be extracted automatically and must contain sub-folders with segmentation masks, one folder per expert.'),\n",
    "    'staple': (\"STAPLE\", \"Simultaneous truth and performance level estimation (STAPLE)\", \"https://pubmed.ncbi.nlm.nih.gov/15250643/\"),\n",
    "    'mv'  :(\"Majority Voting\", \"Pixelwise majority voting to obtain the reference segmentation.\", \"https://simpleitk.org/doxygen/latest/html/classitk_1_1simple_1_1LabelVotingImageFilter.html\"),\n",
    "    \n",
    "    #Train\n",
    "    'img' : ('Image Folder*', 'One folder containing all training images.', 'https://matjesg.github.io/deepflash2/add_information.html#Naming'),\n",
    "    'msk' : ('Mask Folder*', 'One folder containing all segmentation masks. We highly recommend using ground truth estimation from multiple experts.'),\n",
    "    'c'   : ('No. of Classes', 'Number of classes: e.g., 2 for binary segmentation (foreground and background class).'),\n",
    "    'il'  : ('Instance Labels', 'Are you providing instance labels (class-aware and instance-aware)?'),\n",
    "    'up'  : ('Upload Data', 'Upload a zip file. It will be extracted automatically and follow the correct folder structure.', 'https://matjesg.github.io/deepflash2/add_information.html#Naming'),\n",
    "    'sd'  : ('Sample Data', 'Get sample data for demonstration and testing.'),\n",
    "    'pretrained': ('Pretrained*', 'Select pretrained weights from the model libray or <new> to use an untrained model (random initialization).', 'https://matjesg.github.io/deepflash2/model_library.html'),\n",
    "    'n'   : ('No. of Models', '''Number of models within an ensemble \\n - If you're experimenting with parameters, try only one model first \\n - Depending on the data, ensembles should at least comprise 3-5 models'''),\n",
    "    's'   : ('Select', 'Train all models (ensemble) or (re-)train specific model.'),\n",
    "    'n_iter': ('Train Iterations', 'How many times a single model is trained on a mini-batch of the training data.'),\n",
    "    'lr'  : ('Learning Rate', '''The learning rate controls how quickly or slowly a neural network model learns. \\n - Best learning rate depend on your data and other settings, e.g., the optimize \\n - Use the learning rate finder to find the best learning rate for your dataset'''),\n",
    "    'lrf' : ('LR Finder', 'Open to get more information.'),\n",
    "    'mw'  : ('Mask Weights', 'Open to get more information.'),\n",
    "    'ts'  : ('Train Settings', 'Open to get more information.'),\n",
    "    'cfg_load' : ('Configuration', 'Select configuration file (.json) from previous experiments.'),\n",
    "    'cfg_save' : ('Configuration', 'Save configuration to file (.json).'),\n",
    "    'tta':  ('Uncertainties', 'Enable uncertainty estimation via test-time augmentation (more reliable and accurate, but slow).'),\n",
    "    's_val'   : ('Select', 'Ensemble or model to be used for validation.'),\n",
    "    \n",
    "    #Pred\n",
    "    'img_pred' : ('Image Folder*', 'One folder containing all new images for prediction.', 'https://matjesg.github.io/deepflash2/add_information.html#Naming'),\n",
    "    'mdl' : ('Model Folder', 'One folder containing the all models of the ensemble. If not selected, latest models from Training will be selected.'),\n",
    "    'up_pred'  : ('Upload Data', 'Upload a zip file with images or models.'),\n",
    "    's_pred'   : ('Select', 'Ensemble or model to be used for prediction.'),\n",
    "}"
   ]
  },
  {
   "cell_type": "markdown",
   "metadata": {},
   "source": [
    "## Helper Functions"
   ]
  },
  {
   "cell_type": "code",
   "execution_count": null,
   "metadata": {},
   "outputs": [],
   "source": [
    "#export\n",
    "tooltip_css = \"\"\"<style>\n",
    ".tooltip {\n",
    "  position: relative;\n",
    "  display: inline-block;\n",
    "}\n",
    "\n",
    ".tooltip .tooltiptext {\n",
    "  font-size: small;\n",
    "  visibility: hidden;\n",
    "  width: max-content;\n",
    "  max-width: 280px;\n",
    "  background-color: white;\n",
    "  text-align: left;\n",
    "  border-radius: 3px;\n",
    "  padding: 3px 3px;\n",
    "  border: solid 1px black;\n",
    "\n",
    "  /* Position the tooltip */\n",
    "  position: absolute;\n",
    "  z-index: 1;\n",
    "}\n",
    "\n",
    ".tooltip:hover .tooltiptext {\n",
    "  visibility: visible;\n",
    "}\n",
    "</style>\"\"\"\n",
    "\n",
    "def set_css_in_cell_output():\n",
    "    d.display(d.HTML(tooltip_css))"
   ]
  },
  {
   "cell_type": "code",
   "execution_count": null,
   "metadata": {},
   "outputs": [],
   "source": [
    "#export\n",
    "def _html_wrap(name, tooltip='', url=None):\n",
    "    'Wrapper function to create html with tooltip and link to URL'\n",
    "    if not url:\n",
    "        return f'<p class=\"tooltip\">&#9432;&nbsp;<span class=\"tooltiptext\">{tooltip}</span></p>{name}'\n",
    "    else:\n",
    "        open_tab = 'rel=\"noopener noreferrer\" target=\"_blank\"'#open new tab \n",
    "        return f\"\"\"<p class=\"tooltip\">&#9432;&nbsp;<span class=\"tooltiptext\">{tooltip}<a href=\"{url}\"\\\n",
    "        {open_tab}>&nbsp;More information.</a>'</span></p>{name}\"\"\""
   ]
  },
  {
   "cell_type": "code",
   "execution_count": null,
   "metadata": {
    "id": "oXt3YVwy37Gq"
   },
   "outputs": [],
   "source": [
    "#export\n",
    "#from https://code.activestate.com/recipes/577058/\n",
    "def query_yes_no(question, default=\"yes\"):\n",
    "    \"\"\"Ask a yes/no question via raw_input() and return their answer.\n",
    "\n",
    "    \"question\" is a string that is presented to the user.\n",
    "    \"default\" is the presumed answer if the user just hits <Enter>.\n",
    "        It must be \"yes\" (the default), \"no\" or None (meaning\n",
    "        an answer is required of the user).\n",
    "\n",
    "    The \"answer\" return value is True for \"yes\" or False for \"no\".\n",
    "    \"\"\"\n",
    "    valid = {\"yes\": True, \"y\": True, \"ye\": True,\n",
    "             \"no\": False, \"n\": False}\n",
    "    if default is None:\n",
    "        prompt = \" [y/n] \"\n",
    "    elif default == \"yes\":\n",
    "        prompt = \" [Y/n] \"\n",
    "    elif default == \"no\":\n",
    "        prompt = \" [y/N] \"\n",
    "    else:\n",
    "        raise ValueError(\"invalid default answer: '%s'\" % default)\n",
    "\n",
    "    while True:\n",
    "        sys.stdout.write(question + prompt)\n",
    "        choice = input().lower()\n",
    "        if default is not None and choice == '':\n",
    "            return valid[default]\n",
    "        elif choice in valid:\n",
    "            return valid[choice]\n",
    "        else:\n",
    "            sys.stdout.write(\"Please respond with 'yes' or 'no' \"\n",
    "                             \"(or 'y' or 'n').\\n\")"
   ]
  },
  {
   "cell_type": "code",
   "execution_count": null,
   "metadata": {
    "id": "WWjZSW-u37Gr"
   },
   "outputs": [],
   "source": [
    "#export\n",
    "def _connect_to_drive(path=None):\n",
    "    \"Connect to Google Drive and return path\"\n",
    "    path = path or Path('.')\n",
    "    if COLAB: \n",
    "        subprocess.call(['rm', '-rf', '/content/sample_data/'])\n",
    "        with colab.output.temporary(): \n",
    "            con = query_yes_no(\"Connect to Google Drive?\")\n",
    "        if con:\n",
    "            with colab.output.temporary(): colab.drive.mount('/content/drive/')\n",
    "            path = Path('/content/drive/My Drive')\n",
    "    return path"
   ]
  },
  {
   "cell_type": "code",
   "execution_count": null,
   "metadata": {},
   "outputs": [],
   "source": [
    "#export\n",
    "def _get_model_list(n):\n",
    "    return [\"ensemble\"]+[f'model_{x}' for x in range(1, n+1)]"
   ]
  },
  {
   "cell_type": "code",
   "execution_count": null,
   "metadata": {},
   "outputs": [],
   "source": [
    "#export\n",
    "def _get_train_sample_data(path):\n",
    "    url = \"https://github.com/matjesg/deepflash2/releases/download/model_library/wue1_cFOS_small.zip\"\n",
    "    urllib.request.urlretrieve(url, path/'sample_data_train.zip')\n",
    "    unzip(path, path/'sample_data_train.zip')"
   ]
  },
  {
   "cell_type": "code",
   "execution_count": null,
   "metadata": {},
   "outputs": [],
   "source": [
    "#export \n",
    "def _get_expert_sample_masks(path):\n",
    "    path.mkdir(exist_ok=True, parents=True)\n",
    "    url = \"https://github.com/matjesg/bioimage_analysis/raw/master/train_data/lab-wue1/labels/\"\n",
    "    experts = ['expert_'+str(e) for e in range(1,6)]\n",
    "    for e in  experts:   \n",
    "        (path/e).mkdir(exist_ok=True, parents=True)\n",
    "        urllib.request.urlretrieve(f'{url}/{e}/0001_cFOS.png', path/e/'mask_1.png')"
   ]
  },
  {
   "cell_type": "markdown",
   "metadata": {},
   "source": [
    "## Widgets"
   ]
  },
  {
   "cell_type": "markdown",
   "metadata": {},
   "source": [
    "### Base Widgets"
   ]
  },
  {
   "cell_type": "code",
   "execution_count": null,
   "metadata": {
    "id": "Jw5TIXZq37Gu"
   },
   "outputs": [],
   "source": [
    "#export \n",
    "class ZipUpload():\n",
    "    \"Widgets upload and extract zip files\"\n",
    "    def __init__(self, path=None, layout=None):\n",
    "        self.path = path or Path()\n",
    "        layout = layout or w.Layout(width='100%')\n",
    "        self.widget = w.FileUpload(description='Upload .zip', accept='.zip', \n",
    "                                   multiple=True,layout=layout)\n",
    "        self.widget.observe(self.extract_content, 'value')\n",
    "\n",
    "    def extract_content(self, c):\n",
    "        zip_file = self.path/'upload.zip'\n",
    "        for fname in self.widget.value:\n",
    "            content = self.widget.value[fname]['content']\n",
    "            with open(zip_file, 'wb') as f: f.write(content)\n",
    "            unzip(self.path, zip_file)"
   ]
  },
  {
   "cell_type": "code",
   "execution_count": null,
   "metadata": {
    "id": "VISBOXAW37Gv"
   },
   "outputs": [
    {
     "data": {
      "application/vnd.jupyter.widget-view+json": {
       "model_id": "18e17b7910824c098d00f67fa681895c",
       "version_major": 2,
       "version_minor": 0
      },
      "text/plain": [
       "FileUpload(value={}, accept='.zip', description='Upload .zip', layout=Layout(width='100%'), multiple=True)"
      ]
     },
     "metadata": {},
     "output_type": "display_data"
    }
   ],
   "source": [
    "t = ZipUpload()\n",
    "t.widget"
   ]
  },
  {
   "cell_type": "code",
   "execution_count": null,
   "metadata": {
    "id": "HJHgm-33wv8t"
   },
   "outputs": [],
   "source": [
    "#export\n",
    "class ItemsPerPage:\n",
    "    \"Dropdown to show n items per page\"\n",
    "    drp = w.Dropdown(options=[5,10,20,50,100], description='Show',\n",
    "                    layout=w.Layout(width='auto', min_width='1px'))\n",
    "    lyt = w.Layout(flex_flow='column', align_items='flex-end')\n",
    "    widget = w.HBox(children=[drp],layout=lyt)"
   ]
  },
  {
   "cell_type": "code",
   "execution_count": null,
   "metadata": {},
   "outputs": [
    {
     "data": {
      "application/vnd.jupyter.widget-view+json": {
       "model_id": "95fb71dd63344c528368e96d8b535dee",
       "version_major": 2,
       "version_minor": 0
      },
      "text/plain": [
       "HBox(children=(Dropdown(description='Show', layout=Layout(min_width='1px', width='auto'), options=(5, 10, 20, …"
      ]
     },
     "metadata": {},
     "output_type": "display_data"
    }
   ],
   "source": [
    "t=ItemsPerPage()\n",
    "t.widget"
   ]
  },
  {
   "cell_type": "code",
   "execution_count": null,
   "metadata": {},
   "outputs": [],
   "source": [
    "#export\n",
    "class BaseParamWidget:\n",
    "    'Parameter Widget Base Class'\n",
    "     \n",
    "    def __init__(self, config=None):     \n",
    "        config = config or Config()\n",
    "        self.set_config(config)\n",
    "        \n",
    "        for k,v in self.params.items():\n",
    "            setattr(v, 'name', k)\n",
    "            v.observe(self.on_change, 'value')\n",
    "        \n",
    "    def set_config(self, config): \n",
    "        self.config = config\n",
    "        for k,v in self.params.items():\n",
    "            v.value = getattr(config, k)  \n",
    "    \n",
    "    def on_change(self, change):\n",
    "        setattr(self.config, change['owner'].name, change['new'])        \n",
    "        \n",
    "    def on_reset_clicked(self, b):\n",
    "        self.set_config(Config())\n",
    "\n",
    "    def on_close_clicked(self, b):\n",
    "        self.widget.layout.display = \"none\"   "
   ]
  },
  {
   "cell_type": "code",
   "execution_count": null,
   "metadata": {},
   "outputs": [],
   "source": [
    "#export\n",
    "class BaseUI:\n",
    "    'Base UI for different steps'\n",
    "    #_defaults = 'config'\n",
    "    def __init__(self, config=None, path=None):\n",
    "        self.config = config or Config()\n",
    "        self.path = path or Path('.')        \n",
    "        \n",
    "    def hide(self):\n",
    "        self.main_box.layout.display = \"none\" \n",
    "        self.sb_acc.layout.display = \"none\" \n",
    "        \n",
    "    def show(self):\n",
    "        self.main_box.layout.display = \"block\" \n",
    "        self.sb_acc.layout.display = \"block\"  \n",
    "        \n",
    "    def sidebar_change(self, change):\n",
    "        if change['name']=='selected_index':\n",
    "            if change['old'] is not None:\n",
    "                self.main[list(self.sb.keys())[change['old']]].layout.display = \"none\" \n",
    "            if change['new'] is not None:\n",
    "                self.main[list(self.sb.keys())[change['new']]].layout.display = \"block\" "
   ]
  },
  {
   "cell_type": "markdown",
   "metadata": {},
   "source": [
    "#### Path Widgets"
   ]
  },
  {
   "cell_type": "code",
   "execution_count": null,
   "metadata": {
    "id": "9JZ31FF_37Gm"
   },
   "outputs": [],
   "source": [
    "#export\n",
    "# adapted from https://stackoverflow.com/questions/48056345/jupyter-lab-browsing-the-remote-file-system-inside-a-notebook\n",
    "class PathSelector():\n",
    "    \"Widgets to browse and select files or directories\"\n",
    "    def __init__(self,start_dir,select_name='Select',select_file=False,tooltip=None):\n",
    "        self.file        = None \n",
    "        self.select_file = select_file\n",
    "        self.hidden      = True\n",
    "        self.tooltip     = tooltip or 'Click to select directory'\n",
    "        \n",
    "        #Get (and create) dir\n",
    "        path = Path(start_dir).resolve()\n",
    "        path.mkdir(parents=True, exist_ok=True)\n",
    "        self.start_dir, self.cwd, self.path = path, path, path\n",
    "\n",
    "\n",
    "        \n",
    "        #Path Button\n",
    "        self.button      = w.Button(tooltip=self.tooltip, layout=w.Layout(width='auto'))\n",
    "        self.button.on_click(self.on_button_clicked)\n",
    "        \n",
    "        #Save Button\n",
    "        self.button_select = w.Button(description='Save', tooltip='Save Selection', layout=w.Layout(width='auto'))        \n",
    "        self.button_select.on_click(self.on_button_select_clicked)\n",
    "        \n",
    "        #Reset Button\n",
    "        self.button_reset = w.Button(description='Reset', layout=w.Layout(width='auto'))        \n",
    "        self.button_reset.on_click(self.on_button_reset_clicked)\n",
    "        \n",
    "        #Close Button\n",
    "        self.button_close = w.Button(description='Close', layout=w.Layout(width='auto'))        \n",
    "        self.button_close.on_click(self.on_button_close_clicked)\n",
    "        \n",
    "        #SelectMultiple\n",
    "        self.select      = w.SelectMultiple(options=['init'],value=(),rows=10,description='') \n",
    "        self.select.observe(self.on_update,'value')\n",
    "        \n",
    "        #Display\n",
    "        self.refresh(self.path)\n",
    "        self.button.description = select_name\n",
    "        self.hide()\n",
    "     \n",
    "        self.dialog = w.VBox([w.HBox([self.button_select, self.button_reset, self.button_close]), \n",
    "                              self.select])\n",
    "        \n",
    "    def show(self):\n",
    "        self.hidden = False\n",
    "        self.button.button_style = \"info\"\n",
    "        self.button_select.layout.display = \"block\"\n",
    "        self.button_close.layout.display = \"block\"\n",
    "        self.button_reset.layout.display = \"block\"\n",
    "        self.select.layout.display = \"block\"    \n",
    "        \n",
    "    def hide(self):\n",
    "        self.hidden = True\n",
    "        self.button.button_style = \"\"\n",
    "        self.button_select.layout.display = \"none\"\n",
    "        self.button_close.layout.display = \"none\"\n",
    "        self.button_reset.layout.display = \"none\"\n",
    "        self.select.layout.display = \"none\"        \n",
    "        \n",
    "    def set_path(self, path):\n",
    "        path = Path(path).resolve()\n",
    "        path.mkdir(parents=True, exist_ok=True)\n",
    "        self.start_dir, self.cwd, self.path = path, path, path\n",
    "        self.refresh('')\n",
    "\n",
    "    def on_button_clicked(self, b):\n",
    "        self.refresh('')\n",
    "        if self.hidden: self.show()\n",
    "        else: self.hide()\n",
    "       \n",
    "    def on_button_select_clicked(self, b):\n",
    "        self.path = self.cwd\n",
    "        self.button.description = f'{self.path.name}'  \n",
    "        self.hide()\n",
    "    \n",
    "    def on_button_reset_clicked(self, b):\n",
    "        self.cwd = self.start_dir\n",
    "        self.refresh('')\n",
    "        \n",
    "    def on_button_close_clicked(self, b):\n",
    "        self.hide()\n",
    "\n",
    "    def on_update(self,change):\n",
    "        if len(change['new']) > 0:\n",
    "            self.refresh(change['new'][0])\n",
    "                 \n",
    "    def refresh(self,item):\n",
    "        path = self.cwd/item\n",
    "\n",
    "        if path.is_file():\n",
    "            if self.select_file:\n",
    "                self.file = path\n",
    "            else:\n",
    "                self.select.value = ()\n",
    "\n",
    "        else: # os.path.isdir(path)\n",
    "            self.file = None \n",
    "            self.cwd  = path.resolve()\n",
    "\n",
    "            # Build list of files and dirs\n",
    "            keys = ['[..]'] if self.cwd != self.start_dir else [] \n",
    "            for item in sorted(path.iterdir()):\n",
    "                if item.is_dir():\n",
    "                    keys.append('['+item.name+']')\n",
    "                else:\n",
    "                    keys.append(item.name)\n",
    "\n",
    "            # Create list of output values\n",
    "            vals = []\n",
    "            for k in keys:\n",
    "                if k[0] == '[':\n",
    "                    vals.append(k[1:-1]) # strip off brackets\n",
    "                else:\n",
    "                    vals.append(k)\n",
    "\n",
    "            # Update widget\n",
    "            self.select.options = list(zip(keys,vals)) \n",
    "            with self.select.hold_trait_notifications():\n",
    "                self.select.value = ()"
   ]
  },
  {
   "cell_type": "code",
   "execution_count": null,
   "metadata": {
    "id": "4gVV8Bw3-ASP"
   },
   "outputs": [
    {
     "data": {
      "application/vnd.jupyter.widget-view+json": {
       "model_id": "6c6ca13cba354494a82e32f758079455",
       "version_major": 2,
       "version_minor": 0
      },
      "text/plain": [
       "Button(description='Select', layout=Layout(width='auto'), style=ButtonStyle(), tooltip='Click to select direct…"
      ]
     },
     "metadata": {},
     "output_type": "display_data"
    },
    {
     "data": {
      "application/vnd.jupyter.widget-view+json": {
       "model_id": "ddd9939dbf7a4ee28ba1116b0110a1da",
       "version_major": 2,
       "version_minor": 0
      },
      "text/plain": [
       "VBox(children=(HBox(children=(Button(description='Save', layout=Layout(display='none', width='auto'), style=Bu…"
      ]
     },
     "metadata": {},
     "output_type": "display_data"
    }
   ],
   "source": [
    "t = PathSelector('')\n",
    "display(t.button, t.dialog)"
   ]
  },
  {
   "cell_type": "code",
   "execution_count": null,
   "metadata": {},
   "outputs": [],
   "source": [
    "#export\n",
    "class PathDownloads(PathSelector):\n",
    "    \"Widgets to browse and download files or directories\"\n",
    "    def __init__(self, *args, **kwargs):\n",
    "        super().__init__(*args, **kwargs)\n",
    "         \n",
    "        #Download Button       \n",
    "        if COLAB:\n",
    "            self.button_select.description = 'Download'\n",
    "            self.button_select.tooltip = 'Download entire folder or selected file'\n",
    "        \n",
    "        else:\n",
    "            self.button_select.description = 'Download on Google Colab only'\n",
    "            self.button_select.disabled = True            \n",
    "        \n",
    "    def on_button_select_clicked(self, b):\n",
    "        if not self.file:\n",
    "            shutil.make_archive(self.cwd.name, 'zip', self.cwd)\n",
    "            colab.files.download(f'{self.cwd.name}.zip')\n",
    "        else:\n",
    "            for f in self.select.value:\n",
    "                colab.files.download(self.cwd/f)"
   ]
  },
  {
   "cell_type": "code",
   "execution_count": null,
   "metadata": {},
   "outputs": [
    {
     "data": {
      "application/vnd.jupyter.widget-view+json": {
       "model_id": "ecd5fa27dba2460184d22a4e47f6fa08",
       "version_major": 2,
       "version_minor": 0
      },
      "text/plain": [
       "Button(description='Select', layout=Layout(width='auto'), style=ButtonStyle(), tooltip='Click to select direct…"
      ]
     },
     "metadata": {},
     "output_type": "display_data"
    },
    {
     "data": {
      "application/vnd.jupyter.widget-view+json": {
       "model_id": "25b05ef24e2a4160bb6ae89e83e3e6ba",
       "version_major": 2,
       "version_minor": 0
      },
      "text/plain": [
       "VBox(children=(HBox(children=(Button(description='Download on Google Colab only', disabled=True, layout=Layout…"
      ]
     },
     "metadata": {},
     "output_type": "display_data"
    }
   ],
   "source": [
    "t = PathDownloads('', select_file=True)\n",
    "display(t.button, t.dialog)"
   ]
  },
  {
   "cell_type": "code",
   "execution_count": null,
   "metadata": {},
   "outputs": [],
   "source": [
    "#export\n",
    "class PathConfig(PathSelector):\n",
    "    \"Widgets to browse and and load config file\"\n",
    "    def __init__(self, *args, **kwargs):\n",
    "        super().__init__(*args, **kwargs)\n",
    "         \n",
    "        #Download Button       \n",
    "        self.button_select.description = 'Load'\n",
    "        self.button_select.tooltip = 'Load selected configuration file (.json)'\n",
    "        \n",
    "        #Ouput\n",
    "        self.output = w.Output()\n",
    "        self.dialog = w.VBox([self.dialog,self.output])\n",
    "        \n",
    "    def on_button_select_clicked(self, b):\n",
    "        pass"
   ]
  },
  {
   "cell_type": "code",
   "execution_count": null,
   "metadata": {},
   "outputs": [
    {
     "data": {
      "application/vnd.jupyter.widget-view+json": {
       "model_id": "0e2c94531179492ea2b27f466ef3d086",
       "version_major": 2,
       "version_minor": 0
      },
      "text/plain": [
       "Button(description='Select', layout=Layout(width='auto'), style=ButtonStyle(), tooltip='Click to select direct…"
      ]
     },
     "metadata": {},
     "output_type": "display_data"
    },
    {
     "data": {
      "application/vnd.jupyter.widget-view+json": {
       "model_id": "ca8dc6d2f9574b508ab9087f1df59ab4",
       "version_major": 2,
       "version_minor": 0
      },
      "text/plain": [
       "VBox(children=(VBox(children=(HBox(children=(Button(description='Load', layout=Layout(display='none', width='a…"
      ]
     },
     "metadata": {},
     "output_type": "display_data"
    }
   ],
   "source": [
    "t = PathConfig('', select_file=True)\n",
    "display(t.button, t.dialog)"
   ]
  },
  {
   "cell_type": "markdown",
   "metadata": {},
   "source": [
    "### Grund Truth Estimation Widgets"
   ]
  },
  {
   "cell_type": "markdown",
   "metadata": {},
   "source": [
    "#### Sidebars"
   ]
  },
  {
   "cell_type": "code",
   "execution_count": null,
   "metadata": {},
   "outputs": [],
   "source": [
    "#export\n",
    "class GTDataSB:\n",
    "    'Layout for Grund Truth Estimation \"Data\" Section'\n",
    "    \n",
    "    #Hints\n",
    "    txt = 'Provide expert segmentation masks'\n",
    "    hints = w.Label(txt)\n",
    " \n",
    "    #Grid\n",
    "    grid = w.GridspecLayout(5, GRID_COLS, width='100%',  grid_gap=\"0px\", align_items='center')\n",
    "    grid[0, 0] = w.HTML(_html_wrap(*_descr['exp']))\n",
    "    grid[2, :] = w.HTML('<hr>')\n",
    "    grid[3, 0] = w.HTML(_html_wrap(*_descr['up_gt']))\n",
    "    grid[4, 0] = w.HTML(_html_wrap(*_descr['sd']))\n",
    "    \n",
    "    #Data Upload\n",
    "    grid[3, 1:] = ZipUpload().widget\n",
    "    sd = w.Button(description='Get',layout=w.Layout(width='auto'),tooltip='Click to download sample data') \n",
    "    grid[4, 1:] = sd\n",
    "    \n",
    "    #Load Data\n",
    "    run = w.Button(description='Load Data*', layout=w.Layout(width='auto'))\n",
    "    grid[1, 1:] = run\n",
    "        \n",
    "    #Final Widget\n",
    "    widget = w.VBox([hints, grid])\n",
    "    \n",
    "    def __init__(self, path=None):\n",
    "        path = path or Path('.') \n",
    "        self.msk  = PathSelector(path, 'Select Parent Folder')\n",
    "        self.grid[0, 1:] = self.msk.button\n"
   ]
  },
  {
   "cell_type": "code",
   "execution_count": null,
   "metadata": {},
   "outputs": [
    {
     "data": {
      "application/vnd.jupyter.widget-view+json": {
       "model_id": "e7610b1ec9694e7ebe6b7d8352690d20",
       "version_major": 2,
       "version_minor": 0
      },
      "text/plain": [
       "VBox(children=(Label(value='Provide expert segmentation masks'), GridspecLayout(children=(HTML(value='<p class…"
      ]
     },
     "metadata": {},
     "output_type": "display_data"
    }
   ],
   "source": [
    "t=GTDataSB()\n",
    "t.widget"
   ]
  },
  {
   "cell_type": "code",
   "execution_count": null,
   "metadata": {},
   "outputs": [],
   "source": [
    "#export\n",
    "class GTEstSB:\n",
    "    'Layout for Grund Truth Estimation \"Data\" Section'\n",
    "    \n",
    "    #Hints\n",
    "    txt = 'Select algorithm for ground truth estimation'\n",
    "    hints = w.HTML(txt)\n",
    "    \n",
    "    grid = w.GridspecLayout(4, GRID_COLS, width='100%',  grid_gap=\"0px\", align_items='center')\n",
    "    \n",
    "    #Labels\n",
    "    grid[0, 0] = w.HTML(_html_wrap(*_descr['staple']))\n",
    "    grid[1, 0] = w.HTML(_html_wrap(*_descr['mv']))\n",
    "    grid[2, :] = w.HTML('<hr>')\n",
    "    grid[3, 0] = w.HTML('Downloads')\n",
    "    \n",
    "    #Run Staple\n",
    "    staple = w.Button(description='Run', layout=w.Layout(width='auto'),\n",
    "                      tooltip='Run simultaneous truth and performance level estimation')\n",
    "    setattr(staple, 'name', 'staple')\n",
    "    grid[0, 1:] = staple\n",
    "    \n",
    "    #Run MV\n",
    "    mv = w.Button(description='Run', layout=w.Layout(width='auto'),\n",
    "                  tooltip='Run Majority Voting')\n",
    "    setattr(mv, 'name', 'majority_voting')\n",
    "    grid[1, 1:] = mv\n",
    "    \n",
    "    #Final Widget\n",
    "    widget = w.VBox([hints,grid])\n",
    "    \n",
    "    def __init__(self, path=None):\n",
    "        path = path or Path('.') \n",
    "        self.down  = PathDownloads(path, 'Select', tooltip='Click to download file or directory')\n",
    "        self.grid[3, 1:] = self.down.button    "
   ]
  },
  {
   "cell_type": "code",
   "execution_count": null,
   "metadata": {},
   "outputs": [
    {
     "data": {
      "application/vnd.jupyter.widget-view+json": {
       "model_id": "1d2f7058d9df4c858fe743013be31e94",
       "version_major": 2,
       "version_minor": 0
      },
      "text/plain": [
       "VBox(children=(HTML(value='Select algorithm for ground truth estimation'), GridspecLayout(children=(HTML(value…"
      ]
     },
     "metadata": {},
     "output_type": "display_data"
    }
   ],
   "source": [
    "t=GTEstSB()\n",
    "t.widget"
   ]
  },
  {
   "cell_type": "code",
   "execution_count": null,
   "metadata": {},
   "outputs": [],
   "source": [
    "#not used\n",
    "class GTSimSB:\n",
    "    'Layout for Expert Similarity \"Data\" Section'\n",
    "    \n",
    "    #Hints\n",
    "    txt = 'Get statistics on segmentation similarities <br>'\n",
    "    hints = w.HTML(txt)\n",
    "    \n",
    "    grid = w.GridspecLayout(4, GRID_COLS, width='100%',  grid_gap=\"0px\", align_items='center')\n",
    "    \n",
    "    #Labels\n",
    "    #grid[0, :] = w.Label('Simultaneous truth & performance level estimation')\n",
    "    grid[0, 0] = w.HTML(\"Inter Experts\")\n",
    "    grid[1, 0] = w.HTML(\"GT vs Experts\")\n",
    "    grid[2, :] = w.HTML('<hr>')\n",
    "    grid[3, 0] = w.Label('Downloads')\n",
    "    \n",
    "       \n",
    "    #Intercoder sim\n",
    "    inter = w.Button(description='Get statistics', layout=w.Layout(width='auto'),\n",
    "                      tooltip='Calculate intercoder (inter-expert) agreement')\n",
    "    grid[0, 1:] = inter\n",
    "    \n",
    "    #GT vs Experts\n",
    "    gt_exp = w.Button(description='Get statistics', layout=w.Layout(width='auto'),\n",
    "                  tooltip='Calculate agreement between expert segmentation masks and estimated ground truth')\n",
    "    grid[1, 1:] = gt_exp\n",
    "    \n",
    "    #Final Widget\n",
    "    widget = w.VBox([hints,grid])\n",
    "    \n",
    "    def __init__(self, path=None):\n",
    "        path = path or Path('.') \n",
    "        self.down  = PathDownloads(path, 'Select', tooltip='Click to download file or directory')\n",
    "        self.grid[3, 1:] = self.down.button    "
   ]
  },
  {
   "cell_type": "code",
   "execution_count": null,
   "metadata": {},
   "outputs": [
    {
     "data": {
      "application/vnd.jupyter.widget-view+json": {
       "model_id": "673de0d8932d4eea895d4d5404c461e4",
       "version_major": 2,
       "version_minor": 0
      },
      "text/plain": [
       "VBox(children=(HTML(value='Get statistics on segmentation similarities <br>'), GridspecLayout(children=(HTML(v…"
      ]
     },
     "metadata": {},
     "output_type": "display_data"
    }
   ],
   "source": [
    "t=GTSimSB()\n",
    "t.widget"
   ]
  },
  {
   "cell_type": "markdown",
   "metadata": {},
   "source": [
    "#### Grund Truth Estimation UI"
   ]
  },
  {
   "cell_type": "code",
   "execution_count": null,
   "metadata": {},
   "outputs": [],
   "source": [
    "#export\n",
    "class GTEstUI(BaseUI):\n",
    "    'UI for ground truth estimation'\n",
    "    \n",
    "    sections = ['1 - Expert Annotations', '2 - Ground Truth Estimation', '3 - Intercoder Reliability']\n",
    "    \n",
    "    def __init__(self, hide=False, **kwargs):\n",
    "        super().__init__(**kwargs)\n",
    "        \n",
    "        #Sidebar\n",
    "        self.sb = {\n",
    "            'data':GTDataSB(self.path),\n",
    "            'gt':GTEstSB(self.path)\n",
    "        }      \n",
    "                    \n",
    "        #Sidebar Accordion\n",
    "        self.sb_acc = w.Accordion(children=[x.widget for x in self.sb.values()], layout=w.Layout(grid_area='sidebar'))       \n",
    "        for i, name in enumerate(self.sections):\n",
    "            self.sb_acc.set_title(i, name)\n",
    "        self.sb_acc.observe(self.sidebar_change)  \n",
    "        \n",
    "        #Main\n",
    "        self.main = {\n",
    "            'msk':self.sb['data'].msk.dialog, \n",
    "            'gt_down':self.sb['gt'].down.dialog, \n",
    "             **{k:w.Output() for k in self.sb.keys()}\n",
    "        }\n",
    "        self.main_box = w.VBox(list(self.main.values()))\n",
    "        \n",
    "        if hide: self.hide()"
   ]
  },
  {
   "cell_type": "code",
   "execution_count": null,
   "metadata": {},
   "outputs": [
    {
     "data": {
      "application/vnd.jupyter.widget-view+json": {
       "model_id": "28c385a0f3f346a089c7c07ebe8bf8d5",
       "version_major": 2,
       "version_minor": 0
      },
      "text/plain": [
       "Accordion(children=(VBox(children=(Label(value='Provide expert segmentation masks'), GridspecLayout(children=(…"
      ]
     },
     "metadata": {},
     "output_type": "display_data"
    }
   ],
   "source": [
    "t=GTEstUI()\n",
    "t.sb_acc"
   ]
  },
  {
   "cell_type": "markdown",
   "metadata": {},
   "source": [
    "### Train Widgets"
   ]
  },
  {
   "cell_type": "markdown",
   "metadata": {},
   "source": [
    "#### Sidebars"
   ]
  },
  {
   "cell_type": "code",
   "execution_count": null,
   "metadata": {},
   "outputs": [],
   "source": []
  },
  {
   "cell_type": "code",
   "execution_count": null,
   "metadata": {},
   "outputs": [],
   "source": [
    "path = Path('deepflash2/sample_data')\n",
    "_get_train_sample_data(path)"
   ]
  },
  {
   "cell_type": "code",
   "execution_count": null,
   "metadata": {
    "id": "shrG0JHr37Gz"
   },
   "outputs": [],
   "source": [
    "#export\n",
    "class TrainDataSB(BaseParamWidget, GetAttr):\n",
    "    'Layout for \"Training Data\" Section'\n",
    "    _default = 'config'\n",
    "    \n",
    "    #Hints\n",
    "    txt = 'Provide training images and segmentation masks'\n",
    "    hints = w.Label(txt)\n",
    "    \n",
    "    params = {\n",
    "        'c': w.IntSlider(value=2, min=2, max=10, step=1, layout=w.Layout(width='auto', min_width='1px')),\n",
    "        'il':w.ToggleButtons(options=[('Yes', True), ('No', False)],tooltips=['You are providing instance labels (class-aware and instance-aware)',\n",
    "                                                                               'You are not providing only class-aware labels']),\n",
    "    }\n",
    " \n",
    "    params['il'].style.button_width = '50px' \n",
    "    grid = w.GridspecLayout(9, GRID_COLS, width='100%',  grid_gap=\"0px\", align_items='center')\n",
    "    \n",
    "    #Labels\n",
    "    grid[0, 0] = w.HTML(_html_wrap(*_descr['img']))\n",
    "    grid[1, 0] = w.HTML(_html_wrap(*_descr['msk']))\n",
    "    grid[2, 0] = w.HTML(_html_wrap(*_descr['c']))\n",
    "    grid[2, 1:]= params['c']\n",
    "    grid[3, 0] = w.HTML(_html_wrap(*_descr['il']))\n",
    "    grid[3, 1:]= params['il']\n",
    "    grid[5, :] = w.HTML('<hr>')\n",
    "    grid[6, 0] = w.HTML(_html_wrap(*_descr['up']))\n",
    "    grid[7, 0] = w.HTML(_html_wrap(*_descr['sd']))\n",
    "    grid[8,0] = w.HTML(_html_wrap(*_descr['cfg_load']))\n",
    "    \n",
    "    #Data Upload\n",
    "    grid[6, 1:] = ZipUpload().widget\n",
    "    sd = w.Button(description='Get',layout=w.Layout(width='auto'), tooltip='Click to download sample data')\n",
    "    grid[7, 1:] = sd\n",
    "       \n",
    "    #Load Data\n",
    "    run = w.Button(description='Load Data*', layout=w.Layout(width='auto', min_width='1px'))\n",
    "    grid[4, 1:] = run\n",
    "    \n",
    "    #Final Widget\n",
    "    widget = w.VBox([hints,grid])\n",
    "    \n",
    "    def __init__(self, path=None, **kwargs):\n",
    "        super().__init__(**kwargs)     \n",
    "        path = path or Path('.') \n",
    "        self.img  = PathSelector(path, 'Select')\n",
    "        self.grid[0, 1:] = self.img.button\n",
    "        self.msk  = PathSelector(path, 'Select')\n",
    "        self.grid[1, 1:] = self.msk.button\n",
    "        #Load Config\n",
    "        self.cfg = PathConfig(path, 'Select Config File', select_file=True)\n",
    "        self.grid[8, 1:] = self.cfg.button"
   ]
  },
  {
   "cell_type": "code",
   "execution_count": null,
   "metadata": {
    "id": "Fax5k-YW37G0"
   },
   "outputs": [
    {
     "data": {
      "application/vnd.jupyter.widget-view+json": {
       "model_id": "0c174cd6c02742d7ac6c36da9fcb3955",
       "version_major": 2,
       "version_minor": 0
      },
      "text/plain": [
       "VBox(children=(Label(value='Provide training images and segmentation masks'), GridspecLayout(children=(HTML(va…"
      ]
     },
     "metadata": {},
     "output_type": "display_data"
    }
   ],
   "source": [
    "t=TrainDataSB('')\n",
    "t.widget"
   ]
  },
  {
   "cell_type": "code",
   "execution_count": null,
   "metadata": {
    "id": "rac4OTPWdtiB"
   },
   "outputs": [],
   "source": [
    "#export\n",
    "class TrainModelSB(BaseParamWidget, GetAttr):\n",
    "    'Layout for \"Ensemble Training\"'\n",
    "    _default = 'config'\n",
    "    \n",
    "    #Hints\n",
    "    txt = 'Train Model Ensemble'\n",
    "    hints = w.Label(txt)\n",
    "\n",
    "    params = {\n",
    "        'pretrained': w.Dropdown(options=_pretrained, continuous_update=True, layout=w.Layout(width='auto', min_width='1px')),\n",
    "        'n': w.IntSlider(min=1, max=10, step=1, continuous_update=True, orientation='horizontal', layout=w.Layout(width='auto', min_width='1px')),\n",
    "        'n_iter':w.IntSlider(min=100, max=1e4, step=100, continuous_update=True,orientation='horizontal', layout=w.Layout(width='auto', min_width='1px')),\n",
    "        'lr': w.FloatText(description='', layout=w.Layout(width='auto', min_width='1px'))\n",
    "    }\n",
    "\n",
    "    sel = w.Dropdown(options=[],continuous_update=True, layout=w.Layout(width='auto', min_width='1px'))\n",
    "    \n",
    "    #Grid\n",
    "    grid = w.GridspecLayout(10, GRID_COLS, width='100%',  grid_gap=\"0px\", align_items='center')\n",
    "    #grid[0, 0] = w.Label('Model Arch')\n",
    "    grid[0, 0] = w.HTML(_html_wrap(*_descr['pretrained']))\n",
    "    grid[0, 1:]= params['pretrained']\n",
    "    grid[1, 0] = w.HTML(_html_wrap(*_descr['n']))\n",
    "    grid[1, 1:]= params['n']\n",
    "    grid[2, 0] = w.HTML(_html_wrap(*_descr['n_iter']))\n",
    "    grid[2, 1:]= params['n_iter']\n",
    "    grid[3, 0] = w.HTML(_html_wrap(*_descr['s']))\n",
    "    grid[3, 1:]= sel\n",
    "    grid[5, :] = w.HTML('<hr>')\n",
    "    grid[6, 0] = w.HTML(_html_wrap(*_descr['lr']))\n",
    "    grid[6, 1:]= params['lr']\n",
    "    grid[7, 0] = w.HTML(_html_wrap(*_descr['lrf']))\n",
    "    grid[8, 0] = w.HTML(_html_wrap(*_descr['mw']))\n",
    "    grid[9, 0] = w.HTML(_html_wrap(*_descr['ts']))\n",
    "\n",
    "           \n",
    "    #Run\n",
    "    run = w.Button(description='Start Training', layout=w.Layout(width='auto'))\n",
    "    grid[4, 1:] = run\n",
    "\n",
    "    #LR Finder\n",
    "    open_lrfinder = w.Button(description='Open', layout=w.Layout(width='auto'))\n",
    "    grid[7, 1:] = open_lrfinder\n",
    "\n",
    "    #Custom Mask Weights\n",
    "    open_mw = w.Button(description='Customize', layout=w.Layout(width='auto'))\n",
    "    grid[8, 1:] = open_mw\n",
    "\n",
    "    #Custom Data Aug\n",
    "    open_par = w.Button(description='Customize', layout=w.Layout(width='auto'))\n",
    "    grid[9, 1:] = open_par\n",
    "    \n",
    "    #Final Widget\n",
    "    widget = w.VBox([hints,grid])\n",
    "\n",
    "    def __init__(self, **kwargs):\n",
    "        super().__init__(**kwargs)       \n",
    "        self.sel.options = _get_model_list(self.config.n)\n",
    "        self.params['n'].observe(self.sel_update, 'value')\n",
    "\n",
    "    def sel_update(self, change):\n",
    "        self.sel.options = _get_model_list(change['new'])"
   ]
  },
  {
   "cell_type": "code",
   "execution_count": null,
   "metadata": {
    "id": "iHOvBeP3qN-0"
   },
   "outputs": [
    {
     "data": {
      "application/vnd.jupyter.widget-view+json": {
       "model_id": "abc7026679184879b183a1126b04015e",
       "version_major": 2,
       "version_minor": 0
      },
      "text/plain": [
       "VBox(children=(Label(value='Train Model Ensemble'), GridspecLayout(children=(HTML(value='<p class=\"tooltip\">&#…"
      ]
     },
     "metadata": {},
     "output_type": "display_data"
    }
   ],
   "source": [
    "t=TrainModelSB()\n",
    "t.widget"
   ]
  },
  {
   "cell_type": "code",
   "execution_count": null,
   "metadata": {
    "id": "NXH3I-a-idCJ"
   },
   "outputs": [],
   "source": [
    "#export\n",
    "class TrainValidSB(BaseParamWidget, GetAttr):\n",
    "    'Layout for \"Validation\" Section'\n",
    "    _default = 'config'\n",
    "\n",
    "    #Hints\n",
    "    txt = 'Validate Model Ensemble'\n",
    "    hints = w.Label(txt)\n",
    "    \n",
    "    params = {\n",
    "        'tta': w.ToggleButtons(options=[('Yes', True), ('No', False)],\n",
    "                               tooltips=['Enable Test-Time Augmentation','Disable Test-Time Augmentation'])\n",
    "    }\n",
    "    \n",
    "    params['tta'].style.button_width = '50px' \n",
    "    \n",
    "    #Grid\n",
    "    grid = w.GridspecLayout(5, GRID_COLS, width='100%',  grid_gap=\"0px\", align_items='center')\n",
    "    grid[0, 0] = w.HTML(_html_wrap(*_descr['s_val']))\n",
    "    grid[1, 0] = w.HTML(_html_wrap(*_descr['tta']))\n",
    "    grid[1, 1:]= params['tta']\n",
    "    grid[3, :] = w.HTML('<hr>')\n",
    "    grid[4, 0] = w.HTML('Downloads')\n",
    "    \n",
    "    #Model\n",
    "    sel = w.Dropdown(continuous_update=True, layout=w.Layout(width='auto', min_width='1px'))\n",
    "    grid[0, 1:] = sel\n",
    "\n",
    "    #Res\n",
    "    run = w.Button(description='Run prediction*', layout=w.Layout(width='auto'))\n",
    "    grid[2, 1:] = run\n",
    "        \n",
    "    #Final Widget\n",
    "    widget = w.VBox([hints,grid])\n",
    "    \n",
    "    def __init__(self, path=None, **kwargs):\n",
    "        super().__init__(**kwargs)  \n",
    "        path = path or Path('.') \n",
    "        self.sel.options = _get_model_list(self.config.n)\n",
    "        self.down  = PathDownloads(path, 'Select', tooltip='Click to download models, predictions or validation results')\n",
    "        self.grid[4, 1:] = self.down.button  \n",
    "        \n",
    "    def sel_update(self, change):\n",
    "        self.sel.options = _get_model_list(change['new'])"
   ]
  },
  {
   "cell_type": "code",
   "execution_count": null,
   "metadata": {
    "id": "QfKSLiR7mKn9"
   },
   "outputs": [
    {
     "data": {
      "application/vnd.jupyter.widget-view+json": {
       "model_id": "842676f7ade846fe8045f22601298adf",
       "version_major": 2,
       "version_minor": 0
      },
      "text/plain": [
       "VBox(children=(Label(value='Validate Model Ensemble'), GridspecLayout(children=(HTML(value='<p class=\"tooltip\"…"
      ]
     },
     "metadata": {},
     "output_type": "display_data"
    }
   ],
   "source": [
    "t=TrainValidSB()\n",
    "t.widget"
   ]
  },
  {
   "cell_type": "markdown",
   "metadata": {},
   "source": [
    "#### Pop-Up Widgets"
   ]
  },
  {
   "cell_type": "code",
   "execution_count": null,
   "metadata": {
    "id": "-JpWxshhD0vb"
   },
   "outputs": [],
   "source": [
    "#export\n",
    "class LRWidget:\n",
    "    'Widget for Learning Rate Finder'\n",
    "    \n",
    "    #Start Button\n",
    "    tt_start = 'Start the Learning Rate Finder'\n",
    "    run = w.Button(description='Start', tooltip=tt_start)\n",
    "\n",
    "    #Close Button\n",
    "    tt_close = 'Close Learning Rate Finder. ATTENTION: This will not interrupt the execution)'\n",
    "    button_close = w.Button(description='Close', tooltip=tt_close)       \n",
    "    \n",
    "    #Lbl\n",
    "    html = _html_wrap('More information', 'Click here for more information on the learning rate finder', \n",
    "                      'https://docs.fast.ai/callback.schedule.html#Learner.lr_find')\n",
    "    lbl = w.HTML(html)\n",
    "\n",
    "    #Output\n",
    "    output = w.Output()\n",
    "\n",
    "    #Box\n",
    "    widget = w.Accordion(children=[w.VBox([w.HBox([run, button_close]), lbl, output])])\n",
    "    widget.set_title(0, 'Learning Rate Finder')\n",
    "\n",
    "    def __init__(self):\n",
    "        self.widget.layout.display = \"none\"    \n",
    "        self.button_close.on_click(self.on_close_clicked)\n",
    "\n",
    "    def on_close_clicked(self, b):\n",
    "        self.widget.layout.display = \"none\"  "
   ]
  },
  {
   "cell_type": "code",
   "execution_count": null,
   "metadata": {},
   "outputs": [
    {
     "data": {
      "application/vnd.jupyter.widget-view+json": {
       "model_id": "c5f303202f6046f480ec235867b069c5",
       "version_major": 2,
       "version_minor": 0
      },
      "text/plain": [
       "Accordion(children=(VBox(children=(HBox(children=(Button(description='Start', style=ButtonStyle(), tooltip='St…"
      ]
     },
     "metadata": {},
     "output_type": "display_data"
    }
   ],
   "source": [
    "t = LRWidget()\n",
    "t.widget.layout.display = \"block\"  \n",
    "t.widget"
   ]
  },
  {
   "cell_type": "code",
   "execution_count": null,
   "metadata": {},
   "outputs": [],
   "source": [
    "#export\n",
    "class BasePopUpParamWidget(BaseParamWidget):\n",
    "    'Parameter Pop-Up Widget Base Class'\n",
    "    \n",
    "    #Reset Button\n",
    "    tt_reset = 'Reset to defaults'\n",
    "    button_reset = w.Button(description='Reset', tooltip=tt_reset)\n",
    "\n",
    "    #Close Button\n",
    "    tt_close = 'Close Widget'\n",
    "    button_close = w.Button(description='Close', tooltip=tt_close)  \n",
    "    \n",
    "    def __init__(self, **kwargs):\n",
    "        super().__init__(**kwargs)\n",
    "        \n",
    "        self.button_reset.on_click(self.on_reset_clicked)\n",
    "        self.button_close.on_click(self.on_close_clicked) "
   ]
  },
  {
   "cell_type": "code",
   "execution_count": null,
   "metadata": {},
   "outputs": [],
   "source": [
    "#export\n",
    "class ParamWidget(BasePopUpParamWidget, GetAttr):\n",
    "    'Widget for custom training parameters'\n",
    "    _default = 'config'\n",
    "    params = {\n",
    "        'arch' : w.Dropdown(options=_archs, layout=w.Layout(width='auto', min_width='1px')),\n",
    "        'mpt': w.ToggleButtons(options=[('Yes', True), ('No', False)],\n",
    "                              tooltips=['Enable Mixed-Precision Training','Disable Mixed-Precision Training']),\n",
    "        'bs':w.IntSlider(min=2, max=16, step=2,layout=w.Layout(width='auto', min_width='1px')),\n",
    "        'wd':w.FloatText(min=0, max=1,layout=w.Layout(width='auto', min_width='1px')),\n",
    "        'optim':w.Dropdown(options=_optim_dict.keys(), layout=w.Layout(width='auto', min_width='1px')),\n",
    "        'light':w.FloatSlider(min=0, max=1, layout=w.Layout(width='auto', min_width='1px')),\n",
    "        'flip':w.ToggleButtons(options=[('Yes', True), ('No', False)]),\n",
    "        'rot':w.IntSlider( min=0, max=360, step=5, layout=w.Layout(width='auto', min_width='1px')),\n",
    "        'def_grid':w.IntSlider(min=0, max=350, step=10, layout=w.Layout(width='auto', min_width='1px')),\n",
    "        'def_mag':w.IntSlider(min=0, max=100, layout=w.Layout(width='auto', min_width='1px'))\n",
    "    }\n",
    "\n",
    "    \n",
    "    params['mpt'].style.button_width = '25px' \n",
    "    params['flip'].style.button_width = '25px' \n",
    "\n",
    "    #Close Button\n",
    "    tt_show = 'Show example'\n",
    "    button_show = w.Button(description='Show', tooltip=tt_show)     \n",
    "\n",
    "    #Hint\n",
    "    lbl = w.Label('Settings are saved automatically')    \n",
    "      \n",
    "    #Grid\n",
    "    grid = w.GridspecLayout(12, 2, width='400px',  grid_gap=\"0px\", align_items='center')\n",
    "    grid[0, 0] = w.Label('Model Architecture')\n",
    "    grid[0, 1] = params['arch']\n",
    "    grid[1, 0] = w.Label('Mini-Batch Size')\n",
    "    grid[1, 1] = params['bs']\n",
    "    grid[2, 0] = w.HTML('<a href=\"https://docs.fast.ai/callback.fp16.html\">Mixed Precision Training </a>')\n",
    "    grid[2, 1] = params['mpt']\n",
    "    grid[3, 0] = w.HTML('<a href=\"https://arxiv.org/abs/1711.05101\">Weight Decay</a>')\n",
    "    grid[3, 1] = params['wd']\n",
    "    grid[4, 0] = w.HTML('<a href=\"https://docs.fast.ai/optimizer.html\">Optimizer</a>')\n",
    "    grid[4, 1] = params['optim']\n",
    "    grid[5, :] = w.HTML('<hr>')\n",
    "    grid[6, :] = w.HTML('<b>Data Augmentation</b>')\n",
    "    grid[7, 0] = w.HTML('<a href=\"https://matjesg.github.io/deepflash2/data.html#Data-augmentation\">Flip</a>')\n",
    "    grid[7, 1] = params['flip']\n",
    "    grid[8, 0] = w.HTML('<a href=\"https://matjesg.github.io/deepflash2/data.html#Data-augmentation\">Rotation (max. degrees)</a>')\n",
    "    grid[8, 1] = params['rot']\n",
    "    grid[9, 0] = w.HTML('<a href=\"https://matjesg.github.io/deepflash2/data.html#Data-augmentation\">Deformation Grid Size</a>')\n",
    "    grid[9, 1] = params['def_grid']\n",
    "    grid[10, 0] = w.HTML('<a href=\"https://matjesg.github.io/deepflash2/data.html#Data-augmentation\">Deformation Magnitude</a>')\n",
    "    grid[10, 1] = params['def_mag']\n",
    "    grid[11, 0] = w.HTML('<a href=\"https://docs.fast.ai/vision.augment.html\">Brightness (max. lighting)</a>')\n",
    "    grid[11, 1] = params['light']\n",
    "\n",
    "    def __init__(self, **kwargs):     \n",
    "        super().__init__(**kwargs)\n",
    "        \n",
    "        self.widget = w.Accordion(children=[w.VBox([w.HBox([self.button_reset, self.button_close]),self.lbl,self.grid])])\n",
    "        self.widget.set_title(0, 'Training Parameters')\n",
    "        self.widget.layout.display = \"none\"    "
   ]
  },
  {
   "cell_type": "code",
   "execution_count": null,
   "metadata": {},
   "outputs": [
    {
     "data": {
      "application/vnd.jupyter.widget-view+json": {
       "model_id": "7a9da1f7409c42e6aaf8e37908b84610",
       "version_major": 2,
       "version_minor": 0
      },
      "text/plain": [
       "Accordion(children=(VBox(children=(HBox(children=(Button(description='Reset', style=ButtonStyle(), tooltip='Re…"
      ]
     },
     "metadata": {},
     "output_type": "display_data"
    }
   ],
   "source": [
    "t=ParamWidget(config=Config(bs=8))\n",
    "t.widget.layout.display = \"block\"    \n",
    "t.widget"
   ]
  },
  {
   "cell_type": "code",
   "execution_count": null,
   "metadata": {
    "id": "ELVX_TccPsJ8"
   },
   "outputs": [],
   "source": [
    "#export\n",
    "class MWWidget(BasePopUpParamWidget, GetAttr):\n",
    "    'Widget to customize mask weights'\n",
    "    _default = 'config'\n",
    "    params = {\n",
    "    'bwf':w.IntSlider(min=1, max=50, continuous_update=True, layout= w.Layout(width='auto')),\n",
    "    'fbr':w.FloatSlider(min=0, max=1, continuous_update=True, layout= w.Layout(width='auto')),\n",
    "    'bws':w.IntSlider(min=1, max=20, continuous_update=True, layout= w.Layout(width='auto')),\n",
    "    'fds':w.IntSlider(min=1, max=20, continuous_update=True, layout= w.Layout(width='auto'))}\n",
    "    out = w.Output()\n",
    "    \n",
    "    #Close Button\n",
    "    tt_show = 'Show example'\n",
    "    button_show = w.Button(description='Show', tooltip=tt_show)     \n",
    "\n",
    "    #Select\n",
    "    select = w.Dropdown(options=[\"unet_deepflash2\",  \"unet_falk2019\", \"unet_ronnberger2015\"], layout=w.Layout(width='auto', min_width='1px'))\n",
    "\n",
    "    #Hint\n",
    "    lbl = w.HTML('Settings are saved automatically. Click <a href=\"https://matjesg.github.io/deepflash2/data.html#Weight-Calculation\">here</a> for detailed information.')\n",
    "    \n",
    "    \n",
    "    #Grid\n",
    "    grid = w.GridspecLayout(6, 2, width='400px',  grid_gap=\"0px\", align_items='center')\n",
    "    grid[0, 0] = w.Label('Border Weight Factor')\n",
    "    grid[0, 1] = params['bwf']\n",
    "    grid[1, 0] = w.Label('Border Weight Sigma')\n",
    "    grid[1, 1] = params['bws']\n",
    "    grid[2, 0] = w.Label('Forground-Background Ratio')\n",
    "    grid[2, 1] = params['fbr']\n",
    "    grid[3, 0] = w.Label('Forground Distance Sigma')\n",
    "    grid[3, 1] = params['fds']\n",
    "    grid[4, :] = w.HTML('<hr>')\n",
    "    grid[5, :] = w.HTML('<b>Visualization</b>')\n",
    "    \n",
    "    def __init__(self, **kwargs):     \n",
    "        super().__init__(**kwargs)\n",
    "        \n",
    "        self.widget = w.Accordion(children=[w.VBox([w.HBox([self.button_reset, self.button_close]),\n",
    "                                           self.lbl,\n",
    "                                           self.grid,\n",
    "                                           w.HBox([self.button_show, self.select]),\n",
    "                                           self.out])]\n",
    "                         )\n",
    "        self.widget.set_title(0, 'Custom Mask Weights')\n",
    "        self.widget.layout.display = \"none\"        "
   ]
  },
  {
   "cell_type": "code",
   "execution_count": null,
   "metadata": {
    "id": "4cNMVIHDTrJ-"
   },
   "outputs": [
    {
     "data": {
      "application/vnd.jupyter.widget-view+json": {
       "model_id": "37c4546affbc4fb180971b3e7ee43cab",
       "version_major": 2,
       "version_minor": 0
      },
      "text/plain": [
       "Accordion(children=(VBox(children=(HBox(children=(Button(description='Reset', style=ButtonStyle(), tooltip='Re…"
      ]
     },
     "metadata": {},
     "output_type": "display_data"
    }
   ],
   "source": [
    "t=MWWidget(config=Config(bws=5))\n",
    "t.widget.layout.display = \"block\"  \n",
    "t.widget"
   ]
  },
  {
   "cell_type": "markdown",
   "metadata": {},
   "source": [
    "#### Train UI"
   ]
  },
  {
   "cell_type": "code",
   "execution_count": null,
   "metadata": {},
   "outputs": [],
   "source": [
    "#export\n",
    "class TrainUI(BaseUI):\n",
    "    'UI for ensemble training'\n",
    "    sections = ['1 - Data', '2 - Ensemble Training', '3 - Validation']\n",
    "    \n",
    "    def __init__(self, hide=False, **kwargs):\n",
    "        super().__init__(**kwargs)\n",
    "\n",
    "        #Sidebar\n",
    "        self.sb = {\n",
    "            'data':TrainDataSB(path=self.path, config=self.config),\n",
    "            'train':TrainModelSB(config=self.config),\n",
    "            'valid':TrainValidSB(path=self.path, config=self.config),\n",
    "        }      \n",
    "        self.sb['train'].open_lrfinder.on_click(self.open_lrfinder)   \n",
    "        self.sb['train'].open_mw.on_click(self.open_mw)   \n",
    "        self.sb['train'].open_par.on_click(self.open_par)  \n",
    "        #Update model options from train in valid\n",
    "        self.sb['train'].params['n'].observe(self.sb['valid'].sel_update, 'value')\n",
    "    \n",
    "        #Sidebar Accordion\n",
    "        self.sb_acc = w.Accordion(children=[x.widget for x in self.sb.values()], layout=w.Layout(grid_area='sidebar'))       \n",
    "        for i, name in enumerate(self.sections):\n",
    "            self.sb_acc.set_title(i, name)\n",
    "        self.sb_acc.observe(self.sidebar_change)  \n",
    "        \n",
    "        #Extra \n",
    "        self.xtr = {\n",
    "            'lr':LRWidget(),\n",
    "            'mw':MWWidget(config=self.config),\n",
    "            'param':ParamWidget(config=self.config)\n",
    "        }\n",
    "        \n",
    "        #Main\n",
    "        self.main = {\n",
    "            'img':self.sb['data'].img.dialog, \n",
    "            'msk':self.sb['data'].msk.dialog, \n",
    "            'cfg':self.sb['data'].cfg.dialog, \n",
    "            'lr':self.xtr['lr'].widget,\n",
    "            'mw':self.xtr['mw'].widget,\n",
    "            'param':self.xtr['param'].widget,\n",
    "            'down':self.sb['valid'].down.dialog, \n",
    "             **{k:w.Output() for k in self.sb.keys()}\n",
    "        }\n",
    "        self.main_box = w.VBox(list(self.main.values()))\n",
    "        \n",
    "\n",
    "        \n",
    "        if hide: self.hide()\n",
    "    \n",
    "    def set_config(self, config):\n",
    "        self.sb['data'].set_config(config)\n",
    "        self.sb['train'].set_config(config)\n",
    "        self.xtr['param'].set_config(config)\n",
    "        self.xtr['mw'].set_config(config)\n",
    "           \n",
    "    def open_lrfinder(self, b):\n",
    "        self.main['lr'].layout.display = \"block\"    \n",
    "        \n",
    "    def open_mw(self, b):\n",
    "        self.main['mw'].layout.display = \"block\"    \n",
    "        \n",
    "    def open_par(self, b):\n",
    "        self.main['param'].layout.display = \"block\"   \n"
   ]
  },
  {
   "cell_type": "code",
   "execution_count": null,
   "metadata": {},
   "outputs": [
    {
     "data": {
      "application/vnd.jupyter.widget-view+json": {
       "model_id": "9fd7dde8c62e443c917879939f909c98",
       "version_major": 2,
       "version_minor": 0
      },
      "text/plain": [
       "Accordion(children=(VBox(children=(Label(value='Provide training images and segmentation masks'), GridspecLayo…"
      ]
     },
     "metadata": {},
     "output_type": "display_data"
    }
   ],
   "source": [
    "t=TrainUI('')\n",
    "t.sb_acc"
   ]
  },
  {
   "cell_type": "markdown",
   "metadata": {},
   "source": [
    "### Prediction Widgets"
   ]
  },
  {
   "cell_type": "markdown",
   "metadata": {},
   "source": [
    "#### Sidebars"
   ]
  },
  {
   "cell_type": "code",
   "execution_count": null,
   "metadata": {},
   "outputs": [],
   "source": [
    "#export\n",
    "class PredInputSB:\n",
    "    'Layout for \"Data and Ensemble\" Section'\n",
    "    \n",
    "    #Hints\n",
    "    txt = 'Provide new images and models'\n",
    "    hints = w.Label(txt)\n",
    " \n",
    "    grid = w.GridspecLayout(5, GRID_COLS, width='100%',  grid_gap=\"0px\", align_items='center')\n",
    "    \n",
    "    #Labels\n",
    "    grid[0, 0] = w.HTML(_html_wrap(*_descr['img_pred']))\n",
    "    grid[1, 0] = w.HTML(_html_wrap(*_descr['mdl']))\n",
    "    grid[3, :] = w.HTML('<hr>')\n",
    "    grid[4, 0] = w.HTML(_html_wrap(*_descr['up_pred']))\n",
    "    #grid[5, 0] = w.Label('Sample Data')\n",
    "    \n",
    "    #Data Upload\n",
    "    grid[4, 1:] = ZipUpload().widget\n",
    "    #grid[5, 1:] = TrainSampleData(layout=w.Layout(width='auto')).widget\n",
    "\n",
    "    #Load Data\n",
    "    run = w.Button(description='Load*', layout=w.Layout(width='auto', min_width='1px'))\n",
    "    grid[2, 1:] = run\n",
    "    \n",
    "    #Final Widget\n",
    "    widget = w.VBox([hints,grid])\n",
    "    \n",
    "    def __init__(self, path=None):\n",
    "        path = path or Path('.') \n",
    "        self.img  = PathSelector(path, 'Select')\n",
    "        self.grid[0, 1:] = self.img.button\n",
    "        self.ens  = PathSelector(path, 'Select')\n",
    "        self.grid[1, 1:] = self.ens.button"
   ]
  },
  {
   "cell_type": "code",
   "execution_count": null,
   "metadata": {},
   "outputs": [
    {
     "data": {
      "application/vnd.jupyter.widget-view+json": {
       "model_id": "2c4ac58ed0f84f949e8d14b931ee38a8",
       "version_major": 2,
       "version_minor": 0
      },
      "text/plain": [
       "VBox(children=(Label(value='Provide new images and models'), GridspecLayout(children=(HTML(value='<p class=\"to…"
      ]
     },
     "metadata": {},
     "output_type": "display_data"
    }
   ],
   "source": [
    "t=PredInputSB('')\n",
    "t.widget"
   ]
  },
  {
   "cell_type": "code",
   "execution_count": null,
   "metadata": {},
   "outputs": [],
   "source": [
    "#export\n",
    "class PredSB(BaseParamWidget, GetAttr):\n",
    "    'Layout for \"Prediction and Quality Control\" Section'\n",
    "    _default = 'config'\n",
    "    \n",
    "    #Hints\n",
    "    txt = 'Predict segmentations'\n",
    "    hints = w.Label(txt)\n",
    "    \n",
    "    params = {\n",
    "        'pred_tta': w.ToggleButtons(options=[('Yes', True), ('No', False)],\n",
    "                                    tooltips=['Enable Test-Time Augmentation','Disable Test-Time Augmentation'])\n",
    "    }\n",
    "    params['pred_tta'].style.button_width = '50px' \n",
    " \n",
    "    #Grid\n",
    "    grid = w.GridspecLayout(4, GRID_COLS, width='100%',  grid_gap=\"0px\", align_items='center')\n",
    "    #grid[0, 0] = w.HTML(_html_wrap(*_descr['s_pred']))\n",
    "    grid[0, 0] = w.HTML(_html_wrap(*_descr['tta']))\n",
    "    grid[0, 1:] = params['pred_tta']\n",
    "    grid[2, :] = w.HTML('<hr>')\n",
    "    grid[3, 0] = w.HTML('Downloads')\n",
    "\n",
    "    #Model\n",
    "    #model = w.Dropdown(options=[\"ensemble\",  \"model_1\", \"model_2\"],  continuous_update=True,\n",
    "    #                  layout=w.Layout(width='auto', min_width='1px'))\n",
    "    #grid[0, 1:] = model\n",
    "\n",
    "    #Res\n",
    "    run = w.Button(description='Predict and show results*', layout=w.Layout(width='auto'))\n",
    "    grid[1, 1:] = run\n",
    "\n",
    "    #Final Widget\n",
    "    widget = w.VBox([hints,grid])\n",
    "    \n",
    "    def __init__(self, path=None, **kwargs):\n",
    "        super().__init__(**kwargs)  \n",
    "        path = path or Path('.') \n",
    "        self.down  = PathDownloads(path, 'Select', tooltip='Click to download')\n",
    "        self.grid[3, 1:] = self.down.button    "
   ]
  },
  {
   "cell_type": "code",
   "execution_count": null,
   "metadata": {},
   "outputs": [
    {
     "data": {
      "application/vnd.jupyter.widget-view+json": {
       "model_id": "fa1eda763284486abec8a76696caf363",
       "version_major": 2,
       "version_minor": 0
      },
      "text/plain": [
       "VBox(children=(Label(value='Predict segmentations'), GridspecLayout(children=(HTML(value='<p class=\"tooltip\">&…"
      ]
     },
     "metadata": {},
     "output_type": "display_data"
    }
   ],
   "source": [
    "t=PredSB()\n",
    "t.widget"
   ]
  },
  {
   "cell_type": "markdown",
   "metadata": {},
   "source": [
    "#### Prediction UI"
   ]
  },
  {
   "cell_type": "code",
   "execution_count": null,
   "metadata": {},
   "outputs": [],
   "source": [
    "#export\n",
    "class PredUI(BaseUI):\n",
    "    'UI for prediction of new data'\n",
    "    \n",
    "    sections = ['1 - Data and Ensemble', '2 - Prediction and Quality Control']\n",
    "    \n",
    "    def __init__(self, hide=False, **kwargs):\n",
    "        super().__init__(**kwargs)\n",
    "        \n",
    "        #Sidebar\n",
    "        self.sb = {\n",
    "            'data':PredInputSB(path=self.path),\n",
    "            'pred':PredSB(path=self.path, config=self.config),\n",
    "        }      \n",
    "    \n",
    "        #Sidebar Accordion\n",
    "        self.sb_acc = w.Accordion(children=[x.widget for x in self.sb.values()], layout=w.Layout(grid_area='sidebar'))       \n",
    "        for i, name in enumerate(self.sections):\n",
    "            self.sb_acc.set_title(i, name)\n",
    "        self.sb_acc.observe(self.sidebar_change)\n",
    "        \n",
    "        #Main\n",
    "        self.main = {\n",
    "            'img':self.sb['data'].img.dialog, \n",
    "            'ens':self.sb['data'].ens.dialog, \n",
    "            'down':self.sb['pred'].down.dialog, \n",
    "             **{k:w.Output() for k in self.sb.keys()}\n",
    "        }\n",
    "        self.main_box = w.VBox(list(self.main.values()))\n",
    "        \n",
    "        if hide: self.hide()\n",
    "           \n",
    "    def open_lrfinder(self, b):\n",
    "        self.main['lr'].layout.display = \"block\"    "
   ]
  },
  {
   "cell_type": "code",
   "execution_count": null,
   "metadata": {},
   "outputs": [
    {
     "data": {
      "application/vnd.jupyter.widget-view+json": {
       "model_id": "0a52ed2b727b4713a3312a94aca77378",
       "version_major": 2,
       "version_minor": 0
      },
      "text/plain": [
       "Accordion(children=(VBox(children=(Label(value='Provide new images and models'), GridspecLayout(children=(HTML…"
      ]
     },
     "metadata": {},
     "output_type": "display_data"
    }
   ],
   "source": [
    "t=PredUI('')\n",
    "t.sb_acc"
   ]
  },
  {
   "cell_type": "markdown",
   "metadata": {
    "id": "jh8OcY_037G0"
   },
   "source": [
    "## GUI"
   ]
  },
  {
   "cell_type": "code",
   "execution_count": null,
   "metadata": {
    "id": "mrhdNRWBOVfj"
   },
   "outputs": [],
   "source": [
    "#export\n",
    "class GUI(GetAttr):\n",
    "    'GUI for deepflash2'\n",
    "    _default = 'config'\n",
    "    \n",
    "    #Header and Footer\n",
    "    head = \"<h4 style='text-align:center;background-color:lightgray'>deepflash</h4>\"\n",
    "    header = w.HTML(value=head, layout=w.Layout(width='auto', grid_area='header'))\n",
    "    foot = \"<h6 style='text-align:left;background-color:lightgray'>&nbsp; </h6>\"\n",
    "    #foot = \"\"\n",
    "    footer = w.HTML(value=foot, layout=w.Layout(width='100%', grid_area='footer'))\n",
    "    \n",
    "    #Category Buttons\n",
    "    cat_btns = {\n",
    "        'gt':w.Button(description='GT Estimation', layout=w.Layout(flex='1 1 0%',width='auto')),\n",
    "        'train':w.Button(description='Training', layout=w.Layout(flex='1 1 0%',width='auto')),\n",
    "        'pred':w.Button(description='Prediction', layout=w.Layout(flex='1 1 0%', width='auto'))\n",
    "    }\n",
    "    cat_btns_box = w.Box(children=list(cat_btns.values()), layout=w.Layout(grid_area='cat_btns'))\n",
    "\n",
    "    def __init__(self):\n",
    "        get_ipython().events.register('pre_run_cell', set_css_in_cell_output)\n",
    "        self.config = Config()\n",
    "        self.base_path = _connect_to_drive().resolve()\n",
    "        \n",
    "        #Project Dir\n",
    "        self.proj = PathSelector(self.base_path, 'Project Folder', tooltip='Project Folder \\ndefault: <deepflash2>')\n",
    "        self.proj.button_select.on_click(self.set_project_dir)\n",
    "        self.config.proj_dir = self.base_path/self.proj_dir\n",
    "        \n",
    "        #Click Category Buttons\n",
    "        for v in self.cat_btns.values():\n",
    "            v.on_click(self.cat_clicked)\n",
    "        \n",
    "        #Categories\n",
    "        self.gt = GTEstUI(hide=True, path=self.base_path)\n",
    "        self.train = TrainUI(hide=True,path=self.base_path, config=self.config)\n",
    "        self.pred = PredUI(hide=True, path=self.base_path)\n",
    "        self.cat = {'gt':self.gt, 'train':self.train, 'pred':self.pred}\n",
    "        \n",
    "        #Connect Buttons\n",
    "        ## GT Estimation\n",
    "        self.gt.sb['data'].run.on_click(self.gt_data_run_clicked)\n",
    "        self.gt_data_n_items = ItemsPerPage()\n",
    "        self.gt_data_n_items.drp.observe(self.gt_data_n_items_change, 'value')\n",
    "        self.gt.sb['data'].sd.on_click(self.gt_data_sd_clicked)\n",
    "        self.gt.sb['gt'].staple.on_click(self.gt_ref_clicked)\n",
    "        self.gt.sb['gt'].mv.on_click(self.gt_ref_clicked)\n",
    "        \n",
    "        ## Train\n",
    "        self.train.sb['data'].run.on_click(self.train_data_run_clicked)\n",
    "        self.train.sb['data'].sd.on_click(self.train_data_sd_clicked)\n",
    "        self.train.sb['data'].cfg.button_select.on_click(self.train_data_load_cfg_clicked)\n",
    "        self.train_data_n_items = ItemsPerPage()\n",
    "        self.train_data_n_items.drp.observe(self.train_data_n_items_change, 'value')\n",
    "        self.train.sb['train'].run.on_click(self.train_run_clicked)\n",
    "        #self.train.sb['train'].params['n'].observe(self.train_n_change, 'value')\n",
    "        self.train.sb['valid'].run.on_click(self.train_valid_run_clicked)\n",
    "        \n",
    "        self.train.xtr['lr'].run.on_click(self.lr_start_clicked)\n",
    "        #self.train.xtr['param'].run.on_click(self.lr_start_clicked)\n",
    "        \n",
    "        ## Pred\n",
    "        self.pred.sb['data'].run.on_click(self.pred_data_run_clicked)\n",
    "        self.pred_data_n_items = ItemsPerPage()\n",
    "        self.pred_data_n_items.drp.observe(self.pred_data_n_items_change, 'value')\n",
    "        self.pred.sb['pred'].run.on_click(self.pred_run_clicked)\n",
    "        \n",
    "        self._set_download_dirs() \n",
    "        self.star_info = w.Label('*Required')\n",
    "        self.star_info.layout.display = \"none\"   \n",
    "        \n",
    "        box_sb = w.VBox(children=[x.sb_acc for x in self.cat.values()]+[self.star_info], layout=w.Layout(grid_area='sidebar'))\n",
    "        box_main = w.VBox(children=[x.main_box for x in self.cat.values()], layout=w.Layout(grid_area='main'))\n",
    "        box_proj = w.VBox(children=[self.proj.button, self.proj.dialog], layout=w.Layout(grid_area='proj', flex_flow='column', align_items='flex-start'))\n",
    "        \n",
    "        gb = w.GridBox(children=[self.header, self.cat_btns_box, box_proj, box_sb, box_main, self.footer],\n",
    "                       layout=w.Layout(\n",
    "                           width='100%',\n",
    "                           grid_template_columns='350px auto',\n",
    "                           grid_gap='0px 0px',\n",
    "                           grid_template_areas='''\n",
    "                           \"header header\"\n",
    "                           \"cat_btns proj\"\n",
    "                           \"sidebar main\"\n",
    "                           \"footer footer\"\n",
    "                           '''))\n",
    "        display(gb)\n",
    "        \n",
    "    def _set_download_dirs(self):\n",
    "        self.gt.sb['gt'].down.set_path(Path(self.proj_dir)/self.gt_dir)\n",
    "        self.train.sb['valid'].down.set_path(Path(self.proj_dir)/self.train_dir)\n",
    "        self.pred.sb['pred'].down.set_path(Path(self.proj_dir)/self.pred_dir)\n",
    "        self.pred.sb['data'].ens.set_path(Path(self.proj_dir)/self.train_dir/self.ens_dir)\n",
    "    \n",
    "    def set_project_dir(self, b):\n",
    "        self.config.proj_dir = str(self.proj.path)\n",
    "        self._set_download_dirs()\n",
    "        \n",
    "    def cat_clicked(self, b):\n",
    "        #first execution only\n",
    "        #if not self.project_path.is_dir(): self.project_path.mkdir(parents=True)\n",
    "        self.star_info.layout.display = \"block\"   \n",
    "        for k,v in self.cat_btns.items():\n",
    "            if v==b:\n",
    "                v.button_style = 'info'\n",
    "                self.cat[k].show()\n",
    "            else:\n",
    "                v.button_style = ''\n",
    "                self.cat[k].hide()\n",
    "                \n",
    "    def set_config(self, config):\n",
    "        self.config=config\n",
    "        self.train.set_config(config)\n",
    "                \n",
    "    # GT Estimation\n",
    "    def gt_data_run_clicked(self, b):\n",
    "        out = self.gt.main['data']\n",
    "        out.clear_output()       \n",
    "        exp_folder = self.gt.sb['data'].msk.path.relative_to(self.base_path)        \n",
    "        with out:\n",
    "            self.gt_est = GTEstimator(exp_folder, config=self.config, path=self.base_path)\n",
    "            display(self.gt_data_n_items.widget)\n",
    "            self.gt_est.show_data(max_n=5)\n",
    "    \n",
    "    #GT Data Items\n",
    "    def gt_data_n_items_change(self, change):\n",
    "        out = self.gt.main['gt']\n",
    "        with out:\n",
    "            display(self.gt_data_n_items.widget)\n",
    "            self.gt_est.show_data(max_n=change['new'])\n",
    "            \n",
    "    def gt_data_sd_clicked(self, b):\n",
    "        out = self.gt.main['data']\n",
    "        out.clear_output() \n",
    "        with out:\n",
    "            path = Path(self.proj_dir)/'sample_data'/'expert_segmentations'\n",
    "            print(f'Dowloading expert sample data into {path.relative_to(self.base_path)}')\n",
    "            _get_expert_sample_masks(path)\n",
    "            self.gt.sb['data'].msk.path = path\n",
    "            print(f'Click \"Load Data\" to continue.')\n",
    "    \n",
    "    def gt_ref_clicked(self, b):\n",
    "        out = self.gt.main['gt']\n",
    "        out.clear_output()  \n",
    "        save_dir = (Path(self.proj_dir)/self.gt_dir/b.name).relative_to(self.base_path)\n",
    "        res_out = w.Output()\n",
    "        with out: \n",
    "            display(res_out)\n",
    "            self.gt_est.gt_estimation(method=b.name, save_dir=save_dir)\n",
    "        with res_out:\n",
    "            print(f'Overall similarity to {b.name}')\n",
    "            display(pd.DataFrame(self.gt_est.df_agg.mean()))\n",
    "            print('------------------')\n",
    "            print(f'Overall similarity to {b.name} by expert')\n",
    "            display(self.gt_est.df_agg)\n",
    "            print('------------------')\n",
    "    \n",
    "    # Train\n",
    "    def train_data_run_clicked(self, b):\n",
    "        out = self.train.main['data']\n",
    "        out.clear_output()       \n",
    "        with out: print('Loading data. Please wait')\n",
    "        image_folder = self.train.sb['data'].img.path.relative_to(self.base_path)\n",
    "        mask_folder = self.train.sb['data'].msk.path.relative_to(self.base_path)  \n",
    "        ens_folder = (Path(self.proj_dir)/self.train_dir/self.ens_dir).relative_to(self.base_path)\n",
    "        \n",
    "        with out:\n",
    "            self.el = EnsembleLearner(image_folder, mask_folder, self.config, self.base_path, ens_folder)\n",
    "            display(self.train_data_n_items.widget)\n",
    "            self.el.ds.show_data(overlay=True, max_n=5)\n",
    "            plt.show()\n",
    "            \n",
    "    #Data Items\n",
    "    def train_data_n_items_change(self, change):\n",
    "        out = self.train.main['data']\n",
    "        with out:\n",
    "            display(self.train_data_n_items.widget)\n",
    "            self.el.ds.show_data(overlay=True, max_n=change['new'])\n",
    "            plt.show()\n",
    "            \n",
    "    def train_data_sd_clicked(self, b):\n",
    "        out = self.train.main['data']\n",
    "        out.clear_output() \n",
    "        with out:\n",
    "            path = Path(self.proj_dir)/'sample_data'\n",
    "            print(f'Dowloading sample data into {path.relative_to(self.base_path)}')\n",
    "            _get_train_sample_data(path)\n",
    "            self.train.sb['data'].img.path = path/'images'\n",
    "            self.train.sb['data'].msk.path = path/'masks'\n",
    "            print(f'Click \"Load Data\" to continue.')\n",
    "            \n",
    "    def train_data_load_cfg_clicked(self, b):\n",
    "        cfg = self.train.sb['data'].cfg\n",
    "        cfg.output.clear_output()\n",
    "        with cfg.output:\n",
    "            path = cfg.cwd/cfg.select.value[0]\n",
    "            self.config.load(path)\n",
    "        time.sleep(3)\n",
    "        out.clear_output()            \n",
    "            \n",
    "    def train_run_clicked(self, b):\n",
    "        out = self.train.main['train']\n",
    "        out.clear_output()\n",
    "        with out: \n",
    "            try: \n",
    "                assert type(self.el)==EnsembleLearner\n",
    "                print('Starting training. This may take up to a few hours - watch the logs below.')\n",
    "            except:\n",
    "                print('Please load data first!')\n",
    "        \n",
    "        sel = self.train.sb['train'].sel.value\n",
    "        self.el.set_n(self.n)\n",
    "        for i in range(1, self.n+1):\n",
    "            if (sel != 'ensemble') and (sel != f'model_{i}'): continue\n",
    "            with out: print(f'Training of model {i}')\n",
    "            if COLAB:\n",
    "                with colab.output.temporary(): self.el.fit(i) \n",
    "            else:\n",
    "                with out: self.el.fit(i)  \n",
    "            with out:\n",
    "                print(f'Metrics for model {i} of {self.n}')\n",
    "                self.el.recorder[i].plot_metrics()\n",
    "            \n",
    "    def train_valid_run_clicked(self, b):\n",
    "        out = self.train.main['valid']\n",
    "        out.clear_output()\n",
    "        sel = self.train.sb['valid'].sel.value\n",
    "        \n",
    "        model_no = None if sel == 'ensemble' else int(sel[6:])\n",
    "        with out: print(f'Validating {sel}. This may take a while!')\n",
    "        if COLAB:\n",
    "            with colab.output.temporary(): \n",
    "                self.el.get_valid_results(model_no, use_tta=self.tta)\n",
    "        else:\n",
    "            with out:\n",
    "                self.el.get_valid_results(model_no, use_tta=self.tta)\n",
    "        out.clear_output()\n",
    "        save_dir = (Path(self.proj_dir)/self.train_dir/self.val_dir).relative_to(self.base_path)\n",
    "        with out: self.el.show_valid_results(model_no, save_dir=save_dir)\n",
    "    \n",
    "    #Lr finder\n",
    "    def lr_open(self,b):\n",
    "        self.lrfinder.widget.layout.display = \"block\"    \n",
    "    \n",
    "    def lr_start_clicked(self, b):\n",
    "        out = self.train.xtr['lr'].output\n",
    "        out.clear_output()\n",
    "        with out: \n",
    "            print('Starting Learning Rate Finder. Please Wait.')\n",
    "        if COLAB:\n",
    "            with colab.output.temporary(): \n",
    "                sug_lrs, rec = self.el.lr_find(show_plot=False)            \n",
    "        else:\n",
    "            with out:\n",
    "                sug_lrs, rec = self.el.lr_find(show_plot=False)\n",
    "        with out:\n",
    "            print(sug_lrs)\n",
    "            rec.plot_lr_find() \n",
    "            plt.show()\n",
    "\n",
    "    #Mask weights\n",
    "    def mw_open(self,b):\n",
    "        self.mw.widget.layout.display = \"block\"    \n",
    "        \n",
    "    #Train Settings\n",
    "    def par_open(self,b):\n",
    "        self.par.widget.layout.display = \"block\"    \n",
    "\n",
    "    def mw_on_show_clicked(self, b):\n",
    "        pass\n",
    "    \n",
    "    # Prediction\n",
    "    def pred_data_run_clicked(self, b):\n",
    "        out = self.pred.main['data']\n",
    "        out.clear_output()       \n",
    "        with out: print('Loading data. Please wait')\n",
    "        image_folder = self.pred.sb['data'].img.path.relative_to(self.base_path)\n",
    "        ens_folder = self.pred.sb['data'].ens.path.relative_to(self.base_path)\n",
    "        \n",
    "        with out:\n",
    "            self.el_pred = EnsembleLearner(image_folder, config=self.config, path=self.base_path, ensemble_dir=ens_folder)\n",
    "            self.el_pred.get_models()\n",
    "            display(self.pred_data_n_items.widget)\n",
    "            self.el_pred.ds.show_data(max_n=5, figsize = (5,5))\n",
    "            plt.show()\n",
    "    \n",
    "    def pred_data_n_items_change(self, change):\n",
    "        out = self.pred.main['data']\n",
    "        with out:\n",
    "            display(self.pred_data_n_items.widget)\n",
    "            self.el_pred.ds.show_data(max_n=change['new'], figsize = (5,5))\n",
    "            plt.show()\n",
    "    \n",
    "    def pred_run_clicked(self, b):\n",
    "        out = self.pred.main['pred']\n",
    "        out.clear_output()       \n",
    "        with out: print('Predicting segmentation masks. Please wait...')\n",
    "        if COLAB:\n",
    "            with colab.output.temporary(): \n",
    "                self.el_pred.get_ensemble_results(self.el_pred.files, use_tta=self.pred_tta)\n",
    "        else:\n",
    "            with out:\n",
    "                self.el_pred.get_ensemble_results(self.el_pred.files, use_tta=self.pred_tta)\n",
    "        with out: \n",
    "            self.el_pred.show_ensemble_results()\n",
    "\n",
    "        get_ensemble_results"
   ]
  },
  {
   "cell_type": "code",
   "execution_count": null,
   "metadata": {},
   "outputs": [
    {
     "data": {
      "application/vnd.jupyter.widget-view+json": {
       "model_id": "7dfae8fc8ed74aa39cd011de5e086d3d",
       "version_major": 2,
       "version_minor": 0
      },
      "text/plain": [
       "GridBox(children=(HTML(value=\"<h4 style='text-align:center;background-color:lightgray'>deepflash</h4>\", layout…"
      ]
     },
     "metadata": {},
     "output_type": "display_data"
    }
   ],
   "source": [
    "t = GUI()"
   ]
  },
  {
   "cell_type": "markdown",
   "metadata": {
    "id": "P4KKFZ0537Ht"
   },
   "source": [
    "## Export -"
   ]
  },
  {
   "cell_type": "code",
   "execution_count": null,
   "metadata": {
    "id": "HezS7c8q37Ht"
   },
   "outputs": [
    {
     "data": {
      "text/html": [
       "<style>\n",
       ".tooltip {\n",
       "  position: relative;\n",
       "  display: inline-block;\n",
       "}\n",
       "\n",
       ".tooltip .tooltiptext {\n",
       "  font-size: small;\n",
       "  visibility: hidden;\n",
       "  width: max-content;\n",
       "  max-width: 280px;\n",
       "  background-color: white;\n",
       "  text-align: left;\n",
       "  border-radius: 3px;\n",
       "  padding: 3px 3px;\n",
       "  border: solid 1px black;\n",
       "\n",
       "  /* Position the tooltip */\n",
       "  position: absolute;\n",
       "  z-index: 1;\n",
       "}\n",
       "\n",
       ".tooltip:hover .tooltiptext {\n",
       "  visibility: visible;\n",
       "}\n",
       "</style>"
      ],
      "text/plain": [
       "<IPython.core.display.HTML object>"
      ]
     },
     "metadata": {},
     "output_type": "display_data"
    },
    {
     "name": "stdout",
     "output_type": "stream",
     "text": [
      "Converted 00_learner.ipynb.\n",
      "Converted 01_models.ipynb.\n",
      "Converted 02_data.ipynb.\n",
      "Converted 03_metrics.ipynb.\n",
      "Converted 04_callbacks.ipynb.\n",
      "Converted 05_losses.ipynb.\n",
      "Converted 06_utils.ipynb.\n",
      "Converted 07_tta.ipynb.\n",
      "Converted 08_gui.ipynb.\n",
      "Converted 09_gt.ipynb.\n",
      "Converted add_information.ipynb.\n",
      "Converted gt_estimation.ipynb.\n",
      "Converted index.ipynb.\n",
      "Converted model_library.ipynb.\n",
      "Converted predict.ipynb.\n",
      "Converted train.ipynb.\n"
     ]
    }
   ],
   "source": [
    "#hide\n",
    "from nbdev.export import *\n",
    "notebook2script()"
   ]
  },
  {
   "cell_type": "code",
   "execution_count": null,
   "metadata": {},
   "outputs": [],
   "source": []
  }
 ],
 "metadata": {
  "accelerator": "GPU",
  "colab": {
   "collapsed_sections": [
    "iF1HottF37HD",
    "QH7IXalR37HE",
    "85pakqqy37HF",
    "vmmU0ztX37HM",
    "ROXLuuDv37Hm"
   ],
   "name": "08_gui(1).ipynb",
   "provenance": [],
   "toc_visible": true
  },
  "kernelspec": {
   "display_name": "fastai",
   "language": "python",
   "name": "fastai"
  }
 },
 "nbformat": 4,
 "nbformat_minor": 4
}
