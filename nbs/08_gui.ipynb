{
 "cells": [
  {
   "cell_type": "code",
   "execution_count": null,
   "metadata": {},
   "outputs": [],
   "source": [
    "#default_exp gui\n",
    "from nbdev.showdoc import show_doc"
   ]
  },
  {
   "cell_type": "markdown",
   "metadata": {},
   "source": [
    "# Graphical user interface\n",
    "\n",
    "> Simple GUI with ipywidgets."
   ]
  },
  {
   "cell_type": "code",
   "execution_count": null,
   "metadata": {},
   "outputs": [],
   "source": [
    "#hide\n",
    "import shutil"
   ]
  },
  {
   "cell_type": "code",
   "execution_count": null,
   "metadata": {},
   "outputs": [],
   "source": [
    "#export\n",
    "import os, sys, shutil, time, zipfile, urllib, subprocess\n",
    "import numpy as np, pandas as pd\n",
    "\n",
    "import ipywidgets as w\n",
    "from ipywidgets.embed import embed_minimal_html\n",
    "import IPython.display as d\n",
    "from IPython.utils.io import ask_yes_no\n",
    "from IPython.core.getipython import get_ipython\n",
    "\n",
    "from pathlib import Path\n",
    "from fastcore.foundation import store_attr\n",
    "from fastcore.basics import GetAttr\n",
    "from fastai.data.transforms import get_files\n",
    "import segmentation_models_pytorch as smp\n",
    "import matplotlib.pyplot as plt\n",
    "\n",
    "from deepflash2.utils import unzip, get_label_fn, download_sample_data\n",
    "from deepflash2.learner import EnsembleLearner, Config, _optim_dict\n",
    "from deepflash2.gt import GTEstimator\n",
    "from deepflash2.models import ARCHITECTURES, ENCODERS, get_pretrained_options\n",
    "from deepflash2.losses import LOSSES\n",
    "\n",
    "try:\n",
    "    from google import colab\n",
    "    COLAB = True\n",
    "    from google.colab import data_table\n",
    "except ImportError:\n",
    "    COLAB = False\n",
    "    \n",
    "GRID_COLS = 2\n",
    "COLS_PRED_KEEP = ['file','ensemble','n_models','uncertainty_score','dice_score']\n",
    "COLS_PRED_KEEP_CP = COLS_PRED_KEEP+['mean_average_precision', 'average_precision_at_iou_50']\n",
    "SAMPLE_DATA_URL = 'https://github.com/matjesg/deepflash2/releases/download/sample_data/'"
   ]
  },
  {
   "cell_type": "markdown",
   "metadata": {},
   "source": [
    "## Helper Functions"
   ]
  },
  {
   "cell_type": "code",
   "execution_count": null,
   "metadata": {},
   "outputs": [],
   "source": [
    "#export\n",
    "tooltip_css = \"\"\"<style>\n",
    ".tooltip {\n",
    "  position: relative;\n",
    "  display: inline-block;\n",
    "}\n",
    "\n",
    ".tooltip .tooltiptext {\n",
    "  visibility: hidden;\n",
    "  width: max-content;\n",
    "  max-width: 280px;\n",
    "  background-color: #00bcd4;\n",
    "  text-align: left;\n",
    "  color: white;\n",
    "  border-radius: 4px;\n",
    "  padding: 4px 4px;\n",
    "  border: solid 0px black;\n",
    "  line-height: 1em;\n",
    "\n",
    "  /* Position the tooltip */\n",
    "  position: absolute;\n",
    "  z-index: 1;\n",
    "}\n",
    "\n",
    ".tooltip:hover .tooltiptext {\n",
    "  visibility: visible;\n",
    "}\n",
    "</style>\"\"\"\n",
    "\n",
    "def set_css_in_cell_output():\n",
    "    d.display(d.HTML(tooltip_css))\n",
    "\n",
    "try: get_ipython().events.register('pre_run_cell', set_css_in_cell_output)\n",
    "except: pass"
   ]
  },
  {
   "cell_type": "code",
   "execution_count": null,
   "metadata": {},
   "outputs": [
    {
     "data": {
      "text/html": [
       "<style>\n",
       ".tooltip {\n",
       "  position: relative;\n",
       "  display: inline-block;\n",
       "}\n",
       "\n",
       ".tooltip .tooltiptext {\n",
       "  visibility: hidden;\n",
       "  width: max-content;\n",
       "  max-width: 280px;\n",
       "  background-color: #00bcd4;\n",
       "  text-align: left;\n",
       "  color: white;\n",
       "  border-radius: 4px;\n",
       "  padding: 4px 4px;\n",
       "  border: solid 0px black;\n",
       "  line-height: 1em;\n",
       "\n",
       "  /* Position the tooltip */\n",
       "  position: absolute;\n",
       "  z-index: 1;\n",
       "}\n",
       "\n",
       ".tooltip:hover .tooltiptext {\n",
       "  visibility: visible;\n",
       "}\n",
       "</style>"
      ],
      "text/plain": [
       "<IPython.core.display.HTML object>"
      ]
     },
     "metadata": {},
     "output_type": "display_data"
    }
   ],
   "source": [
    "#export\n",
    "def _html_wrap(name, tooltip='', url=None):\n",
    "    'Wrapper function to create html with tooltip and link to URL'\n",
    "    if not url:\n",
    "        return f'<p data-html=\"true\" class=\"tooltip\">&#9432;&nbsp;<span class=\"tooltiptext\">{tooltip}</span></p>{name}'\n",
    "    else:\n",
    "        open_tab = 'rel=\"noopener noreferrer\" target=\"_blank\"'#open new tab \n",
    "        return f\"\"\"<p class=\"tooltip\">&#9432;&nbsp;<span class=\"tooltiptext\">{tooltip}&nbsp;<a href=\"{url}\"\\\n",
    "        {open_tab}>More information.</a></span></p>{name}\"\"\""
   ]
  },
  {
   "cell_type": "code",
   "execution_count": null,
   "metadata": {},
   "outputs": [
    {
     "data": {
      "text/html": [
       "<style>\n",
       ".tooltip {\n",
       "  position: relative;\n",
       "  display: inline-block;\n",
       "}\n",
       "\n",
       ".tooltip .tooltiptext {\n",
       "  visibility: hidden;\n",
       "  width: max-content;\n",
       "  max-width: 280px;\n",
       "  background-color: #00bcd4;\n",
       "  text-align: left;\n",
       "  color: white;\n",
       "  border-radius: 4px;\n",
       "  padding: 4px 4px;\n",
       "  border: solid 0px black;\n",
       "  line-height: 1em;\n",
       "\n",
       "  /* Position the tooltip */\n",
       "  position: absolute;\n",
       "  z-index: 1;\n",
       "}\n",
       "\n",
       ".tooltip:hover .tooltiptext {\n",
       "  visibility: visible;\n",
       "}\n",
       "</style>"
      ],
      "text/plain": [
       "<IPython.core.display.HTML object>"
      ]
     },
     "metadata": {},
     "output_type": "display_data"
    }
   ],
   "source": [
    "#export\n",
    "def _connect_to_drive(path=None):\n",
    "    \"Connect to Google Drive and return path\"\n",
    "    path = path or Path('.')\n",
    "    if COLAB: \n",
    "        subprocess.call(['rm', '-rf', '/content/sample_data/'])\n",
    "        with colab.output.temporary(): \n",
    "            con = ask_yes_no(\"Connect to Google Drive?\")\n",
    "        if con:\n",
    "            with colab.output.temporary(): colab.drive.mount('/content/drive/')\n",
    "            path = Path('/content/drive/My Drive')\n",
    "    return path"
   ]
  },
  {
   "cell_type": "code",
   "execution_count": null,
   "metadata": {},
   "outputs": [
    {
     "data": {
      "text/html": [
       "<style>\n",
       ".tooltip {\n",
       "  position: relative;\n",
       "  display: inline-block;\n",
       "}\n",
       "\n",
       ".tooltip .tooltiptext {\n",
       "  visibility: hidden;\n",
       "  width: max-content;\n",
       "  max-width: 280px;\n",
       "  background-color: #00bcd4;\n",
       "  text-align: left;\n",
       "  color: white;\n",
       "  border-radius: 4px;\n",
       "  padding: 4px 4px;\n",
       "  border: solid 0px black;\n",
       "  line-height: 1em;\n",
       "\n",
       "  /* Position the tooltip */\n",
       "  position: absolute;\n",
       "  z-index: 1;\n",
       "}\n",
       "\n",
       ".tooltip:hover .tooltiptext {\n",
       "  visibility: visible;\n",
       "}\n",
       "</style>"
      ],
      "text/plain": [
       "<IPython.core.display.HTML object>"
      ]
     },
     "metadata": {},
     "output_type": "display_data"
    }
   ],
   "source": [
    "#export\n",
    "def _get_model_list(n):\n",
    "    return [\"ensemble\"]+[f'model_{x}' for x in range(1, n+1)]"
   ]
  },
  {
   "cell_type": "markdown",
   "metadata": {},
   "source": [
    "## Widgets"
   ]
  },
  {
   "cell_type": "markdown",
   "metadata": {},
   "source": [
    "### Base Widgets"
   ]
  },
  {
   "cell_type": "code",
   "execution_count": null,
   "metadata": {},
   "outputs": [
    {
     "data": {
      "text/html": [
       "<style>\n",
       ".tooltip {\n",
       "  position: relative;\n",
       "  display: inline-block;\n",
       "}\n",
       "\n",
       ".tooltip .tooltiptext {\n",
       "  visibility: hidden;\n",
       "  width: max-content;\n",
       "  max-width: 280px;\n",
       "  background-color: #00bcd4;\n",
       "  text-align: left;\n",
       "  color: white;\n",
       "  border-radius: 4px;\n",
       "  padding: 4px 4px;\n",
       "  border: solid 0px black;\n",
       "  line-height: 1em;\n",
       "\n",
       "  /* Position the tooltip */\n",
       "  position: absolute;\n",
       "  z-index: 1;\n",
       "}\n",
       "\n",
       ".tooltip:hover .tooltiptext {\n",
       "  visibility: visible;\n",
       "}\n",
       "</style>"
      ],
      "text/plain": [
       "<IPython.core.display.HTML object>"
      ]
     },
     "metadata": {},
     "output_type": "display_data"
    }
   ],
   "source": [
    "#export \n",
    "class ZipUpload():\n",
    "    \"Widgets upload and extract zip files\"\n",
    "    def __init__(self, path=None, layout=None):\n",
    "        self.path = path or Path('.')\n",
    "        layout = layout or w.Layout(width='100%')\n",
    "        self.widget = w.FileUpload(description='Upload .zip', accept='.zip', \n",
    "                                   multiple=True,layout=layout)\n",
    "        self.widget.observe(self.extract_content, 'value')\n",
    "\n",
    "    def extract_content(self, c):\n",
    "        zip_file = self.path/'upload.zip'\n",
    "        for fname in self.widget.value:\n",
    "            content = self.widget.value[fname]['content']\n",
    "            with open(zip_file, 'wb') as f: f.write(content)\n",
    "            unzip(self.path, zip_file)"
   ]
  },
  {
   "cell_type": "code",
   "execution_count": null,
   "metadata": {},
   "outputs": [
    {
     "data": {
      "text/html": [
       "<style>\n",
       ".tooltip {\n",
       "  position: relative;\n",
       "  display: inline-block;\n",
       "}\n",
       "\n",
       ".tooltip .tooltiptext {\n",
       "  visibility: hidden;\n",
       "  width: max-content;\n",
       "  max-width: 280px;\n",
       "  background-color: #00bcd4;\n",
       "  text-align: left;\n",
       "  color: white;\n",
       "  border-radius: 4px;\n",
       "  padding: 4px 4px;\n",
       "  border: solid 0px black;\n",
       "  line-height: 1em;\n",
       "\n",
       "  /* Position the tooltip */\n",
       "  position: absolute;\n",
       "  z-index: 1;\n",
       "}\n",
       "\n",
       ".tooltip:hover .tooltiptext {\n",
       "  visibility: visible;\n",
       "}\n",
       "</style>"
      ],
      "text/plain": [
       "<IPython.core.display.HTML object>"
      ]
     },
     "metadata": {},
     "output_type": "display_data"
    },
    {
     "data": {
      "application/vnd.jupyter.widget-view+json": {
       "model_id": "f61b2fde533245aea0f2128e66244f69",
       "version_major": 2,
       "version_minor": 0
      },
      "text/plain": [
       "FileUpload(value={}, accept='.zip', description='Upload .zip', layout=Layout(width='100%'), multiple=True)"
      ]
     },
     "metadata": {},
     "output_type": "display_data"
    }
   ],
   "source": [
    "t = ZipUpload()\n",
    "t.widget"
   ]
  },
  {
   "cell_type": "code",
   "execution_count": null,
   "metadata": {},
   "outputs": [
    {
     "data": {
      "text/html": [
       "<style>\n",
       ".tooltip {\n",
       "  position: relative;\n",
       "  display: inline-block;\n",
       "}\n",
       "\n",
       ".tooltip .tooltiptext {\n",
       "  visibility: hidden;\n",
       "  width: max-content;\n",
       "  max-width: 280px;\n",
       "  background-color: #00bcd4;\n",
       "  text-align: left;\n",
       "  color: white;\n",
       "  border-radius: 4px;\n",
       "  padding: 4px 4px;\n",
       "  border: solid 0px black;\n",
       "  line-height: 1em;\n",
       "\n",
       "  /* Position the tooltip */\n",
       "  position: absolute;\n",
       "  z-index: 1;\n",
       "}\n",
       "\n",
       ".tooltip:hover .tooltiptext {\n",
       "  visibility: visible;\n",
       "}\n",
       "</style>"
      ],
      "text/plain": [
       "<IPython.core.display.HTML object>"
      ]
     },
     "metadata": {},
     "output_type": "display_data"
    }
   ],
   "source": [
    "#export\n",
    "class ItemsPerPage:\n",
    "    \"Dropdown to show n items per page\"\n",
    "    \n",
    "    def __init__(self, path=None, plot_fn=None, items=dict(), srt=True, srt_by='name', srt_index=0, **kwargs):\n",
    "        \n",
    "        self.path = path or Path('.')\n",
    "        self.plot_fn = plot_fn\n",
    "        self.items = items\n",
    "        self.kwargs = kwargs\n",
    "        self.current_page = 0\n",
    "        \n",
    "        # Widgets and Layout\n",
    "        self.drp = w.Dropdown(options=[1,5,10,20,50,100], layout=w.Layout(width='auto', min_width='1px'))\n",
    "        drp_lbl = w.HTML('&emsp;Items per Page')\n",
    "        self.srt = w.Dropdown(index=srt_index, options=['ascending', 'descending'], layout=w.Layout(width='auto', min_width='1px'))\n",
    "        self.srt.layout.display = \"none\"    \n",
    "        up_right = w.HBox([self.srt, drp_lbl, self.drp])\n",
    "        lyt = w.Layout(width='100px')\n",
    "        self.nxt = w.Button(description='Next', layout=lyt)\n",
    "        self.prv = w.Button(description='Previous', layout=lyt)\n",
    "        self.lbl = w.Label()\n",
    "        self.exp = w.Button(description='Export View', layout=lyt)\n",
    "        up_left = w.HBox([self.prv, self.lbl, self.nxt, self.exp])\n",
    "        up = w.HBox([up_left, up_right], layout=w.Layout(justify_content='space-between')) \n",
    "        self.out = w.Output()\n",
    "        self.widget = w.VBox([up, self.out])\n",
    "        \n",
    "        # Callbacks\n",
    "        self.drp.observe(self.on_value_change, 'value')  \n",
    "        self.nxt.on_click(self.on_button_clicked)  \n",
    "        self.prv.on_click(self.on_button_clicked)  \n",
    "        self.exp.on_click(self.on_export_clicked)  \n",
    "        self.lbl.value = self.page_lbl\n",
    "        self.on_srt_change({'new': self.srt.options[srt_index]})\n",
    "        \n",
    "        if srt: \n",
    "            self.srt.layout.display = \"block\"     \n",
    "            self.srt.observe(self.on_srt_change, 'value')  \n",
    "            self.srt.description= f'Sort by {srt_by}'\n",
    "    \n",
    "    @property\n",
    "    def page_lbl(self):\n",
    "        return f'Page {self.current_page+1} of {self.max_pages}'\n",
    "    \n",
    "    @property\n",
    "    def max_pages(self):\n",
    "        return int(np.ceil(len(self.items)/self.drp.value))\n",
    "    \n",
    "    def on_srt_change(self, change):\n",
    "        reverse = True if change['new']=='descending' else False \n",
    "        self.items = dict(sorted(self.items.items(), key=lambda x: x[1], reverse=reverse))\n",
    "        self.on_button_clicked('')\n",
    "        \n",
    "    def on_value_change(self, change):\n",
    "        self.on_button_clicked('')\n",
    "            \n",
    "    def on_button_clicked(self, b):\n",
    "        if isinstance(b, w.Button):\n",
    "            if all([b.description=='Next', self.current_page<(self.max_pages-1)]):\n",
    "                self.current_page +=1\n",
    "            elif all([b.description=='Previous', self.current_page>0]):\n",
    "                self.current_page -=1         \n",
    "            else: return \n",
    "        slc = slice(self.current_page*self.drp.value,(self.current_page+1)*self.drp.value)    \n",
    "        self.lbl.value = self.page_lbl\n",
    "        with self.out: \n",
    "            self.out.clear_output()\n",
    "            if self.plot_fn: \n",
    "                self.plot_fn(files=list(self.items.keys())[slc], **self.kwargs)   \n",
    "                plt.show()\n",
    "                \n",
    "    def on_export_clicked(self, b):\n",
    "        embed_minimal_html(self.path/'export.html', views=[self.out], title='Output export')\n",
    "        with self.out: print(f'Saved current view to {self.path/\"export.html\"}')\n",
    "        if COLAB: colab.files.download(self.path/'export.html')"
   ]
  },
  {
   "cell_type": "code",
   "execution_count": null,
   "metadata": {},
   "outputs": [
    {
     "data": {
      "text/html": [
       "<style>\n",
       ".tooltip {\n",
       "  position: relative;\n",
       "  display: inline-block;\n",
       "}\n",
       "\n",
       ".tooltip .tooltiptext {\n",
       "  visibility: hidden;\n",
       "  width: max-content;\n",
       "  max-width: 280px;\n",
       "  background-color: #00bcd4;\n",
       "  text-align: left;\n",
       "  color: white;\n",
       "  border-radius: 4px;\n",
       "  padding: 4px 4px;\n",
       "  border: solid 0px black;\n",
       "  line-height: 1em;\n",
       "\n",
       "  /* Position the tooltip */\n",
       "  position: absolute;\n",
       "  z-index: 1;\n",
       "}\n",
       "\n",
       ".tooltip:hover .tooltiptext {\n",
       "  visibility: visible;\n",
       "}\n",
       "</style>"
      ],
      "text/plain": [
       "<IPython.core.display.HTML object>"
      ]
     },
     "metadata": {},
     "output_type": "display_data"
    },
    {
     "data": {
      "application/vnd.jupyter.widget-view+json": {
       "model_id": "12557cf463cd4d0c8aed01dc5089345f",
       "version_major": 2,
       "version_minor": 0
      },
      "text/plain": [
       "VBox(children=(HBox(children=(HBox(children=(Button(description='Previous', layout=Layout(width='100px'), styl…"
      ]
     },
     "metadata": {},
     "output_type": "display_data"
    }
   ],
   "source": [
    "t = ItemsPerPage(srt_index=1)\n",
    "t.widget"
   ]
  },
  {
   "cell_type": "code",
   "execution_count": null,
   "metadata": {},
   "outputs": [
    {
     "data": {
      "text/html": [
       "<style>\n",
       ".tooltip {\n",
       "  position: relative;\n",
       "  display: inline-block;\n",
       "}\n",
       "\n",
       ".tooltip .tooltiptext {\n",
       "  visibility: hidden;\n",
       "  width: max-content;\n",
       "  max-width: 280px;\n",
       "  background-color: #00bcd4;\n",
       "  text-align: left;\n",
       "  color: white;\n",
       "  border-radius: 4px;\n",
       "  padding: 4px 4px;\n",
       "  border: solid 0px black;\n",
       "  line-height: 1em;\n",
       "\n",
       "  /* Position the tooltip */\n",
       "  position: absolute;\n",
       "  z-index: 1;\n",
       "}\n",
       "\n",
       ".tooltip:hover .tooltiptext {\n",
       "  visibility: visible;\n",
       "}\n",
       "</style>"
      ],
      "text/plain": [
       "<IPython.core.display.HTML object>"
      ]
     },
     "metadata": {},
     "output_type": "display_data"
    }
   ],
   "source": [
    "#export\n",
    "class BaseParamWidget:\n",
    "    'Parameter Widget Base Class'\n",
    "     \n",
    "    def __init__(self, config=None):     \n",
    "        config = config or Config()\n",
    "        self.set_config(config)\n",
    "        \n",
    "        for k,v in self.params.items():\n",
    "            setattr(v, 'name', k)\n",
    "            v.observe(self.on_change, 'value')\n",
    "        \n",
    "    def set_config(self, config): \n",
    "        self.config = config\n",
    "        for k,v in self.params.items():\n",
    "            v.value = getattr(config, k)  \n",
    "    \n",
    "    def on_change(self, change):\n",
    "        setattr(self.config, change['owner'].name, change['new'])        \n",
    "        \n",
    "    def on_reset_clicked(self, b):\n",
    "        self.set_config(Config())\n",
    "\n",
    "    def on_close_clicked(self, b):\n",
    "        self.widget.layout.display = \"none\"   "
   ]
  },
  {
   "cell_type": "code",
   "execution_count": null,
   "metadata": {},
   "outputs": [
    {
     "data": {
      "text/html": [
       "<style>\n",
       ".tooltip {\n",
       "  position: relative;\n",
       "  display: inline-block;\n",
       "}\n",
       "\n",
       ".tooltip .tooltiptext {\n",
       "  visibility: hidden;\n",
       "  width: max-content;\n",
       "  max-width: 280px;\n",
       "  background-color: #00bcd4;\n",
       "  text-align: left;\n",
       "  color: white;\n",
       "  border-radius: 4px;\n",
       "  padding: 4px 4px;\n",
       "  border: solid 0px black;\n",
       "  line-height: 1em;\n",
       "\n",
       "  /* Position the tooltip */\n",
       "  position: absolute;\n",
       "  z-index: 1;\n",
       "}\n",
       "\n",
       ".tooltip:hover .tooltiptext {\n",
       "  visibility: visible;\n",
       "}\n",
       "</style>"
      ],
      "text/plain": [
       "<IPython.core.display.HTML object>"
      ]
     },
     "metadata": {},
     "output_type": "display_data"
    }
   ],
   "source": [
    "#export\n",
    "class BaseUI:\n",
    "    'Base UI for different steps'\n",
    "    #_defaults = 'config'\n",
    "    def __init__(self, config=None, path=None):\n",
    "        self.config = config or Config()\n",
    "        self.path = path or Path('.')        \n",
    "        \n",
    "    def hide(self):\n",
    "        self.main_box.layout.display = \"none\" \n",
    "        self.sb_acc.layout.display = \"none\" \n",
    "        \n",
    "    def show(self):\n",
    "        self.main_box.layout.display = \"block\" \n",
    "        self.sb_acc.layout.display = \"block\"  \n",
    "        \n",
    "    def sidebar_change(self, change):\n",
    "        if change['name']=='selected_index':\n",
    "            if change['old'] is not None:\n",
    "                self.main[list(self.sb.keys())[change['old']]].layout.display = \"none\" \n",
    "            if change['new'] is not None:\n",
    "                self.main[list(self.sb.keys())[change['new']]].layout.display = \"block\" "
   ]
  },
  {
   "cell_type": "markdown",
   "metadata": {},
   "source": [
    "#### Path Widgets"
   ]
  },
  {
   "cell_type": "code",
   "execution_count": null,
   "metadata": {},
   "outputs": [
    {
     "data": {
      "text/html": [
       "<style>\n",
       ".tooltip {\n",
       "  position: relative;\n",
       "  display: inline-block;\n",
       "}\n",
       "\n",
       ".tooltip .tooltiptext {\n",
       "  visibility: hidden;\n",
       "  width: max-content;\n",
       "  max-width: 280px;\n",
       "  background-color: #00bcd4;\n",
       "  text-align: left;\n",
       "  color: white;\n",
       "  border-radius: 4px;\n",
       "  padding: 4px 4px;\n",
       "  border: solid 0px black;\n",
       "  line-height: 1em;\n",
       "\n",
       "  /* Position the tooltip */\n",
       "  position: absolute;\n",
       "  z-index: 1;\n",
       "}\n",
       "\n",
       ".tooltip:hover .tooltiptext {\n",
       "  visibility: visible;\n",
       "}\n",
       "</style>"
      ],
      "text/plain": [
       "<IPython.core.display.HTML object>"
      ]
     },
     "metadata": {},
     "output_type": "display_data"
    }
   ],
   "source": [
    "#export\n",
    "# adapted from https://stackoverflow.com/questions/48056345/jupyter-lab-browsing-the-remote-file-system-inside-a-notebook\n",
    "class PathSelector():\n",
    "    \"Widgets to browse and select files or directories\"\n",
    "    def __init__(self,start_dir,select_name='Select',select_file=False,tooltip=None):\n",
    "        self.file        = None \n",
    "        self.select_file = select_file\n",
    "        self.hidden      = True\n",
    "        self.tooltip     = tooltip or 'Click to select directory'\n",
    "        \n",
    "        #Get (and create) dir\n",
    "        path = Path(start_dir).resolve()\n",
    "        path.mkdir(parents=True, exist_ok=True)\n",
    "        self.start_dir, self.cwd, self.path = path, path, path\n",
    "\n",
    "\n",
    "        \n",
    "        #Path Button\n",
    "        self.button      = w.Button(tooltip=self.tooltip, layout=w.Layout(width='auto'))\n",
    "        self.button.on_click(self.on_button_clicked)\n",
    "        \n",
    "        #Save Button\n",
    "        self.button_select = w.Button(description='Save', tooltip='Save Selection', layout=w.Layout(width='auto'))        \n",
    "        self.button_select.on_click(self.on_button_select_clicked)\n",
    "        \n",
    "        #Reset Button\n",
    "        self.button_reset = w.Button(description='Reset', layout=w.Layout(width='auto'))        \n",
    "        self.button_reset.on_click(self.on_button_reset_clicked)\n",
    "        \n",
    "        #Close Button\n",
    "        self.button_close = w.Button(description='Close', layout=w.Layout(width='auto'))        \n",
    "        self.button_close.on_click(self.on_button_close_clicked)\n",
    "        \n",
    "        #SelectMultiple\n",
    "        self.select      = w.SelectMultiple(options=['init'],value=(),rows=10,description='', layout=w.Layout(min_width='50px')) \n",
    "        self.select.observe(self.on_update,'value')\n",
    "        \n",
    "        #Display\n",
    "        self.refresh(self.path)\n",
    "        self.button.description = select_name\n",
    "        self.hide()\n",
    "     \n",
    "        self.dialog = w.VBox([w.HBox([self.button_select, self.button_reset, self.button_close]), \n",
    "                              self.select])\n",
    "        \n",
    "    def show(self):\n",
    "        self.hidden = False\n",
    "        self.button.button_style = \"info\"\n",
    "        self.button_select.layout.display = \"block\"\n",
    "        self.button_close.layout.display = \"block\"\n",
    "        self.button_reset.layout.display = \"block\"\n",
    "        self.select.layout.display = \"block\"    \n",
    "        \n",
    "    def hide(self):\n",
    "        self.hidden = True\n",
    "        self.button.button_style = \"\"\n",
    "        self.button_select.layout.display = \"none\"\n",
    "        self.button_close.layout.display = \"none\"\n",
    "        self.button_reset.layout.display = \"none\"\n",
    "        self.select.layout.display = \"none\"        \n",
    "        \n",
    "    def set_path(self, path):\n",
    "        path = Path(path).resolve()\n",
    "        path.mkdir(parents=True, exist_ok=True)\n",
    "        self.start_dir, self.cwd, self.path = path, path, path\n",
    "        self.refresh('')\n",
    "\n",
    "    def on_button_clicked(self, b):\n",
    "        self.refresh('')\n",
    "        if self.hidden: self.show()\n",
    "        else: self.hide()\n",
    "       \n",
    "    def on_button_select_clicked(self, b):\n",
    "        self.path = self.cwd\n",
    "        self.button.description = f'{self.path.name}'  \n",
    "        self.hide()\n",
    "    \n",
    "    def on_button_reset_clicked(self, b):\n",
    "        self.cwd = self.start_dir\n",
    "        self.refresh('')\n",
    "        \n",
    "    def on_button_close_clicked(self, b):\n",
    "        self.hide()\n",
    "\n",
    "    def on_update(self,change):\n",
    "        if len(change['new']) > 0:\n",
    "            self.refresh(change['new'][0])\n",
    "                 \n",
    "    def refresh(self,item):\n",
    "        path = self.cwd/item\n",
    "\n",
    "        if path.is_file():\n",
    "            if self.select_file:\n",
    "                self.file = path\n",
    "            else:\n",
    "                self.select.value = ()\n",
    "\n",
    "        else: # os.path.isdir(path)\n",
    "            self.file = None \n",
    "            self.cwd  = path.resolve()\n",
    "\n",
    "            # Build list of files and dirs\n",
    "            keys = ['[..]'] if self.cwd != self.start_dir else [] \n",
    "            for item in sorted(path.iterdir()):\n",
    "                if item.is_dir():\n",
    "                    keys.append('['+item.name+']')\n",
    "                else:\n",
    "                    keys.append(item.name)\n",
    "\n",
    "            # Create list of output values\n",
    "            vals = []\n",
    "            for k in keys:\n",
    "                if k[0] == '[':\n",
    "                    vals.append(k[1:-1]) # strip off brackets\n",
    "                else:\n",
    "                    vals.append(k)\n",
    "\n",
    "            # Update widget\n",
    "            self.select.options = list(zip(keys,vals)) \n",
    "            with self.select.hold_trait_notifications():\n",
    "                self.select.value = ()"
   ]
  },
  {
   "cell_type": "code",
   "execution_count": null,
   "metadata": {},
   "outputs": [
    {
     "data": {
      "text/html": [
       "<style>\n",
       ".tooltip {\n",
       "  position: relative;\n",
       "  display: inline-block;\n",
       "}\n",
       "\n",
       ".tooltip .tooltiptext {\n",
       "  visibility: hidden;\n",
       "  width: max-content;\n",
       "  max-width: 280px;\n",
       "  background-color: #00bcd4;\n",
       "  text-align: left;\n",
       "  color: white;\n",
       "  border-radius: 4px;\n",
       "  padding: 4px 4px;\n",
       "  border: solid 0px black;\n",
       "  line-height: 1em;\n",
       "\n",
       "  /* Position the tooltip */\n",
       "  position: absolute;\n",
       "  z-index: 1;\n",
       "}\n",
       "\n",
       ".tooltip:hover .tooltiptext {\n",
       "  visibility: visible;\n",
       "}\n",
       "</style>"
      ],
      "text/plain": [
       "<IPython.core.display.HTML object>"
      ]
     },
     "metadata": {},
     "output_type": "display_data"
    },
    {
     "data": {
      "application/vnd.jupyter.widget-view+json": {
       "model_id": "3473c6272d204e579375e70b1a1f7736",
       "version_major": 2,
       "version_minor": 0
      },
      "text/plain": [
       "Button(description='Select', layout=Layout(width='auto'), style=ButtonStyle(), tooltip='Click to select direct…"
      ]
     },
     "metadata": {},
     "output_type": "display_data"
    },
    {
     "data": {
      "application/vnd.jupyter.widget-view+json": {
       "model_id": "00b1521654c34baa9afe33430e10b7ef",
       "version_major": 2,
       "version_minor": 0
      },
      "text/plain": [
       "VBox(children=(HBox(children=(Button(description='Save', layout=Layout(display='none', width='auto'), style=Bu…"
      ]
     },
     "metadata": {},
     "output_type": "display_data"
    }
   ],
   "source": [
    "t = PathSelector('')\n",
    "display(t.button, t.dialog)"
   ]
  },
  {
   "cell_type": "code",
   "execution_count": null,
   "metadata": {},
   "outputs": [
    {
     "data": {
      "text/html": [
       "<style>\n",
       ".tooltip {\n",
       "  position: relative;\n",
       "  display: inline-block;\n",
       "}\n",
       "\n",
       ".tooltip .tooltiptext {\n",
       "  visibility: hidden;\n",
       "  width: max-content;\n",
       "  max-width: 280px;\n",
       "  background-color: #00bcd4;\n",
       "  text-align: left;\n",
       "  color: white;\n",
       "  border-radius: 4px;\n",
       "  padding: 4px 4px;\n",
       "  border: solid 0px black;\n",
       "  line-height: 1em;\n",
       "\n",
       "  /* Position the tooltip */\n",
       "  position: absolute;\n",
       "  z-index: 1;\n",
       "}\n",
       "\n",
       ".tooltip:hover .tooltiptext {\n",
       "  visibility: visible;\n",
       "}\n",
       "</style>"
      ],
      "text/plain": [
       "<IPython.core.display.HTML object>"
      ]
     },
     "metadata": {},
     "output_type": "display_data"
    }
   ],
   "source": [
    "#export\n",
    "class PathDownloads(PathSelector):\n",
    "    \"Widgets to browse and download files or directories\"\n",
    "    def __init__(self, *args, **kwargs):\n",
    "        super().__init__(*args, **kwargs)\n",
    "         \n",
    "        #Download Button       \n",
    "        if COLAB:\n",
    "            self.button_select.description = 'Download'\n",
    "            self.button_select.tooltip = 'Download entire folder or selected file'\n",
    "        \n",
    "        else:\n",
    "            self.button_select.description = 'Download on Google Colab only'\n",
    "            self.button_select.disabled = True            \n",
    "        \n",
    "    def on_button_select_clicked(self, b):\n",
    "        if not self.file:\n",
    "            shutil.make_archive(self.cwd.name, 'zip', self.cwd)\n",
    "            colab.files.download(f'{self.cwd.name}.zip')\n",
    "        else:\n",
    "            for f in self.select.value:\n",
    "                colab.files.download(self.cwd/f)"
   ]
  },
  {
   "cell_type": "code",
   "execution_count": null,
   "metadata": {},
   "outputs": [
    {
     "data": {
      "text/html": [
       "<style>\n",
       ".tooltip {\n",
       "  position: relative;\n",
       "  display: inline-block;\n",
       "}\n",
       "\n",
       ".tooltip .tooltiptext {\n",
       "  visibility: hidden;\n",
       "  width: max-content;\n",
       "  max-width: 280px;\n",
       "  background-color: #00bcd4;\n",
       "  text-align: left;\n",
       "  color: white;\n",
       "  border-radius: 4px;\n",
       "  padding: 4px 4px;\n",
       "  border: solid 0px black;\n",
       "  line-height: 1em;\n",
       "\n",
       "  /* Position the tooltip */\n",
       "  position: absolute;\n",
       "  z-index: 1;\n",
       "}\n",
       "\n",
       ".tooltip:hover .tooltiptext {\n",
       "  visibility: visible;\n",
       "}\n",
       "</style>"
      ],
      "text/plain": [
       "<IPython.core.display.HTML object>"
      ]
     },
     "metadata": {},
     "output_type": "display_data"
    },
    {
     "data": {
      "application/vnd.jupyter.widget-view+json": {
       "model_id": "284dea117f0e4486abdea70a0a5eb87f",
       "version_major": 2,
       "version_minor": 0
      },
      "text/plain": [
       "Button(description='Select', layout=Layout(width='auto'), style=ButtonStyle(), tooltip='Click to select direct…"
      ]
     },
     "metadata": {},
     "output_type": "display_data"
    },
    {
     "data": {
      "application/vnd.jupyter.widget-view+json": {
       "model_id": "fb8f069ed7bc484083f97601259832af",
       "version_major": 2,
       "version_minor": 0
      },
      "text/plain": [
       "VBox(children=(HBox(children=(Button(description='Download on Google Colab only', disabled=True, layout=Layout…"
      ]
     },
     "metadata": {},
     "output_type": "display_data"
    }
   ],
   "source": [
    "t = PathDownloads('', select_file=True)\n",
    "display(t.button, t.dialog)"
   ]
  },
  {
   "cell_type": "code",
   "execution_count": null,
   "metadata": {},
   "outputs": [
    {
     "data": {
      "text/html": [
       "<style>\n",
       ".tooltip {\n",
       "  position: relative;\n",
       "  display: inline-block;\n",
       "}\n",
       "\n",
       ".tooltip .tooltiptext {\n",
       "  visibility: hidden;\n",
       "  width: max-content;\n",
       "  max-width: 280px;\n",
       "  background-color: #00bcd4;\n",
       "  text-align: left;\n",
       "  color: white;\n",
       "  border-radius: 4px;\n",
       "  padding: 4px 4px;\n",
       "  border: solid 0px black;\n",
       "  line-height: 1em;\n",
       "\n",
       "  /* Position the tooltip */\n",
       "  position: absolute;\n",
       "  z-index: 1;\n",
       "}\n",
       "\n",
       ".tooltip:hover .tooltiptext {\n",
       "  visibility: visible;\n",
       "}\n",
       "</style>"
      ],
      "text/plain": [
       "<IPython.core.display.HTML object>"
      ]
     },
     "metadata": {},
     "output_type": "display_data"
    }
   ],
   "source": [
    "#export\n",
    "class PathConfig(PathSelector):\n",
    "    \"Widgets to browse and and load config file\"\n",
    "    def __init__(self, *args, **kwargs):\n",
    "        super().__init__(*args, **kwargs)\n",
    "         \n",
    "        #Download Button       \n",
    "        self.button_select.description = 'Load'\n",
    "        self.button_select.tooltip = 'Load selected configuration file (.json)'\n",
    "        \n",
    "        #Ouput\n",
    "        self.output = w.Output()\n",
    "        self.dialog = w.VBox([self.dialog,self.output])\n",
    "        \n",
    "    def on_button_select_clicked(self, b):\n",
    "        pass"
   ]
  },
  {
   "cell_type": "code",
   "execution_count": null,
   "metadata": {},
   "outputs": [
    {
     "data": {
      "text/html": [
       "<style>\n",
       ".tooltip {\n",
       "  position: relative;\n",
       "  display: inline-block;\n",
       "}\n",
       "\n",
       ".tooltip .tooltiptext {\n",
       "  visibility: hidden;\n",
       "  width: max-content;\n",
       "  max-width: 280px;\n",
       "  background-color: #00bcd4;\n",
       "  text-align: left;\n",
       "  color: white;\n",
       "  border-radius: 4px;\n",
       "  padding: 4px 4px;\n",
       "  border: solid 0px black;\n",
       "  line-height: 1em;\n",
       "\n",
       "  /* Position the tooltip */\n",
       "  position: absolute;\n",
       "  z-index: 1;\n",
       "}\n",
       "\n",
       ".tooltip:hover .tooltiptext {\n",
       "  visibility: visible;\n",
       "}\n",
       "</style>"
      ],
      "text/plain": [
       "<IPython.core.display.HTML object>"
      ]
     },
     "metadata": {},
     "output_type": "display_data"
    },
    {
     "data": {
      "application/vnd.jupyter.widget-view+json": {
       "model_id": "0a7f2cb6bb4f4e79a08ce6f85a5b2b5f",
       "version_major": 2,
       "version_minor": 0
      },
      "text/plain": [
       "Button(description='Select', layout=Layout(width='auto'), style=ButtonStyle(), tooltip='Click to select direct…"
      ]
     },
     "metadata": {},
     "output_type": "display_data"
    },
    {
     "data": {
      "application/vnd.jupyter.widget-view+json": {
       "model_id": "156c699a978c461ebcc0e957d655eae4",
       "version_major": 2,
       "version_minor": 0
      },
      "text/plain": [
       "VBox(children=(VBox(children=(HBox(children=(Button(description='Load', layout=Layout(display='none', width='a…"
      ]
     },
     "metadata": {},
     "output_type": "display_data"
    }
   ],
   "source": [
    "t = PathConfig('', select_file=True)\n",
    "display(t.button, t.dialog)"
   ]
  },
  {
   "cell_type": "markdown",
   "metadata": {},
   "source": [
    "#### Table Widget"
   ]
  },
  {
   "cell_type": "code",
   "execution_count": null,
   "metadata": {},
   "outputs": [
    {
     "data": {
      "text/html": [
       "<style>\n",
       ".tooltip {\n",
       "  position: relative;\n",
       "  display: inline-block;\n",
       "}\n",
       "\n",
       ".tooltip .tooltiptext {\n",
       "  visibility: hidden;\n",
       "  width: max-content;\n",
       "  max-width: 280px;\n",
       "  background-color: #00bcd4;\n",
       "  text-align: left;\n",
       "  color: white;\n",
       "  border-radius: 4px;\n",
       "  padding: 4px 4px;\n",
       "  border: solid 0px black;\n",
       "  line-height: 1em;\n",
       "\n",
       "  /* Position the tooltip */\n",
       "  position: absolute;\n",
       "  z-index: 1;\n",
       "}\n",
       "\n",
       ".tooltip:hover .tooltiptext {\n",
       "  visibility: visible;\n",
       "}\n",
       "</style>"
      ],
      "text/plain": [
       "<IPython.core.display.HTML object>"
      ]
     },
     "metadata": {},
     "output_type": "display_data"
    }
   ],
   "source": [
    "#export\n",
    "class ResultWidget:\n",
    "    'Widget to show results from panads DataFrames'\n",
    "\n",
    "    def __init__(self):\n",
    "        \n",
    "        #Start Button\n",
    "        tt_start = 'Show results'\n",
    "        self.run = w.Button(description='Update', tooltip=tt_start)\n",
    "\n",
    "        #Close Button\n",
    "        tt_close = 'Close widget'\n",
    "        self.button_close = w.Button(description='Close', tooltip=tt_close)       \n",
    "\n",
    "        #Output\n",
    "        self.output = w.Output()\n",
    "\n",
    "        #Box\n",
    "        self.widget = w.Accordion(children=[w.VBox([w.HBox([self.run, self.button_close]), self.output])])\n",
    "        self.widget.set_title(0, 'Results')\n",
    "        self.widget.layout.display = \"none\"    \n",
    "        self.button_close.on_click(self.on_close_clicked)\n",
    "\n",
    "    def on_close_clicked(self, b):\n",
    "        self.widget.layout.display = \"none\"  "
   ]
  },
  {
   "cell_type": "code",
   "execution_count": null,
   "metadata": {},
   "outputs": [
    {
     "data": {
      "text/html": [
       "<style>\n",
       ".tooltip {\n",
       "  position: relative;\n",
       "  display: inline-block;\n",
       "}\n",
       "\n",
       ".tooltip .tooltiptext {\n",
       "  visibility: hidden;\n",
       "  width: max-content;\n",
       "  max-width: 280px;\n",
       "  background-color: #00bcd4;\n",
       "  text-align: left;\n",
       "  color: white;\n",
       "  border-radius: 4px;\n",
       "  padding: 4px 4px;\n",
       "  border: solid 0px black;\n",
       "  line-height: 1em;\n",
       "\n",
       "  /* Position the tooltip */\n",
       "  position: absolute;\n",
       "  z-index: 1;\n",
       "}\n",
       "\n",
       ".tooltip:hover .tooltiptext {\n",
       "  visibility: visible;\n",
       "}\n",
       "</style>"
      ],
      "text/plain": [
       "<IPython.core.display.HTML object>"
      ]
     },
     "metadata": {},
     "output_type": "display_data"
    },
    {
     "data": {
      "application/vnd.jupyter.widget-view+json": {
       "model_id": "755e4cdbf42b421bbbdd8f04d304d969",
       "version_major": 2,
       "version_minor": 0
      },
      "text/plain": [
       "Accordion(children=(VBox(children=(HBox(children=(Button(description='Update', style=ButtonStyle(), tooltip='S…"
      ]
     },
     "metadata": {},
     "output_type": "display_data"
    }
   ],
   "source": [
    "t = ResultWidget()\n",
    "t.widget.layout.display = \"block\"  \n",
    "t.widget"
   ]
  },
  {
   "cell_type": "markdown",
   "metadata": {},
   "source": [
    "### Grund Truth Estimation Widgets"
   ]
  },
  {
   "cell_type": "markdown",
   "metadata": {},
   "source": [
    "#### Sidebars"
   ]
  },
  {
   "cell_type": "code",
   "execution_count": null,
   "metadata": {},
   "outputs": [
    {
     "data": {
      "text/html": [
       "<style>\n",
       ".tooltip {\n",
       "  position: relative;\n",
       "  display: inline-block;\n",
       "}\n",
       "\n",
       ".tooltip .tooltiptext {\n",
       "  visibility: hidden;\n",
       "  width: max-content;\n",
       "  max-width: 280px;\n",
       "  background-color: #00bcd4;\n",
       "  text-align: left;\n",
       "  color: white;\n",
       "  border-radius: 4px;\n",
       "  padding: 4px 4px;\n",
       "  border: solid 0px black;\n",
       "  line-height: 1em;\n",
       "\n",
       "  /* Position the tooltip */\n",
       "  position: absolute;\n",
       "  z-index: 1;\n",
       "}\n",
       "\n",
       ".tooltip:hover .tooltiptext {\n",
       "  visibility: visible;\n",
       "}\n",
       "</style>"
      ],
      "text/plain": [
       "<IPython.core.display.HTML object>"
      ]
     },
     "metadata": {},
     "output_type": "display_data"
    }
   ],
   "source": [
    "#export\n",
    "_dgt = {\n",
    "    'exp' : ('Expert Masks*', 'The parent folder containing sub-folders with segmentation masks, one folder per expert.', 'https://matjesg.github.io/deepflash2/add_information.html#Ground-Truth-Estimation'),\n",
    "    'instance_labels'  : ('Instance Labels', 'Are you providing instance labels (class-aware and instance-aware)?'),\n",
    "    'up_gt': ('Upload Data', 'Upload a zip file. It will be extracted automatically and must contain sub-folders with segmentation masks, one folder per expert.'),\n",
    "    'sd'  : ('Sample Data', 'Sample data for demonstration and testing.'),\n",
    "    'staple': (\"STAPLE\", \"Simultaneous truth and performance level estimation (STAPLE)\", \"https://pubmed.ncbi.nlm.nih.gov/15250643/\"),\n",
    "    'mv'  :(\"Majority Voting\", \"Pixelwise majority voting to obtain the reference segmentation.\", \"https://simpleitk.org/doxygen/latest/html/classitk_1_1simple_1_1LabelVotingImageFilter.html\"),\n",
    "    'instance_segmentation_metrics': (\"Instance Metrics\", \"Compute instance segmentation metrics: mean Average Precision (mAP) and Average Precsion (AP) at IoU 0.5.\", \"https://cellpose.readthedocs.io/en/latest/api.html#cellpose.metrics.average_precision\"),\n",
    "    'majority_vote_undec': (\"MV undecided\", \"If majority voting is undecided, set pixels to this class label.\", \"https://simpleitk.org/doxygen/latest/html/classitk_1_1simple_1_1LabelVotingImageFilter.html\"),\n",
    "}"
   ]
  },
  {
   "cell_type": "code",
   "execution_count": null,
   "metadata": {},
   "outputs": [
    {
     "data": {
      "text/html": [
       "<style>\n",
       ".tooltip {\n",
       "  position: relative;\n",
       "  display: inline-block;\n",
       "}\n",
       "\n",
       ".tooltip .tooltiptext {\n",
       "  visibility: hidden;\n",
       "  width: max-content;\n",
       "  max-width: 280px;\n",
       "  background-color: #00bcd4;\n",
       "  text-align: left;\n",
       "  color: white;\n",
       "  border-radius: 4px;\n",
       "  padding: 4px 4px;\n",
       "  border: solid 0px black;\n",
       "  line-height: 1em;\n",
       "\n",
       "  /* Position the tooltip */\n",
       "  position: absolute;\n",
       "  z-index: 1;\n",
       "}\n",
       "\n",
       ".tooltip:hover .tooltiptext {\n",
       "  visibility: visible;\n",
       "}\n",
       "</style>"
      ],
      "text/plain": [
       "<IPython.core.display.HTML object>"
      ]
     },
     "metadata": {},
     "output_type": "display_data"
    }
   ],
   "source": [
    "#export\n",
    "class GTDataSB(BaseParamWidget, GetAttr):\n",
    "    'Layout for Grund Truth Estimation \"Data\" Section'\n",
    "    _default = 'config'\n",
    "    \n",
    "    #Hints\n",
    "    txt = 'Provide binary masks or masks with instance labels'\n",
    "    hints = w.Label(txt)\n",
    "    \n",
    "    params = {\n",
    "        'instance_labels':w.ToggleButtons(options=[('Yes', True), ('No', False)],tooltips=\n",
    "                                          ['You are providing instance labels (class-aware and instance-aware)',\n",
    "                                           'You are not providing only class-aware labels']),\n",
    "    }\n",
    "    params['instance_labels'].style.button_width = '50px' \n",
    "    #Grid\n",
    "    grid = w.GridspecLayout(6, GRID_COLS, width='100%',  grid_gap=\"0px\", align_items='center')\n",
    "    grid[0, 0] = w.HTML(_html_wrap(*_dgt['exp']))\n",
    "    grid[1, 0] = w.HTML(_html_wrap(*_dgt['instance_labels']))\n",
    "    grid[1, 1:]= params['instance_labels']\n",
    "    grid[3, :] = w.HTML('<hr>')\n",
    "    grid[4, 0] = w.HTML(_html_wrap(*_dgt['up_gt']))\n",
    "    grid[5, 0] = w.HTML(_html_wrap(*_dgt['sd']))\n",
    "    \n",
    "    #Data Upload\n",
    "    sd = w.Button(description='Load Sample Data',layout=w.Layout(width='auto'),tooltip='Click to download sample data') \n",
    "    grid[5, 1:] = sd\n",
    "    \n",
    "    #Load Data\n",
    "    run = w.Button(description='Load Data*', layout=w.Layout(width='auto'))\n",
    "    grid[2, 1:] = run\n",
    "        \n",
    "    #Final Widget\n",
    "    widget = w.VBox([hints, grid])\n",
    "    \n",
    "    def __init__(self, path=None, **kwargs):\n",
    "        super().__init__(**kwargs)\n",
    "        path = path or Path('.') \n",
    "        self.msk  = PathSelector(path, 'Select Parent Folder')\n",
    "        self.grid[0, 1:] = self.msk.button\n",
    "        self.du =  ZipUpload(path)\n",
    "        self.grid[4, 1:] = self.du.widget"
   ]
  },
  {
   "cell_type": "code",
   "execution_count": null,
   "metadata": {},
   "outputs": [
    {
     "data": {
      "text/html": [
       "<style>\n",
       ".tooltip {\n",
       "  position: relative;\n",
       "  display: inline-block;\n",
       "}\n",
       "\n",
       ".tooltip .tooltiptext {\n",
       "  visibility: hidden;\n",
       "  width: max-content;\n",
       "  max-width: 280px;\n",
       "  background-color: #00bcd4;\n",
       "  text-align: left;\n",
       "  color: white;\n",
       "  border-radius: 4px;\n",
       "  padding: 4px 4px;\n",
       "  border: solid 0px black;\n",
       "  line-height: 1em;\n",
       "\n",
       "  /* Position the tooltip */\n",
       "  position: absolute;\n",
       "  z-index: 1;\n",
       "}\n",
       "\n",
       ".tooltip:hover .tooltiptext {\n",
       "  visibility: visible;\n",
       "}\n",
       "</style>"
      ],
      "text/plain": [
       "<IPython.core.display.HTML object>"
      ]
     },
     "metadata": {},
     "output_type": "display_data"
    },
    {
     "data": {
      "application/vnd.jupyter.widget-view+json": {
       "model_id": "9c01fd6c13eb4c13af689932df90b43c",
       "version_major": 2,
       "version_minor": 0
      },
      "text/plain": [
       "VBox(children=(Label(value='Provide binary masks or masks with instance labels'), GridspecLayout(children=(HTM…"
      ]
     },
     "metadata": {},
     "output_type": "display_data"
    }
   ],
   "source": [
    "t=GTDataSB()\n",
    "t.widget"
   ]
  },
  {
   "cell_type": "code",
   "execution_count": null,
   "metadata": {},
   "outputs": [
    {
     "data": {
      "text/html": [
       "<style>\n",
       ".tooltip {\n",
       "  position: relative;\n",
       "  display: inline-block;\n",
       "}\n",
       "\n",
       ".tooltip .tooltiptext {\n",
       "  visibility: hidden;\n",
       "  width: max-content;\n",
       "  max-width: 280px;\n",
       "  background-color: #00bcd4;\n",
       "  text-align: left;\n",
       "  color: white;\n",
       "  border-radius: 4px;\n",
       "  padding: 4px 4px;\n",
       "  border: solid 0px black;\n",
       "  line-height: 1em;\n",
       "\n",
       "  /* Position the tooltip */\n",
       "  position: absolute;\n",
       "  z-index: 1;\n",
       "}\n",
       "\n",
       ".tooltip:hover .tooltiptext {\n",
       "  visibility: visible;\n",
       "}\n",
       "</style>"
      ],
      "text/plain": [
       "<IPython.core.display.HTML object>"
      ]
     },
     "metadata": {},
     "output_type": "display_data"
    }
   ],
   "source": [
    "#export\n",
    "class GTEstSB(BaseParamWidget, GetAttr):\n",
    "    'Layout for Grund Truth Estimation \"Data\" Section'\n",
    "    _default = 'config'\n",
    "    \n",
    "    #Hints\n",
    "    txt = 'Select algorithm for ground truth estimation'\n",
    "    hints = w.HTML(txt)\n",
    "    \n",
    "    params = {\n",
    "        'majority_vote_undec': w.IntText(layout= w.Layout(width='auto')),\n",
    "        'instance_segmentation_metrics':w.ToggleButtons(options=[('Yes', True), ('No', False)]),\n",
    "    }\n",
    "    params['instance_segmentation_metrics'].style.button_width = '50px' \n",
    "    grid = w.GridspecLayout(7, GRID_COLS, width='100%',  grid_gap=\"0px\", align_items='center')\n",
    "    \n",
    "    #Labels\n",
    "    grid[0, 0] = w.HTML(_html_wrap(*_dgt['staple']))\n",
    "    grid[1, 0] = w.HTML(_html_wrap(*_dgt['mv']))\n",
    "    grid[2, :] = w.HTML('<hr>')\n",
    "    grid[3, 1:]= params['instance_segmentation_metrics']\n",
    "    grid[3, 0] = w.HTML(_html_wrap(*_dgt['instance_segmentation_metrics']))\n",
    "    grid[4, 1:]= params['majority_vote_undec']\n",
    "    grid[4, 0] = w.HTML(_html_wrap(*_dgt['majority_vote_undec']))\n",
    "    grid[5, 0] = w.HTML('Results Table')\n",
    "    grid[6, 0] = w.HTML('Downloads')\n",
    "    \n",
    "    #Run Staple\n",
    "    staple = w.Button(description='Run', layout=w.Layout(width='auto'),\n",
    "                      tooltip='Run simultaneous truth and performance level estimation')\n",
    "    setattr(staple, 'name', 'STAPLE')\n",
    "    grid[0, 1:] = staple\n",
    "    \n",
    "    #Run MV\n",
    "    mv = w.Button(description='Run', layout=w.Layout(width='auto'),\n",
    "                  tooltip='Run Majority Voting')\n",
    "    setattr(mv, 'name', 'majority_voting')\n",
    "    grid[1, 1:] = mv\n",
    "    \n",
    "    # Result Widget\n",
    "    open_results = w.Button(description='Open', layout=w.Layout(width='auto'))\n",
    "    grid[5, 1:] = open_results\n",
    "    \n",
    "    #Final Widget\n",
    "    widget = w.VBox([hints,grid])\n",
    "    \n",
    "    def __init__(self, path=None, **kwargs):\n",
    "        super().__init__(**kwargs)\n",
    "        path = path or Path('.') \n",
    "        self.down  = PathDownloads(path, 'Select', tooltip='Click to download file or directory')\n",
    "        self.grid[6, 1:] = self.down.button    "
   ]
  },
  {
   "cell_type": "code",
   "execution_count": null,
   "metadata": {},
   "outputs": [
    {
     "data": {
      "text/html": [
       "<style>\n",
       ".tooltip {\n",
       "  position: relative;\n",
       "  display: inline-block;\n",
       "}\n",
       "\n",
       ".tooltip .tooltiptext {\n",
       "  visibility: hidden;\n",
       "  width: max-content;\n",
       "  max-width: 280px;\n",
       "  background-color: #00bcd4;\n",
       "  text-align: left;\n",
       "  color: white;\n",
       "  border-radius: 4px;\n",
       "  padding: 4px 4px;\n",
       "  border: solid 0px black;\n",
       "  line-height: 1em;\n",
       "\n",
       "  /* Position the tooltip */\n",
       "  position: absolute;\n",
       "  z-index: 1;\n",
       "}\n",
       "\n",
       ".tooltip:hover .tooltiptext {\n",
       "  visibility: visible;\n",
       "}\n",
       "</style>"
      ],
      "text/plain": [
       "<IPython.core.display.HTML object>"
      ]
     },
     "metadata": {},
     "output_type": "display_data"
    },
    {
     "data": {
      "application/vnd.jupyter.widget-view+json": {
       "model_id": "4ec49d3ad05c404488d7dfcfbdca530f",
       "version_major": 2,
       "version_minor": 0
      },
      "text/plain": [
       "VBox(children=(HTML(value='Select algorithm for ground truth estimation'), GridspecLayout(children=(HTML(value…"
      ]
     },
     "metadata": {},
     "output_type": "display_data"
    }
   ],
   "source": [
    "t=GTEstSB()\n",
    "t.widget"
   ]
  },
  {
   "cell_type": "markdown",
   "metadata": {},
   "source": [
    "#### Grund Truth Estimation UI"
   ]
  },
  {
   "cell_type": "code",
   "execution_count": null,
   "metadata": {},
   "outputs": [
    {
     "data": {
      "text/html": [
       "<style>\n",
       ".tooltip {\n",
       "  position: relative;\n",
       "  display: inline-block;\n",
       "}\n",
       "\n",
       ".tooltip .tooltiptext {\n",
       "  visibility: hidden;\n",
       "  width: max-content;\n",
       "  max-width: 280px;\n",
       "  background-color: #00bcd4;\n",
       "  text-align: left;\n",
       "  color: white;\n",
       "  border-radius: 4px;\n",
       "  padding: 4px 4px;\n",
       "  border: solid 0px black;\n",
       "  line-height: 1em;\n",
       "\n",
       "  /* Position the tooltip */\n",
       "  position: absolute;\n",
       "  z-index: 1;\n",
       "}\n",
       "\n",
       ".tooltip:hover .tooltiptext {\n",
       "  visibility: visible;\n",
       "}\n",
       "</style>"
      ],
      "text/plain": [
       "<IPython.core.display.HTML object>"
      ]
     },
     "metadata": {},
     "output_type": "display_data"
    }
   ],
   "source": [
    "#export\n",
    "class GTEstUI(BaseUI):\n",
    "    'UI for ground truth estimation'\n",
    "    \n",
    "    sections = ['1 - Expert Segmentations', '2 - Ground Truth Estimation', '3 - Intercoder Reliability']\n",
    "    \n",
    "    def __init__(self, hide=False, **kwargs):\n",
    "        super().__init__(**kwargs)\n",
    "        \n",
    "        #Sidebar\n",
    "        self.sb = {\n",
    "            'data':GTDataSB(self.path, config=self.config),\n",
    "            'gt':GTEstSB(self.path, config=self.config)\n",
    "        }      \n",
    "                    \n",
    "        #Sidebar Accordion\n",
    "        self.sb_acc = w.Accordion(children=[x.widget for x in self.sb.values()], layout=w.Layout(grid_area='sidebar'))       \n",
    "        for i, name in enumerate(self.sections):\n",
    "            self.sb_acc.set_title(i, name)\n",
    "        self.sb_acc.observe(self.sidebar_change)  \n",
    "        \n",
    "        self.sb['gt'].open_results.on_click(self.open_results)   \n",
    "        \n",
    "        #Extra \n",
    "        self.xtr = {\n",
    "            'result':ResultWidget()\n",
    "        }\n",
    "        \n",
    "        #Main\n",
    "        self.main = {\n",
    "            'msk':self.sb['data'].msk.dialog, \n",
    "            'gt_down':self.sb['gt'].down.dialog, \n",
    "            'result':self.xtr['result'].widget,\n",
    "             **{k:w.Output() for k in self.sb.keys()}\n",
    "        }\n",
    "        self.main_box = w.VBox(list(self.main.values()))\n",
    "        \n",
    "        if hide: self.hide()         \n",
    "            \n",
    "    def open_results(self, b):\n",
    "        self.main['result'].layout.display = \"block\"    "
   ]
  },
  {
   "cell_type": "code",
   "execution_count": null,
   "metadata": {},
   "outputs": [
    {
     "data": {
      "text/html": [
       "<style>\n",
       ".tooltip {\n",
       "  position: relative;\n",
       "  display: inline-block;\n",
       "}\n",
       "\n",
       ".tooltip .tooltiptext {\n",
       "  visibility: hidden;\n",
       "  width: max-content;\n",
       "  max-width: 280px;\n",
       "  background-color: #00bcd4;\n",
       "  text-align: left;\n",
       "  color: white;\n",
       "  border-radius: 4px;\n",
       "  padding: 4px 4px;\n",
       "  border: solid 0px black;\n",
       "  line-height: 1em;\n",
       "\n",
       "  /* Position the tooltip */\n",
       "  position: absolute;\n",
       "  z-index: 1;\n",
       "}\n",
       "\n",
       ".tooltip:hover .tooltiptext {\n",
       "  visibility: visible;\n",
       "}\n",
       "</style>"
      ],
      "text/plain": [
       "<IPython.core.display.HTML object>"
      ]
     },
     "metadata": {},
     "output_type": "display_data"
    },
    {
     "data": {
      "application/vnd.jupyter.widget-view+json": {
       "model_id": "bf4f03758ddc45b19bedb1ea17e6b994",
       "version_major": 2,
       "version_minor": 0
      },
      "text/plain": [
       "Accordion(children=(VBox(children=(Label(value='Provide binary masks or masks with instance labels'), Gridspec…"
      ]
     },
     "metadata": {},
     "output_type": "display_data"
    }
   ],
   "source": [
    "t=GTEstUI()\n",
    "t.sb_acc"
   ]
  },
  {
   "cell_type": "markdown",
   "metadata": {},
   "source": [
    "### Train Widgets"
   ]
  },
  {
   "cell_type": "markdown",
   "metadata": {},
   "source": [
    "#### Sidebars"
   ]
  },
  {
   "cell_type": "code",
   "execution_count": null,
   "metadata": {},
   "outputs": [
    {
     "data": {
      "text/html": [
       "<style>\n",
       ".tooltip {\n",
       "  position: relative;\n",
       "  display: inline-block;\n",
       "}\n",
       "\n",
       ".tooltip .tooltiptext {\n",
       "  visibility: hidden;\n",
       "  width: max-content;\n",
       "  max-width: 280px;\n",
       "  background-color: #00bcd4;\n",
       "  text-align: left;\n",
       "  color: white;\n",
       "  border-radius: 4px;\n",
       "  padding: 4px 4px;\n",
       "  border: solid 0px black;\n",
       "  line-height: 1em;\n",
       "\n",
       "  /* Position the tooltip */\n",
       "  position: absolute;\n",
       "  z-index: 1;\n",
       "}\n",
       "\n",
       ".tooltip:hover .tooltiptext {\n",
       "  visibility: visible;\n",
       "}\n",
       "</style>"
      ],
      "text/plain": [
       "<IPython.core.display.HTML object>"
      ]
     },
     "metadata": {},
     "output_type": "display_data"
    }
   ],
   "source": [
    "#export\n",
    "_dtrain = {\n",
    "    'img' : ('Image Folder*', 'One folder containing all training images.', 'https://matjesg.github.io/deepflash2/add_information.html#Training'),\n",
    "    'msk' : ('Mask Folder*', 'One folder containing all segmentation masks. We highly recommend using ground truth estimation from multiple experts.'),\n",
    "    'n_classes': ('No. of Classes', 'Number of classes: e.g., 2 for binary segmentation (foreground and background class).'),\n",
    "    'instance_labels'  : ('Instance Labels', 'Are you providing instance labels (class-aware and instance-aware)?'),\n",
    "    'up'  : ('Upload Data', 'Upload a zip file. It will be extracted automatically and must contain the correct folder structure.', 'https://matjesg.github.io/deepflash2/add_information.html#Training'),\n",
    "    'sd'  : ('Sample Data', 'Get sample data for demonstration and testing.'),\n",
    "    'pretrained': ('Pretrained*', 'Select pretrained weights from the model libray or \"new\" to use an untrained model (random initialization).', 'https://matjesg.github.io/deepflash2/model_library.html'),\n",
    "    'n_models'   : ('No. of Models', \"Number of models within an ensemble; If you're experimenting with parameters, try only one model first; Depending on the data, ensembles should at least comprise 3-5 models\"),\n",
    "    's'   : ('Select', 'Train all models (ensemble) or (re-)train specific model.'),\n",
    "    #'n_iter': ('Train Iterations', 'How many times a single model is trained on a mini-batch of the training data.', 'https://matjesg.github.io/deepflash2/add_information.html#Training-Epochs-and-Iterations'),\n",
    "    #'base_lr': ('Learning Rate', '''Base learning rate for fine-tuning the model. The learning rate controls how quickly or slowly a neural network model learns. &#013; - Best learning rate depend on your data and other settings, e.g., the optimize \\n - Use the learning rate finder to find the best learning rate for your dataset''', 'https://docs.fast.ai/callback.schedule.html#Learner.fine_tune'),\n",
    "    'lrf' : ('LR Finder', 'Click Open to get more information.'),\n",
    "    'mw'  : ('Loss Function', 'Click \"Customize\" to get more information.'),\n",
    "    'ts'  : ('Train Settings', 'Click \"Customize\" to get more information.'),\n",
    "    'cfg_load' : ('Configuration', 'Select configuration file (.json) from previous experiments.'),\n",
    "    'cfg_save' : ('Configuration', 'Save current configuration to file (.json).'),\n",
    "    'tta' : ('Use TTA', 'Enable test-time augmentation for prediction (more reliable and accurate, but slow).'),\n",
    "    's_val': ('Select', 'Select model for validation. Select \"Ensemble\" to validate all models.'),\n",
    "    'mdl' : ('Model Folder', '(Optional) One folder containing the all models of the ensemble. If not selected, latest models from Training will be selected.'),\n",
    "    #'ood' : ('OOD Detection', '(Optional) For inference/prediction: Train a support-vector machine (SVM) for the detection of out-of-distribution (OOD) or anomalous data.'),\n",
    "    'cache'  : ('Clear Cache', 'Delete cached files used for validation and visualization. This will not affect the final results.'),\n",
    "}"
   ]
  },
  {
   "cell_type": "code",
   "execution_count": null,
   "metadata": {},
   "outputs": [
    {
     "data": {
      "text/html": [
       "<style>\n",
       ".tooltip {\n",
       "  position: relative;\n",
       "  display: inline-block;\n",
       "}\n",
       "\n",
       ".tooltip .tooltiptext {\n",
       "  visibility: hidden;\n",
       "  width: max-content;\n",
       "  max-width: 280px;\n",
       "  background-color: #00bcd4;\n",
       "  text-align: left;\n",
       "  color: white;\n",
       "  border-radius: 4px;\n",
       "  padding: 4px 4px;\n",
       "  border: solid 0px black;\n",
       "  line-height: 1em;\n",
       "\n",
       "  /* Position the tooltip */\n",
       "  position: absolute;\n",
       "  z-index: 1;\n",
       "}\n",
       "\n",
       ".tooltip:hover .tooltiptext {\n",
       "  visibility: visible;\n",
       "}\n",
       "</style>"
      ],
      "text/plain": [
       "<IPython.core.display.HTML object>"
      ]
     },
     "metadata": {},
     "output_type": "display_data"
    }
   ],
   "source": [
    "#export\n",
    "class TrainDataSB(BaseParamWidget, GetAttr):\n",
    "    'Layout for \"Training Data\" Section'\n",
    "    _default = 'config'\n",
    "    \n",
    "    #Hints\n",
    "    txt = 'Provide training images and segmentation masks'\n",
    "    hints = w.Label(txt)\n",
    "    \n",
    "    params = {\n",
    "        'n_classes': w.IntSlider(value=2, min=2, max=10, step=1, layout=w.Layout(width='auto', min_width='1px')),\n",
    "        'instance_labels':w.ToggleButtons(options=[('Yes', True), ('No', False)],tooltips=['You are providing instance labels (class-aware and instance-aware)',\n",
    "                                                                               'You are not providing only class-aware labels']),\n",
    "    }\n",
    " \n",
    "    params['instance_labels'].style.button_width = '50px' \n",
    "    grid = w.GridspecLayout(9, GRID_COLS, width='100%',  grid_gap=\"0px\", align_items='center')\n",
    "    \n",
    "    #Labels\n",
    "    grid[0, 0] = w.HTML(_html_wrap(*_dtrain['img']))\n",
    "    grid[1, 0] = w.HTML(_html_wrap(*_dtrain['msk']))\n",
    "    grid[2, 0] = w.HTML(_html_wrap(*_dtrain['n_classes']))\n",
    "    grid[2, 1:]= params['n_classes']\n",
    "    grid[3, 0] = w.HTML(_html_wrap(*_dtrain['instance_labels']))\n",
    "    grid[3, 1:]= params['instance_labels']\n",
    "    grid[5, :] = w.HTML('<hr>')\n",
    "    grid[6, 0] = w.HTML(_html_wrap(*_dtrain['up']))\n",
    "    grid[7, 0] = w.HTML(_html_wrap(*_dtrain['sd']))\n",
    "    grid[8,0] = w.HTML(_html_wrap(*_dtrain['cfg_load']))\n",
    "    \n",
    "    sd = w.Button(description='Load Sample Data',layout=w.Layout(width='auto'), tooltip='Click to download sample data')\n",
    "    grid[7, 1:] = sd\n",
    "       \n",
    "    #Load Data\n",
    "    run = w.Button(description='Load Data*', layout=w.Layout(width='auto', min_width='1px'))\n",
    "    grid[4, 1:] = run\n",
    "    \n",
    "    #Final Widget\n",
    "    widget = w.VBox([hints,grid])\n",
    "    \n",
    "    def __init__(self, path=None, **kwargs):\n",
    "        super().__init__(**kwargs)     \n",
    "        path = path or Path('.') \n",
    "        self.img  = PathSelector(path, 'Select')\n",
    "        self.grid[0, 1:] = self.img.button\n",
    "        self.msk  = PathSelector(path, 'Select')\n",
    "        self.grid[1, 1:] = self.msk.button\n",
    "        #Load Config\n",
    "        self.cfg = PathConfig(path, 'Select Config File', select_file=True)\n",
    "        self.grid[8, 1:] = self.cfg.button\n",
    "        #Data Upload\n",
    "        self.du =  ZipUpload(path)\n",
    "        self.grid[6, 1:] = self.du.widget"
   ]
  },
  {
   "cell_type": "code",
   "execution_count": null,
   "metadata": {},
   "outputs": [
    {
     "data": {
      "text/html": [
       "<style>\n",
       ".tooltip {\n",
       "  position: relative;\n",
       "  display: inline-block;\n",
       "}\n",
       "\n",
       ".tooltip .tooltiptext {\n",
       "  visibility: hidden;\n",
       "  width: max-content;\n",
       "  max-width: 280px;\n",
       "  background-color: #00bcd4;\n",
       "  text-align: left;\n",
       "  color: white;\n",
       "  border-radius: 4px;\n",
       "  padding: 4px 4px;\n",
       "  border: solid 0px black;\n",
       "  line-height: 1em;\n",
       "\n",
       "  /* Position the tooltip */\n",
       "  position: absolute;\n",
       "  z-index: 1;\n",
       "}\n",
       "\n",
       ".tooltip:hover .tooltiptext {\n",
       "  visibility: visible;\n",
       "}\n",
       "</style>"
      ],
      "text/plain": [
       "<IPython.core.display.HTML object>"
      ]
     },
     "metadata": {},
     "output_type": "display_data"
    },
    {
     "data": {
      "application/vnd.jupyter.widget-view+json": {
       "model_id": "247c654738504930b5c42d84146995ea",
       "version_major": 2,
       "version_minor": 0
      },
      "text/plain": [
       "VBox(children=(Label(value='Provide training images and segmentation masks'), GridspecLayout(children=(HTML(va…"
      ]
     },
     "metadata": {},
     "output_type": "display_data"
    }
   ],
   "source": [
    "t=TrainDataSB('')\n",
    "t.widget"
   ]
  },
  {
   "cell_type": "code",
   "execution_count": null,
   "metadata": {},
   "outputs": [
    {
     "data": {
      "text/html": [
       "<style>\n",
       ".tooltip {\n",
       "  position: relative;\n",
       "  display: inline-block;\n",
       "}\n",
       "\n",
       ".tooltip .tooltiptext {\n",
       "  visibility: hidden;\n",
       "  width: max-content;\n",
       "  max-width: 280px;\n",
       "  background-color: #00bcd4;\n",
       "  text-align: left;\n",
       "  color: white;\n",
       "  border-radius: 4px;\n",
       "  padding: 4px 4px;\n",
       "  border: solid 0px black;\n",
       "  line-height: 1em;\n",
       "\n",
       "  /* Position the tooltip */\n",
       "  position: absolute;\n",
       "  z-index: 1;\n",
       "}\n",
       "\n",
       ".tooltip:hover .tooltiptext {\n",
       "  visibility: visible;\n",
       "}\n",
       "</style>"
      ],
      "text/plain": [
       "<IPython.core.display.HTML object>"
      ]
     },
     "metadata": {},
     "output_type": "display_data"
    }
   ],
   "source": [
    "#export\n",
    "class TrainModelSB(BaseParamWidget, GetAttr):\n",
    "    'Layout for \"Ensemble Training\"'\n",
    "    _default = 'config'\n",
    "    \n",
    "    #Hints\n",
    "    txt = 'Train Model Ensemble'\n",
    "    hints = w.Label(txt)\n",
    "\n",
    "    params = {\n",
    "        #'pretrained': w.Dropdown(options=_pretrained, continuous_update=True, layout=w.Layout(width='auto', min_width='1px')),\n",
    "        'n_models': w.IntSlider(min=1, max=5, step=1, continuous_update=True, orientation='horizontal', layout=w.Layout(width='auto', min_width='1px')),\n",
    "        #'n_iter':w.IntSlider(min=100, max=1e4, step=100, continuous_update=True,orientation='horizontal', layout=w.Layout(width='auto', min_width='1px')),\n",
    "        #'base_lr': w.FloatText(description='', layout=w.Layout(width='auto', min_width='1px'))\n",
    "    }\n",
    "\n",
    "    sel = w.Dropdown(options=[],continuous_update=True, layout=w.Layout(width='auto', min_width='1px'))\n",
    "    \n",
    "    #Grid\n",
    "    grid = w.GridspecLayout(8, GRID_COLS, width='100%',  grid_gap=\"0px\", align_items='center')\n",
    "    #grid[0, 0] = w.Label('Model Arch')\n",
    "    #grid[0, 0] = w.HTML(_html_wrap(*_dtrain['pretrained']))\n",
    "    #grid[0, 1:]= params['pretrained']\n",
    "    grid[0, 0] = w.HTML(_html_wrap(*_dtrain['n_models']))\n",
    "    grid[0, 1:]= params['n_models']\n",
    "    #grid[1, 0] = w.HTML(_html_wrap(*_dtrain['n_iter']))\n",
    "    #grid[1, 1:]= params['n_iter']\n",
    "    grid[1, 0] = w.HTML(_html_wrap(*_dtrain['s']))\n",
    "    grid[1, 1:]= sel\n",
    "    #grid[4, 0] = w.Label('MAY TAKE SOME HOURS')\n",
    "    grid[3, :] = w.HTML('<hr>')\n",
    "    #grid[5, 0] = w.HTML(_html_wrap(*_dtrain['base_lr']))\n",
    "    #grid[5, 1:]= params['base_lr']\n",
    "    grid[4, 0] = w.HTML(_html_wrap(*_dtrain['mw']))\n",
    "    grid[5, 0] = w.HTML(_html_wrap(*_dtrain['ts']))\n",
    "    grid[6, 0] = w.HTML(_html_wrap(*_dtrain['lrf']))\n",
    "    grid[7, 0] = w.HTML(_html_wrap(*_dtrain['cfg_save']))\n",
    "           \n",
    "    #Run\n",
    "    run = w.Button(description='Start Training', layout=w.Layout(width='auto'))\n",
    "    grid[2, 1:] = run\n",
    "\n",
    "    #Custom Loss\n",
    "    open_mw = w.Button(description='Customize', layout=w.Layout(width='auto'))\n",
    "    grid[4, 1:] = open_mw\n",
    "\n",
    "    #Custom Train Settings\n",
    "    open_par = w.Button(description='Customize', layout=w.Layout(width='auto'))\n",
    "    grid[5, 1:] = open_par\n",
    "    \n",
    "    #Custom LR Finder\n",
    "    open_lrfinder = w.Button(description='Open', layout=w.Layout(width='auto'))\n",
    "    grid[6, 1:] = open_lrfinder\n",
    "    \n",
    "    # Save config\n",
    "    cfg_save = w.Button(description='Save Config', layout=w.Layout(width='auto'))\n",
    "    grid[7, 1:] = cfg_save\n",
    "    \n",
    "    #Final Widget\n",
    "    widget = w.VBox([hints,grid])\n",
    "\n",
    "    def __init__(self, **kwargs):\n",
    "        super().__init__(**kwargs)       \n",
    "        self.sel.options = _get_model_list(self.config.n_models)\n",
    "        self.params['n_models'].observe(self.sel_update, 'value')\n",
    "\n",
    "    def sel_update(self, change):\n",
    "        self.sel.options = _get_model_list(change['new'])"
   ]
  },
  {
   "cell_type": "code",
   "execution_count": null,
   "metadata": {},
   "outputs": [
    {
     "data": {
      "text/html": [
       "<style>\n",
       ".tooltip {\n",
       "  position: relative;\n",
       "  display: inline-block;\n",
       "}\n",
       "\n",
       ".tooltip .tooltiptext {\n",
       "  visibility: hidden;\n",
       "  width: max-content;\n",
       "  max-width: 280px;\n",
       "  background-color: #00bcd4;\n",
       "  text-align: left;\n",
       "  color: white;\n",
       "  border-radius: 4px;\n",
       "  padding: 4px 4px;\n",
       "  border: solid 0px black;\n",
       "  line-height: 1em;\n",
       "\n",
       "  /* Position the tooltip */\n",
       "  position: absolute;\n",
       "  z-index: 1;\n",
       "}\n",
       "\n",
       ".tooltip:hover .tooltiptext {\n",
       "  visibility: visible;\n",
       "}\n",
       "</style>"
      ],
      "text/plain": [
       "<IPython.core.display.HTML object>"
      ]
     },
     "metadata": {},
     "output_type": "display_data"
    },
    {
     "data": {
      "application/vnd.jupyter.widget-view+json": {
       "model_id": "036b5084a6a540b5829cf7723724ab6d",
       "version_major": 2,
       "version_minor": 0
      },
      "text/plain": [
       "VBox(children=(Label(value='Train Model Ensemble'), GridspecLayout(children=(HTML(value='<p data-html=\"true\" c…"
      ]
     },
     "metadata": {},
     "output_type": "display_data"
    }
   ],
   "source": [
    "t=TrainModelSB()\n",
    "t.widget"
   ]
  },
  {
   "cell_type": "code",
   "execution_count": null,
   "metadata": {},
   "outputs": [
    {
     "data": {
      "text/html": [
       "<style>\n",
       ".tooltip {\n",
       "  position: relative;\n",
       "  display: inline-block;\n",
       "}\n",
       "\n",
       ".tooltip .tooltiptext {\n",
       "  visibility: hidden;\n",
       "  width: max-content;\n",
       "  max-width: 280px;\n",
       "  background-color: #00bcd4;\n",
       "  text-align: left;\n",
       "  color: white;\n",
       "  border-radius: 4px;\n",
       "  padding: 4px 4px;\n",
       "  border: solid 0px black;\n",
       "  line-height: 1em;\n",
       "\n",
       "  /* Position the tooltip */\n",
       "  position: absolute;\n",
       "  z-index: 1;\n",
       "}\n",
       "\n",
       ".tooltip:hover .tooltiptext {\n",
       "  visibility: visible;\n",
       "}\n",
       "</style>"
      ],
      "text/plain": [
       "<IPython.core.display.HTML object>"
      ]
     },
     "metadata": {},
     "output_type": "display_data"
    }
   ],
   "source": [
    "#export\n",
    "class TrainValidSB(BaseParamWidget, GetAttr):\n",
    "    'Layout for \"Validation\" Section'\n",
    "    _default = 'config'\n",
    "\n",
    "    #Hints\n",
    "    txt = 'Validate Model Ensemble'\n",
    "    hints = w.Label(txt)\n",
    "    \n",
    "    params = {\n",
    "        'tta': w.ToggleButtons(options=[('Yes', True), ('No', False)],\n",
    "                               tooltips=['Enable Test-Time Augmentation','Disable Test-Time Augmentation'])\n",
    "    }\n",
    "    \n",
    "    params['tta'].style.button_width = '50px' \n",
    "    \n",
    "    #Grid\n",
    "    grid = w.GridspecLayout(9, GRID_COLS, width='100%',  grid_gap=\"0px\", align_items='center')\n",
    "    grid[0, 0] = w.HTML(_html_wrap(*_dtrain['s_val']))\n",
    "    grid[1, 0] = w.HTML(_html_wrap(*_dtrain['tta']))\n",
    "    grid[1, 1:]= params['tta']\n",
    "    grid[3, :] = w.HTML('<hr>')\n",
    "    grid[4, :] = w.Label('Load exisiting models')\n",
    "    grid[5, 0] = w.HTML(_html_wrap(*_dtrain['mdl']))\n",
    "    grid[6, :] = w.HTML('<hr>')\n",
    "    grid[7, 0] = w.HTML('Downloads')\n",
    "    #grid[8, 0] = w.HTML(_html_wrap(*_dtrain['cache']))\n",
    "    \n",
    "    #Model\n",
    "    sel = w.Dropdown(continuous_update=True, layout=w.Layout(width='auto', min_width='1px'))\n",
    "    grid[0, 1:] = sel\n",
    "\n",
    "    #Res\n",
    "    run = w.Button(description='Run Validation', layout=w.Layout(width='auto'))\n",
    "    grid[2, 1:] = run\n",
    "    \n",
    "    #Res\n",
    "    #ood = w.Button(description='Train OOD Model', layout=w.Layout(width='auto'))\n",
    "    #grid[6, 1:] = ood\n",
    "    \n",
    "    #cache = w.Button(description='Clear', layout=w.Layout(width='auto'))\n",
    "    #grid[8, 1:] = cache\n",
    "        \n",
    "    #Final Widget\n",
    "    widget = w.VBox([hints,grid])\n",
    "    \n",
    "    def __init__(self, path=None, **kwargs):\n",
    "        super().__init__(**kwargs)  \n",
    "        path = path or Path('.') \n",
    "        self.sel.options = _get_model_list(self.config.n_models)\n",
    "        self.down  = PathDownloads(path, 'Select', tooltip='Click to download models, predictions or validation results')\n",
    "        self.grid[7, 1:] = self.down.button  \n",
    "        self.ens  = PathSelector(path, 'Select')\n",
    "        self.grid[5, 1:] = self.ens.button\n",
    "        \n",
    "    def sel_update(self, change):\n",
    "        self.sel.options = _get_model_list(change['new'])"
   ]
  },
  {
   "cell_type": "code",
   "execution_count": null,
   "metadata": {},
   "outputs": [
    {
     "data": {
      "text/html": [
       "<style>\n",
       ".tooltip {\n",
       "  position: relative;\n",
       "  display: inline-block;\n",
       "}\n",
       "\n",
       ".tooltip .tooltiptext {\n",
       "  visibility: hidden;\n",
       "  width: max-content;\n",
       "  max-width: 280px;\n",
       "  background-color: #00bcd4;\n",
       "  text-align: left;\n",
       "  color: white;\n",
       "  border-radius: 4px;\n",
       "  padding: 4px 4px;\n",
       "  border: solid 0px black;\n",
       "  line-height: 1em;\n",
       "\n",
       "  /* Position the tooltip */\n",
       "  position: absolute;\n",
       "  z-index: 1;\n",
       "}\n",
       "\n",
       ".tooltip:hover .tooltiptext {\n",
       "  visibility: visible;\n",
       "}\n",
       "</style>"
      ],
      "text/plain": [
       "<IPython.core.display.HTML object>"
      ]
     },
     "metadata": {},
     "output_type": "display_data"
    },
    {
     "data": {
      "application/vnd.jupyter.widget-view+json": {
       "model_id": "1a6ac576cc074a1a8ba06a92fff23e85",
       "version_major": 2,
       "version_minor": 0
      },
      "text/plain": [
       "VBox(children=(Label(value='Validate Model Ensemble'), GridspecLayout(children=(HTML(value='<p data-html=\"true…"
      ]
     },
     "metadata": {},
     "output_type": "display_data"
    }
   ],
   "source": [
    "t=TrainValidSB()\n",
    "t.widget"
   ]
  },
  {
   "cell_type": "markdown",
   "metadata": {},
   "source": [
    "#### Pop-Up Widgets"
   ]
  },
  {
   "cell_type": "code",
   "execution_count": null,
   "metadata": {},
   "outputs": [
    {
     "data": {
      "text/html": [
       "<style>\n",
       ".tooltip {\n",
       "  position: relative;\n",
       "  display: inline-block;\n",
       "}\n",
       "\n",
       ".tooltip .tooltiptext {\n",
       "  visibility: hidden;\n",
       "  width: max-content;\n",
       "  max-width: 280px;\n",
       "  background-color: #00bcd4;\n",
       "  text-align: left;\n",
       "  color: white;\n",
       "  border-radius: 4px;\n",
       "  padding: 4px 4px;\n",
       "  border: solid 0px black;\n",
       "  line-height: 1em;\n",
       "\n",
       "  /* Position the tooltip */\n",
       "  position: absolute;\n",
       "  z-index: 1;\n",
       "}\n",
       "\n",
       ".tooltip:hover .tooltiptext {\n",
       "  visibility: visible;\n",
       "}\n",
       "</style>"
      ],
      "text/plain": [
       "<IPython.core.display.HTML object>"
      ]
     },
     "metadata": {},
     "output_type": "display_data"
    }
   ],
   "source": [
    "#export\n",
    "class LRWidget:\n",
    "    'Widget for Learning Rate Finder'\n",
    "    \n",
    "    #Start Button\n",
    "    tt_start = 'Start the Learning Rate Finder'\n",
    "    run = w.Button(description='Start', tooltip=tt_start)\n",
    "\n",
    "    #Close Button\n",
    "    tt_close = 'Close Learning Rate Finder. ATTENTION: This will not interrupt the execution)'\n",
    "    button_close = w.Button(description='Close', tooltip=tt_close)       \n",
    "    \n",
    "    #Lbl\n",
    "    html = _html_wrap('More information', '', \n",
    "                      'https://docs.fast.ai/callback.schedule.html#Learner.lr_find')\n",
    "    lbl = w.HTML(html)\n",
    "\n",
    "    #Output\n",
    "    output = w.Output()\n",
    "\n",
    "    #Box\n",
    "    widget = w.Accordion(children=[w.VBox([w.HBox([run, button_close]), lbl, output])])\n",
    "    widget.set_title(0, 'Learning Rate Finder')\n",
    "\n",
    "    def __init__(self):\n",
    "        self.widget.layout.display = \"none\"    \n",
    "        self.button_close.on_click(self.on_close_clicked)\n",
    "\n",
    "    def on_close_clicked(self, b):\n",
    "        self.widget.layout.display = \"none\"  "
   ]
  },
  {
   "cell_type": "code",
   "execution_count": null,
   "metadata": {},
   "outputs": [
    {
     "data": {
      "text/html": [
       "<style>\n",
       ".tooltip {\n",
       "  position: relative;\n",
       "  display: inline-block;\n",
       "}\n",
       "\n",
       ".tooltip .tooltiptext {\n",
       "  visibility: hidden;\n",
       "  width: max-content;\n",
       "  max-width: 280px;\n",
       "  background-color: #00bcd4;\n",
       "  text-align: left;\n",
       "  color: white;\n",
       "  border-radius: 4px;\n",
       "  padding: 4px 4px;\n",
       "  border: solid 0px black;\n",
       "  line-height: 1em;\n",
       "\n",
       "  /* Position the tooltip */\n",
       "  position: absolute;\n",
       "  z-index: 1;\n",
       "}\n",
       "\n",
       ".tooltip:hover .tooltiptext {\n",
       "  visibility: visible;\n",
       "}\n",
       "</style>"
      ],
      "text/plain": [
       "<IPython.core.display.HTML object>"
      ]
     },
     "metadata": {},
     "output_type": "display_data"
    },
    {
     "data": {
      "application/vnd.jupyter.widget-view+json": {
       "model_id": "fa79795ca37f4b4cb7b7e0dd99df32a3",
       "version_major": 2,
       "version_minor": 0
      },
      "text/plain": [
       "Accordion(children=(VBox(children=(HBox(children=(Button(description='Start', style=ButtonStyle(), tooltip='St…"
      ]
     },
     "metadata": {},
     "output_type": "display_data"
    }
   ],
   "source": [
    "t = LRWidget()\n",
    "t.widget.layout.display = \"block\"  \n",
    "t.widget"
   ]
  },
  {
   "cell_type": "code",
   "execution_count": null,
   "metadata": {},
   "outputs": [
    {
     "data": {
      "text/html": [
       "<style>\n",
       ".tooltip {\n",
       "  position: relative;\n",
       "  display: inline-block;\n",
       "}\n",
       "\n",
       ".tooltip .tooltiptext {\n",
       "  visibility: hidden;\n",
       "  width: max-content;\n",
       "  max-width: 280px;\n",
       "  background-color: #00bcd4;\n",
       "  text-align: left;\n",
       "  color: white;\n",
       "  border-radius: 4px;\n",
       "  padding: 4px 4px;\n",
       "  border: solid 0px black;\n",
       "  line-height: 1em;\n",
       "\n",
       "  /* Position the tooltip */\n",
       "  position: absolute;\n",
       "  z-index: 1;\n",
       "}\n",
       "\n",
       ".tooltip:hover .tooltiptext {\n",
       "  visibility: visible;\n",
       "}\n",
       "</style>"
      ],
      "text/plain": [
       "<IPython.core.display.HTML object>"
      ]
     },
     "metadata": {},
     "output_type": "display_data"
    }
   ],
   "source": [
    "#export\n",
    "class BasePopUpParamWidget(BaseParamWidget):\n",
    "    'Parameter Pop-Up Widget Base Class'\n",
    "    \n",
    "    #Reset Button\n",
    "    tt_reset = 'Reset to defaults'\n",
    "    button_reset = w.Button(description='Reset', tooltip=tt_reset)\n",
    "\n",
    "    #Close Button\n",
    "    tt_close = 'Close Widget'\n",
    "    button_close = w.Button(description='Close', tooltip=tt_close)  \n",
    "    \n",
    "    def __init__(self, **kwargs):\n",
    "        super().__init__(**kwargs)\n",
    "        \n",
    "        self.button_reset.on_click(self.on_reset_clicked)\n",
    "        self.button_close.on_click(self.on_close_clicked) "
   ]
  },
  {
   "cell_type": "code",
   "execution_count": null,
   "metadata": {},
   "outputs": [
    {
     "data": {
      "text/html": [
       "<style>\n",
       ".tooltip {\n",
       "  position: relative;\n",
       "  display: inline-block;\n",
       "}\n",
       "\n",
       ".tooltip .tooltiptext {\n",
       "  visibility: hidden;\n",
       "  width: max-content;\n",
       "  max-width: 280px;\n",
       "  background-color: #00bcd4;\n",
       "  text-align: left;\n",
       "  color: white;\n",
       "  border-radius: 4px;\n",
       "  padding: 4px 4px;\n",
       "  border: solid 0px black;\n",
       "  line-height: 1em;\n",
       "\n",
       "  /* Position the tooltip */\n",
       "  position: absolute;\n",
       "  z-index: 1;\n",
       "}\n",
       "\n",
       ".tooltip:hover .tooltiptext {\n",
       "  visibility: visible;\n",
       "}\n",
       "</style>"
      ],
      "text/plain": [
       "<IPython.core.display.HTML object>"
      ]
     },
     "metadata": {},
     "output_type": "display_data"
    }
   ],
   "source": [
    "#export\n",
    "_dparam= {\n",
    "    'n_models'   : ('No. of Models', \"Number of models within an ensemble; If you're experimenting with parameters, try only one model first; Depending on the data, ensembles should at least comprise 3-5 models\"),\n",
    "    'n_iter': ('Train Iterations', 'How many times a single model is trained on a mini-batch of the training data.', 'https://matjesg.github.io/deepflash2/add_information.html#Training-Epochs-and-Iterations'),\n",
    "    'base_lr': ('Learning Rate', '''Base learning rate for fine-tuning the model. The learning rate controls how quickly or slowly a neural network model learns. &#013; - Best learning rate depend on your data and other settings, e.g., the optimize \\n - Use the learning rate finder to find the best learning rate for your dataset''', 'https://docs.fast.ai/callback.schedule.html#Learner.fine_tune'),\n",
    "    'arch' : ('Model Architecture', 'The architecture of the deep learning model.', 'https://matjesg.github.io/deepflash2/models.html'),\n",
    "    'encoder_name' : ('Encoder', 'Encoders for architectures from Segmentation Models Pytorch.', 'https://github.com/qubvel/segmentation_models.pytorch#encoders-'),\n",
    "    'encoder_weights' : ('Encoder Weights', 'Pretrained encoders weights for architectures from Segmentation Models Pytorch.', 'https://github.com/qubvel/segmentation_models.pytorch#encoders-'),\n",
    "    'batch_size' : ('Mini-Batch Size', 'The number of samples that will be propagated through the network during one iteration; 4 works best in our experiements; 4-8 works good for mixed precision training'),\n",
    "    'mixed_precision_training'   : ('Mixed Precision Training', 'Mixed Precision Training', 'https://docs.fast.ai/callback.fp16.html'),\n",
    "    'weight_decay'  : ('Weight Decay', 'Weight Decay.', 'https://arxiv.org/abs/1711.05101'),\n",
    "    'optim'  : ('Optimizer', 'Optimizer.', 'https://docs.fast.ai/optimizer.html'),\n",
    "    'sample_mult' : ('Sample Multiplier', 'Defines how many are tiles are sampled from each image per epoch. Set to 0 for auto-mode.'),\n",
    "    'flip'  : ('Flip', 'Randomly flip a training image.', 'https://matjesg.github.io/deepflash2/data.html#Data-augmentation'),\n",
    "    'rot': ('Rotation (max. degrees)', 'Randomly rotate a training image up to max. degrees.', 'https://matjesg.github.io/deepflash2/data.html#Data-augmentation'),\n",
    "    'gamma_limit_lower': ('Gamma (lower limit)', 'Random Gamma augmentation lower gamma limit.', 'https://albumentations.ai/docs/api_reference/augmentations/transforms/#albumentations.augmentations.transforms.RandomGamma'),\n",
    "    'gamma_limit_upper': ('Gamma (upper limit)', 'Random Gamma augmentation upper gamma limit.', 'https://albumentations.ai/docs/api_reference/augmentations/transforms/#albumentations.augmentations.transforms.RandomGamma'),\n",
    "    'brightness_limit': ('Brightness (limit)', 'Factor range for changing brightness.', 'https://albumentations.ai/docs/api_reference/augmentations/transforms/#albumentations.augmentations.transforms.RandomBrightnessContrast'),\n",
    "    'contrast_limit': ('Contrast (limit)', 'Factor range for changing contrast.', 'https://albumentations.ai/docs/api_reference/augmentations/transforms/#albumentations.augmentations.transforms.RandomBrightnessContrast'),\n",
    "    'CLAHE_clip_limit': ('CLAHE (clip limit)', 'Contrast Limited Adaptive Histogram Equalization (CLAHE). Set upper threshold value for contrast limiting.', 'https://albumentations.ai/docs/api_reference/augmentations/transforms/#albumentations.augmentations.transforms.CLAHE'),\n",
    "    'distort_limit': ('GridDistortion (limit)', 'GridDistortion in the range (-distort_limit, distort_limit).', 'https://albumentations.ai/docs/api_reference/augmentations/transforms/#albumentations.augmentations.transforms.GridDistortion'),\n",
    "    #'zoom_sigma': ('Zoom standard deviation', 'Standard deviation of the Guassian that zooms in or out of the image.', 'https://matjesg.github.io/deepflash2/data.html#RandomTileDataset'),    \n",
    "}"
   ]
  },
  {
   "cell_type": "code",
   "execution_count": null,
   "metadata": {},
   "outputs": [
    {
     "data": {
      "text/html": [
       "<style>\n",
       ".tooltip {\n",
       "  position: relative;\n",
       "  display: inline-block;\n",
       "}\n",
       "\n",
       ".tooltip .tooltiptext {\n",
       "  visibility: hidden;\n",
       "  width: max-content;\n",
       "  max-width: 280px;\n",
       "  background-color: #00bcd4;\n",
       "  text-align: left;\n",
       "  color: white;\n",
       "  border-radius: 4px;\n",
       "  padding: 4px 4px;\n",
       "  border: solid 0px black;\n",
       "  line-height: 1em;\n",
       "\n",
       "  /* Position the tooltip */\n",
       "  position: absolute;\n",
       "  z-index: 1;\n",
       "}\n",
       "\n",
       ".tooltip:hover .tooltiptext {\n",
       "  visibility: visible;\n",
       "}\n",
       "</style>"
      ],
      "text/plain": [
       "<IPython.core.display.HTML object>"
      ]
     },
     "metadata": {},
     "output_type": "display_data"
    }
   ],
   "source": [
    "#export\n",
    "class ParamWidget(BasePopUpParamWidget, GetAttr):\n",
    "    'Widget for custom training parameters'\n",
    "    _default = 'config'\n",
    "    params = {\n",
    "        #'n_models': w.IntSlider(min=1, max=5, step=1, continuous_update=True, orientation='horizontal', layout=w.Layout(width='auto', min_width='1px')),\n",
    "        'n_iter':w.IntSlider(min=100, max=1e4, step=100, continuous_update=True,orientation='horizontal', layout=w.Layout(width='auto', min_width='1px')),\n",
    "        'base_lr': w.FloatText(description='', layout=w.Layout(width='auto', min_width='1px')),\n",
    "        'arch' : w.Dropdown(options=ARCHITECTURES, layout=w.Layout(width='auto', min_width='1px')),\n",
    "        'encoder_name' : w.Dropdown(options=ENCODERS, layout=w.Layout(width='auto', min_width='1px')),\n",
    "        'encoder_weights' : w.Dropdown(options=['imagenet'],layout=w.Layout(width='auto', min_width='1px'), continuous_update=True),\n",
    "        'batch_size':w.IntSlider(min=2, max=32, step=2,layout=w.Layout(width='auto', min_width='1px')),\n",
    "        'mixed_precision_training': w.ToggleButtons(options=[('Yes', True), ('No', False)],\n",
    "                              tooltips=['Enable Mixed-Precision Training','Disable Mixed-Precision Training']),\n",
    "        'weight_decay':w.FloatText(min=0, max=1,layout=w.Layout(width='auto', min_width='1px')),\n",
    "        'optim':w.Dropdown(options=_optim_dict.keys(), layout=w.Layout(width='auto', min_width='1px')),\n",
    "        'sample_mult' : w.IntText(layout= w.Layout(width='auto')),\n",
    "        'flip':w.ToggleButtons(options=[('Yes', True), ('No', False)]),\n",
    "        'rot':w.IntSlider(min=0, max=360, step=5, layout=w.Layout(width='auto', min_width='1px')),\n",
    "        #'zoom_sigma':w.FloatSlider(min=0, max=1, layout=w.Layout(width='auto', min_width='1px')),#w.FloatText(layout=w.Layout(width='auto', min_width='1px'))\n",
    "        'gamma_limit_lower':w.IntSlider(min=0, max=255, step=10, layout=w.Layout(width='auto', min_width='1px')),\n",
    "        'gamma_limit_upper':w.IntSlider(min=0, max=255, step=10, layout=w.Layout(width='auto', min_width='1px')),\n",
    "        'brightness_limit':w.FloatSlider(min=0, max=1, layout=w.Layout(width='auto', min_width='1px')),\n",
    "        'contrast_limit':w.FloatSlider(min=0, max=1, layout=w.Layout(width='auto', min_width='1px')),\n",
    "        'CLAHE_clip_limit':w.FloatSlider(min=0, max=1, layout=w.Layout(width='auto', min_width='1px')),  \n",
    "        'distort_limit':w.FloatSlider(min=0, max=1, layout=w.Layout(width='auto', min_width='1px')),   \n",
    "    }\n",
    "\n",
    "    \n",
    "    params['mixed_precision_training'].style.button_width = '25px' \n",
    "    params['flip'].style.button_width = '25px' \n",
    "\n",
    "    #Close Button\n",
    "    tt_show = 'Show example'\n",
    "    button_show = w.Button(description='Show', tooltip=tt_show)     \n",
    "\n",
    "    #Hint\n",
    "    lbl = w.Label('Settings are saved automatically')    \n",
    "      \n",
    "    #Grid\n",
    "    grid = w.GridspecLayout(20, 2, width='400px',  grid_gap=\"0px\", align_items='center')\n",
    "    i=0\n",
    "    for k in params:\n",
    "        grid[i, 0] = w.HTML(_html_wrap(*_dparam[k]))\n",
    "        grid[i, 1] = params[k]\n",
    "        i += 1\n",
    "        if i==10: \n",
    "            grid[i, :] = w.HTML('<hr>')\n",
    "            i += 1\n",
    "            grid[i, :] = w.HTML('<b>Data Augmentation</b>')\n",
    "            i += 1  \n",
    "\n",
    "\n",
    "    def __init__(self, **kwargs):     \n",
    "        super().__init__(**kwargs)\n",
    "        \n",
    "        self.widget = w.Accordion(children=[w.VBox([w.HBox([self.button_reset, self.button_close]),self.lbl,self.grid])])\n",
    "        self.widget.set_title(0, 'Training Parameters')\n",
    "        self.widget.layout.display = \"none\"   \n",
    "        self.params['encoder_name'].observe(self.on_encoder_change, 'value')  \n",
    "        #self.params['n_models'].observe(self.sel_update, 'value')\n",
    "        \n",
    "    def on_encoder_change(self, change):\n",
    "        self.params['encoder_weights'].options = get_pretrained_options(change['new'])\n",
    "    \n",
    "    #def sel_update(self, change):\n",
    "    #    self.sel.options = _get_model_list(change['new'])"
   ]
  },
  {
   "cell_type": "code",
   "execution_count": null,
   "metadata": {},
   "outputs": [
    {
     "data": {
      "text/html": [
       "<style>\n",
       ".tooltip {\n",
       "  position: relative;\n",
       "  display: inline-block;\n",
       "}\n",
       "\n",
       ".tooltip .tooltiptext {\n",
       "  visibility: hidden;\n",
       "  width: max-content;\n",
       "  max-width: 280px;\n",
       "  background-color: #00bcd4;\n",
       "  text-align: left;\n",
       "  color: white;\n",
       "  border-radius: 4px;\n",
       "  padding: 4px 4px;\n",
       "  border: solid 0px black;\n",
       "  line-height: 1em;\n",
       "\n",
       "  /* Position the tooltip */\n",
       "  position: absolute;\n",
       "  z-index: 1;\n",
       "}\n",
       "\n",
       ".tooltip:hover .tooltiptext {\n",
       "  visibility: visible;\n",
       "}\n",
       "</style>"
      ],
      "text/plain": [
       "<IPython.core.display.HTML object>"
      ]
     },
     "metadata": {},
     "output_type": "display_data"
    },
    {
     "data": {
      "application/vnd.jupyter.widget-view+json": {
       "model_id": "55976aba3b7345418bdc12de2cf5912b",
       "version_major": 2,
       "version_minor": 0
      },
      "text/plain": [
       "Accordion(children=(VBox(children=(HBox(children=(Button(description='Reset', style=ButtonStyle(), tooltip='Re…"
      ]
     },
     "metadata": {},
     "output_type": "display_data"
    }
   ],
   "source": [
    "t=ParamWidget(config=Config(batch_size=8))\n",
    "t.widget.layout.display = \"block\"    \n",
    "t.widget"
   ]
  },
  {
   "cell_type": "code",
   "execution_count": null,
   "metadata": {},
   "outputs": [
    {
     "data": {
      "text/html": [
       "<style>\n",
       ".tooltip {\n",
       "  position: relative;\n",
       "  display: inline-block;\n",
       "}\n",
       "\n",
       ".tooltip .tooltiptext {\n",
       "  visibility: hidden;\n",
       "  width: max-content;\n",
       "  max-width: 280px;\n",
       "  background-color: #00bcd4;\n",
       "  text-align: left;\n",
       "  color: white;\n",
       "  border-radius: 4px;\n",
       "  padding: 4px 4px;\n",
       "  border: solid 0px black;\n",
       "  line-height: 1em;\n",
       "\n",
       "  /* Position the tooltip */\n",
       "  position: absolute;\n",
       "  z-index: 1;\n",
       "}\n",
       "\n",
       ".tooltip:hover .tooltiptext {\n",
       "  visibility: visible;\n",
       "}\n",
       "</style>"
      ],
      "text/plain": [
       "<IPython.core.display.HTML object>"
      ]
     },
     "metadata": {},
     "output_type": "display_data"
    }
   ],
   "source": [
    "#export\n",
    "_dmw= {\n",
    "    'loss': ('Loss Function', 'Objective function to minimize during training.', 'https://matjesg.github.io/deepflash2/losses.html'),\n",
    "    'loss_alpha' :('alpha', 'Loss coefficient for FocalLoss and TverskyLoss.', 'https://kornia.readthedocs.io/en/latest/losses.html#kornia.losses.TverskyLoss'),\n",
    "    'loss_beta' :('beta', 'Loss coefficient for TverskyLoss.', 'https://kornia.readthedocs.io/en/latest/losses.html#kornia.losses.TverskyLoss'),\n",
    "    'loss_gamma' :('gamma', 'FocalLoss power factor for dampening weight (focal strength).', 'https://github.com/qubvel/segmentation_models.pytorch/blob/master/segmentation_models_pytorch/losses/focal.py'),\n",
    "    'loss_smooth_factor': ('smooth_factor', 'SoftCrossEntropyLoss factor to smooth target (e.g. if smooth_factor=0.1 then [1, 0, 0] -> [0.9, 0.05, 0.05])', 'https://github.com/qubvel/segmentation_models.pytorch/blob/master/segmentation_models_pytorch/losses/soft_ce.py'),\n",
    "}"
   ]
  },
  {
   "cell_type": "code",
   "execution_count": null,
   "metadata": {},
   "outputs": [
    {
     "data": {
      "text/html": [
       "<style>\n",
       ".tooltip {\n",
       "  position: relative;\n",
       "  display: inline-block;\n",
       "}\n",
       "\n",
       ".tooltip .tooltiptext {\n",
       "  visibility: hidden;\n",
       "  width: max-content;\n",
       "  max-width: 280px;\n",
       "  background-color: #00bcd4;\n",
       "  text-align: left;\n",
       "  color: white;\n",
       "  border-radius: 4px;\n",
       "  padding: 4px 4px;\n",
       "  border: solid 0px black;\n",
       "  line-height: 1em;\n",
       "\n",
       "  /* Position the tooltip */\n",
       "  position: absolute;\n",
       "  z-index: 1;\n",
       "}\n",
       "\n",
       ".tooltip:hover .tooltiptext {\n",
       "  visibility: visible;\n",
       "}\n",
       "</style>"
      ],
      "text/plain": [
       "<IPython.core.display.HTML object>"
      ]
     },
     "metadata": {},
     "output_type": "display_data"
    }
   ],
   "source": [
    "#export\n",
    "class MWWidget(BasePopUpParamWidget, GetAttr):\n",
    "    'Widget to customize loss functions'\n",
    "    _default = 'config'\n",
    "    params = {\n",
    "        'loss' : w.Dropdown(options=LOSSES, layout=w.Layout(width='auto', min_width='1px')),\n",
    "        'loss_alpha' : w.FloatText(layout= w.Layout(width='auto')),\n",
    "        'loss_beta' : w.FloatText(layout= w.Layout(width='auto')),\n",
    "        'loss_gamma' : w.FloatText(layout= w.Layout(width='auto')),\n",
    "        'loss_smooth_factor': w.FloatText(layout= w.Layout(width='auto'))\n",
    "    }\n",
    "    out = w.Output()\n",
    "        \n",
    "    #Hint\n",
    "    lbl = w.HTML('Settings are saved automatically.')\n",
    "    \n",
    "    #Grid\n",
    "    grid = w.GridspecLayout(5, 2, width='400px',  grid_gap=\"0px\", align_items='center')\n",
    "    i=0\n",
    "    for k in params:\n",
    "        grid[i, 0] = w.HTML(_html_wrap(*_dmw[k]))\n",
    "        grid[i, 1] = params[k]\n",
    "        i += 1\n",
    "    \n",
    "    def __init__(self, **kwargs):     \n",
    "        super().__init__(**kwargs)\n",
    "        \n",
    "        self.widget = w.Accordion(children=[w.VBox([w.HBox([self.button_reset, self.button_close]),\n",
    "                                           self.lbl,\n",
    "                                           self.grid,\n",
    "                                           self.out])]\n",
    "                         )\n",
    "        self.widget.set_title(0, 'Loss Function')\n",
    "        self.widget.layout.display = \"none\"     \n",
    "        self.params['loss'].observe(self.on_arch_change, 'value')  \n",
    "        self.on_arch_change({'new':'CrossEntropyDiceLoss'})\n",
    "        \n",
    "    def on_arch_change(self, change):\n",
    "        enable = ['loss']\n",
    "        if change['new'] ==  'FocalLoss': enable += ['loss_gamma', 'loss_alpha']\n",
    "        elif change['new'] ==  'TverskyLoss': enable +=  ['loss_beta', 'loss_alpha']\n",
    "        elif change['new'] ==  'SoftCrossEntropyLoss': enable +=  ['loss_smooth_factor']\n",
    "        for k,v in self.params.items():\n",
    "            if k in enable: v.disabled = False\n",
    "            else: v.disabled = True            "
   ]
  },
  {
   "cell_type": "code",
   "execution_count": null,
   "metadata": {},
   "outputs": [
    {
     "data": {
      "text/html": [
       "<style>\n",
       ".tooltip {\n",
       "  position: relative;\n",
       "  display: inline-block;\n",
       "}\n",
       "\n",
       ".tooltip .tooltiptext {\n",
       "  visibility: hidden;\n",
       "  width: max-content;\n",
       "  max-width: 280px;\n",
       "  background-color: #00bcd4;\n",
       "  text-align: left;\n",
       "  color: white;\n",
       "  border-radius: 4px;\n",
       "  padding: 4px 4px;\n",
       "  border: solid 0px black;\n",
       "  line-height: 1em;\n",
       "\n",
       "  /* Position the tooltip */\n",
       "  position: absolute;\n",
       "  z-index: 1;\n",
       "}\n",
       "\n",
       ".tooltip:hover .tooltiptext {\n",
       "  visibility: visible;\n",
       "}\n",
       "</style>"
      ],
      "text/plain": [
       "<IPython.core.display.HTML object>"
      ]
     },
     "metadata": {},
     "output_type": "display_data"
    },
    {
     "data": {
      "application/vnd.jupyter.widget-view+json": {
       "model_id": "3934c3b296a6442d9432cebcfa7932a0",
       "version_major": 2,
       "version_minor": 0
      },
      "text/plain": [
       "Accordion(children=(VBox(children=(HBox(children=(Button(description='Reset', style=ButtonStyle(), tooltip='Re…"
      ]
     },
     "metadata": {},
     "output_type": "display_data"
    }
   ],
   "source": [
    "t=MWWidget(config=Config())\n",
    "t.widget.layout.display = \"block\"  \n",
    "t.widget"
   ]
  },
  {
   "cell_type": "markdown",
   "metadata": {},
   "source": [
    "#### Train UI"
   ]
  },
  {
   "cell_type": "code",
   "execution_count": null,
   "metadata": {},
   "outputs": [
    {
     "data": {
      "text/html": [
       "<style>\n",
       ".tooltip {\n",
       "  position: relative;\n",
       "  display: inline-block;\n",
       "}\n",
       "\n",
       ".tooltip .tooltiptext {\n",
       "  visibility: hidden;\n",
       "  width: max-content;\n",
       "  max-width: 280px;\n",
       "  background-color: #00bcd4;\n",
       "  text-align: left;\n",
       "  color: white;\n",
       "  border-radius: 4px;\n",
       "  padding: 4px 4px;\n",
       "  border: solid 0px black;\n",
       "  line-height: 1em;\n",
       "\n",
       "  /* Position the tooltip */\n",
       "  position: absolute;\n",
       "  z-index: 1;\n",
       "}\n",
       "\n",
       ".tooltip:hover .tooltiptext {\n",
       "  visibility: visible;\n",
       "}\n",
       "</style>"
      ],
      "text/plain": [
       "<IPython.core.display.HTML object>"
      ]
     },
     "metadata": {},
     "output_type": "display_data"
    }
   ],
   "source": [
    "#export\n",
    "class TrainUI(BaseUI):\n",
    "    'UI for ensemble training'\n",
    "    sections = ['1 - Data', '2 - Ensemble Training', '3 - Validation']\n",
    "    \n",
    "    def __init__(self, hide=False, **kwargs):\n",
    "        super().__init__(**kwargs)\n",
    "\n",
    "        #Sidebar\n",
    "        self.sb = {\n",
    "            'data':TrainDataSB(path=self.path, config=self.config),\n",
    "            'train':TrainModelSB(config=self.config),\n",
    "            'valid':TrainValidSB(path=self.path, config=self.config),\n",
    "        }      \n",
    "        self.sb['train'].open_lrfinder.on_click(self.open_lrfinder)   \n",
    "        self.sb['train'].open_mw.on_click(self.open_mw)   \n",
    "        self.sb['train'].open_par.on_click(self.open_par)  \n",
    "        #Update model options from train in valid\n",
    "        self.sb['train'].params['n_models'].observe(self.sb['valid'].sel_update, 'value')\n",
    "    \n",
    "        #Sidebar Accordion\n",
    "        self.sb_acc = w.Accordion(children=[x.widget for x in self.sb.values()], layout=w.Layout(grid_area='sidebar'))       \n",
    "        for i, name in enumerate(self.sections):\n",
    "            self.sb_acc.set_title(i, name)\n",
    "        self.sb_acc.observe(self.sidebar_change)  \n",
    "        \n",
    "        #Extra \n",
    "        self.xtr = {\n",
    "            'lr':LRWidget(),\n",
    "            'mw':MWWidget(config=self.config),\n",
    "            'param':ParamWidget(config=self.config)\n",
    "        }\n",
    "        \n",
    "        #Main\n",
    "        self.main = {\n",
    "            'img':self.sb['data'].img.dialog, \n",
    "            'msk':self.sb['data'].msk.dialog, \n",
    "            'cfg':self.sb['data'].cfg.dialog, \n",
    "            'lr':self.xtr['lr'].widget,\n",
    "            'mw':self.xtr['mw'].widget,\n",
    "            'param':self.xtr['param'].widget,\n",
    "            'ens':self.sb['valid'].ens.dialog, \n",
    "            'down':self.sb['valid'].down.dialog, \n",
    "             **{k:w.Output() for k in self.sb.keys()}\n",
    "        }\n",
    "        self.main_box = w.VBox(list(self.main.values()))     \n",
    "        if hide: self.hide()\n",
    "    \n",
    "    def set_config(self, config):\n",
    "        self.sb['data'].set_config(config)\n",
    "        self.sb['train'].set_config(config)\n",
    "        self.xtr['param'].set_config(config)\n",
    "        self.xtr['mw'].set_config(config)\n",
    "           \n",
    "    def open_lrfinder(self, b):\n",
    "        self.main['lr'].layout.display = \"block\"    \n",
    "        \n",
    "    def open_mw(self, b):\n",
    "        self.main['mw'].layout.display = \"block\"    \n",
    "        \n",
    "    def open_par(self, b):\n",
    "        self.main['param'].layout.display = \"block\"   \n"
   ]
  },
  {
   "cell_type": "code",
   "execution_count": null,
   "metadata": {},
   "outputs": [
    {
     "data": {
      "text/html": [
       "<style>\n",
       ".tooltip {\n",
       "  position: relative;\n",
       "  display: inline-block;\n",
       "}\n",
       "\n",
       ".tooltip .tooltiptext {\n",
       "  visibility: hidden;\n",
       "  width: max-content;\n",
       "  max-width: 280px;\n",
       "  background-color: #00bcd4;\n",
       "  text-align: left;\n",
       "  color: white;\n",
       "  border-radius: 4px;\n",
       "  padding: 4px 4px;\n",
       "  border: solid 0px black;\n",
       "  line-height: 1em;\n",
       "\n",
       "  /* Position the tooltip */\n",
       "  position: absolute;\n",
       "  z-index: 1;\n",
       "}\n",
       "\n",
       ".tooltip:hover .tooltiptext {\n",
       "  visibility: visible;\n",
       "}\n",
       "</style>"
      ],
      "text/plain": [
       "<IPython.core.display.HTML object>"
      ]
     },
     "metadata": {},
     "output_type": "display_data"
    },
    {
     "data": {
      "application/vnd.jupyter.widget-view+json": {
       "model_id": "d0f7561ace43402089770e1a5ab88ad9",
       "version_major": 2,
       "version_minor": 0
      },
      "text/plain": [
       "Accordion(children=(VBox(children=(Label(value='Provide training images and segmentation masks'), GridspecLayo…"
      ]
     },
     "metadata": {},
     "output_type": "display_data"
    }
   ],
   "source": [
    "t=TrainUI('')\n",
    "t.sb_acc"
   ]
  },
  {
   "cell_type": "markdown",
   "metadata": {},
   "source": [
    "### Prediction Widgets"
   ]
  },
  {
   "cell_type": "markdown",
   "metadata": {},
   "source": [
    "#### Sidebars"
   ]
  },
  {
   "cell_type": "code",
   "execution_count": null,
   "metadata": {},
   "outputs": [
    {
     "data": {
      "text/html": [
       "<style>\n",
       ".tooltip {\n",
       "  position: relative;\n",
       "  display: inline-block;\n",
       "}\n",
       "\n",
       ".tooltip .tooltiptext {\n",
       "  visibility: hidden;\n",
       "  width: max-content;\n",
       "  max-width: 280px;\n",
       "  background-color: #00bcd4;\n",
       "  text-align: left;\n",
       "  color: white;\n",
       "  border-radius: 4px;\n",
       "  padding: 4px 4px;\n",
       "  border: solid 0px black;\n",
       "  line-height: 1em;\n",
       "\n",
       "  /* Position the tooltip */\n",
       "  position: absolute;\n",
       "  z-index: 1;\n",
       "}\n",
       "\n",
       ".tooltip:hover .tooltiptext {\n",
       "  visibility: visible;\n",
       "}\n",
       "</style>"
      ],
      "text/plain": [
       "<IPython.core.display.HTML object>"
      ]
     },
     "metadata": {},
     "output_type": "display_data"
    }
   ],
   "source": [
    "#export\n",
    "_dpred = {\n",
    "    'img_pred' : ('Image Folder*', 'One folder containing all new images for prediction.', 'https://matjesg.github.io/deepflash2/add_information.html#Prediction'),\n",
    "    'mdl' : ('Model Folder', 'One folder containing the all models of the ensemble. If not selected, latest models from Training will be selected.'),\n",
    "    'msk_pred' : ('Test Mask Folder', 'For testing on new data. One folder containing all segmentation masks.'),\n",
    "    'up_pred' : ('Upload Data', 'Upload a zip file with images or models.'),\n",
    "    'sd': ('Sample Data', 'Get sample data and models. DEMONSTRATION PURPOSES ONLY!'),\n",
    "    's_pred'  : ('Select', 'Ensemble or model to be used for prediction.'),\n",
    "    'min_pixel_export': ('Minimum Size', 'Minimumen ROI size (number of pixels) to be included in ImageJ export'),\n",
    "    'imagej'  : ('ImageJ Export', 'Export predicted masks to ImageJ ROI sets. '),\n",
    "    'cache'  : ('Clear Cache', 'Delete cached files used for ensembling and visualization. This will not affect the final results.'),\n",
    "    'cellpose_export_class': ('Class', 'Select class for instance segmentation. Repeat for each class.'),\n",
    "    'cellpose_model' :  ('Cellpose model', 'Pretrained cellpose model to be used on the softmax predictons of deepflash2. Try nuclei model first.', 'https://cellpose.readthedocs.io/en/latest/settings.html?highlight=diameter#cytoplasm-model-cyto'),\n",
    "    'cellpose_diameter': ('ROI diameter', 'ROI diameter in pixels. 0 for automated estimation.', 'https://cellpose.readthedocs.io/en/latest/settings.html?highlight=diameter#diameter'),\n",
    "}"
   ]
  },
  {
   "cell_type": "code",
   "execution_count": null,
   "metadata": {},
   "outputs": [
    {
     "data": {
      "text/html": [
       "<style>\n",
       ".tooltip {\n",
       "  position: relative;\n",
       "  display: inline-block;\n",
       "}\n",
       "\n",
       ".tooltip .tooltiptext {\n",
       "  visibility: hidden;\n",
       "  width: max-content;\n",
       "  max-width: 280px;\n",
       "  background-color: #00bcd4;\n",
       "  text-align: left;\n",
       "  color: white;\n",
       "  border-radius: 4px;\n",
       "  padding: 4px 4px;\n",
       "  border: solid 0px black;\n",
       "  line-height: 1em;\n",
       "\n",
       "  /* Position the tooltip */\n",
       "  position: absolute;\n",
       "  z-index: 1;\n",
       "}\n",
       "\n",
       ".tooltip:hover .tooltiptext {\n",
       "  visibility: visible;\n",
       "}\n",
       "</style>"
      ],
      "text/plain": [
       "<IPython.core.display.HTML object>"
      ]
     },
     "metadata": {},
     "output_type": "display_data"
    }
   ],
   "source": [
    "#export\n",
    "class PredInputSB(BaseParamWidget, GetAttr):\n",
    "    'Layout for \"Data and Ensemble\" Section'\n",
    "    \n",
    "    params = {\n",
    "        'instance_labels':w.ToggleButtons(options=[('Yes', True), ('No', False)],tooltips=\n",
    "                                  ['You are providing instance labels (class-aware and instance-aware)',\n",
    "                                   'You are not providing only class-aware labels']),\n",
    "    }\n",
    "\n",
    "    params['instance_labels'].style.button_width = '50px' \n",
    "    grid = w.GridspecLayout(10, GRID_COLS, width='100%',  grid_gap=\"0px\", align_items='center')\n",
    "    \n",
    "    #Hints\n",
    "    txt = 'Provide images and models'\n",
    "    hints = w.Label(txt)\n",
    " \n",
    "    #Labels\n",
    "    grid[0, 0] = w.HTML(_html_wrap(*_dpred['img_pred']))\n",
    "    grid[1, 0] = w.HTML(_html_wrap(*_dpred['mdl']))\n",
    "    grid[3, :] = w.HTML('<hr>')\n",
    "    grid[4, :] = w.HTML('<b>Evaulation</b> (hold-out test set)')\n",
    "    grid[5, 0] = w.HTML(_html_wrap(*_dpred['msk_pred']))\n",
    "    grid[6, 0] = w.HTML(_html_wrap(*_dtrain['instance_labels']))\n",
    "    grid[6, 1:]= params['instance_labels']\n",
    "    grid[7, :] = w.HTML('<hr>')\n",
    "    grid[8, 0] = w.HTML(_html_wrap(*_dpred['up_pred']))\n",
    "    grid[9, 0] = w.HTML(_html_wrap(*_dpred['sd']))\n",
    "    \n",
    "    sd = w.Button(description='Load Sample Data',layout=w.Layout(width='auto'), tooltip='Click to download sample data and models')\n",
    "    grid[9, 1:] = sd\n",
    "    \n",
    "    #Load Data\n",
    "    run = w.Button(description='Load*', layout=w.Layout(width='auto', min_width='1px'))\n",
    "    grid[2, 1:] = run\n",
    "       \n",
    "    #Final Widget\n",
    "    widget = w.VBox([hints,grid])\n",
    "    \n",
    "    def __init__(self, path=None, **kwargs):\n",
    "        super().__init__(**kwargs)    \n",
    "        path = path or Path('.') \n",
    "        self.img  = PathSelector(path, 'Select')\n",
    "        self.grid[0, 1:] = self.img.button\n",
    "        self.ens  = PathSelector(path, 'Select')\n",
    "        self.grid[1, 1:] = self.ens.button\n",
    "        self.msk  = PathSelector(path, 'Select')\n",
    "        self.grid[5, 1:] = self.msk.button\n",
    "        #Data Upload\n",
    "        self.du = ZipUpload(path)\n",
    "        self.grid[8, 1:] = self.du.widget"
   ]
  },
  {
   "cell_type": "code",
   "execution_count": null,
   "metadata": {},
   "outputs": [
    {
     "data": {
      "text/html": [
       "<style>\n",
       ".tooltip {\n",
       "  position: relative;\n",
       "  display: inline-block;\n",
       "}\n",
       "\n",
       ".tooltip .tooltiptext {\n",
       "  visibility: hidden;\n",
       "  width: max-content;\n",
       "  max-width: 280px;\n",
       "  background-color: #00bcd4;\n",
       "  text-align: left;\n",
       "  color: white;\n",
       "  border-radius: 4px;\n",
       "  padding: 4px 4px;\n",
       "  border: solid 0px black;\n",
       "  line-height: 1em;\n",
       "\n",
       "  /* Position the tooltip */\n",
       "  position: absolute;\n",
       "  z-index: 1;\n",
       "}\n",
       "\n",
       ".tooltip:hover .tooltiptext {\n",
       "  visibility: visible;\n",
       "}\n",
       "</style>"
      ],
      "text/plain": [
       "<IPython.core.display.HTML object>"
      ]
     },
     "metadata": {},
     "output_type": "display_data"
    },
    {
     "data": {
      "application/vnd.jupyter.widget-view+json": {
       "model_id": "c2b33846b6c545d6919a10208fc503c7",
       "version_major": 2,
       "version_minor": 0
      },
      "text/plain": [
       "VBox(children=(Label(value='Provide images and models'), GridspecLayout(children=(HTML(value='<p class=\"toolti…"
      ]
     },
     "metadata": {},
     "output_type": "display_data"
    }
   ],
   "source": [
    "t=PredInputSB('')\n",
    "t.widget"
   ]
  },
  {
   "cell_type": "code",
   "execution_count": null,
   "metadata": {},
   "outputs": [
    {
     "data": {
      "text/html": [
       "<style>\n",
       ".tooltip {\n",
       "  position: relative;\n",
       "  display: inline-block;\n",
       "}\n",
       "\n",
       ".tooltip .tooltiptext {\n",
       "  visibility: hidden;\n",
       "  width: max-content;\n",
       "  max-width: 280px;\n",
       "  background-color: #00bcd4;\n",
       "  text-align: left;\n",
       "  color: white;\n",
       "  border-radius: 4px;\n",
       "  padding: 4px 4px;\n",
       "  border: solid 0px black;\n",
       "  line-height: 1em;\n",
       "\n",
       "  /* Position the tooltip */\n",
       "  position: absolute;\n",
       "  z-index: 1;\n",
       "}\n",
       "\n",
       ".tooltip:hover .tooltiptext {\n",
       "  visibility: visible;\n",
       "}\n",
       "</style>"
      ],
      "text/plain": [
       "<IPython.core.display.HTML object>"
      ]
     },
     "metadata": {},
     "output_type": "display_data"
    }
   ],
   "source": [
    "#export\n",
    "class PredSB(BaseParamWidget, GetAttr):\n",
    "    'Layout for \"Prediction and Quality Control\" Section'\n",
    "    _default = 'config'\n",
    "    \n",
    "    #Hints\n",
    "    txt = 'Predict segmentations'\n",
    "    hints = w.Label(txt)\n",
    "    \n",
    "    params = {\n",
    "        'pred_tta': w.ToggleButtons(options=[('Yes', True), ('No', False)],\n",
    "                                    tooltips=['Enable Test-Time Augmentation','Disable Test-Time Augmentation']),\n",
    "        'min_pixel_export' : w.IntText(layout= w.Layout(width='auto')),\n",
    "    }\n",
    "    params['pred_tta'].style.button_width = '50px' \n",
    " \n",
    "    #Grid\n",
    "    grid = w.GridspecLayout(7, GRID_COLS, width='100%',  grid_gap=\"0px\", align_items='center')\n",
    "    #grid[0, 0] = w.HTML(_html_wrap(*_dpred['s_pred']))\n",
    "    grid[0, 0] = w.HTML(_html_wrap(*_dtrain['tta']))\n",
    "    grid[0, 1:] = params['pred_tta']\n",
    "    grid[2, :] = w.HTML('<hr>')\n",
    "    grid[3, 0] = w.HTML(_html_wrap(*_dpred['min_pixel_export']))\n",
    "    grid[3, 1:] = params['min_pixel_export']\n",
    "    grid[4, 0] = w.HTML(_html_wrap(*_dpred['imagej']))\n",
    "    grid[5, 0] = w.HTML('Results Table')\n",
    "    grid[6, 0] = w.HTML('Downloads')\n",
    "    #grid[6, 0] = w.HTML(_html_wrap(*_dpred['cache']))\n",
    "    \n",
    "    #Res\n",
    "    run = w.Button(description='Run Prediction*', layout=w.Layout(width='auto'))\n",
    "    grid[1, 1:] = run\n",
    "    \n",
    "    #Res\n",
    "    rois = w.Button(description='Export ROIs', layout=w.Layout(width='auto'))\n",
    "    grid[4, 1:] = rois\n",
    "    \n",
    "    # Result Widget\n",
    "    open_results = w.Button(description='Open', layout=w.Layout(width='auto'))\n",
    "    grid[5, 1:] = open_results\n",
    "\n",
    "    #Final Widget\n",
    "    widget = w.VBox([hints,grid])\n",
    "    \n",
    "    def __init__(self, path=None, **kwargs):\n",
    "        super().__init__(**kwargs)  \n",
    "        path = path or Path('.') \n",
    "        self.down  = PathDownloads(path, 'Select', tooltip='Click to download')\n",
    "        self.grid[6, 1:] = self.down.button    "
   ]
  },
  {
   "cell_type": "code",
   "execution_count": null,
   "metadata": {},
   "outputs": [
    {
     "data": {
      "text/html": [
       "<style>\n",
       ".tooltip {\n",
       "  position: relative;\n",
       "  display: inline-block;\n",
       "}\n",
       "\n",
       ".tooltip .tooltiptext {\n",
       "  visibility: hidden;\n",
       "  width: max-content;\n",
       "  max-width: 280px;\n",
       "  background-color: #00bcd4;\n",
       "  text-align: left;\n",
       "  color: white;\n",
       "  border-radius: 4px;\n",
       "  padding: 4px 4px;\n",
       "  border: solid 0px black;\n",
       "  line-height: 1em;\n",
       "\n",
       "  /* Position the tooltip */\n",
       "  position: absolute;\n",
       "  z-index: 1;\n",
       "}\n",
       "\n",
       ".tooltip:hover .tooltiptext {\n",
       "  visibility: visible;\n",
       "}\n",
       "</style>"
      ],
      "text/plain": [
       "<IPython.core.display.HTML object>"
      ]
     },
     "metadata": {},
     "output_type": "display_data"
    },
    {
     "data": {
      "application/vnd.jupyter.widget-view+json": {
       "model_id": "5284a19a5946494191714b36ab04dacb",
       "version_major": 2,
       "version_minor": 0
      },
      "text/plain": [
       "VBox(children=(Label(value='Predict segmentations'), GridspecLayout(children=(HTML(value='<p data-html=\"true\" …"
      ]
     },
     "metadata": {},
     "output_type": "display_data"
    }
   ],
   "source": [
    "t=PredSB()\n",
    "t.widget"
   ]
  },
  {
   "cell_type": "code",
   "execution_count": null,
   "metadata": {},
   "outputs": [
    {
     "data": {
      "text/html": [
       "<style>\n",
       ".tooltip {\n",
       "  position: relative;\n",
       "  display: inline-block;\n",
       "}\n",
       "\n",
       ".tooltip .tooltiptext {\n",
       "  visibility: hidden;\n",
       "  width: max-content;\n",
       "  max-width: 280px;\n",
       "  background-color: #00bcd4;\n",
       "  text-align: left;\n",
       "  color: white;\n",
       "  border-radius: 4px;\n",
       "  padding: 4px 4px;\n",
       "  border: solid 0px black;\n",
       "  line-height: 1em;\n",
       "\n",
       "  /* Position the tooltip */\n",
       "  position: absolute;\n",
       "  z-index: 1;\n",
       "}\n",
       "\n",
       ".tooltip:hover .tooltiptext {\n",
       "  visibility: visible;\n",
       "}\n",
       "</style>"
      ],
      "text/plain": [
       "<IPython.core.display.HTML object>"
      ]
     },
     "metadata": {},
     "output_type": "display_data"
    }
   ],
   "source": [
    "#export\n",
    "class CellposeSB(BaseParamWidget, GetAttr):\n",
    "    'Layout for instance separation with cellpose'\n",
    "    _default = 'config'\n",
    "    \n",
    "    #Hints\n",
    "    txt = 'Get instance segmentations'\n",
    "    hints = w.Label(txt)\n",
    "    \n",
    "    params = {\n",
    "        'cellpose_export_class':w.IntText(layout= w.Layout(width='auto')),\n",
    "        'cellpose_model': w.Dropdown(options=['nuclei', 'cyto', 'cyto2'], layout=w.Layout(width='auto', min_width='1px')),\n",
    "        'cellpose_diameter' : w.IntText(layout= w.Layout(width='auto')),\n",
    "        'min_pixel_export' : w.IntText(layout= w.Layout(width='auto')),\n",
    "    }\n",
    " \n",
    "    #Grid\n",
    "    grid = w.GridspecLayout(9, GRID_COLS, width='100%',  grid_gap=\"0px\", align_items='center')\n",
    "    #grid[0, 0] = w.HTML(_html_wrap(*_dpred['s_pred']))\n",
    "    grid[0, 0] = w.HTML(_html_wrap(*_dpred['cellpose_export_class']))\n",
    "    grid[0, 1:] = params['cellpose_export_class']\n",
    "    grid[1, 0] = w.HTML(_html_wrap(*_dpred['cellpose_model']))\n",
    "    grid[1, 1:] = params['cellpose_model']\n",
    "    grid[2, 0] = w.HTML(_html_wrap(*_dpred['cellpose_diameter']))\n",
    "    grid[2, 1:] = params['cellpose_diameter']\n",
    "    grid[3, 0] = w.HTML(_html_wrap(*_dpred['min_pixel_export']))\n",
    "    grid[3, 1:] = params['min_pixel_export']\n",
    "    grid[5, :] = w.HTML('<hr>')\n",
    "    grid[6, 0] = w.HTML(_html_wrap(*_dpred['imagej']))\n",
    "    grid[7, 0] = w.HTML('Results Table')\n",
    "    grid[8, 0] = w.HTML('Downloads')\n",
    "    #grid[6, 0] = w.HTML(_html_wrap(*_dpred['cache']))\n",
    "    \n",
    "    #Res\n",
    "    run = w.Button(description='Run Cellpose*', layout=w.Layout(width='auto'))\n",
    "    grid[4, 1:] = run\n",
    "    \n",
    "    #Res\n",
    "    rois = w.Button(description='Export ROIs', layout=w.Layout(width='auto'))\n",
    "    grid[6, 1:] = rois\n",
    "    \n",
    "    # Result Widget\n",
    "    open_results_cp = w.Button(description='Open', layout=w.Layout(width='auto'))\n",
    "    grid[7, 1:] = open_results_cp\n",
    "\n",
    "    #Final Widget\n",
    "    widget = w.VBox([hints,grid])\n",
    "    \n",
    "    def __init__(self, path=None, **kwargs):\n",
    "        super().__init__(**kwargs)  \n",
    "        path = path or Path('.') \n",
    "        self.down  = PathDownloads(path, 'Select', tooltip='Click to download')\n",
    "        self.grid[8, 1:] = self.down.button    "
   ]
  },
  {
   "cell_type": "code",
   "execution_count": null,
   "metadata": {},
   "outputs": [
    {
     "data": {
      "text/html": [
       "<style>\n",
       ".tooltip {\n",
       "  position: relative;\n",
       "  display: inline-block;\n",
       "}\n",
       "\n",
       ".tooltip .tooltiptext {\n",
       "  visibility: hidden;\n",
       "  width: max-content;\n",
       "  max-width: 280px;\n",
       "  background-color: #00bcd4;\n",
       "  text-align: left;\n",
       "  color: white;\n",
       "  border-radius: 4px;\n",
       "  padding: 4px 4px;\n",
       "  border: solid 0px black;\n",
       "  line-height: 1em;\n",
       "\n",
       "  /* Position the tooltip */\n",
       "  position: absolute;\n",
       "  z-index: 1;\n",
       "}\n",
       "\n",
       ".tooltip:hover .tooltiptext {\n",
       "  visibility: visible;\n",
       "}\n",
       "</style>"
      ],
      "text/plain": [
       "<IPython.core.display.HTML object>"
      ]
     },
     "metadata": {},
     "output_type": "display_data"
    },
    {
     "data": {
      "application/vnd.jupyter.widget-view+json": {
       "model_id": "ef31277737d447d98f8b93aeec63904e",
       "version_major": 2,
       "version_minor": 0
      },
      "text/plain": [
       "VBox(children=(Label(value='Get instance segmentations'), GridspecLayout(children=(HTML(value='<p data-html=\"t…"
      ]
     },
     "metadata": {},
     "output_type": "display_data"
    }
   ],
   "source": [
    "t=CellposeSB()\n",
    "t.widget"
   ]
  },
  {
   "cell_type": "markdown",
   "metadata": {},
   "source": [
    "#### Prediction UI"
   ]
  },
  {
   "cell_type": "code",
   "execution_count": null,
   "metadata": {},
   "outputs": [
    {
     "data": {
      "text/html": [
       "<style>\n",
       ".tooltip {\n",
       "  position: relative;\n",
       "  display: inline-block;\n",
       "}\n",
       "\n",
       ".tooltip .tooltiptext {\n",
       "  visibility: hidden;\n",
       "  width: max-content;\n",
       "  max-width: 280px;\n",
       "  background-color: #00bcd4;\n",
       "  text-align: left;\n",
       "  color: white;\n",
       "  border-radius: 4px;\n",
       "  padding: 4px 4px;\n",
       "  border: solid 0px black;\n",
       "  line-height: 1em;\n",
       "\n",
       "  /* Position the tooltip */\n",
       "  position: absolute;\n",
       "  z-index: 1;\n",
       "}\n",
       "\n",
       ".tooltip:hover .tooltiptext {\n",
       "  visibility: visible;\n",
       "}\n",
       "</style>"
      ],
      "text/plain": [
       "<IPython.core.display.HTML object>"
      ]
     },
     "metadata": {},
     "output_type": "display_data"
    }
   ],
   "source": [
    "#export\n",
    "class PredUI(BaseUI):\n",
    "    'UI for prediction of new data'\n",
    "    \n",
    "    sections = ['1 - Data and Model Ensemble', \n",
    "                '2 - Prediction and Quality Control',\n",
    "                '3 - Cellpose Instance Segmentation']\n",
    "    \n",
    "    def __init__(self, hide=False, **kwargs):\n",
    "        super().__init__(**kwargs)\n",
    "        \n",
    "        #Sidebar\n",
    "        self.sb = {\n",
    "            'data':PredInputSB(path=self.path, config=self.config),\n",
    "            'pred':PredSB(path=self.path, config=self.config),\n",
    "            'cellpose':CellposeSB(path=self.path, config=self.config),\n",
    "        }      \n",
    "    \n",
    "        #Sidebar Accordion\n",
    "        self.sb_acc = w.Accordion(children=[x.widget for x in self.sb.values()], layout=w.Layout(grid_area='sidebar'))       \n",
    "        for i, name in enumerate(self.sections):\n",
    "            self.sb_acc.set_title(i, name)\n",
    "        self.sb_acc.observe(self.sidebar_change)\n",
    "        \n",
    "        self.sb['pred'].open_results.on_click(self.open_results)  \n",
    "        self.sb['cellpose'].open_results_cp.on_click(self.open_results_cp) \n",
    "        \n",
    "        #Extra \n",
    "        self.xtr = {\n",
    "            'result':ResultWidget(),\n",
    "            'result_cp':ResultWidget()\n",
    "        }\n",
    "        \n",
    "        #Main\n",
    "        self.main = {\n",
    "            'img':self.sb['data'].img.dialog, \n",
    "            'ens':self.sb['data'].ens.dialog, \n",
    "            'msk':self.sb['data'].msk.dialog, \n",
    "            'down':self.sb['pred'].down.dialog, \n",
    "            'down2':self.sb['cellpose'].down.dialog, \n",
    "            'result':self.xtr['result'].widget,\n",
    "            'result_cp':self.xtr['result_cp'].widget,\n",
    "             **{k:w.Output() for k in self.sb.keys()}\n",
    "        }\n",
    "        self.main_box = w.VBox(list(self.main.values()))\n",
    "        \n",
    "        if hide: self.hide()\n",
    "           \n",
    "    def open_results(self, b):\n",
    "        self.main['result'].layout.display = \"block\"    \n",
    "    \n",
    "    def open_results_cp(self, b):\n",
    "        self.main['result_cp'].layout.display = \"block\"   "
   ]
  },
  {
   "cell_type": "code",
   "execution_count": null,
   "metadata": {},
   "outputs": [
    {
     "data": {
      "text/html": [
       "<style>\n",
       ".tooltip {\n",
       "  position: relative;\n",
       "  display: inline-block;\n",
       "}\n",
       "\n",
       ".tooltip .tooltiptext {\n",
       "  visibility: hidden;\n",
       "  width: max-content;\n",
       "  max-width: 280px;\n",
       "  background-color: #00bcd4;\n",
       "  text-align: left;\n",
       "  color: white;\n",
       "  border-radius: 4px;\n",
       "  padding: 4px 4px;\n",
       "  border: solid 0px black;\n",
       "  line-height: 1em;\n",
       "\n",
       "  /* Position the tooltip */\n",
       "  position: absolute;\n",
       "  z-index: 1;\n",
       "}\n",
       "\n",
       ".tooltip:hover .tooltiptext {\n",
       "  visibility: visible;\n",
       "}\n",
       "</style>"
      ],
      "text/plain": [
       "<IPython.core.display.HTML object>"
      ]
     },
     "metadata": {},
     "output_type": "display_data"
    },
    {
     "data": {
      "application/vnd.jupyter.widget-view+json": {
       "model_id": "9f5560dd94484d77b1c9506a88bd5934",
       "version_major": 2,
       "version_minor": 0
      },
      "text/plain": [
       "Accordion(children=(VBox(children=(Label(value='Provide images and models'), GridspecLayout(children=(HTML(val…"
      ]
     },
     "metadata": {},
     "output_type": "display_data"
    }
   ],
   "source": [
    "t=PredUI('')\n",
    "t.sb_acc"
   ]
  },
  {
   "cell_type": "markdown",
   "metadata": {},
   "source": [
    "## GUI"
   ]
  },
  {
   "cell_type": "code",
   "execution_count": null,
   "metadata": {},
   "outputs": [
    {
     "data": {
      "text/html": [
       "<style>\n",
       ".tooltip {\n",
       "  position: relative;\n",
       "  display: inline-block;\n",
       "}\n",
       "\n",
       ".tooltip .tooltiptext {\n",
       "  visibility: hidden;\n",
       "  width: max-content;\n",
       "  max-width: 280px;\n",
       "  background-color: #00bcd4;\n",
       "  text-align: left;\n",
       "  color: white;\n",
       "  border-radius: 4px;\n",
       "  padding: 4px 4px;\n",
       "  border: solid 0px black;\n",
       "  line-height: 1em;\n",
       "\n",
       "  /* Position the tooltip */\n",
       "  position: absolute;\n",
       "  z-index: 1;\n",
       "}\n",
       "\n",
       ".tooltip:hover .tooltiptext {\n",
       "  visibility: visible;\n",
       "}\n",
       "</style>"
      ],
      "text/plain": [
       "<IPython.core.display.HTML object>"
      ]
     },
     "metadata": {},
     "output_type": "display_data"
    }
   ],
   "source": [
    "#export\n",
    "class GUI(GetAttr):\n",
    "    'GUI for deepflash2'\n",
    "    _default = 'config'\n",
    "    \n",
    "    #Header and Footer\n",
    "    head = \"<h1 style='text-align:center'><img src='https://raw.githubusercontent.com/matjesg/deepflash2/master/nbs/media/logo/deepflash2_logo_small.png' width='150'/></h1>\"\n",
    "    header = w.HTML(value=head, layout=w.Layout(width='auto', grid_area='header'))\n",
    "    #foot = \"<h6 style='text-align:left;background-color:lightgray'>&nbsp; </h6>\"\n",
    "    foot = \"<hr>\"\n",
    "    footer = w.HTML(value=foot, layout=w.Layout(width='100%', grid_area='footer'))\n",
    "    \n",
    "    #Category Buttons\n",
    "    cat_btns = {\n",
    "        'gt':w.Button(description='GT Estimation', layout=w.Layout(flex='1 1 0%',width='auto'),\n",
    "                     tooltip='Derive reference segmentations from segmentations of multiple experts.'),\n",
    "        'train':w.Button(description='Training', layout=w.Layout(flex='1 1 0%',width='auto'),\n",
    "                        tooltip='Train deep learning ensembles for segmentation of fluorescent labels in microscopy images.'),\n",
    "        'pred':w.Button(description='Prediction', layout=w.Layout(flex='1 1 0%', width='auto'),\n",
    "                       tooltip='Predict segmentation masks on new data using customized models')\n",
    "    }\n",
    "    cat_btns_box = w.Box(children=list(cat_btns.values()), layout=w.Layout(grid_area='cat_btns'))\n",
    "\n",
    "    def __init__(self, path=Path('.'), reinit=False):\n",
    "        self.config = Config()\n",
    "        self.base_path = path.resolve()\n",
    "        self.config.project_dir = str(self.base_path/self.project_dir) if self.project_dir=='deepflash2' else self.project_dir\n",
    "        \n",
    "        #Project Dir\n",
    "        self.proj = PathSelector(self.base_path, 'Select Project Folder', tooltip='Project Folder \\ndefault: <deepflash2>')\n",
    "        self.proj.button.button_style='info'\n",
    "        self.proj.button_select.on_click(self.set_project_dir)      \n",
    "        \n",
    "        #Click Category Buttons\n",
    "        for v in self.cat_btns.values():\n",
    "            v.on_click(self.cat_clicked)   \n",
    "            \n",
    "        #Categories\n",
    "        self.gt = GTEstUI(hide=True, path=self.proj_path, config=self.config)\n",
    "        self.train = TrainUI(hide=True,path=self.proj_path, config=self.config)\n",
    "        self.pred = PredUI(hide=True, path=self.proj_path, config=self.config)\n",
    "        self.cat = {'gt':self.gt, 'train':self.train, 'pred':self.pred}\n",
    "        \n",
    "        #Connect Buttons\n",
    "        ## GT Estimation\n",
    "        self.gt.sb['data'].run.on_click(self.gt_data_run_clicked)\n",
    "        self.gt.sb['data'].sd.on_click(self.gt_data_sd_clicked)\n",
    "        self.gt.sb['gt'].staple.on_click(self.gt_ref_clicked)\n",
    "        self.gt.sb['gt'].mv.on_click(self.gt_ref_clicked)\n",
    "        self.gt.xtr['result'].run.on_click(self.gt_show_results_clicked)\n",
    "        self.gt_to_train = w.Button(description='Continue to training with estimated ground truth.', layout=w.Layout(width='auto'))\n",
    "        self.gt_to_train.on_click(self.gt_to_train_clicked)\n",
    "\n",
    "        ## Train\n",
    "        self.train.sb['data'].run.on_click(self.train_data_run_clicked)\n",
    "        self.train.sb['data'].sd.on_click(self.train_data_sd_clicked)\n",
    "        self.train.sb['data'].cfg.button_select.on_click(self.train_data_load_cfg_clicked)\n",
    "        self.train.sb['train'].run.on_click(self.train_run_clicked)\n",
    "        self.train.sb['train'].cfg_save.on_click(self.train_cfg_save_clicked)\n",
    "        self.train.sb['valid'].run.on_click(self.train_valid_run_clicked)\n",
    "        self.train.sb['valid'].ens.button_select.on_click(self.train_valid_ens_save_clicked)\n",
    "        #self.train.sb['valid'].cache.on_click(self.train_valid_cache_clicked)\n",
    "        self.train.xtr['lr'].run.on_click(self.lr_start_clicked)\n",
    "        \n",
    "        ## Pred\n",
    "        self.pred.sb['data'].run.on_click(self.pred_data_run_clicked)\n",
    "        self.pred.sb['data'].msk.button_select.on_click(self.pred_data_msk_save_clicked)\n",
    "        self.pred.sb['data'].sd.on_click(self.pred_data_sd_clicked)\n",
    "        self.pred.sb['pred'].run.on_click(self.pred_run_clicked)\n",
    "        self.pred.sb['pred'].rois.on_click(self.pred_rois_clicked)\n",
    "        self.pred.xtr['result'].run.on_click(self.pred_show_results_clicked)\n",
    "        self.pred.sb['cellpose'].run.on_click(self.cellpose_run_clicked)\n",
    "        self.pred.sb['cellpose'].rois.on_click(self.cellpose_rois_clicked)\n",
    "        self.pred.xtr['result_cp'].run.on_click(self.pred_cp_show_results_clicked)\n",
    "        #self.pred.sb['pred'].cache.on_click(self.pred_cache_clicked)\n",
    "        \n",
    "        # Init Project\n",
    "        self._init_proj()\n",
    "        \n",
    "        self.star_info = w.Label('*Required')\n",
    "        self.star_info.layout.display = \"none\"   \n",
    "        \n",
    "        box_sb = w.VBox(children=[x.sb_acc for x in self.cat.values()]+[self.star_info], layout=w.Layout(grid_area='sidebar'))\n",
    "        box_main = w.VBox(children=[x.main_box for x in self.cat.values()], layout=w.Layout(grid_area='main'))\n",
    "        box_proj = w.VBox(children=[self.proj.button, self.proj.dialog], layout=w.Layout(grid_area='proj', flex_flow='column', align_items='flex-start'))\n",
    "        self.tmp = w.Output(layout=w.Layout(grid_area='tmp'))\n",
    "        \n",
    "        self.gb = w.GridBox(children=[self.header, self.cat_btns_box, box_proj, box_sb, box_main, self.footer, self.tmp],\n",
    "                       layout=w.Layout(\n",
    "                           width='100%',\n",
    "                           grid_template_columns='350px auto',\n",
    "                           grid_gap='0px 0px',\n",
    "                           grid_template_areas='''\n",
    "                           \"header header\"\n",
    "                           \"cat_btns proj\"\n",
    "                           \"sidebar main\"\n",
    "                           \"footer footer\"\n",
    "                           \"tmp tmp\"\n",
    "                           '''))\n",
    "        display(self.gb)\n",
    "        \n",
    "        \n",
    "    @property\n",
    "    def proj_path(self):\n",
    "        return Path(self.project_dir).absolute()\n",
    "        \n",
    "    def _set_download_dirs(self):\n",
    "        self.gt.sb['gt'].down.set_path(self.proj_path/self.gt_dir)\n",
    "        self.train.sb['valid'].down.set_path(self.proj_path/self.train_dir)\n",
    "        self.pred.sb['pred'].down.set_path(self.proj_path/self.pred_dir)\n",
    "        self.pred.sb['cellpose'].down.set_path(self.proj_path/self.pred_dir)\n",
    "        #Models dir\n",
    "        self.pred.sb['data'].ens.path = self.proj_path/self.train_dir/self.ens_dir\n",
    "        \n",
    "    def _set_selection_dirs(self):\n",
    "        self.gt.sb['data'].msk.set_path(self.proj_path)\n",
    "        self.train.sb['data'].img.set_path(self.proj_path)\n",
    "        self.train.sb['data'].msk.set_path(self.proj_path)\n",
    "        self.train.sb['data'].cfg.set_path(self.proj_path)\n",
    "        self.pred.sb['data'].img.set_path(self.proj_path)\n",
    "        self.pred.sb['data'].msk.set_path(self.proj_path)\n",
    "        \n",
    "        self.train.sb['valid'].ens.set_path(self.proj_path)\n",
    "        self.pred.sb['data'].ens.set_path(self.proj_path)\n",
    "        \n",
    "    def _init_proj(self):\n",
    "        self.el, self.el_pred, self.gt_est = None, None, None\n",
    "        self._set_download_dirs() \n",
    "        self.test_masks_provided = False\n",
    "                   \n",
    "    def set_project_dir(self, b):\n",
    "        self.proj.button.button_style=''\n",
    "        self.config.project_dir = str(self.proj.path)\n",
    "        self._set_selection_dirs()\n",
    "        self._init_proj()\n",
    "        \n",
    "    def cat_clicked(self, b):\n",
    "        self.star_info.layout.display = \"block\"   \n",
    "        for k,v in self.cat_btns.items():\n",
    "            if v==b:\n",
    "                v.button_style = 'info'\n",
    "                self.cat[k].show()\n",
    "            else:\n",
    "                v.button_style = ''\n",
    "                self.cat[k].hide()\n",
    "                \n",
    "    def set_config(self, config):\n",
    "        self.config=config\n",
    "        self.train.set_config(config)\n",
    "                \n",
    "    # GT Estimation\n",
    "    def gt_data_run_clicked(self, b):\n",
    "        out = self.gt.main['data']\n",
    "        out.clear_output()       \n",
    "        exp_folder = self.gt.sb['data'].msk.path.relative_to(self.proj_path)        \n",
    "        with out:    \n",
    "            self.gt_est = GTEstimator(exp_folder, config=self.config, path=self.proj_path)\n",
    "            items = {x:x for x in self.gt_est.masks.keys()}\n",
    "            ipp = ItemsPerPage(self.proj_path, self.gt_est.show_data, items=items)\n",
    "            display(ipp.widget)\n",
    "            \n",
    "    def gt_data_sd_clicked(self, b):\n",
    "        out = self.gt.main['data']\n",
    "        out.clear_output() \n",
    "        with out:   \n",
    "            path = self.proj_path/'deepflash2_sample_data'/'expert_segmentations'\n",
    "            print(f'Dowloading expert sample data into {path.relative_to(self.proj_path)}...')\n",
    "            download_sample_data(SAMPLE_DATA_URL, 'wue1_cFOS_expert_segmentation_samples.zip', path, extract=True)\n",
    "            self.gt.sb['data'].msk.path = path\n",
    "            self.gt_data_run_clicked('')\n",
    "            \n",
    "    def gt_to_train_clicked(self, b):\n",
    "        self.train.sb['data'].msk.refresh(self.gt_save_dir)\n",
    "        self.train.sb['data'].msk.on_button_select_clicked(\"\")     \n",
    "        self.cat_clicked(self.cat_btns['train'])\n",
    "    \n",
    "    def gt_ref_clicked(self, b):\n",
    "        out = self.gt.main['gt']\n",
    "        out.clear_output()  \n",
    "        self.gt_save_dir = (self.proj_path/self.gt_dir/b.name).relative_to(self.proj_path)\n",
    "        with out: \n",
    "            assert type(self.gt_est)==GTEstimator, 'Please load data first!'     \n",
    "            print('Please watch the logs below. The final results will be printed here.')\n",
    "        if COLAB:\n",
    "            with colab.output.temporary(): \n",
    "                print('Temporary Logs:')\n",
    "                self.gt_est.gt_estimation(method=b.name, save_dir=self.gt_save_dir)\n",
    "        else:\n",
    "            with self.tmp:\n",
    "                print('Temporary Logs:')\n",
    "                self.gt_est.gt_estimation(method=b.name, save_dir=self.gt_save_dir)\n",
    "                self.tmp.clear_output()\n",
    "        out.clear_output() \n",
    "        with out: \n",
    "            print('Ground Truth Estimation finished:')\n",
    "            print(f'- {b.name} segmentation masks saved to folder: {self.gt_save_dir}.')\n",
    "            print(f'- {b.name} similiarity results are saved to folder: {self.gt_dir}.')\n",
    "            print(f'- Inspect the results by opening the \"Results table\"')\n",
    "            print(f'- Download masks and results in the \"Downloads\" Section.')\n",
    "            display(self.gt_to_train)\n",
    "            display(d.Markdown('---'))\n",
    "    \n",
    "            items = {x:x for x in self.gt_est.masks.keys()}\n",
    "            ipp = ItemsPerPage(self.proj_path, self.gt_est.show_gt, items=items, method=b.name)\n",
    "            display(ipp.widget)\n",
    "            \n",
    "    # GT results table\n",
    "    def gt_show_results_clicked(self, b):\n",
    "        out = self.gt.xtr['result'].output\n",
    "        out.clear_output()\n",
    "        with out:\n",
    "            df = self.gt_est.df_res.round(3)\n",
    "            if COLAB:\n",
    "                display(data_table.DataTable(df, include_index=False, num_rows_per_page=10, min_width='1'))\n",
    "            else:\n",
    "                display(df)\n",
    "\n",
    "    # Train\n",
    "    def train_data_run_clicked(self, b):\n",
    "        out = self.train.main['data']\n",
    "        out.clear_output()       \n",
    "        with out: print('Loading data. Please wait')\n",
    "        image_folder = self.train.sb['data'].img.path.relative_to(self.proj_path)\n",
    "        mask_folder = self.train.sb['data'].msk.path.relative_to(self.proj_path)  \n",
    "        ensemble_path = self.proj_path/self.train_dir/self.ens_dir\n",
    "        \n",
    "        with out:\n",
    "            self.el = EnsembleLearner(image_folder, mask_folder, self.config, self.proj_path, ensemble_path=ensemble_path)\n",
    "            items = {x:x for x in self.el.files}\n",
    "            ipp = ItemsPerPage(self.proj_path, self.el.ds.show_data, items=items, overlay=True if self.n_classes==2 else False)\n",
    "            display(ipp.widget)\n",
    "                       \n",
    "    def train_data_sd_clicked(self, b):\n",
    "        out = self.train.main['data']\n",
    "        out.clear_output() \n",
    "        with out:\n",
    "            path = self.proj_path/'deepflash2_sample_data'\n",
    "            print(f'Dowloading sample data into {path.relative_to(self.proj_path)}')\n",
    "            download_sample_data(SAMPLE_DATA_URL, 'wue1_cFOS_small.zip', path, extract=True)\n",
    "            self.train.sb['data'].img.path = path/'images'\n",
    "            self.train.sb['data'].msk.path = path/'masks'\n",
    "            self.train_data_run_clicked(b)\n",
    "            \n",
    "    def train_data_load_cfg_clicked(self, b):\n",
    "        cfg = self.train.sb['data'].cfg\n",
    "        cfg.output.clear_output()\n",
    "        with cfg.output:\n",
    "            path = cfg.cwd/cfg.select.value[0]\n",
    "            self.config.load(path)\n",
    "        for ui in [*self.train.sb.values(),*self.train.xtr.values()]:\n",
    "            if hasattr(ui, 'set_config'): ui.set_config(self.config)\n",
    "        time.sleep(3)\n",
    "        cfg.output.clear_output()     \n",
    "        \n",
    "    def train_cfg_save_clicked(self, b):\n",
    "        timestr = time.strftime(\"%Y%m%d%H%M\")\n",
    "        path = self.proj_path/self.train_dir/f'config_{timestr}'\n",
    "        with self.train.main['train']: self.config.save(path)       \n",
    "            \n",
    "    def train_run_clicked(self, b):\n",
    "        out = self.train.main['train']\n",
    "        out.clear_output()\n",
    "        with out: \n",
    "            assert type(self.el)==EnsembleLearner, 'Please load data first!'\n",
    "            print('Starting training. This may take up to a few hours - depending on your hardware, the number of models, and training iterations.')\n",
    "            print('Please watch the logs below. The final results will be printed here.')\n",
    "\n",
    "        sel = self.train.sb['train'].sel.value\n",
    "        self.el.set_n(self.n_models)\n",
    "        for i in range(1, self.n_models+1):\n",
    "            if (sel != 'ensemble') and (sel != f'model_{i}'): continue\n",
    "            with out: print(f'Training of model {i}')\n",
    "            tout = colab.output.temporary() if COLAB else self.tmp\n",
    "\n",
    "            with tout:\n",
    "                print('Temporary Logs:')\n",
    "                self.el.fit(i) \n",
    "                if not COLAB: self.tmp.clear_output()\n",
    "                    \n",
    "            with out:\n",
    "                print(f'Metrics for model {i} of {self.n_models}')\n",
    "                self.el.recorder[i].plot_metrics()\n",
    "            \n",
    "    def train_valid_run_clicked(self, b):\n",
    "        out = self.train.main['valid']\n",
    "        out.clear_output()\n",
    "        sel = self.train.sb['valid'].sel.value\n",
    "        model_no = None if sel == 'ensemble' else int(sel[6:])\n",
    "        export_dir = self.proj_path/self.train_dir/self.val_dir\n",
    "        tout = colab.output.temporary() if COLAB else self.tmp\n",
    "        \n",
    "        with out: \n",
    "            assert type(self.el)==EnsembleLearner, 'Please load data first!'\n",
    "            assert len(self.el.models)>0, 'Please train models first!'\n",
    "            print(f'Validating {sel}. This may take a while!')\n",
    "\n",
    "        with tout:\n",
    "            print('Temporary Logs:')\n",
    "            df_val = self.el.get_valid_results(model_no, export_dir=export_dir, use_tta=self.tta)\n",
    "            if not COLAB: self.tmp.clear_output()\n",
    "                \n",
    "        out.clear_output()\n",
    "        with out: \n",
    "            items = {x.file:f'{x.model_no}_{x.file}' for _,x in df_val.iterrows()}\n",
    "            ipp = ItemsPerPage(self.proj_path,self.el.show_valid_results, items=items, srt_by='model/name')\n",
    "            display(ipp.widget)\n",
    "            \n",
    "    def train_valid_ens_save_clicked(self, b):\n",
    "        path = self.train.sb['valid'].ens.path\n",
    "        with self.train.main['valid']: self.el.load_ensemble(path)\n",
    "            \n",
    "            \n",
    "    def train_valid_cache_clicked(self, b):\n",
    "        with self.train.main['valid']: self.el.clear_tmp()        \n",
    "    \n",
    "    #Lr finder\n",
    "    def lr_start_clicked(self, b):\n",
    "        out = self.train.xtr['lr'].output\n",
    "        out.clear_output()\n",
    "        tout = colab.output.temporary() if COLAB else self.tmp\n",
    "        with out: \n",
    "            print('Starting Learning Rate Finder.')\n",
    "            print('Please watch the logs below. The final results will be printed here.')\n",
    "        \n",
    "        with tout:\n",
    "            print('Temporary Logs:')\n",
    "            sug_lrs, rec = self.el.lr_find(show_plot=False)\n",
    "            if not COLAB: self.tmp.clear_output()\n",
    "        with out:\n",
    "            print(sug_lrs)\n",
    "            rec.plot_lr_find() \n",
    "            plt.show()\n",
    "        \n",
    "    #Train Settings\n",
    "    def par_open(self,b):\n",
    "        self.par.widget.layout.display = \"block\"    \n",
    "    \n",
    "    # Prediction\n",
    "    def pred_data_msk_save_clicked(self, b):\n",
    "        self.test_masks_provided = True\n",
    "        \n",
    "    def pred_data_run_clicked(self, b):\n",
    "        out = self.pred.main['data']\n",
    "        out.clear_output()       \n",
    "        with out: print('Loading data. Please wait')\n",
    "        image_dir = self.pred.sb['data'].img.path.relative_to(self.proj_path)\n",
    "        ensemble_path = self.pred.sb['data'].ens.path\n",
    "        mask_dir = self.pred.sb['data'].msk.path.relative_to(self.proj_path) if self.test_masks_provided else None\n",
    "        out.clear_output() \n",
    "        with out:\n",
    "            self.el_pred = EnsembleLearner(image_dir, mask_dir=mask_dir, config=self.config, path=self.proj_path, stats=(0,0), ensemble_path=ensemble_path)\n",
    "            items = {x:x for x in self.el_pred.files}\n",
    "            ipp = ItemsPerPage(self.proj_path, self.el_pred.ds.show_data, items=items)\n",
    "            display(ipp.widget)\n",
    "            \n",
    "    def pred_data_sd_clicked(self, b):\n",
    "        out = self.pred.main['data']\n",
    "        tout = colab.output.temporary() if COLAB else self.tmp\n",
    "        \n",
    "        with out: \n",
    "            print('Dowloading sample data. Please watch the logs below...')\n",
    "        \n",
    "        with tout:\n",
    "            print('Temporary Logs:')\n",
    "            path = self.proj_path/'deepflash2_sample_data'\n",
    "            print(f'Dowloading sample data into {path.relative_to(self.proj_path)}')\n",
    "            download_sample_data(SAMPLE_DATA_URL, 'wue1_cFOS_small.zip', path, extract=True)\n",
    "            print(f'Dowloading trained models for sample data into {path.relative_to(self.proj_path)}')\n",
    "            for fold in [1,2]:\n",
    "                download_sample_data(SAMPLE_DATA_URL, f'Unet_resnet34_2classes-fold{fold}.pth', path/'models')\n",
    "            self.pred.sb['data'].img.path = path/'images'\n",
    "            self.pred.sb['data'].msk.path = path/'masks'\n",
    "            self.pred.sb['data'].ens.path = path/'models'\n",
    "            self.test_masks_provided = True\n",
    "            self.pred_data_run_clicked(b)\n",
    "            if not COLAB: self.tmp.clear_output()\n",
    "        \n",
    "    \n",
    "    def pred_run_clicked(self, b, use_tta=None, show=True):\n",
    "        use_tta = use_tta or self.pred_tta\n",
    "        out = self.pred.main['pred']\n",
    "        out.clear_output()     \n",
    "        tout = colab.output.temporary() if COLAB else self.tmp\n",
    "        export_dir = self.pred.sb['pred'].down.path\n",
    "        \n",
    "        with out: \n",
    "            assert type(self.el_pred)==EnsembleLearner, 'Please load data first!'\n",
    "            print('Predicting segmentation masks. Please wait...')\n",
    "        \n",
    "        with tout: \n",
    "            print('Temporary Logs:')\n",
    "            self.el_pred.get_ensemble_results(self.el_pred.files, export_dir=export_dir, use_tta=use_tta)\n",
    "            if not COLAB: self.tmp.clear_output()\n",
    "\n",
    "        if show:\n",
    "            with out: \n",
    "                if self.test_masks_provided: \n",
    "                    print('Calculating metrics...')\n",
    "                    self.el_pred.score_ensemble_results()\n",
    "                print(f'Saving scoring results to {export_dir}')\n",
    "                self.el_pred.df_ens.to_csv(export_dir/f'scored_prediction.csv', index=False)\n",
    "                self.el_pred.df_ens.to_excel(export_dir/f'scored_prediction.xlsx')\n",
    "                items = {r.file:r.uncertainty_score for _, r in self.el_pred.df_ens.iterrows()}\n",
    "                print(f'A high uncertainty score indicates ambiguos or out-of-distribution data.')\n",
    "                ipp = ItemsPerPage(self.proj_path, self.el_pred.show_ensemble_results, items=items, srt_index=1, srt_by='Uncertainty score', unc_metric='uncertainty_score')\n",
    "                display(ipp.widget)\n",
    "            \n",
    "    def pred_rois_clicked(self, b):\n",
    "        export_dir = self.pred.sb['pred'].down.path\n",
    "        output_folder=Path(export_dir)/'ROI_sets'\n",
    "        out = self.pred.main['pred']\n",
    "        tout = colab.output.temporary() if COLAB else self.tmp\n",
    "        \n",
    "        with out: print('Exporting cellpose ROIs to ImageJ ROI Sets...')\n",
    "        with tout: \n",
    "            print('Temporary Logs:')        \n",
    "            print('Exporting ROIs to ImageJ ROI Sets...')\n",
    "            self.el_pred.export_imagej_rois(output_folder, min_pixel=self.min_pixel_export)\n",
    "            if not COLAB: self.tmp.clear_output()\n",
    "        \n",
    "        with out:\n",
    "            print(f'Saved ROIs to {output_folder}. Click on `Select` to to download.')  \n",
    "            \n",
    "    # Pred results table\n",
    "    def pred_show_results_clicked(self, b):\n",
    "        out = self.pred.xtr['result'].output\n",
    "        out.clear_output()\n",
    "        with out:\n",
    "            df = self.el_pred.df_ens[COLS_PRED_KEEP].round(3)\n",
    "            if COLAB:\n",
    "                display(data_table.DataTable(df, include_index=False, num_rows_per_page=10, min_width='1'))\n",
    "            else:\n",
    "                display(df)\n",
    "            \n",
    "    def cellpose_run_clicked(self, b, show=True):\n",
    "        out = self.pred.main['cellpose']\n",
    "        out.clear_output()     \n",
    "        tout = colab.output.temporary() if COLAB else self.tmp\n",
    "        export_dir = self.pred.sb['cellpose'].down.path\n",
    "        \n",
    "        with out: \n",
    "            assert type(self.el_pred)==EnsembleLearner, 'Please load data first!'\n",
    "            print('Starting cellpose prediction. Please wait...')\n",
    "            \n",
    "        with tout:\n",
    "            print('Temporary Logs:')\n",
    "            self.el_pred.get_cellpose_results(export_dir=export_dir)\n",
    "            if not COLAB: self.tmp.clear_output()\n",
    "                \n",
    "        if show:\n",
    "            with out: \n",
    "                if self.test_masks_provided: \n",
    "                    print('Calculating instance segmentation metrics...')\n",
    "                    self.el_pred.score_cellpose_results(label_fn=self.el_pred.label_fn)\n",
    "                print(f'Saving scoring results to {export_dir}')\n",
    "                self.el_pred.df_ens.to_csv(export_dir/f'scored_prediction.csv', index=False)\n",
    "                self.el_pred.df_ens.to_excel(export_dir/f'scored_prediction.xlsx')\n",
    "                items = {r.file:r.uncertainty_score for _, r in self.el_pred.df_ens.iterrows()}\n",
    "                print(f'A high uncertainty score indicates ambiguos or out-of-distribution data.')\n",
    "                ipp = ItemsPerPage(self.proj_path, self.el_pred.show_cellpose_results, items=items, srt_index=1, srt_by='Uncertainty score', unc_metric='uncertainty_score')\n",
    "                display(ipp.widget)\n",
    "\n",
    "                \n",
    "    def cellpose_rois_clicked(self, b):\n",
    "        export_dir = self.pred.sb['cellpose'].down.path\n",
    "        output_folder=Path(export_dir)/'cellpose_ROI_sets'\n",
    "        out = self.pred.main['cellpose']\n",
    "        tout = colab.output.temporary() if COLAB else self.tmp\n",
    "        with out: print('Exporting cellpose ROIs to ImageJ ROI Sets...')\n",
    "        with tout: \n",
    "            print('Temporary Logs:')  \n",
    "            self.el_pred.export_cellpose_rois(output_folder)\n",
    "            if not COLAB: self.tmp.clear_output()\n",
    "        with out: print(f'Saved ROIs to {output_folder}. Click on `Select` to to download.')  \n",
    "    \n",
    "    # Pred results table\n",
    "    def pred_cp_show_results_clicked(self, b):\n",
    "        out = self.pred.xtr['result_cp'].output\n",
    "        out.clear_output()\n",
    "        with out:\n",
    "            df = self.el_pred.df_ens[COLS_PRED_KEEP_CP].round(3)\n",
    "            if COLAB:\n",
    "                display(data_table.DataTable(df, include_index=False, num_rows_per_page=10, min_width='1'))\n",
    "            else:\n",
    "                display(df)        \n",
    "    \n",
    "    def pred_cache_clicked(self, b):\n",
    "        with self.pred.main['pred']: self.el_pred.clear_tmp()    "
   ]
  },
  {
   "cell_type": "code",
   "execution_count": null,
   "metadata": {},
   "outputs": [
    {
     "data": {
      "text/html": [
       "<style>\n",
       ".tooltip {\n",
       "  position: relative;\n",
       "  display: inline-block;\n",
       "}\n",
       "\n",
       ".tooltip .tooltiptext {\n",
       "  visibility: hidden;\n",
       "  width: max-content;\n",
       "  max-width: 280px;\n",
       "  background-color: #00bcd4;\n",
       "  text-align: left;\n",
       "  color: white;\n",
       "  border-radius: 4px;\n",
       "  padding: 4px 4px;\n",
       "  border: solid 0px black;\n",
       "  line-height: 1em;\n",
       "\n",
       "  /* Position the tooltip */\n",
       "  position: absolute;\n",
       "  z-index: 1;\n",
       "}\n",
       "\n",
       ".tooltip:hover .tooltiptext {\n",
       "  visibility: visible;\n",
       "}\n",
       "</style>"
      ],
      "text/plain": [
       "<IPython.core.display.HTML object>"
      ]
     },
     "metadata": {},
     "output_type": "display_data"
    },
    {
     "data": {
      "application/vnd.jupyter.widget-view+json": {
       "model_id": "185346ad5e2840e38b05c043331e2d81",
       "version_major": 2,
       "version_minor": 0
      },
      "text/plain": [
       "GridBox(children=(HTML(value=\"<h1 style='text-align:center'><img src='https://raw.githubusercontent.com/matjes…"
      ]
     },
     "metadata": {},
     "output_type": "display_data"
    }
   ],
   "source": [
    "t = GUI()"
   ]
  },
  {
   "cell_type": "code",
   "execution_count": null,
   "metadata": {},
   "outputs": [
    {
     "data": {
      "text/html": [
       "<style>\n",
       ".tooltip {\n",
       "  position: relative;\n",
       "  display: inline-block;\n",
       "}\n",
       "\n",
       ".tooltip .tooltiptext {\n",
       "  visibility: hidden;\n",
       "  width: max-content;\n",
       "  max-width: 280px;\n",
       "  background-color: #00bcd4;\n",
       "  text-align: left;\n",
       "  color: white;\n",
       "  border-radius: 4px;\n",
       "  padding: 4px 4px;\n",
       "  border: solid 0px black;\n",
       "  line-height: 1em;\n",
       "\n",
       "  /* Position the tooltip */\n",
       "  position: absolute;\n",
       "  z-index: 1;\n",
       "}\n",
       "\n",
       ".tooltip:hover .tooltiptext {\n",
       "  visibility: visible;\n",
       "}\n",
       "</style>"
      ],
      "text/plain": [
       "<IPython.core.display.HTML object>"
      ]
     },
     "metadata": {},
     "output_type": "display_data"
    }
   ],
   "source": [
    "shutil.rmtree(t.train_dir)\n",
    "shutil.rmtree(t.pred_dir)\n",
    "shutil.rmtree(t.gt_dir)"
   ]
  },
  {
   "cell_type": "markdown",
   "metadata": {},
   "source": [
    "## Export -"
   ]
  },
  {
   "cell_type": "code",
   "execution_count": null,
   "metadata": {},
   "outputs": [
    {
     "data": {
      "text/html": [
       "<style>\n",
       ".tooltip {\n",
       "  position: relative;\n",
       "  display: inline-block;\n",
       "}\n",
       "\n",
       ".tooltip .tooltiptext {\n",
       "  visibility: hidden;\n",
       "  width: max-content;\n",
       "  max-width: 280px;\n",
       "  background-color: #00bcd4;\n",
       "  text-align: left;\n",
       "  color: white;\n",
       "  border-radius: 4px;\n",
       "  padding: 4px 4px;\n",
       "  border: solid 0px black;\n",
       "  line-height: 1em;\n",
       "\n",
       "  /* Position the tooltip */\n",
       "  position: absolute;\n",
       "  z-index: 1;\n",
       "}\n",
       "\n",
       ".tooltip:hover .tooltiptext {\n",
       "  visibility: visible;\n",
       "}\n",
       "</style>"
      ],
      "text/plain": [
       "<IPython.core.display.HTML object>"
      ]
     },
     "metadata": {},
     "output_type": "display_data"
    },
    {
     "name": "stdout",
     "output_type": "stream",
     "text": [
      "Converted 00_learner.ipynb.\n",
      "Converted 01_models.ipynb.\n",
      "Converted 02_data.ipynb.\n",
      "Converted 05_losses.ipynb.\n",
      "Converted 06_utils.ipynb.\n",
      "Converted 07_tta.ipynb.\n",
      "Converted 08_gui.ipynb.\n",
      "Converted 09_gt.ipynb.\n",
      "Converted add_information.ipynb.\n",
      "Converted gt_estimation.ipynb.\n",
      "Converted index.ipynb.\n",
      "Converted model_library.ipynb.\n",
      "Converted predict.ipynb.\n",
      "Converted train.ipynb.\n",
      "Converted tutorial.ipynb.\n",
      "Converted tutorial_gt.ipynb.\n",
      "Converted tutorial_pred.ipynb.\n",
      "Converted tutorial_train.ipynb.\n"
     ]
    }
   ],
   "source": [
    "#hide\n",
    "from nbdev.export import *\n",
    "notebook2script()"
   ]
  }
 ],
 "metadata": {
  "kernelspec": {
   "display_name": "fastai2",
   "language": "python",
   "name": "fastai2"
  }
 },
 "nbformat": 4,
 "nbformat_minor": 4
}
