{
 "cells": [
  {
   "cell_type": "code",
   "execution_count": null,
   "metadata": {
    "hide_input": true
   },
   "outputs": [],
   "source": [
    "#default_exp learner\n",
    "from nbdev.showdoc import show_doc"
   ]
  },
  {
   "cell_type": "code",
   "execution_count": null,
   "metadata": {},
   "outputs": [],
   "source": [
    "#export\n",
    "from fastai.vision.all import *\n",
    "from fastcore.foundation import patch\n",
    "from deepflash2.data import TileDataset\n",
    "from scipy.stats import entropy\n",
    "import ttach as tta"
   ]
  },
  {
   "cell_type": "markdown",
   "metadata": {},
   "source": [
    "# Patches for the `fastai` Learner\n",
    "\n",
    "> Imlements functions necessary to build `Learner` suitable for bioimgage segmentation"
   ]
  },
  {
   "cell_type": "code",
   "execution_count": null,
   "metadata": {},
   "outputs": [],
   "source": [
    "#export\n",
    "@patch\n",
    "def apply_dropout(self:Learner):\n",
    "    \"If a module contains 'dropout', it will be switched to .train() mode.\"\n",
    "    for m in self.model.modules():\n",
    "        if isinstance(m, nn.Dropout):\n",
    "            m.train()"
   ]
  },
  {
   "cell_type": "code",
   "execution_count": null,
   "metadata": {},
   "outputs": [],
   "source": [
    "#export\n",
    "@patch\n",
    "def predict_tiles(self:Learner, ds_idx=1, dl=None, mc_dropout=False, n_times=1, use_tta=False, use_max=False):\n",
    "    \"Make predictions and reconstruct tiles, optional with dropout and/or tta applied.\"\n",
    "\n",
    "    if dl is None: dl = self.dls[ds_idx].new(shuffled=False, drop_last=False)\n",
    "    if use_tta: tfms=[tta.HorizontalFlip(), tta.Rotate90(angles=[90,180,270])]\n",
    "    else: tfms=[]\n",
    "    \n",
    "    self.model.eval()\n",
    "    if mc_dropout: self.apply_dropout()\n",
    "\n",
    "    mean_list = []\n",
    "    std_list = []\n",
    "    for data in progress_bar(dl, leave=False):\n",
    "        if isinstance(data, TensorImage): images = data\n",
    "        else: images, _, _ = data\n",
    "        out_list = [] \n",
    "        for t in tta.Compose(tfms): \n",
    "            for _ in range(n_times):\n",
    "                #augment image\n",
    "                aug_images = t.augment_image(images)           \n",
    "                #predict\n",
    "                with torch.no_grad():\n",
    "                    out = self.model(aug_images)\n",
    "                out = F.softmax(out, dim=1)\n",
    "                #reverse augmentation for mask\n",
    "                out = t.deaugment_mask(out)\n",
    "                out_list.append(out)\n",
    "        out_stack = torch.stack(out_list)\n",
    "        out_means = torch.max(out_stack, dim=0)[0] if use_max else torch.mean(out_stack, dim=0)\n",
    "        mean_list.append(out_means)\n",
    "\n",
    "        out_sdts = torch.std(out_stack, dim=0)\n",
    "        std_list.append(out_sdts)\n",
    "\n",
    "    softmax_pred = torch.cat(mean_list).permute(0,2,3,1)\n",
    "    smx_tiles = [x for x in softmax_pred.cpu().numpy()]\n",
    "\n",
    "    std_pred = torch.cat(std_list).permute(0,2,3,1)\n",
    "    std_tiles = [x for x in std_pred.cpu().numpy()]\n",
    "\n",
    "    smxcores = dl.reconstruct_from_tiles(smx_tiles)\n",
    "    segmentations = [np.argmax(x, axis=-1) for x in smxcores]\n",
    "    std_deviations = dl.reconstruct_from_tiles(std_tiles)\n",
    "\n",
    "    return smxcores, segmentations, std_deviations"
   ]
  },
  {
   "cell_type": "markdown",
   "metadata": {},
   "source": [
    "## Export -"
   ]
  },
  {
   "cell_type": "code",
   "execution_count": null,
   "metadata": {},
   "outputs": [
    {
     "name": "stdout",
     "output_type": "stream",
     "text": [
      "Converted 00_learner.ipynb.\n",
      "Converted 01_models.ipynb.\n",
      "Converted 02_data.ipynb.\n",
      "Converted 03_metrics.ipynb.\n",
      "Converted 04_callbacks.ipynb.\n",
      "Converted 05_losses.ipynb.\n",
      "Converted 06_utils.ipynb.\n",
      "Converted add_information.ipynb.\n",
      "Converted gt_estimation.ipynb.\n",
      "Converted index.ipynb.\n",
      "Converted model_library.ipynb.\n",
      "Converted predict.ipynb.\n",
      "Converted train.ipynb.\n"
     ]
    }
   ],
   "source": [
    "#hide\n",
    "from nbdev.export import *\n",
    "notebook2script()"
   ]
  },
  {
   "cell_type": "code",
   "execution_count": null,
   "metadata": {},
   "outputs": [],
   "source": []
  }
 ],
 "metadata": {
  "kernelspec": {
   "display_name": "fastai",
   "language": "python",
   "name": "fastai"
  }
 },
 "nbformat": 4,
 "nbformat_minor": 4
}
