{
 "cells": [
  {
   "cell_type": "code",
   "execution_count": null,
   "metadata": {},
   "outputs": [],
   "source": [
    "#default_exp tta\n",
    "from nbdev.showdoc import show_doc"
   ]
  },
  {
   "cell_type": "markdown",
   "metadata": {},
   "source": [
    "# Test Time Augmentation\n",
    "\n",
    "> Code adapted from https://github.com/qubvel/ttach."
   ]
  },
  {
   "cell_type": "code",
   "execution_count": null,
   "metadata": {},
   "outputs": [],
   "source": [
    "#hide\n",
    "from fastcore.test import *"
   ]
  },
  {
   "cell_type": "code",
   "execution_count": null,
   "metadata": {},
   "outputs": [],
   "source": [
    "#export\n",
    "import torch\n",
    "import itertools\n",
    "from typing import List, Optional, Union\n",
    "from fastcore.foundation import store_attr"
   ]
  },
  {
   "cell_type": "markdown",
   "metadata": {},
   "source": [
    "## Functional"
   ]
  },
  {
   "cell_type": "code",
   "execution_count": null,
   "metadata": {},
   "outputs": [],
   "source": [
    "#export\n",
    "@torch.jit.script\n",
    "def rot90(x:torch.Tensor, k:int=1):\n",
    "    \"rotate batch of images by 90 degrees k times\"\n",
    "    return torch.rot90(x, k, (2, 3))\n",
    "\n",
    "@torch.jit.script\n",
    "def hflip(x:torch.Tensor):\n",
    "    \"flip batch of images horizontally\"\n",
    "    return x.flip(3)\n",
    "\n",
    "@torch.jit.script\n",
    "def vflip(x:torch.Tensor):\n",
    "    \"flip batch of images vertically\"\n",
    "    return x.flip(2)"
   ]
  },
  {
   "cell_type": "markdown",
   "metadata": {},
   "source": [
    "## Base Class"
   ]
  },
  {
   "cell_type": "code",
   "execution_count": null,
   "metadata": {},
   "outputs": [],
   "source": [
    "#export\n",
    "class BaseTransform(torch.nn.Module):\n",
    "    identity_param = None\n",
    "    def __init__(self, pname: str, params: Union[list, tuple]): \n",
    "        super(BaseTransform, self).__init__()\n",
    "        store_attr()"
   ]
  },
  {
   "cell_type": "code",
   "execution_count": null,
   "metadata": {},
   "outputs": [
    {
     "data": {
      "text/plain": [
       "RecursiveScriptModule(original_name=BaseTransform)"
      ]
     },
     "execution_count": null,
     "metadata": {},
     "output_type": "execute_result"
    }
   ],
   "source": [
    "# Tests\n",
    "tst_base = BaseTransform('x', (1,2))\n",
    "torch.jit.script(tst_base)"
   ]
  },
  {
   "cell_type": "markdown",
   "metadata": {},
   "source": [
    "## Transform Classes"
   ]
  },
  {
   "cell_type": "code",
   "execution_count": null,
   "metadata": {},
   "outputs": [],
   "source": [
    "#export\n",
    "class HorizontalFlip(BaseTransform):\n",
    "    \"Flip images horizontally (left->right)\"\n",
    "    identity_param = False\n",
    "    def __init__(self):\n",
    "        super(HorizontalFlip, self).__init__(\"apply\", [0, 1])\n",
    "\n",
    "    def forward(self, x:torch.Tensor, apply:int=0, deaug:bool=False):\n",
    "        if apply==1: x = hflip(x)\n",
    "        return x"
   ]
  },
  {
   "cell_type": "code",
   "execution_count": null,
   "metadata": {},
   "outputs": [],
   "source": [
    "# Tests\n",
    "imgs = torch.randn(4, 2, 356, 356)\n",
    "t = torch.jit.script(HorizontalFlip())\n",
    "aug = t(imgs, 1, True)\n",
    "deaug = t(aug, 1, False)\n",
    "test_eq(imgs, deaug)"
   ]
  },
  {
   "cell_type": "code",
   "execution_count": null,
   "metadata": {},
   "outputs": [],
   "source": [
    "#export\n",
    "class VerticalFlip(BaseTransform):\n",
    "    \"Flip images vertically (up->down)\"\n",
    "    identity_param = False\n",
    "    def __init__(self):\n",
    "        super().__init__(\"apply\", [0, 1])\n",
    "\n",
    "    def forward(self, x:torch.Tensor, apply:int=0, deaug:bool=False):\n",
    "        if apply==1: \n",
    "            x = vflip(x)\n",
    "        return x"
   ]
  },
  {
   "cell_type": "code",
   "execution_count": null,
   "metadata": {},
   "outputs": [],
   "source": [
    "# Tests\n",
    "t = torch.jit.script(VerticalFlip())\n",
    "aug = t(imgs, 1, True)\n",
    "deaug = t(aug, 1, False)\n",
    "test_eq(imgs, deaug)"
   ]
  },
  {
   "cell_type": "code",
   "execution_count": null,
   "metadata": {},
   "outputs": [],
   "source": [
    "#export\n",
    "class Rotate90(BaseTransform):\n",
    "    \"Rotate images 0/90/180/270 degrees (`angles`)\"\n",
    "    identity_param = 0\n",
    "    def __init__(self, angles: List[int]):\n",
    "        super().__init__(\"angle\", angles)\n",
    "        if self.identity_param not in angles:\n",
    "            angles = [self.identity_param] + list(angles)\n",
    "        \n",
    "    @torch.jit.export\n",
    "    def apply_aug_image(self, image:torch.Tensor, angle:int=0): #, **kwargs\n",
    "        k = angle // 90 if angle >= 0 else (angle + 360) // 90\n",
    "        #k = torch.div(angle, 90, rounding_mode='trunc') if angle >= 0 else torch.div((angle + 360), 90, rounding_mode='trunc')\n",
    "        return rot90(image, k)\n",
    "    \n",
    "    def forward(self, x:torch.Tensor, angle:int=0, deaug:bool=False):\n",
    "        return self.apply_aug_image(x, angle=-angle if deaug else angle)"
   ]
  },
  {
   "cell_type": "code",
   "execution_count": null,
   "metadata": {},
   "outputs": [],
   "source": [
    "# Tests\n",
    "t = torch.jit.script(Rotate90([180]))\n",
    "aug = t(imgs, 90, False)\n",
    "deaug = t(aug, 90, True)\n",
    "test_eq(imgs, deaug)"
   ]
  },
  {
   "cell_type": "markdown",
   "metadata": {},
   "source": [
    "## Pipeline Classes"
   ]
  },
  {
   "cell_type": "code",
   "execution_count": null,
   "metadata": {},
   "outputs": [],
   "source": [
    "#export\n",
    "class Chain(torch.nn.Module):\n",
    "    def __init__(self, transforms: List[BaseTransform]):\n",
    "        super().__init__()\n",
    "        self.transforms = torch.nn.ModuleList(transforms)\n",
    "        \n",
    "    def forward(self, x, args:List[int], deaug:bool=False):\n",
    "        for i, t in enumerate(self.transforms):\n",
    "            x = t(x, args[i], deaug)\n",
    "        return x"
   ]
  },
  {
   "cell_type": "code",
   "execution_count": null,
   "metadata": {},
   "outputs": [],
   "source": [
    "# Tests\n",
    "tfms=[HorizontalFlip(),VerticalFlip(), Rotate90(angles=[90,180,270])]\n",
    "args = [1, 1, 90]\n",
    "\n",
    "tst_chain = torch.jit.script(Chain(tfms))\n",
    "tst_chain_deaug = torch.jit.script(Chain(tfms[::-1]))\n",
    "\n",
    "aug = tst_chain(imgs, args, False)\n",
    "deaug = tst_chain_deaug(aug, args[::-1], True)\n",
    "test_eq(imgs, deaug)"
   ]
  },
  {
   "cell_type": "code",
   "execution_count": null,
   "metadata": {},
   "outputs": [],
   "source": [
    "#export\n",
    "class Transformer(torch.nn.Module):\n",
    "    def __init__(self, transforms: List[BaseTransform], args:List[int]):\n",
    "        super(Transformer, self).__init__()\n",
    "        self.aug_pipeline = Chain(transforms)\n",
    "        self.deaug_pipeline = Chain(transforms[::-1])\n",
    "        self.args = args\n",
    "        \n",
    "    @torch.jit.export\n",
    "    def augment(self, image:torch.Tensor):\n",
    "        return self.aug_pipeline(image, self.args, deaug=False)\n",
    "\n",
    "    @torch.jit.export\n",
    "    def deaugment(self, mask:torch.Tensor):\n",
    "        return self.deaug_pipeline(mask, self.args[::-1], deaug=True)"
   ]
  },
  {
   "cell_type": "code",
   "execution_count": null,
   "metadata": {},
   "outputs": [],
   "source": [
    "# Tests\n",
    "tst_tfm = Transformer(tfms, args)\n",
    "torch.jit.script(tst_tfm)\n",
    "aug = tst_tfm.augment(imgs)\n",
    "deaug = tst_tfm.deaugment(aug)\n",
    "test_eq(imgs, deaug)"
   ]
  },
  {
   "cell_type": "code",
   "execution_count": null,
   "metadata": {},
   "outputs": [],
   "source": [
    "#export\n",
    "class Compose(torch.nn.Module):\n",
    "    def __init__(self, aug_transforms: List[BaseTransform]):\n",
    "        super(Compose, self).__init__()\n",
    "        self.transform_parameters = list(itertools.product(*[t.params for t in aug_transforms]))  \n",
    "        self.items = torch.nn.ModuleList([Transformer(aug_transforms, args) for args in self.transform_parameters])"
   ]
  },
  {
   "cell_type": "code",
   "execution_count": null,
   "metadata": {},
   "outputs": [],
   "source": [
    "# Tests\n",
    "c = Compose(tfms)\n",
    "c = torch.jit.script(c)\n",
    "out = []\n",
    "for t in c.items:\n",
    "    aug = t.augment(imgs)\n",
    "    deaug = t.deaugment(aug)\n",
    "    out.append(deaug)\n",
    "    test_eq(imgs, deaug)\n",
    "out = torch.stack(out)\n",
    "test_close(imgs, torch.mean(out, dim=0))"
   ]
  },
  {
   "cell_type": "markdown",
   "metadata": {},
   "source": [
    "## Export -"
   ]
  },
  {
   "cell_type": "code",
   "execution_count": null,
   "metadata": {},
   "outputs": [
    {
     "name": "stdout",
     "output_type": "stream",
     "text": [
      "Converted 07_tta.ipynb.\n"
     ]
    }
   ],
   "source": [
    "#hide\n",
    "from nbdev.export import *\n",
    "#notebook2script()\n",
    "notebook2script(fname='07_tta.ipynb')"
   ]
  },
  {
   "cell_type": "code",
   "execution_count": null,
   "metadata": {},
   "outputs": [],
   "source": []
  }
 ],
 "metadata": {
  "kernelspec": {
   "display_name": "fastai2",
   "language": "python",
   "name": "fastai2"
  }
 },
 "nbformat": 4,
 "nbformat_minor": 4
}
