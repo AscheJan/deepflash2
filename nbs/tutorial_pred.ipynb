{
 "cells": [
  {
   "cell_type": "markdown",
   "metadata": {},
   "source": [
    "# Tutorial - Prediction\n",
    "> Predict segmentation for evaluation or on new data (with quality assurance). \n",
    "\n",
    "![](https://img.shields.io/badge/INPUT-images-blue) \n",
    "![](https://img.shields.io/badge/INPUT-trained%20model%20ensemble-blue) \n",
    "![](https://img.shields.io/badge/OUTPUT-predicted%20segmentations-success) \n",
    "![](https://img.shields.io/badge/OUTPUT-model%20performance%20scores-success) \n",
    "\n",
    "[![Colab](https://colab.research.google.com/assets/colab-badge.svg)](https://colab.research.google.com/github/matjesg/deepflash2/blob/master/deepflash2_GUI.ipynb)"
   ]
  },
  {
   "cell_type": "markdown",
   "metadata": {},
   "source": [
    "## 1 - Data\n",
    "\n",
    "**Required Steps:**\n",
    "1. *Select* image folder\n",
    "    - *Select* model ensemble folder if not default\n",
    "1. Click *Load*\n",
    "1. For evaluation: Select* masks folder (same requirements as for [training](https://matjesg.github.io/deepflash2/add_information.html#Training).)\n",
    "\n",
    "**Evaluation (hold-out test set)**\n",
    "<video src=\"https://user-images.githubusercontent.com/13711052/139746917-c2a6c68b-0572-4744-b9d2-109e42925f27.mov\" controls width=\"100%\"></video>\n",
    "\n",
    "\n",
    "**New data (no masks available)**\n",
    "<video src=\"https://user-images.githubusercontent.com/13711052/139747050-d623d876-2349-43eb-82fb-87d6b5934e2f.mov\" controls width=\"100%\"></video>\n",
    "\n",
    "**Input Details**:\n",
    "\n",
    "- __One folder for images__\n",
    "    - Images must have unique name or ID\n",
    "        - _0001.tif --> name/ID: 0001; img_5.png --> name/ID: img_5, ..._ \n",
    "    - Same number of channels as training images (e.g., 1 greyscale; 3 RGB)\n",
    "- __For evaluation: Corresponding masks must start with name or ID + a mask suffix__\n",
    "    - same requirements as for [training](https://matjesg.github.io/deepflash2/add_information.html#Training)\n",
    "- __One folder containing trained models (ensemble)__\n",
    "    - Ensemble folder and models will be created during Training\n",
    "        - Do not change the naming of the models\n",
    "        - If you want to train different ensembles, simply rename the ensemble folder\n",
    "\n",
    "Examplary input folder structure:\n",
    "\n",
    "```                   \n",
    "──images            -> one image folder\n",
    "  │   0001.tif      \n",
    "  │   0002.tif\n",
    "  \n",
    "──masks             -> one masks folder (evaluation only)\n",
    "  │   0001_mask.png\n",
    "  │   0002_mask.png\n",
    "\n",
    "──ensemble          -> one model folder\n",
    "  │   Unet_resnet34_2classes-fold1.pth\n",
    "  │   Unet_resnet34_2classes-fold2.pth\n",
    "```"
   ]
  },
  {
   "cell_type": "markdown",
   "metadata": {},
   "source": [
    "## 2 - Prediction and Quality Control\n",
    "\n",
    "**Required Steps:**\n",
    "1. Click *Run Prediction*\n",
    "\n",
    "**Evaluation (hold-out test set)**\n",
    "<video src=\"https://user-images.githubusercontent.com/13711052/139746917-c2a6c68b-0572-4744-b9d2-109e42925f27.mov\" controls width=\"100%\"></video>\n",
    "\n",
    "**New data (no masks available)**\n",
    "<video src=\"https://user-images.githubusercontent.com/13711052/139746967-a555b7fb-9c6b-4b20-b5f5-58ed8b333647.mov\" controls width=\"100%\"></video>"
   ]
  },
  {
   "cell_type": "markdown",
   "metadata": {},
   "source": [
    "## 3 - Cellpose Instance Segmentation\n",
    "\n",
    "**Required Steps:**\n",
    "1. Click *Run Cellpose*\n",
    "\n",
    "**Evaluation (hold-out test set)**\n",
    "<video src=\"https://user-images.githubusercontent.com/13711052/139747134-86800a0e-e84b-4f59-b3eb-ad7254c8f29b.mov\" controls width=\"100%\"></video>\n",
    "\n",
    "**New data (no masks available)**\n",
    "<video src=\"https://user-images.githubusercontent.com/13711052/139746967-a555b7fb-9c6b-4b20-b5f5-58ed8b333647.mov\" controls width=\"100%\"></video>"
   ]
  },
  {
   "cell_type": "code",
   "execution_count": null,
   "metadata": {},
   "outputs": [],
   "source": []
  }
 ],
 "metadata": {
  "kernelspec": {
   "display_name": "Python 3 (ipykernel)",
   "language": "python",
   "name": "python3"
  }
 },
 "nbformat": 4,
 "nbformat_minor": 4
}
