{
 "cells": [
  {
   "cell_type": "markdown",
   "metadata": {},
   "source": [
    "This notebook is optmizied to be executed on Google Colab (https://colab.research.google.com).\n",
    "\n",
    "*   Please read the instructions carefully.\n",
    "*   Press the the *play* butten to execute the cells. It will show up between \\[     \\] on the left side of the code cells. \n",
    "*   Run the cells consecutively. Skip cells that do not apply for your case.\n"
   ]
  },
  {
   "cell_type": "markdown",
   "metadata": {},
   "source": [
    "# Ground Truth Estimation\n",
    "\n",
    "> Notebook to derive reference segmentations from segmentations of multiple experts (Based on [SimpleITK](http://insightsoftwareconsortium.github.io/SimpleITK-Notebooks/Python_html/34_Segmentation_Evaluation.html))."
   ]
  },
  {
   "cell_type": "markdown",
   "metadata": {},
   "source": [
    "For more information on ground truth estimation methods see _Biancardi, Alberto M., Artit C. Jirapatnakul, and Anthony P. Reeves. \"A comparison of ground truth estimation methods.\" International journal of computer assisted radiology and surgery 5.3 (2010): 295-305_."
   ]
  },
  {
   "cell_type": "code",
   "execution_count": null,
   "metadata": {
    "cellView": "form",
    "colab_type": "code"
   },
   "outputs": [
    {
     "name": "stdout",
     "output_type": "stream",
     "text": [
      "This Notebook is optimized for Google Colab. You need to install dependencies manually.\n"
     ]
    }
   ],
   "source": [
    "#@title Set up Google Colab environment\n",
    "#@markdown Please run this cell to get started.\n",
    "try:\n",
    "    from google.colab import files, drive\n",
    "except ImportError:\n",
    "    pass\n",
    "try:\n",
    "    import deepflash2\n",
    "except ImportError:\n",
    "    !pip install -q deepflash2\n",
    "import zipfile\n",
    "import imageio\n",
    "import SimpleITK as sitk\n",
    "from fastai.vision.all import *\n",
    "from deepflash2.data import _read_msk\n",
    "from deepflash2.utils import staple, mvoting"
   ]
  },
  {
   "cell_type": "markdown",
   "metadata": {},
   "source": [
    "## Provide Reference Segmentations from different experts"
   ]
  },
  {
   "cell_type": "markdown",
   "metadata": {},
   "source": [
    "- __One folder per expert__\n",
    "- __Identical names for segmentations__\n",
    "\n",
    "_Examplary structure:_\n",
    "\n",
    "* [folder] expert1\n",
    "  * [file] mask1.png\n",
    "  * [file] mask2.png\n",
    "* [folder] expert1\n",
    "  * [file] mask1.png\n",
    "  * [file] mask2.png"
   ]
  },
  {
   "cell_type": "markdown",
   "metadata": {},
   "source": [
    "### Colab (recommended)\n",
    "\n",
    "Working on _Google Colab_, this section allows you to upload a *zip* folder or connect to your _Google Drive_."
   ]
  },
  {
   "cell_type": "markdown",
   "metadata": {},
   "source": [
    "#### Upload _zip_ file"
   ]
  },
  {
   "cell_type": "markdown",
   "metadata": {},
   "source": [
    "- The *zip* file must contain all segmentations and correct folder structure. \n",
    "- See [here](https://www.hellotech.com/guide/for/how-to-zip-a-file-mac-windows-pc) how to _zip_ files on Windows or Mac."
   ]
  },
  {
   "cell_type": "code",
   "execution_count": null,
   "metadata": {
    "cellView": "form",
    "colab_type": "code"
   },
   "outputs": [
    {
     "name": "stdout",
     "output_type": "stream",
     "text": [
      "Warning: File upload only works on Google Colab.\n"
     ]
    }
   ],
   "source": [
    "#@markdown Run to upload a *zip* file\n",
    "path = Path('expert_segmentations')\n",
    "try:\n",
    "    u_dict = files.upload()\n",
    "    for key in u_dict.keys():\n",
    "        zip_ref = zipfile.ZipFile(key, 'r')\n",
    "        zip_ref.extractall(path)\n",
    "        zip_ref.close()\n",
    "except:\n",
    "    print(\"Warning: File upload only works on Google Colab.\")\n",
    "    pass"
   ]
  },
  {
   "cell_type": "markdown",
   "metadata": {},
   "source": [
    "#### Connect to _Google Drive_"
   ]
  },
  {
   "cell_type": "markdown",
   "metadata": {},
   "source": [
    "- The folder in your drive must contain all segmentations and correct folder structure. \n",
    "- See [here](https://support.google.com/drive/answer/2375091?co=GENIE.Platform%3DDesktop&hl=en) how to organize your files in _Google Drive_.\n",
    "- See this [stackoverflow post](https://stackoverflow.com/questions/46986398/import-data-into-google-colaboratory) for browsing files with the file browser"
   ]
  },
  {
   "cell_type": "code",
   "execution_count": null,
   "metadata": {
    "cellView": "form",
    "colab_type": "code"
   },
   "outputs": [
    {
     "name": "stdout",
     "output_type": "stream",
     "text": [
      "Warning: Connecting to Google Drive only works on Google Colab.\n"
     ]
    }
   ],
   "source": [
    "#@markdown Provide the path to the folder on your _Google Drive_\n",
    "try:\n",
    "    drive.mount('/content/drive')\n",
    "    path = \"/content/drive/My Drive/expert_segmentations\" #@param {type:\"string\"}\n",
    "    path = Path(path)\n",
    "    #@markdown Example: \"/content/drive/My Drive/expert_segmentations\"\n",
    "except:\n",
    "    print(\"Warning: Connecting to Google Drive only works on Google Colab.\")\n",
    "    pass"
   ]
  },
  {
   "cell_type": "markdown",
   "metadata": {},
   "source": [
    "### Local Installation\n",
    "\n",
    "If you're working on your local machine or server, provide a path to the correct folder."
   ]
  },
  {
   "cell_type": "code",
   "execution_count": null,
   "metadata": {
    "cellView": "form",
    "colab_type": "code"
   },
   "outputs": [],
   "source": [
    "#@markdown Provide path (either relative to notebook or absolute) and run cell\n",
    "path = \"expert_segmentations\" #@param {type:\"string\"}\n",
    "path = Path(path)\n",
    "#@markdown Example: \"expert_segmentations\""
   ]
  },
  {
   "cell_type": "markdown",
   "metadata": {},
   "source": [
    "### Try with sample data\n",
    "\n",
    "If you don't have any data available yet, try our sample data"
   ]
  },
  {
   "cell_type": "code",
   "execution_count": null,
   "metadata": {
    "cellView": "form",
    "colab_type": "code"
   },
   "outputs": [],
   "source": [
    "#@markdown Run to download sample files\n",
    "path = Path('expert_segmentations')\n",
    "url = \"https://github.com/matjesg/bioimage_analysis/raw/master/train_data/lab-wue1/labels/\"\n",
    "experts = ['expert_'+str(e) for e in range(1,6)]\n",
    "for e in  experts:   \n",
    "    (path/e).mkdir(exist_ok=True, parents=True)\n",
    "    urllib.request.urlretrieve(f'{url}/{e}/0001_cFOS.png', path/e/'mask_1.png');"
   ]
  },
  {
   "cell_type": "markdown",
   "metadata": {},
   "source": [
    "## Load data"
   ]
  },
  {
   "cell_type": "code",
   "execution_count": null,
   "metadata": {
    "cellView": "form",
    "colab_type": "code"
   },
   "outputs": [
    {
     "name": "stdout",
     "output_type": "stream",
     "text": [
      "You have uploaded 7 files from the following experts: {'expert_1', 'mv', 'expert_5', 'expert_2', 'expert_4', 'staple', 'expert_3'}\n"
     ]
    }
   ],
   "source": [
    "masks = get_image_files(path)\n",
    "experts = set([m.parent.name for m in masks])\n",
    "print(f'You have uploaded {len(masks)} files from the following experts: {experts}')"
   ]
  },
  {
   "cell_type": "markdown",
   "metadata": {},
   "source": [
    "## Simultaneous truth and performance level estimation (STAPLE)\n",
    "\n",
    "The STAPLE algorithm considers a collection of segmentations and computes a probabilistic estimate of the true segmentation and a measure of the performance level represented by each segmentation. \n",
    "\n",
    "_Source: Warfield, Simon K., Kelly H. Zou, and William M. Wells. \"Simultaneous truth and performance level estimation (STAPLE): an algorithm for the validation of image segmentation.\" IEEE transactions on medical imaging 23.7 (2004): 903-921_"
   ]
  },
  {
   "cell_type": "code",
   "execution_count": null,
   "metadata": {
    "cellView": "form",
    "colab_type": "code"
   },
   "outputs": [
    {
     "data": {
      "text/html": [
       "\n",
       "    <div>\n",
       "        <style>\n",
       "            /* Turns off some styling */\n",
       "            progress {\n",
       "                /* gets rid of default border in Firefox and Opera. */\n",
       "                border: none;\n",
       "                /* Needs to be in here for Safari polyfill so background images work as expected. */\n",
       "                background-size: auto;\n",
       "            }\n",
       "            .progress-bar-interrupted, .progress-bar-interrupted::-webkit-progress-bar {\n",
       "                background: #F44336;\n",
       "            }\n",
       "        </style>\n",
       "      <progress value='1' class='' max='1' style='width:300px; height:20px; vertical-align: middle;'></progress>\n",
       "      100.00% [1/1 00:03<00:00]\n",
       "    </div>\n",
       "    "
      ],
      "text/plain": [
       "<IPython.core.display.HTML object>"
      ]
     },
     "metadata": {},
     "output_type": "display_data"
    },
    {
     "name": "stdout",
     "output_type": "stream",
     "text": [
      "Processing mask_1.png\n"
     ]
    }
   ],
   "source": [
    "#@markdown Run STAPLE\n",
    "path_staple = path/'staple'\n",
    "path_staple.mkdir(exist_ok=True)\n",
    "unique_masks = set([m.name for m in masks])\n",
    "for msk_name in progress_bar(unique_masks):\n",
    "    print('Processing', msk_name)\n",
    "    segmentations = [_read_msk(m) for m in masks if m.name==msk_name]\n",
    "    staple_segmentation = staple(segmentations)\n",
    "    out_mask = staple_segmentation*255 if staple_segmentation.max()==1 else staple_segmentation\n",
    "    imageio.imsave(path_staple/msk_name, out_mask)"
   ]
  },
  {
   "cell_type": "markdown",
   "metadata": {},
   "source": [
    "If connected, the ground truth estimations are automatically added to you Google Drive. You can also download the files here:"
   ]
  },
  {
   "cell_type": "code",
   "execution_count": null,
   "metadata": {
    "cellView": "form",
    "colab_type": "code"
   },
   "outputs": [
    {
     "name": "stdout",
     "output_type": "stream",
     "text": [
      "Warning: File download only works on Google Colab.\n"
     ]
    }
   ],
   "source": [
    "#@markdown Download STAPLE results\n",
    "zipObj = zipfile.ZipFile('staple_export.zip', 'w')\n",
    "for f in get_image_files(path_staple):\n",
    "    zipObj.write(f)\n",
    "zipObj.close()\n",
    "try:\n",
    "    files.download('staple_export.zip')\n",
    "except:\n",
    "    print(\"Warning: File download only works on Google Colab.\")\n",
    "    pass"
   ]
  },
  {
   "cell_type": "markdown",
   "metadata": {},
   "source": [
    "## Majority Voting\n",
    "Use majority voting to obtain the reference segmentation. Note that this filter does not resolve ties. In case of ties it will assign `labelForUndecidedPixels` to the result. "
   ]
  },
  {
   "cell_type": "code",
   "execution_count": null,
   "metadata": {
    "cellView": "form",
    "colab_type": "code"
   },
   "outputs": [
    {
     "data": {
      "text/html": [
       "\n",
       "    <div>\n",
       "        <style>\n",
       "            /* Turns off some styling */\n",
       "            progress {\n",
       "                /* gets rid of default border in Firefox and Opera. */\n",
       "                border: none;\n",
       "                /* Needs to be in here for Safari polyfill so background images work as expected. */\n",
       "                background-size: auto;\n",
       "            }\n",
       "            .progress-bar-interrupted, .progress-bar-interrupted::-webkit-progress-bar {\n",
       "                background: #F44336;\n",
       "            }\n",
       "        </style>\n",
       "      <progress value='1' class='' max='1' style='width:300px; height:20px; vertical-align: middle;'></progress>\n",
       "      100.00% [1/1 00:00<00:00]\n",
       "    </div>\n",
       "    "
      ],
      "text/plain": [
       "<IPython.core.display.HTML object>"
      ]
     },
     "metadata": {},
     "output_type": "display_data"
    },
    {
     "name": "stdout",
     "output_type": "stream",
     "text": [
      "Processing mask_1.png\n"
     ]
    }
   ],
   "source": [
    "#@markdown Run Majority Voting\n",
    "labelForUndecidedPixels = 0 #@param {type:\"integer\"}\n",
    "path_mv = path/'mv'\n",
    "path_mv.mkdir(exist_ok=True)\n",
    "unique_masks = set([m.name for m in masks])\n",
    "for msk_name in progress_bar(unique_masks):\n",
    "    print('Processing', msk_name)\n",
    "    segmentations = [_read_msk(m) for m in masks if m.name==msk_name]\n",
    "    mv_segmentation = mvoting(segmentations, labelForUndecidedPixels)\n",
    "    imageio.imsave(path_mv/msk_name, mv_segmentation*255 if mv_segmentation.max()==1 else mv_segmentation)"
   ]
  },
  {
   "cell_type": "markdown",
   "metadata": {},
   "source": [
    "If connected, the _ground truth estimations_ are automatically added to you _Google Drive_. You can also download the files here:"
   ]
  },
  {
   "cell_type": "code",
   "execution_count": null,
   "metadata": {
    "cellView": "form",
    "colab_type": "code"
   },
   "outputs": [
    {
     "name": "stdout",
     "output_type": "stream",
     "text": [
      "Warning: File download only works on Google Colab.\n"
     ]
    }
   ],
   "source": [
    "#@markdown Download majority voting results\n",
    "zipObj = zipfile.ZipFile('mv_export.zip', 'w')\n",
    "for f in get_image_files(path_mv):\n",
    "      zipObj.write(f)\n",
    "zipObj.close()\n",
    "try:\n",
    "    files.download('mv_export.zip')\n",
    "except:\n",
    "    print(\"Warning: File download only works on Google Colab.\")\n",
    "    pass"
   ]
  }
 ],
 "metadata": {
  "kernelspec": {
   "display_name": "Python 3",
   "language": "python",
   "name": "python3"
  }
 },
 "nbformat": 4,
 "nbformat_minor": 4
}
