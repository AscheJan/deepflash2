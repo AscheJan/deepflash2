{
  "nbformat": 4,
  "nbformat_minor": 0,
  "metadata": {
    "kernelspec": {
      "display_name": "Python 3",
      "language": "python",
      "name": "python3"
    },
    "colab": {
      "name": "gt_estimation.ipynb",
      "provenance": []
    }
  },
  "cells": [
    {
      "cell_type": "markdown",
      "metadata": {
        "id": "we2jXI-1xzuN",
        "colab_type": "text"
      },
      "source": [
        "# Ground Truth Estimation\n",
        "\n",
        "> Notebook to derive reference segmentations from segmentations of multiple experts (Based on [SimpleITK](http://insightsoftwareconsortium.github.io/SimpleITK-Notebooks/Python_html/34_Segmentation_Evaluation.html))."
      ]
    },
    {
      "cell_type": "markdown",
      "metadata": {
        "id": "phU3XFQxxzuQ",
        "colab_type": "text"
      },
      "source": [
        "For more information on ground truth estimation methods see _Biancardi, Alberto M., Artit C. Jirapatnakul, and Anthony P. Reeves. \"A comparison of ground truth estimation methods.\" International journal of computer assisted radiology and surgery 5.3 (2010): 295-305_."
      ]
    },
    {
      "cell_type": "code",
      "metadata": {
        "id": "mQbtVaJ8xzuS",
        "colab_type": "code",
        "colab": {},
        "cellView": "form"
      },
      "source": [
        "#@title Set up Google Colab environment\n",
        "#@markdown Please run this cell to get started.\n",
        "try:\n",
        "    from google.colab import files, drive\n",
        "    !pip install -q deepflash2\n",
        "except:\n",
        "    print(\"This Notebook is optimized for Google Colab. You need to install dependencies manually.\")\n",
        "    pass\n",
        "import zipfile\n",
        "import imageio\n",
        "import SimpleITK as sitk\n",
        "from fastai.vision.all import *\n",
        "from deepflash2.data import _read_msk\n",
        "from deepflash2.utils import staple, mvoting"
      ],
      "execution_count": null,
      "outputs": []
    },
    {
      "cell_type": "markdown",
      "metadata": {
        "id": "Hg2uRghLxzuj",
        "colab_type": "text"
      },
      "source": [
        "## Provide Reference Segmentations from different experts\n",
        "\n",
        "- __One folder per expert__\n",
        "- __Identical names for segmentations__\n",
        "\n",
        "_Examplary structure:_\n",
        "\n",
        "* [folder] expert1\n",
        "  * [file] mask1.png\n",
        "  * [file] mask2.png\n",
        "* [folder] expert1\n",
        "  * [file] mask1.png\n",
        "  * [file] mask2.png\n",
        "\n",
        "You can either upload a *zip* folder or connect to your _Google Drive_."
      ]
    },
    {
      "cell_type": "markdown",
      "metadata": {
        "id": "Brc38Yvixzul",
        "colab_type": "text"
      },
      "source": [
        "### Upload _zip_ file\n",
        "\n",
        "- The *zip* file must contain all segmentations and correct folder structure. \n",
        "- See [here](https://www.hellotech.com/guide/for/how-to-zip-a-file-mac-windows-pc) how to _zip_ files on Windows or Mac."
      ]
    },
    {
      "cell_type": "code",
      "metadata": {
        "id": "JjtAOe9Txzun",
        "colab_type": "code",
        "colab": {},
        "cellView": "form"
      },
      "source": [
        "#@markdown Run to upload a *zip* file\n",
        "path = Path('expert_segmentations')\n",
        "try:\n",
        "    u_dict = files.upload()\n",
        "    for key in u_dict.keys():\n",
        "        zip_ref = zipfile.ZipFile(key, 'r')\n",
        "        zip_ref.extractall(path)\n",
        "        zip_ref.close()\n",
        "    masks = get_image_files(path)\n",
        "    experts = set([m.parent.name for m in masks])\n",
        "    print(f'You have uploaded {len(masks)} files from the following experts: {experts}')\n",
        "except:\n",
        "    print(\"Warning: File upload only works on Google Colab.\")\n",
        "    pass"
      ],
      "execution_count": null,
      "outputs": []
    },
    {
      "cell_type": "markdown",
      "metadata": {
        "id": "AULP3Dy4xzuw",
        "colab_type": "text"
      },
      "source": [
        "### Connect to _Google Drive_\n",
        "\n",
        "- The folder in your drive must contain all segmentations and correct folder structure. \n",
        "- See [here](https://support.google.com/drive/answer/2375091?co=GENIE.Platform%3DDesktop&hl=en) how to organize your files in _Google Drive_."
      ]
    },
    {
      "cell_type": "code",
      "metadata": {
        "id": "z1XVzBIvxzuy",
        "colab_type": "code",
        "colab": {},
        "cellView": "form"
      },
      "source": [
        "#@markdown Provide the path to the folder on your _Google Drive_\n",
        "try:\n",
        "    drive.mount('/content/drive')\n",
        "    path = \"/content/drive/My Drive/expert_segmentations\" #@param {type:\"string\"}\n",
        "    path = Path(path)\n",
        "    #@markdown Example: \"/content/drive/My Drive/expert_segmentations\"\n",
        "    masks = get_image_files(path)\n",
        "    experts = set([m.parent.name for m in masks])\n",
        "    print(f'You have provided {len(masks)} files from the following experts: {experts}')\n",
        "except:\n",
        "    print(\"Warning: Connecting to Google Drive only works on Google Colab.\")\n",
        "    pass"
      ],
      "execution_count": null,
      "outputs": []
    },
    {
      "cell_type": "markdown",
      "metadata": {
        "id": "0VPVSrobxzu5",
        "colab_type": "text"
      },
      "source": [
        "### Try with sample data\n"
      ]
    },
    {
      "cell_type": "code",
      "metadata": {
        "id": "R4gISPUuxzu7",
        "colab_type": "code",
        "colab": {},
        "cellView": "form"
      },
      "source": [
        "#@markdown Run to download sample files\n",
        "path = Path('expert_segmentations')\n",
        "url = \"https://github.com/matjesg/bioimage_analysis/raw/master/train_data/lab-wue1/labels/\"\n",
        "experts = ['expert_'+str(e) for e in range(1,6)]\n",
        "for e in  experts:   \n",
        "    (path/e).mkdir(exist_ok=True, parents=True)\n",
        "    urllib.request.urlretrieve(f'{url}/{e}/0001_cFOS.png', path/e/'mask_1.png');\n",
        "masks = get_image_files(path)\n",
        "print(f'You are using {len(masks)} files from the following experts: {experts}')"
      ],
      "execution_count": null,
      "outputs": []
    },
    {
      "cell_type": "markdown",
      "metadata": {
        "id": "KSpuqqJyxzvD",
        "colab_type": "text"
      },
      "source": [
        "## Simultaneous truth and performance level estimation (STAPLE)\n",
        "\n",
        "The STAPLE algorithm considers a collection of segmentations and computes a probabilistic estimate of the true segmentation and a measure of the performance level represented by each segmentation. \n",
        "\n",
        "_Source: Warfield, Simon K., Kelly H. Zou, and William M. Wells. \"Simultaneous truth and performance level estimation (STAPLE): an algorithm for the validation of image segmentation.\" IEEE transactions on medical imaging 23.7 (2004): 903-921_"
      ]
    },
    {
      "cell_type": "code",
      "metadata": {
        "id": "cuKtrxoDxzvF",
        "colab_type": "code",
        "colab": {},
        "cellView": "form"
      },
      "source": [
        "#@markdown Run STAPLE\n",
        "path_staple = path/'staple'\n",
        "path_staple.mkdir(exist_ok=True)\n",
        "unique_masks = set([m.name for m in masks])\n",
        "for msk_name in progress_bar(unique_masks):\n",
        "    print('Processing', msk_name)\n",
        "    segmentations = [_read_msk(m) for m in masks if m.name==msk_name]\n",
        "    staple_segmentation = staple(segmentations)\n",
        "    out_mask = staple_segmentation*255 if staple_segmentation.max()==1 else staple_segmentation\n",
        "    imageio.imsave(path_staple/msk_name, out_mask)"
      ],
      "execution_count": null,
      "outputs": []
    },
    {
      "cell_type": "markdown",
      "metadata": {
        "id": "kZTNvLFcxzvO",
        "colab_type": "text"
      },
      "source": [
        "If connected, the ground truth estimations are automatically added to you Google Drive. You can also download the files here:"
      ]
    },
    {
      "cell_type": "code",
      "metadata": {
        "id": "r6QzcIYRxzvP",
        "colab_type": "code",
        "colab": {},
        "cellView": "form"
      },
      "source": [
        "#@markdown Download STAPLE results\n",
        "zipObj = zipfile.ZipFile('staple_export.zip', 'w')\n",
        "for f in get_image_files(path_staple):\n",
        "    zipObj.write(f)\n",
        "zipObj.close()\n",
        "try:\n",
        "    files.download('staple_export.zip')\n",
        "except:\n",
        "    print(\"Warning: File download only works on Google Colab.\")\n",
        "    pass"
      ],
      "execution_count": null,
      "outputs": []
    },
    {
      "cell_type": "markdown",
      "metadata": {
        "id": "Crz-eYzbxzvW",
        "colab_type": "text"
      },
      "source": [
        "## Majority Voting\n",
        "Use majority voting to obtain the reference segmentation. Note that this filter does not resolve ties. In case of ties it will assign `labelForUndecidedPixels` to the result. "
      ]
    },
    {
      "cell_type": "code",
      "metadata": {
        "id": "_ZX8YmHvxzvd",
        "colab_type": "code",
        "colab": {},
        "cellView": "form"
      },
      "source": [
        "#@markdown Run Majority Voting\n",
        "labelForUndecidedPixels = 0 #@param {type:\"integer\"}\n",
        "path_mv = path/'mv'\n",
        "path_mv.mkdir(exist_ok=True)\n",
        "unique_masks = set([m.name for m in masks])\n",
        "for msk_name in progress_bar(unique_masks):\n",
        "    print('Processing', msk_name)\n",
        "    segmentations = [_read_msk(m) for m in masks if m.name==msk_name]\n",
        "    mv_segmentation = mvoting(segmentations, labelForUndecidedPixels)\n",
        "    imageio.imsave(path_mv/msk_name, mv_segmentation*255 if mv_segmentation.max()==1 else mv_segmentation)"
      ],
      "execution_count": null,
      "outputs": []
    },
    {
      "cell_type": "markdown",
      "metadata": {
        "id": "ZGmRMSywxzvi",
        "colab_type": "text"
      },
      "source": [
        "If connected, the _ground truth estimations_ are automatically added to you _Google Drive_. You can also download the files here:"
      ]
    },
    {
      "cell_type": "code",
      "metadata": {
        "id": "7QgEni-dxzvk",
        "colab_type": "code",
        "colab": {},
        "cellView": "form"
      },
      "source": [
        "#@markdown Download majority voting results\n",
        "zipObj = zipfile.ZipFile('mv_export.zip', 'w')\n",
        "for f in get_image_files(path_mv):\n",
        "      zipObj.write(f)\n",
        "zipObj.close()\n",
        "try:\n",
        "    files.download('mv_export.zip')\n",
        "except:\n",
        "    print(\"Warning: File download only works on Google Colab.\")\n",
        "    pass"
      ],
      "execution_count": null,
      "outputs": []
    }
  ]
}