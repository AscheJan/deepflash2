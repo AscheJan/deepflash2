{
 "cells": [
  {
   "cell_type": "markdown",
   "metadata": {},
   "source": [
    "# Ground Truth Estimation\n",
    "\n",
    "> Notebook to derive reference segmentations from segmentations of multiple experts (Based on [SimpleITK](http://insightsoftwareconsortium.github.io/SimpleITK-Notebooks/Python_html/34_Segmentation_Evaluation.html))."
   ]
  },
  {
   "cell_type": "markdown",
   "metadata": {},
   "source": [
    "For more information on ground truth estimation methods see _Biancardi, Alberto M., Artit C. Jirapatnakul, and Anthony P. Reeves. \"A comparison of ground truth estimation methods.\" International journal of computer assisted radiology and surgery 5.3 (2010): 295-305_."
   ]
  },
  {
   "cell_type": "code",
   "execution_count": null,
   "metadata": {},
   "outputs": [],
   "source": [
    "#@title Set up Google Colab environment\n",
    "#@markdown Please run this cell to get started.\n",
    "try:\n",
    "  from google.colab import files, drive\n",
    "  !pip install -q simpleITK deepflash2\n",
    "except:\n",
    "  pass\n",
    "import zipfile\n",
    "import imageio\n",
    "import SimpleITK as sitk\n",
    "from fastai.vision.all import *\n",
    "from deepflash2.data import _read_msk\n",
    "\n",
    "def staple(segmentations, foregroundValue = 1, threshold = 0.5):\n",
    "    'STAPLE: Simultaneous Truth and Performance Level Estimation with simple ITK'\n",
    "    segmentations = [sitk.GetImageFromArray(x) for x in segmentations]\n",
    "    STAPLE_probabilities = sitk.STAPLE(segmentations) \n",
    "    STAPLE = STAPLE_probabilities > threshold\n",
    "    return sitk.GetArrayViewFromImage(STAPLE)\n",
    "\n",
    "def mvoting(segmentations, labelForUndecidedPixels = 0):\n",
    "    'Majority Voting from sitk.LabelVoting'\n",
    "    segmentations = [sitk.GetImageFromArray(x) for x in segmentations]\n",
    "    mv_segmentation = sitk.LabelVoting(segmentations, labelForUndecidedPixels)  \n",
    "    return sitk.GetArrayViewFromImage(mv_segmentation)"
   ]
  },
  {
   "cell_type": "markdown",
   "metadata": {},
   "source": [
    "## Provide Reference Segmentations from different experts\n",
    "\n",
    "- __One folder per expert__\n",
    "- __Identical names for segmentations__\n",
    "\n",
    "_Examplary structure:_\n",
    "\n",
    "* [folder] expert1\n",
    "  * [file] mask1.png\n",
    "  * [file] mask2.png\n",
    "* [folder] expert1\n",
    "  * [file] mask1.png\n",
    "  * [file] mask2.png\n",
    "\n",
    "You can either upload a *zip* folder or connect to your _Google Drive_."
   ]
  },
  {
   "cell_type": "markdown",
   "metadata": {},
   "source": [
    "### Upload _zip_ file\n",
    "\n",
    "- The *zip* file must contain all segmentations and correct folder structure. \n",
    "- See [here](https://www.hellotech.com/guide/for/how-to-zip-a-file-mac-windows-pc) how to _zip_ files on Windows or Mac."
   ]
  },
  {
   "cell_type": "code",
   "execution_count": null,
   "metadata": {},
   "outputs": [],
   "source": [
    "#@markdown Run to upload a *zip* file\n",
    "path = Path('expert_segmentations')\n",
    "u_dict = files.upload()\n",
    "for key in u_dict.keys():\n",
    "  zip_ref = zipfile.ZipFile(key, 'r')\n",
    "  zip_ref.extractall(path)\n",
    "  zip_ref.close()\n",
    "masks = get_image_files(path)\n",
    "experts = set([m.parent.name for m in masks])\n",
    "print(f'You have uploaded {len(masks)} files from the following experts: {experts}')"
   ]
  },
  {
   "cell_type": "markdown",
   "metadata": {},
   "source": [
    "### Connect to _Google Drive_\n",
    "\n",
    "- The folder in your drive must contain all segmentations and correct folder structure. \n",
    "- See [here](https://support.google.com/drive/answer/2375091?co=GENIE.Platform%3DDesktop&hl=en) how to organize your files in _Google Drive_."
   ]
  },
  {
   "cell_type": "code",
   "execution_count": null,
   "metadata": {},
   "outputs": [],
   "source": [
    "#@markdown Provide the path to the folder on your _Google Drive_\n",
    "drive.mount('/content/drive')\n",
    "path = \"/content/drive/My Drive/expert_segmentations\" #@param {type:\"string\"}\n",
    "path = Path(path)\n",
    "#@markdown Example: \"/content/drive/My Drive/expert_segmentations\"\n",
    "masks = get_image_files(path)\n",
    "experts = set([m.parent.name for m in masks])\n",
    "print(f'You have provided {len(masks)} files from the following experts: {experts}')"
   ]
  },
  {
   "cell_type": "markdown",
   "metadata": {},
   "source": [
    "## Simultaneous truth and performance level estimation (STAPLE)\n",
    "\n",
    "The STAPLE algorithm considers a collection of segmentations and computes a probabilistic estimate of the true segmentation and a measure of the performance level represented by each segmentation. \n",
    "\n",
    "_Source: Warfield, Simon K., Kelly H. Zou, and William M. Wells. \"Simultaneous truth and performance level estimation (STAPLE): an algorithm for the validation of image segmentation.\" IEEE transactions on medical imaging 23.7 (2004): 903-921_"
   ]
  },
  {
   "cell_type": "code",
   "execution_count": null,
   "metadata": {},
   "outputs": [],
   "source": [
    "#@markdown Run STAPLE\n",
    "path_staple = path/'staple'\n",
    "path_staple.mkdir(exist_ok=True)\n",
    "unique_masks = set([m.name for m in masks])\n",
    "for msk_name in progress_bar(unique_masks):\n",
    "  print('Processing', msk_name)\n",
    "  segmentations = [_read_msk(m) for m in masks if m.name==msk_name]\n",
    "  staple_segmentation = staple(segmentations)\n",
    "  imageio.imsave(path_staple/msk_name, staple_segmentation*255 if staple_segmentation.max()==1 else staple_segmentation)"
   ]
  },
  {
   "cell_type": "markdown",
   "metadata": {},
   "source": [
    "If connected, the ground truth estimations are automatically added to you Google Drive. You can also download the files here:"
   ]
  },
  {
   "cell_type": "code",
   "execution_count": null,
   "metadata": {},
   "outputs": [],
   "source": [
    "#@markdown Download STAPLE results\n",
    "# create a ZipFile object\n",
    "zipObj = zipfile.ZipFile('staple_export.zip', 'w')\n",
    "# Add files to the zip\n",
    "for f in get_image_files(path_staple):\n",
    "  zipObj.write(f)\n",
    "# close the Zip File\n",
    "zipObj.close()\n",
    "# download files\n",
    "files.download('staple_export.zip')"
   ]
  },
  {
   "cell_type": "markdown",
   "metadata": {},
   "source": [
    "## Majority Voting\n",
    "Use majority voting to obtain the reference segmentation. Note that this filter does not resolve ties. In case of ties it will assign `labelForUndecidedPixels` to the result. "
   ]
  },
  {
   "cell_type": "code",
   "execution_count": null,
   "metadata": {},
   "outputs": [],
   "source": [
    "#@markdown Run Majority Voting\n",
    "labelForUndecidedPixels = 0 #@param {type:\"integer\"}\n",
    "path_mv = path/'mv'\n",
    "path_mv.mkdir(exist_ok=True)\n",
    "unique_masks = set([m.name for m in masks])\n",
    "for msk_name in progress_bar(unique_masks):\n",
    "  print('Processing', msk_name)\n",
    "  segmentations = [_read_msk(m) for m in masks if m.name==msk_name]\n",
    "  mv_segmentation = mvoting(segmentations, labelForUndecidedPixels)\n",
    "  imageio.imsave(path_mv/msk_name, mv_segmentation*255 if mv_segmentation.max()==1 else mv_segmentation)"
   ]
  },
  {
   "cell_type": "markdown",
   "metadata": {},
   "source": [
    "If connected, the _ground truth estimations_ are automatically added to you _Google Drive_. You can also download the files here:"
   ]
  },
  {
   "cell_type": "code",
   "execution_count": null,
   "metadata": {},
   "outputs": [],
   "source": [
    "#@markdown Download majority voting results\n",
    "# create a ZipFile object\n",
    "zipObj = zipfile.ZipFile('mv_export.zip', 'w')\n",
    "# Add files to the zip\n",
    "for f in get_image_files(path_mv):\n",
    "  zipObj.write(f)\n",
    "# close the Zip File\n",
    "zipObj.close()\n",
    "# download files\n",
    "files.download('mv_export.zip')"
   ]
  }
 ],
 "metadata": {
  "kernelspec": {
   "display_name": "Python 3",
   "language": "python",
   "name": "python3"
  }
 },
 "nbformat": 4,
 "nbformat_minor": 4
}
