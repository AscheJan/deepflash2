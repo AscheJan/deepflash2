{
 "cells": [
  {
   "cell_type": "markdown",
   "metadata": {},
   "source": [
    "# Tutorial - Training and Validation\n",
    "\n",
    "> Train and validate models ensembles for image segmentation\n",
    "\n",
    "![](https://img.shields.io/badge/INPUT-image%20segmentations%20pairs-blue)   ![](https://img.shields.io/badge/OUTPUT-trained%20model%20ensemble-success) \n",
    "\n",
    "[![Colab](https://colab.research.google.com/assets/colab-badge.svg)](https://colab.research.google.com/github/matjesg/deepflash2/blob/master/deepflash2_GUI.ipynb)"
   ]
  },
  {
   "cell_type": "markdown",
   "metadata": {},
   "source": [
    "## 1 - Data\n",
    "\n",
    "**Required Steps:**\n",
    "1. *Select* image folder\n",
    "1. *Select* masks folder\n",
    "1. Click *Load Data*\n",
    "\n",
    "<video src=\"https://user-images.githubusercontent.com/13711052/139746821-bee30cab-a34d-4fda-8d80-d26828bd82d3.mov\" controls width=\"100%\"></video>"
   ]
  },
  {
   "cell_type": "markdown",
   "metadata": {},
   "source": [
    "**Input Details**:\n",
    "\n",
    "- **Images must have unique name or ID**\n",
    "    - _0001.tif --> name/ID: 0001; img_5.png --> name/ID: img_5, ..._ \n",
    "    - Arbitrary number of channels (e.g., 1 greyscale; 3 RGB)\n",
    "- **Corresponding masks must start with name or ID + a mask suffix__**\n",
    "    - **Semantic segmentation mask pixel values**: background-class: 0; foreground-classes: 1,2,...,C (or 255 if binary)\n",
    "    - **Instance segmentation mask pixel values (binary only)**: background-class: 0; foreground-instances: 1,2,...,I\n",
    "    - _0001 -> 0001_mask.png (mask_suffix = \"_mask.png\")_\n",
    "    - _0001 -> 0001.png (mask_suffix = \".png\")_\n",
    "    - mask suffix is inferred automatically \n",
    "    - binary segmentations of an image, that is, there must be a single foreground value that represents positively classified pixels\n",
    "    - instance segmentations of an image (instances represent positively classified pixels)\n",
    "\n",
    "Examplary input folder structure:\n",
    ">\n",
    "```                   \n",
    "──images            -> one image folder\n",
    "  │   0001.tif      \n",
    "  │   0002.tif\n",
    "  \n",
    "──masks             -> one masks folder\n",
    "  │   0001_mask.png\n",
    "  │   0002_mask.png\n",
    "```\n",
    "\n",
    "All common image formats (tif, png, etc.) are supported. See [imageio docs](https://imageio.readthedocs.io/en/stable/formats/index.html)."
   ]
  },
  {
   "cell_type": "markdown",
   "metadata": {},
   "source": [
    "## 2 - Ensemble Training\n",
    "\n",
    "**Required Steps:**\n",
    "1. Click *Start Training*\n",
    "    - Optional customize train settings\n",
    "\n",
    "<video src=\"https://user-images.githubusercontent.com/13711052/139746832-524a677b-0510-4ae5-9a5d-781a683080eb.mov\" controls width=\"100%\"></video>"
   ]
  },
  {
   "cell_type": "markdown",
   "metadata": {},
   "source": [
    "## 3 - Validation\n",
    "\n",
    "**Required Steps:**\n",
    "1. Click *Run Validation*\n",
    "\n",
    "<video src=\"https://user-images.githubusercontent.com/13711052/139746836-a4c47255-e09f-4312-817a-6c40378445d6.mov\" controls width=\"100%\"></video>"
   ]
  },
  {
   "cell_type": "code",
   "execution_count": null,
   "metadata": {},
   "outputs": [],
   "source": []
  }
 ],
 "metadata": {
  "kernelspec": {
   "display_name": "Python 3 (ipykernel)",
   "language": "python",
   "name": "python3"
  }
 },
 "nbformat": 4,
 "nbformat_minor": 4
}
