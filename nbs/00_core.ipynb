{
 "cells": [
  {
   "cell_type": "code",
   "execution_count": null,
   "metadata": {},
   "outputs": [],
   "source": [
    "# default_exp unet"
   ]
  },
  {
   "cell_type": "markdown",
   "metadata": {},
   "source": [
    "# Deepflash2\n",
    "\n",
    "> API details."
   ]
  },
  {
   "cell_type": "code",
   "execution_count": null,
   "metadata": {},
   "outputs": [],
   "source": [
    "#hide\n",
    "from nbdev.showdoc import *\n",
    "%load_ext autoreload\n",
    "%autoreload 2"
   ]
  },
  {
   "cell_type": "code",
   "execution_count": null,
   "metadata": {},
   "outputs": [],
   "source": [
    "#export \n",
    "import numpy as np\n",
    "import tensorflow as tf\n",
    "from tensorflow.keras import layers\n",
    "from functools import partial"
   ]
  },
  {
   "cell_type": "code",
   "execution_count": null,
   "metadata": {},
   "outputs": [],
   "source": [
    "#export\n",
    "class Unet2D:\n",
    "\n",
    "    def __init__(self, n_channels=1, n_classes=2, n_levels=4,\n",
    "               n_features=64, n_batch_norm_levels=0, upsample = False,\n",
    "               relu_alpha=0.1, k_init=\"he_normal\"):\n",
    "    \n",
    "        self.n_channels = n_channels\n",
    "        self.n_levels = n_levels\n",
    "        self.n_classes = n_classes\n",
    "        self.n_features = n_features\n",
    "        self.n_batch_norm_levels = n_batch_norm_levels\n",
    "        self.relu_alpha = relu_alpha\n",
    "        self.k_init = k_init\n",
    "        self.upsample = upsample\n",
    "\n",
    "        self.model = self._createModel()\n",
    "\n",
    "   \n",
    "    def _createModel(self):     \n",
    "        \n",
    "        conf2d = partial(layers.Conv2D, padding=\"valid\", kernel_initializer=self.k_init)\n",
    "        conf2dT = partial(layers.Conv2DTranspose, padding=\"valid\", kernel_initializer=self.k_init)\n",
    "        \n",
    "        data = layers.Input(shape=(None, None, self.n_channels), name=\"data\")               \n",
    "\n",
    "        down_stack = []\n",
    "        # Modules of the analysis path consist of two convolutions and max pooling\n",
    "        for l in range(self.n_levels):\n",
    "            x = conf2d(2**l * self.n_features, 3, name=\"conv_d{}a-b\".format(l))(data if l == 0 else x)\n",
    "            if l > self.n_batch_norm_levels: \n",
    "                x = layers.BatchNormalization(axis=-1)(x)\n",
    "            x = layers.LeakyReLU(alpha=self.relu_alpha)(x)\n",
    "            x = conf2d(2**l * self.n_features, 3, name=\"conv_d{}b-c\".format(l))(x)\n",
    "            if l > self.n_batch_norm_levels: \n",
    "                x = layers.BatchNormalization(axis=-1)(x)               \n",
    "            x = layers.LeakyReLU(alpha=self.relu_alpha)(x)\n",
    "            if l >= 2: \n",
    "                x = layers.Dropout(0.5)(x)\n",
    "            down_stack.append(x)\n",
    "            x = layers.MaxPooling2D(pool_size=(2, 2))(x)\n",
    "\n",
    "        # Deepest layer has two convolutions only\n",
    "        x = conf2d(2**self.n_levels * self.n_features, 3, name=\"conv_d{}a-b\".format(self.n_levels))(x)\n",
    "        if l > self.n_batch_norm_levels: \n",
    "            x = layers.BatchNormalization(axis=-1)(x)\n",
    "        x = layers.LeakyReLU(alpha=self.relu_alpha)(x)\n",
    "        x = conf2d(2**self.n_levels * self.n_features, 3, name=\"conv_d{}b-c\".format(self.n_levels))(x)\n",
    "        if l > self.n_batch_norm_levels: \n",
    "            x = layers.BatchNormalization(axis=-1)(x)\n",
    "        x = layers.LeakyReLU(alpha=self.relu_alpha)(x)\n",
    "        pad = 8    \n",
    "        \n",
    "        # Modules in the synthesis path consist of up-convolution,\n",
    "        # concatenation and two convolutions\n",
    "        for l in range(self.n_levels - 1, -1, -1):\n",
    "            name = \"upconv_{}{}{}_u{}a\".format(\n",
    "                *((\"d\", l+1, \"c\", l) if l == self.n_levels - 1 else (\"u\", l+1, \"d\", l)))\n",
    "            if self.upsample:\n",
    "                x = layers.UpSampling2D(size=(2, 2), name=name)(x)\n",
    "            else:\n",
    "                x = conf2dT(2**np.max((l, 1)) * self.n_features, (2, 2), strides=2, name=name)(x)   \n",
    "                x = layers.LeakyReLU(alpha=self.relu_alpha)(x)\n",
    "            x = layers.Concatenate()([layers.Cropping2D(cropping=int(pad / 2))(down_stack[l]), x])\n",
    "\n",
    "            x = conf2d(2**np.max((l, 1)) * self.n_features, 3, name=\"conv_u{}b-c\".format(l))(x)\n",
    "            if l > self.n_batch_norm_levels: \n",
    "                x = layers.BatchNormalization(axis=-1)(x)       \n",
    "            x = layers.LeakyReLU(alpha=self.relu_alpha)(x)\n",
    "            x = conf2d(2**np.max((l, 1)) * self.n_features, 3, name=\"conv_u{}c-d\".format(l))(x)\n",
    "            if l > self.n_batch_norm_levels: \n",
    "                x = layers.BatchNormalization(axis=-1)(x)       \n",
    "            x = layers.LeakyReLU(alpha=self.relu_alpha)(x)\n",
    "            pad = 2 * (pad + 8)\n",
    "\n",
    "        score = conf2d(self.n_classes, 1, name=\"conv_u0d-score\")(x)\n",
    "        softmax_score = layers.Softmax(name='softmax')(score)\n",
    "        \n",
    "        model= tf.keras.Model(inputs=data, outputs=[score, softmax_score])\n",
    "        \n",
    "        return model "
   ]
  },
  {
   "cell_type": "code",
   "execution_count": null,
   "metadata": {},
   "outputs": [],
   "source": [
    "#export \n",
    "def weighted_softmax_cross_entropy(target_y, predicted_y):\n",
    "    target_y, w = tf.split(target_y, num_or_size_splits=[-1, 1], axis=-1)\n",
    "    w = w[...,0]\n",
    "    return tf.compat.v1.losses.softmax_cross_entropy(onehot_labels = target_y, \n",
    "                                                     logits = predicted_y, \n",
    "                                                     weights=w, \n",
    "                                                     reduction=tf.compat.v1.losses.Reduction.MEAN)"
   ]
  },
  {
   "cell_type": "code",
   "execution_count": null,
   "metadata": {},
   "outputs": [],
   "source": [
    "#export\n",
    "def zero_loss(predicted_y, target_y):\n",
    "    return tf.zeros(0)"
   ]
  },
  {
   "cell_type": "code",
   "execution_count": null,
   "metadata": {},
   "outputs": [],
   "source": [
    "unet = Unet2D()"
   ]
  },
  {
   "cell_type": "code",
   "execution_count": null,
   "metadata": {},
   "outputs": [],
   "source": [
    "losses = {'conv_u0d-score':loss, \n",
    "          'softmax':zero_loss}\n",
    "metrics = {'softmax': [tf.keras.metrics.Recall(class_id=1), \n",
    "                       tf.keras.metrics.Precision(class_id=1),\n",
    "                       tf.keras.metrics.BinaryAccuracy(),\n",
    "                       IoU(num_classes=2, class_id=1, name='IoU')\n",
    "                      ]}\n",
    "\n",
    "opt = tf.keras.optimizers.Adam(learning_rate=1e-5)\n",
    "\n",
    "unet.model.compile(optimizer=opt, loss=losses, metrics=metrics)"
   ]
  },
  {
   "cell_type": "markdown",
   "metadata": {},
   "source": [
    "x_train = np.random.rand(36,540,540,1)\n",
    "x_train.shape"
   ]
  },
  {
   "cell_type": "markdown",
   "metadata": {},
   "source": [
    "y_train = np.random.randint(1,2,size=(36,540-184,540-184,3))\n",
    "y_train.shape"
   ]
  },
  {
   "cell_type": "markdown",
   "metadata": {},
   "source": [
    "y_train2 = np.random.randint(1,2,size=(36,540-184,540-184,2))\n",
    "y_train2.shape"
   ]
  },
  {
   "cell_type": "markdown",
   "metadata": {},
   "source": [
    "hist= unet.model.fit(x_train, \n",
    "               {'conv_u0d-score': y_train, 'softmax': y_train2},\n",
    "          batch_size=2,\n",
    "          epochs=1,\n",
    "          verbose=1)"
   ]
  },
  {
   "cell_type": "markdown",
   "metadata": {},
   "source": [
    "import pandas as pd\n",
    "from deepflash import preproc\n",
    "from skimage import io\n",
    "import os\n",
    "from pathlib import Path\n",
    "import pickle"
   ]
  },
  {
   "cell_type": "markdown",
   "metadata": {},
   "source": [
    "CODER = 'staple'  #'rohini', 'dennis', 'cora', 'manju', 'corinna' ['cc_cons_1', 'cc_cons_2', 'cc_cons_3', 'cc_cons_4', 'cc_cons_5']\n",
    "CHANNELS_IMG = 1\n",
    "DATA_PATH = \"01_data\"#\"data/images\"\n",
    "ASSIGNMENT_PATH = 'data/samples_36_final.csv'\n",
    "TILE_SHAPE = (540,540)\n",
    "PADDING = (184,184)\n",
    "SEED = 44\n",
    "EL_SIZE = [635.9, 635.9] #micrometers\n",
    "WEIGHTS_DIR = 'weights'"
   ]
  },
  {
   "cell_type": "markdown",
   "metadata": {},
   "source": [
    "MASK = 'cFOS'\n",
    "IMAGE = 'red'\n",
    "MASK_PATH = \"data/labels\""
   ]
  },
  {
   "cell_type": "markdown",
   "metadata": {},
   "source": [
    "LAMBDA = 50 #50\n",
    "V_BAL = 0.1 #0.1\n",
    "SIGMA_BAL = 10 #10 \n",
    "SIGMA_SEP = 6 #6"
   ]
  },
  {
   "cell_type": "markdown",
   "metadata": {},
   "source": [
    "assignment = pd.read_csv(ASSIGNMENT_PATH, converters={'Nummer': lambda x: str(x).zfill(4)})\n",
    "assignment['Group_ID'] = assignment.groupby(['Kondition', 'Area']).ngroup()\n",
    "file_ids = assignment['Nummer'].tolist()"
   ]
  },
  {
   "cell_type": "markdown",
   "metadata": {},
   "source": [
    "image_list = [io.imread(os.path.join(DATA_PATH, img_name), as_gray=True) for \n",
    "              img_name in [s + '_' + IMAGE + '.tif' for s in file_ids]]\n",
    "\n",
    "image_list = [np.expand_dims(img, axis=2) for img in image_list]\n",
    "data = [{'rawdata': img, 'element_size_um': EL_SIZE} for img in image_list]"
   ]
  },
  {
   "cell_type": "markdown",
   "metadata": {},
   "source": [
    "mask_list = [io.imread(os.path.join(MASK_PATH, CODER, x), as_gray=True).astype('int')//255\n",
    "         for x in [s + '_' + MASK + '.png' for s in file_ids]]\n",
    "assert np.array(mask_list).max() == 1 \n",
    "\n",
    "X_train = np.array(image_list)\n",
    "y_train = np.array(mask_list)\n",
    "\n",
    "data_train = [{'rawdata': img, 'element_size_um': EL_SIZE} for img in X_train]\n",
    "\n",
    "weights = None\n",
    "w_path = Path(WEIGHTS_DIR, '36_' + MASK + '_' + CODER + '_' + str(LAMBDA) + '_' + str(V_BAL) + '_' + str(SIGMA_BAL) + '_' + str(SIGMA_SEP) + '.pkl')\n",
    "if w_path.exists(): \n",
    "    print('Loading image weights')\n",
    "    weights = pickle.load(open(w_path, \"rb\"))\n",
    "## Generators\n",
    "train_generator = preproc.DataAugmentationGenerator(data = data_train, \n",
    "                                                classlabels=y_train,\n",
    "                                                instancelabels=None,\n",
    "                                                tile_shape = TILE_SHAPE, \n",
    "                                                padding= PADDING,\n",
    "                                                batch_size = 4,\n",
    "                                                n_classes=2,\n",
    "                                                ignore=None,\n",
    "                                                weights=weights,\n",
    "                                                element_size_um=None,\n",
    "                                                rotation_range_deg=(0, 360),\n",
    "                                                flip=False,\n",
    "                                                deformation_grid=(150, 150),\n",
    "                                                deformation_magnitude=(10, 10),\n",
    "                                                value_minimum_range=(0, 0),\n",
    "                                                value_maximum_range=(0.0, 1),\n",
    "                                                value_slope_range=(1, 1),\n",
    "                                                shuffle=True,\n",
    "                                                foreground_dist_sigma_px=SIGMA_BAL,\n",
    "                                                border_weight_sigma_px=SIGMA_SEP,\n",
    "                                                border_weight_factor=LAMBDA,\n",
    "                                                foreground_background_ratio=V_BAL\n",
    "                                               )"
   ]
  },
  {
   "cell_type": "code",
   "execution_count": null,
   "metadata": {},
   "outputs": [
    {
     "name": "stdout",
     "output_type": "stream",
     "text": [
      "Epoch 1/10\n",
      "9/9 [==============================] - 6s 670ms/step - loss: 0.6451 - conv_u0d-score_loss: 0.6451 - softmax_loss: 0.0000e+00 - softmax_recall_35: 0.2483 - softmax_precision_31: 0.0179 - softmax_binary_accuracy: 0.6875 - softmax_IoU: 0.3514\n",
      "Epoch 2/10\n",
      "9/9 [==============================] - 6s 628ms/step - loss: 0.5182 - conv_u0d-score_loss: 0.5182 - softmax_loss: 0.0000e+00 - softmax_recall_35: 0.0368 - softmax_precision_31: 0.0107 - softmax_binary_accuracy: 0.9232 - softmax_IoU: 0.4657\n",
      "Epoch 3/10\n",
      "9/9 [==============================] - 6s 625ms/step - loss: 0.4656 - conv_u0d-score_loss: 0.4656 - softmax_loss: 0.0000e+00 - softmax_recall_35: 0.0045 - softmax_precision_31: 0.0143 - softmax_binary_accuracy: 0.9743 - softmax_IoU: 0.4889\n",
      "Epoch 4/10\n",
      "9/9 [==============================] - 6s 625ms/step - loss: 0.4468 - conv_u0d-score_loss: 0.4468 - softmax_loss: 0.0000e+00 - softmax_recall_35: 0.0017 - softmax_precision_31: 0.0612 - softmax_binary_accuracy: 0.9756 - softmax_IoU: 0.4886\n",
      "Epoch 5/10\n",
      "9/9 [==============================] - 6s 628ms/step - loss: 0.4027 - conv_u0d-score_loss: 0.4027 - softmax_loss: 0.0000e+00 - softmax_recall_35: 0.0018 - softmax_precision_31: 0.2174 - softmax_binary_accuracy: 0.9768 - softmax_IoU: 0.4893\n",
      "Epoch 6/10\n",
      "9/9 [==============================] - 6s 625ms/step - loss: 0.3645 - conv_u0d-score_loss: 0.3645 - softmax_loss: 0.0000e+00 - softmax_recall_35: 0.0026 - softmax_precision_31: 0.5520 - softmax_binary_accuracy: 0.9798 - softmax_IoU: 0.4912\n",
      "Epoch 7/10\n",
      "9/9 [==============================] - 6s 625ms/step - loss: 0.3472 - conv_u0d-score_loss: 0.3472 - softmax_loss: 0.0000e+00 - softmax_recall_35: 0.0031 - softmax_precision_31: 0.6957 - softmax_binary_accuracy: 0.9831 - softmax_IoU: 0.4931\n",
      "Epoch 8/10\n",
      "9/9 [==============================] - 6s 628ms/step - loss: 0.3334 - conv_u0d-score_loss: 0.3334 - softmax_loss: 0.0000e+00 - softmax_recall_35: 0.0033 - softmax_precision_31: 0.8806 - softmax_binary_accuracy: 0.9788 - softmax_IoU: 0.4910\n",
      "Epoch 9/10\n",
      "9/9 [==============================] - 6s 625ms/step - loss: 0.3072 - conv_u0d-score_loss: 0.3072 - softmax_loss: 0.0000e+00 - softmax_recall_35: 0.0067 - softmax_precision_31: 0.8673 - softmax_binary_accuracy: 0.9790 - softmax_IoU: 0.4929\n",
      "Epoch 10/10\n",
      "9/9 [==============================] - 6s 628ms/step - loss: 0.3032 - conv_u0d-score_loss: 0.3032 - softmax_loss: 0.0000e+00 - softmax_recall_35: 0.0145 - softmax_precision_31: 0.6802 - softmax_binary_accuracy: 0.9835 - softmax_IoU: 0.4989\n"
     ]
    }
   ],
   "source": [
    "hist = unet.model.fit_generator(train_generator,\n",
    "                        steps_per_epoch=len(train_generator),\n",
    "                        epochs=10,\n",
    "                        verbose=1)"
   ]
  },
  {
   "cell_type": "code",
   "execution_count": null,
   "metadata": {},
   "outputs": [],
   "source": [
    "import matplotlib.pyplot as plt"
   ]
  },
  {
   "cell_type": "code",
   "execution_count": null,
   "metadata": {},
   "outputs": [
    {
     "data": {
      "text/plain": [
       "<matplotlib.image.AxesImage at 0x7f259b1e34d0>"
      ]
     },
     "execution_count": null,
     "metadata": {},
     "output_type": "execute_result"
    },
    {
     "data": {
      "image/png": "[encoded data removed]",
      "text/plain": [
       "<Figure size 432x288 with 1 Axes>"
      ]
     },
     "metadata": {
      "needs_background": "light"
     },
     "output_type": "display_data"
    }
   ],
   "source": [
    "plt.imshow(preds[1][2][...,1]>0.5)"
   ]
  },
  {
   "cell_type": "code",
   "execution_count": null,
   "metadata": {},
   "outputs": [
    {
     "data": {
      "text/plain": [
       "0.99999917"
      ]
     },
     "execution_count": null,
     "metadata": {},
     "output_type": "execute_result"
    }
   ],
   "source": [
    "preds[1][2][...,1].max()"
   ]
  },
  {
   "cell_type": "code",
   "execution_count": null,
   "metadata": {},
   "outputs": [
    {
     "data": {
      "text/plain": [
       "(356, 356)"
      ]
     },
     "execution_count": null,
     "metadata": {},
     "output_type": "execute_result"
    }
   ],
   "source": [
    "train_generator[0][1]['softmax'][0,...,1].shape"
   ]
  },
  {
   "cell_type": "code",
   "execution_count": null,
   "metadata": {},
   "outputs": [
    {
     "data": {
      "image/png": "[encoded data removed]",
      "text/plain": [
       "<Figure size 432x288 with 1 Axes>"
      ]
     },
     "metadata": {
      "needs_background": "light"
     },
     "output_type": "display_data"
    }
   ],
   "source": [
    "plt.imshow(train_generator[0][1]['softmax'][0,...,1]);"
   ]
  },
  {
   "cell_type": "code",
   "execution_count": null,
   "metadata": {},
   "outputs": [],
   "source": []
  }
 ],
 "metadata": {
  "kernelspec": {
   "display_name": "Python 3",
   "language": "python",
   "name": "python3"
  }
 },
 "nbformat": 4,
 "nbformat_minor": 4
}
