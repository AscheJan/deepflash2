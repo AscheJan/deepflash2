{
 "cells": [
  {
   "cell_type": "markdown",
   "metadata": {},
   "source": [
    "# Additional Information\n",
    "> This Notebook contains information on use of _deepflash2_."
   ]
  },
  {
   "cell_type": "markdown",
   "metadata": {},
   "source": [
    "## Naming"
   ]
  },
  {
   "cell_type": "markdown",
   "metadata": {},
   "source": [
    "- Images must have unique name or ID\n",
    "    - _0001.tif --> name/ID: 0001; img_5.png --> name/ID: img_5, ..._ \n",
    "- Corresponding masks must start with name or ID + a mask suffix\n",
    "    - _0001 -> 0001_mask.png (mask_suffix = \"_mask.png\")_\n",
    "    - _0001 -> 0001.png (mask_suffix = \".png\")_\n",
    "\n"
   ]
  },
  {
   "cell_type": "markdown",
   "metadata": {},
   "source": [
    "## Learning-Rate-Finder\n",
    "- **Learning rate**: controls how quickly or slowly a neural network model learns. <br>\n",
    "We need to set the __maximum learning rate__ `max_lr` when traing with the **[One-Cycle-Policy](https://fastai1.fast.ai/callbacks.one_cycle.html#The-1cycle-policy)**. Using the **Learning Rate Finder** below, a good value for `max_lr` is somthing in the range of:\n",
    "    - one tenth of the minimum before the divergence (_Minimum/10_)\n",
    "    - when the slope is the steepest (_steepest point_) \n",
    "    - In our experiments, we found that a **maximum learning rate of 5e-4** (e.g., 0.0005) yielded the best results across experiments."
   ]
  },
  {
   "cell_type": "markdown",
   "metadata": {},
   "source": [
    "## Train-validation-split\n",
    "\n",
    "- `n_models = 1` leads to a train-validation-split of 0.75/0.25\n",
    "- `n_models > 1` (model ensembles) to _[k-fold cross validation](https://scikit-learn.org/stable/modules/generated/sklearn.model_selection.KFold.html)_"
   ]
  }
 ],
 "metadata": {
  "kernelspec": {
   "display_name": "Python 3",
   "language": "python",
   "name": "python3"
  }
 },
 "nbformat": 4,
 "nbformat_minor": 4
}
