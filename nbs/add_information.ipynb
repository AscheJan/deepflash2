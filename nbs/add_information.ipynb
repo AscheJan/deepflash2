{
 "cells": [
  {
   "cell_type": "markdown",
   "metadata": {},
   "source": [
    "# Additional Information\n",
    "> This Notebook contains information on use of _deepflash2_."
   ]
  },
  {
   "cell_type": "markdown",
   "metadata": {},
   "source": [
    "## Required Data Structure and Naming"
   ]
  },
  {
   "cell_type": "markdown",
   "metadata": {},
   "source": [
    "### Ground Truth Estimation \n",
    "\n",
    "**Input Details**:  *deepflash2* fuses\n",
    "\n",
    "- binary segmentations of an image, that is, there must be a single foreground value that represents positively classified pixels\n",
    "    - Segmentation pixel values: background-class: 0; foreground-class: 1 or 255\n",
    "- instance segmentations of an image (instances represent positively classified pixels)\n",
    "    - Segmentation pixel values: background-class: 0; foreground-instances: 1,2,...,I\n",
    "\n",
    "Examplary input folder structure:\n",
    ">\n",
    "```\n",
    "expert_segmentations  -> one parent folder\n",
    "│                     \n",
    "│───expert1           -> one folder per expert\n",
    "│   │   mask1.png     -> segmentation masks\n",
    "│   │   mask2.png\n",
    "│   \n",
    "└───expert2\n",
    "    │   mask1.png\n",
    "    │   mask2.png\n",
    "```\n",
    "\n",
    "All common image formats (tif, png, etc.) are supported. See [imageio docs](https://imageio.readthedocs.io/en/stable/formats/index.html)."
   ]
  },
  {
   "cell_type": "markdown",
   "metadata": {},
   "source": [
    "### Training\n",
    "\n",
    "- **Images must have unique name or ID**\n",
    "    - _0001.tif --> name/ID: 0001; img_5.png --> name/ID: img_5, ..._ \n",
    "    - Arbitrary number of channels (e.g., 1 greyscale; 3 RGB)\n",
    "- **Corresponding masks must start with name or ID + a mask suffix__**\n",
    "    - **Semantic segmentation mask pixel values**: background-class: 0; foreground-classes: 1,2,...,C (or 255 if binary)\n",
    "    - **Instance segmentation mask pixel values (binary only)**: background-class: 0; foreground-instances: 1,2,...,I\n",
    "    - _0001 -> 0001_mask.png (mask_suffix = \"_mask.png\")_\n",
    "    - _0001 -> 0001.png (mask_suffix = \".png\")_\n",
    "    - mask suffix is inferred automatically \n",
    "    - binary segmentations of an image, that is, there must be a single foreground value that represents positively classified pixels\n",
    "    - instance segmentations of an image (instances represent positively classified pixels\n",
    "\n",
    "Examplary input folder structure:\n",
    ">\n",
    "```                   \n",
    "──images            -> one image folder\n",
    "  │   0001.tif      \n",
    "  │   0002.tif\n",
    "  \n",
    "──masks             -> one masks folder\n",
    "  │   0001_mask.png\n",
    "  │   0002_mask.png\n",
    "```\n",
    "\n",
    "All common image formats (tif, png, etc.) are supported. See [imageio docs](https://imageio.readthedocs.io/en/stable/formats/index.html)."
   ]
  },
  {
   "cell_type": "markdown",
   "metadata": {},
   "source": [
    "### Prediction\n",
    "\n",
    "- __One folder for images__\n",
    "    - Images must have unique name or ID\n",
    "        - _0001.tif --> name/ID: 0001; img_5.png --> name/ID: img_5, ..._ \n",
    "    - Same number of channels as training images (e.g., 1 greyscale; 3 RGB)\n",
    "- __For evaluation: Corresponding masks must start with name or ID + a mask suffix__\n",
    "    - same requirements as for [training](https://matjesg.github.io/deepflash2/add_information.html#Training)\n",
    "- __One folder containing trained models (ensemble)__\n",
    "    - Ensemble folder and models will be created during Training\n",
    "        - Do not change the naming of the models\n",
    "        - If you want to train different ensembles, simply rename the ensemble folder\n",
    "\n",
    "Examplary input folder structure:\n",
    ">\n",
    "```                   \n",
    "──images            -> one image folder\n",
    "  │   0001.tif      \n",
    "  │   0002.tif\n",
    "  \n",
    "──masks             -> one masks folder (evaluation only)\n",
    "  │   0001_mask.png\n",
    "  │   0002_mask.png\n",
    "\n",
    "──ensemble          -> one model folder\n",
    "  │   Unet_resnet34_2classes-fold1.pth\n",
    "  │   Unet_resnet34_2classes-fold2.pth\n",
    "```"
   ]
  },
  {
   "cell_type": "markdown",
   "metadata": {},
   "source": [
    "## Train-validation-split\n",
    "\n",
    "The train-validation-split is defined as _[k-fold cross validation](https://scikit-learn.org/stable/modules/generated/sklearn.model_selection.KFold.html)_ with `n_splits`\n",
    "- `n_splits` is the minimum of: (number of files in dataset,  `max_splits` (default:5))\n",
    "- By default, the number of models per ensemble is limited to `n_splits`\n",
    "\n",
    "_Example for a dataset containing 15 images_\n",
    "- `model_1` is trained on 12 images (3 validation images) \n",
    "- `model_2` is trained on 12 images (3 different validation images) \n",
    "- ...\n",
    "- `model_5` is trained on 12 images (3 different validation images) \n",
    "\n",
    "_Example for a dataset containing 2 images_\n",
    "- `model_1` is trained on 1 image (1 validation image) \n",
    "- `model_2` is trained on 1 images (1 different validation image) \n",
    "- Only two models per ensemble"
   ]
  },
  {
   "cell_type": "markdown",
   "metadata": {},
   "source": [
    "## Training Epochs and Iterations\n",
    "\n",
    "To streamline the training process and allow an easier comparison across differently sized datasets, we decided to use the number of training _iterations_ instead of _epochs_ to define the lenght of a [training cycle](https://matjesg.github.io/deepflash2/utils.html#calc_iterations).\n",
    "\n",
    "Some useful definitions (adapted from [stackoverflow](https://stackoverflow.com/questions/4752626/epoch-vs-iteration-when-training-neural-networks)):\n",
    "- Epoch: one training pass (forward pass and one backward pass) of all the training examples\n",
    "- Batch size: the number of training examples in one forward/backward pass. The higher the batch size, the more memory space you'll need.\n",
    "- Iteration: One forward pass and one backward pass using [batch size] number of examples."
   ]
  }
 ],
 "metadata": {
  "kernelspec": {
   "display_name": "Python 3 (ipykernel)",
   "language": "python",
   "name": "python3"
  }
 },
 "nbformat": 4,
 "nbformat_minor": 4
}
