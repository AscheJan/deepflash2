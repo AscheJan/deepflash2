{
 "cells": [
  {
   "cell_type": "markdown",
   "metadata": {},
   "source": [
    "<a href=\"https://colab.research.google.com/github/matjesg/deepflash2/blob/master/deepflash2_GUI.ipynb\" target=\"_parent\"><img src=\"https://colab.research.google.com/assets/colab-badge.svg\" alt=\"Open In Colab\"/></a>"
   ]
  },
  {
   "cell_type": "markdown",
   "metadata": {},
   "source": [
    "\n",
    "**Welcome to the GUI of *deepflash2*. Read the [paper](https://arxiv.org/abs/2111.06693), watch the [tutorials](https://matjesg.github.io/deepflash2/tutorial.html), or read the [docs](https://matjesg.github.io/deepflash2/).**\n",
    "\n",
    "If you're working on [Google Colab](https://colab.research.google.com):\n",
    "- Use Google Chrome or Firefox for full functionality\n",
    "- Connect to your [Google Drive](https://drive.google.com/drive/my-drive) (recommended).\n",
    "\n",
    "\n"
   ]
  },
  {
   "cell_type": "code",
   "execution_count": null,
   "metadata": {},
   "outputs": [],
   "source": [
    "#@title Set up environment\n",
    "#@markdown Please run this cell to get started.\n",
    "from IPython.display import clear_output\n",
    "try:\n",
    "    import deepflash2\n",
    "except ImportError:\n",
    "    !pip install -Uqq deepflash2\n",
    "    #!pip install -Uqq git+https://github.com/matjesg/deepflash2.git@master\n",
    "from deepflash2.gui import GUI, _connect_to_drive\n",
    "%xmode Plain\n",
    "clear_output(wait=True)\n",
    "path=_connect_to_drive()"
   ]
  },
  {
   "cell_type": "code",
   "execution_count": null,
   "metadata": {},
   "outputs": [],
   "source": [
    "#@title Start deepflash2 GUI\n",
    "#@markdown If something goes wrong, click\n",
    "#@markdown Click \"Runtime\" -> \"Factory Reset Runtime\" (on Colab) or \n",
    "#@markdown \"Kernel\" -> \"Restart Kernel\" (Jupyter) and start over!\n",
    "t = GUI(path);"
   ]
  },
  {
   "cell_type": "code",
   "execution_count": null,
   "metadata": {},
   "outputs": [],
   "source": [
    "#@markdown  On [Google Colab](https://colab.research.google.com): Run this cell during training/prediction to avoid a disconnect. Stop execution to continue.\n",
    "try: \n",
    "  while True: pass\n",
    "except: \n",
    "  pass"
   ]
  }
 ],
 "metadata": {
  "kernelspec": {
   "display_name": "Python 3",
   "language": "python",
   "name": "python3"
  }
 },
 "nbformat": 4,
 "nbformat_minor": 0
}
