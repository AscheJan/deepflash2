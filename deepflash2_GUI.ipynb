{
  "nbformat": 4,
  "nbformat_minor": 0,
  "metadata": {
    "kernelspec": {
      "display_name": "Python 3",
      "language": "python",
      "name": "python3"
    },
    "colab": {
      "name": "deepflash2_GUI.ipynb",
      "provenance": [],
      "collapsed_sections": [],
      "include_colab_link": true
    },
    "accelerator": "GPU"
  },
  "cells": [
    {
      "cell_type": "markdown",
      "metadata": {
        "id": "view-in-github",
        "colab_type": "text"
      },
      "source": [
        "<a href=\"https://colab.research.google.com/github/matjesg/deepflash2/blob/master/deepflash2_GUI.ipynb\" target=\"_parent\"><img src=\"https://colab.research.google.com/assets/colab-badge.svg\" alt=\"Open In Colab\"/></a>"
      ]
    },
    {
      "cell_type": "markdown",
      "metadata": {
        "id": "pFX39faNA-YP"
      },
      "source": [
        "\n",
        "Welcome to the GUI of *deepflash2*. If you're working on [Google Colab](https://colab.research.google.com):\n",
        "- Use Google Chrome or Firefox for full functionality\n",
        "- Connect to your [Google Drive](https://drive.google.com/drive/my-drive) (recommended).\n",
        "\n",
        "**Watch the [deepflash2 tutorials](https://matjesg.github.io/deepflash2/tutorial.html) and read the [deepflash2 docs](https://matjesg.github.io/deepflash2/)**.\n"
      ]
    },
    {
      "cell_type": "code",
      "metadata": {
        "id": "tgU_3gsgA-YR",
        "cellView": "form"
      },
      "source": [
        "#@title Set up environment\n",
        "#@markdown Please run this cell to get started.\n",
        "from IPython.display import clear_output\n",
        "try:\n",
        "    import deepflash2\n",
        "except ImportError:\n",
        "    !pip install -Uqq deepflash2\n",
        "    #!pip install -Uqq git+https://github.com/matjesg/deepflash2.git@master\n",
        "from deepflash2.gui import GUI, _connect_to_drive\n",
        "%xmode Plain\n",
        "clear_output(wait=True)\n",
        "path=_connect_to_drive()"
      ],
      "execution_count": null,
      "outputs": []
    },
    {
      "cell_type": "code",
      "metadata": {
        "cellView": "form",
        "id": "U3NgZjkyA-YS"
      },
      "source": [
        "#@title Start deepflash2 GUI\n",
        "#@markdown If something goes wrong, click\n",
        "#@markdown Click \"Runtime\" -> \"Factory Reset Runtime\" (on Colab) or \n",
        "#@markdown \"Kernel\" -> \"Restart Kernel\" (Jupyter) and start over!\n",
        "t = GUI(path);"
      ],
      "execution_count": null,
      "outputs": []
    },
    {
      "cell_type": "code",
      "metadata": {
        "cellView": "form",
        "id": "D-Cx4qusA-YT"
      },
      "source": [
        "#@markdown  On [Google Colab](https://colab.research.google.com): Run this cell during training/prediction to avoid a disconnect. Stop execution to continue.\n",
        "try: \n",
        "  while True: pass\n",
        "except: \n",
        "  pass"
      ],
      "execution_count": null,
      "outputs": []
    }
  ]
}
