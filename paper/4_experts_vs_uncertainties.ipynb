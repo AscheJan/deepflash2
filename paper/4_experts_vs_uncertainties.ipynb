{
  "nbformat": 4,
  "nbformat_minor": 0,
  "metadata": {
    "colab": {
      "name": "4_experts_vs_uncertainties.ipynb",
      "provenance": [],
      "collapsed_sections": [],
      "include_colab_link": true
    },
    "kernelspec": {
      "name": "python3",
      "display_name": "Python 3"
    },
    "language_info": {
      "name": "python"
    },
    "accelerator": "GPU"
  },
  "cells": [
    {
      "cell_type": "markdown",
      "metadata": {
        "id": "view-in-github",
        "colab_type": "text"
      },
      "source": [
        "<a href=\"https://colab.research.google.com/github/matjesg/deepflash2/blob/master/paper/4_experts_vs_uncertainties.ipynb\" target=\"_parent\"><img src=\"https://colab.research.google.com/assets/colab-badge.svg\" alt=\"Open In Colab\"/></a>"
      ]
    },
    {
      "cell_type": "markdown",
      "metadata": {
        "id": "MJ0pRdHQGAPl"
      },
      "source": [
        "# deepflash2 - Relationship between uncertainty and expert agreement\n",
        "\n",
        "> This notebook reproduces the results of the deepflash2 [paper](https://arxiv.org/abs/2111.06693) for the relationship between pixel-wise uncertainty and expert agreement.\n",
        "\n",
        "- **Data and models**: Data and trained models are available on [Google Drive](https://drive.google.com/drive/folders/1r9AqP9qW9JThbMIvT0jhoA5mPxWEeIjs?usp=sharing). To use the data in Google Colab, create a [shortcut](https://support.google.com/drive/answer/9700156?hl=en&co=GENIE.Platform%3DDesktop) of the data folder in your personal Google Drive.\n",
        "\n",
        "*Source files created with this notebook*:\n",
        "\n",
        "`experts_vs_uncertainties.csv`\n",
        "\n",
        "*References*:\n",
        "\n",
        "Griebel, M., Segebarth, D., Stein, N., Schukraft, N., Tovote, P., Blum, R., & Flath, C. M. (2021). Deep-learning in the bioimaging wild: Handling ambiguous data with deepflash2. arXiv preprint arXiv:2111.06693.\n"
      ]
    },
    {
      "cell_type": "markdown",
      "metadata": {
        "id": "nFQlTlPoKBM9"
      },
      "source": [
        "## Setup\n",
        "\n",
        "- Install dependecies\n",
        "- Connect to drive"
      ]
    },
    {
      "cell_type": "code",
      "metadata": {
        "id": "7DK5ySSWKESd"
      },
      "source": [
        "!pip install deepflash2"
      ],
      "execution_count": null,
      "outputs": []
    },
    {
      "cell_type": "code",
      "metadata": {
        "id": "XbDoXA3PKNAm"
      },
      "source": [
        "# Imports\n",
        "import numpy as np\n",
        "import pandas as pd\n",
        "from pathlib import Path\n",
        "import zarr\n",
        "from deepflash2.all import *\n",
        "from deepflash2.data import _read_msk"
      ],
      "execution_count": null,
      "outputs": []
    },
    {
      "cell_type": "code",
      "metadata": {
        "id": "LNwYiX9RmiMX"
      },
      "source": [
        "# Connect to drive\n",
        "from google.colab import drive\n",
        "drive.mount('/gdrive')"
      ],
      "execution_count": null,
      "outputs": []
    },
    {
      "cell_type": "markdown",
      "metadata": {
        "id": "l2ehFoOoJIox"
      },
      "source": [
        "## Settings"
      ]
    },
    {
      "cell_type": "code",
      "metadata": {
        "id": "-8LFII70JHOl"
      },
      "source": [
        "DATASETS = ['PV_in_HC', 'cFOS_in_HC', 'mScarlet_in_PAG', 'YFP_in_CTX', 'GFAP_in_HC']\n",
        "OUTPUT_PATH = Path(\"/content\") \n",
        "DATA_PATH = Path('/gdrive/MyDrive/deepflash2-paper/data')\n",
        "TRAINED_MODEL_PATH= Path('/gdrive/MyDrive/deepflash2-paper/models/')\n",
        "MODEL_NO = '1'\n",
        "UNCERTAINTY_BINS = np.linspace(0, 0.25, 26)"
      ],
      "execution_count": null,
      "outputs": []
    },
    {
      "cell_type": "markdown",
      "metadata": {
        "id": "vbql-zGyF93s"
      },
      "source": [
        "## Analysis\n",
        "\n",
        "1. Predict segmentations and uncertainties on the test set\n",
        "2. Calculate expert agreement from the expert segmentations\n",
        "3. Postprocess results \n",
        "\n",
        "See `deepflash2_figures-and-tables.ipynb` for plots of the data."
      ]
    },
    {
      "cell_type": "code",
      "metadata": {
        "id": "rMxAxkVMsmQW"
      },
      "source": [
        "result_list = []\n",
        "for dataset in DATASETS:\n",
        "  test_data_path = DATA_PATH/dataset/'test'\n",
        "  ensemble_path = TRAINED_MODEL_PATH/dataset/MODEL_NO\n",
        "  el_pred = EnsembleLearner('images',\n",
        "                            path=test_data_path, \n",
        "                            ensemble_path=ensemble_path) \n",
        "  \n",
        "  # Predict and save semantic segmentation masks\n",
        "  el_pred.get_ensemble_results(el_pred.files, use_tta=True)\n",
        "  \n",
        "  # Load expert masks      \n",
        "  gt_est = GTEstimator(exp_dir='masks_experts', path=test_data_path)\n",
        "  exp_averages = {} \n",
        "  for m, exps in gt_est.masks.items():\n",
        "    file_id = m.split('_')[0]\n",
        "    exp_masks = [_read_msk(gt_est.mask_fn(exp,m), instance_labels=gt_est.instance_labels) for exp in exps]\n",
        "    exp_averages[file_id] = np.mean(exp_masks, axis=0)\n",
        "\n",
        "  for idx, r in el_pred.df_ens.iterrows():\n",
        "    file_id = r.file.split('.')[0]\n",
        "\n",
        "    # Get prediction from softmax\n",
        "    smx = zarr.load(r.softmax_path)\n",
        "    pred = np.argmax(smx, axis=-1)\n",
        "\n",
        "    # Get uncertainty maps\n",
        "    unc = zarr.load(r.uncertainty_path)\n",
        "\n",
        "    # Get expert average annotations\n",
        "    exp_average = exp_averages[file_id]\n",
        "\n",
        "    # Calculate \"soft\" error map\n",
        "    error_map = np.abs(pred-exp_average)\n",
        "\n",
        "    # Calculate error means (error rate)\n",
        "    digitized = np.digitize(unc.flatten(), UNCERTAINTY_BINS)\n",
        "    error_means = [error_map.flatten()[digitized == i].mean() for i in range(1, len(UNCERTAINTY_BINS))]\n",
        "\n",
        "    # Calculate expert agreement\n",
        "    expert_agreement = []\n",
        "    for i in range(1, len(UNCERTAINTY_BINS)):\n",
        "      bin_error = error_map.flatten()[digitized == i]\n",
        "      expert_agreement.append((np.sum(bin_error==0) + np.sum(bin_error==1))/len(bin_error))\n",
        "\n",
        "    df_tmp = pd.DataFrame({\n",
        "      'dataset':dataset,\n",
        "      'file':r.file,\n",
        "      'uncertainty_bins': UNCERTAINTY_BINS[:-1],\n",
        "      'error_rate': error_means,\n",
        "      'expert_agreement': expert_agreement\n",
        "      })\n",
        "    result_list.append(df_tmp)\n",
        "\n",
        "df = pd.concat(result_list).reset_index(drop=True)\n",
        "df.to_csv(OUTPUT_PATH/'experts_vs_uncertainties.csv', index=False)"
      ],
      "execution_count": null,
      "outputs": []
    },
    {
      "cell_type": "code",
      "metadata": {
        "id": "qTqmcFI6txjW"
      },
      "source": [
        ""
      ],
      "execution_count": null,
      "outputs": []
    }
  ]
}