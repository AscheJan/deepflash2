{
  "nbformat": 4,
  "nbformat_minor": 0,
  "metadata": {
    "colab": {
      "name": "preprocess_monuseg.ipynb",
      "private_outputs": true,
      "provenance": [],
      "collapsed_sections": [],
      "include_colab_link": true
    },
    "kernelspec": {
      "name": "python3",
      "display_name": "Python 3"
    },
    "language_info": {
      "name": "python"
    },
    "accelerator": "GPU"
  },
  "cells": [
    {
      "cell_type": "markdown",
      "metadata": {
        "id": "view-in-github",
        "colab_type": "text"
      },
      "source": [
        "<a href=\"https://colab.research.google.com/github/matjesg/deepflash2/blob/master/paper/challenge_data/preprocess_monuseg.ipynb\" target=\"_parent\"><img src=\"https://colab.research.google.com/assets/colab-badge.svg\" alt=\"Open In Colab\"/></a>"
      ]
    },
    {
      "cell_type": "markdown",
      "source": [
        "# Data preprocessing for the MoNuSeg 2018 Challenge Dataset\n",
        "\n",
        "\n",
        "![Monuseg Logo](https://rumc-gcorg-p-public.s3.amazonaws.com/i/2020/02/22/Snip20200222_7.png)\n",
        "\n",
        "\n",
        "from  https://monuseg.grand-challenge.org/:\n",
        "- The train dataset (images and annotations) can be downloaded from https://drive.google.com/file/d/1ZgqFJomqQGNnsx7w7QBzQQMVA16lbVCA/view\n",
        "\n",
        "- The test dataset can be downloaded from https://drive.google.com/file/d/1NKkSQ5T0ZNQ8aUhh0a8Dt2YKYCQXIViw/view\n",
        "\n",
        "\n",
        "**References:** Kumar, Neeraj, et al. \"A multi-organ nucleus segmentation challenge.\" IEEE transactions on medical imaging 39.5 (2019): 1380-1391.\n"
      ],
      "metadata": {
        "id": "hOGFyya-3lIG"
      }
    },
    {
      "cell_type": "markdown",
      "source": [
        "## 1. Download Data"
      ],
      "metadata": {
        "id": "aar5O1iV4iG6"
      }
    },
    {
      "cell_type": "code",
      "source": [
        "!gdown 1ZgqFJomqQGNnsx7w7QBzQQMVA16lbVCA -O train.zip\n",
        "!mkdir train && unzip -ju train.zip -d train/images\n",
        "\n",
        "!gdown 1NKkSQ5T0ZNQ8aUhh0a8Dt2YKYCQXIViw -O test.zip\n",
        "!mkdir test && unzip -ju test.zip -d test/images"
      ],
      "metadata": {
        "id": "axEj4k8NpuZ9"
      },
      "execution_count": null,
      "outputs": []
    },
    {
      "cell_type": "markdown",
      "source": [
        "## 2. Imports and functions "
      ],
      "metadata": {
        "id": "Kazr23WC4y-N"
      }
    },
    {
      "cell_type": "code",
      "source": [
        "# imagecodecs required to read tif files\n",
        "!pip install -U git+https://github.com/matjesg/deepflash2.git@master"
      ],
      "metadata": {
        "id": "9dcLbamf6qOH"
      },
      "execution_count": null,
      "outputs": []
    },
    {
      "cell_type": "code",
      "source": [
        "# Imports\n",
        "from pathlib import Path\n",
        "import xml.etree.ElementTree as ET\n",
        "import cv2\n",
        "import numpy as np\n",
        "import imageio\n",
        "from deepflash2.data import preprocess_mask"
      ],
      "metadata": {
        "id": "3tr_-z934yfK"
      },
      "execution_count": null,
      "outputs": []
    },
    {
      "cell_type": "code",
      "source": [
        "# Function to convert xml to mask\n",
        "# Adapted from https://github.com/vqdang/hover_net/blob/d743e633ed59e588af6113cae185d4db589b4368/src/misc/proc_kumar_ann.py#L39\n",
        "def xml_to_mask(xml_path, hw):\n",
        "    xml = ET.parse(xml_path)\n",
        "\n",
        "    contour_dbg = np.zeros(hw, np.uint8)\n",
        "\n",
        "    insts_list = []\n",
        "    for idx, region_xml in enumerate(xml.findall('.//Region')):\n",
        "        vertices = []\n",
        "        for vertex_xml in region_xml.findall('.//Vertex'):\n",
        "            attrib = vertex_xml.attrib\n",
        "            vertices.append([float(attrib['X']), \n",
        "                             float(attrib['Y'])])\n",
        "        vertices = np.array(vertices) + 0.5\n",
        "        vertices = vertices.astype('int32')\n",
        "        contour_blb = np.zeros(hw, np.uint8)\n",
        "        # fill both the inner area and contour with idx+1 color\n",
        "        cv2.drawContours(contour_blb, [vertices], 0, idx+1, -1)\n",
        "        insts_list.append(contour_blb)\n",
        "\n",
        "    insts_size_list = np.array(insts_list)\n",
        "    insts_size_list = np.sum(insts_size_list, axis=(1 , 2))\n",
        "    insts_size_list = list(insts_size_list)\n",
        "\n",
        "    pair_insts_list = zip(insts_list, insts_size_list)\n",
        "    # sort in z-axis basing on size, larger on top\n",
        "    pair_insts_list = sorted(pair_insts_list, key=lambda x: x[1])\n",
        "    insts_list, insts_size_list = zip(*pair_insts_list)\n",
        "\n",
        "    ann = np.zeros(hw, np.int32)\n",
        "    for idx, inst_map in enumerate(insts_list):\n",
        "        ann[inst_map > 0] = idx + 1\n",
        "\n",
        "    return ann"
      ],
      "metadata": {
        "id": "2Tp9foQC4xFl"
      },
      "execution_count": null,
      "outputs": []
    },
    {
      "cell_type": "markdown",
      "source": [
        "## 3. Convert and save masks (instance labels)"
      ],
      "metadata": {
        "id": "aP-Ny1kp4-Rb"
      }
    },
    {
      "cell_type": "code",
      "source": [
        "for dir in ['train', 'test']:\n",
        "    files = [x for x in (Path(dir)/'images').iterdir() if x.suffix=='.xml' and not x.name.startswith('.')]\n",
        "    outpath = Path(dir)/'masks'\n",
        "    outpath.mkdir(exist_ok=True)\n",
        "    outpath2 = Path(dir)/'masks_preprocessed'\n",
        "    outpath2.mkdir(exist_ok=True)\n",
        "\n",
        "    for f in files:\n",
        "        img = imageio.imread(f.with_suffix('.tif'))\n",
        "        hw = img.shape[:2]\n",
        "        labels = xml_to_mask(f, hw)\n",
        "        imageio.imsave(outpath/f'{f.stem}_mask.tif', labels)\n",
        "\n",
        "        msk = preprocess_mask(clabels=None, instlabels=labels, remove_connectivity=True, num_classes=2)\n",
        "        imageio.imsave(outpath2/f'{f.stem}_mask.png', msk.astype('uint8')*255)"
      ],
      "metadata": {
        "id": "SkqGtdxS46k6"
      },
      "execution_count": null,
      "outputs": []
    }
  ]
}