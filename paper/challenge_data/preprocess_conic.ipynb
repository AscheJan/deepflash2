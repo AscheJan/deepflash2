{
  "nbformat": 4,
  "nbformat_minor": 0,
  "metadata": {
    "colab": {
      "name": "preprocess_conic.ipynb",
      "private_outputs": true,
      "provenance": [],
      "collapsed_sections": [],
      "include_colab_link": true
    },
    "kernelspec": {
      "name": "python3",
      "display_name": "Python 3"
    },
    "language_info": {
      "name": "python"
    }
  },
  "cells": [
    {
      "cell_type": "markdown",
      "metadata": {
        "id": "view-in-github",
        "colab_type": "text"
      },
      "source": [
        "<a href=\"https://colab.research.google.com/github/matjesg/deepflash2/blob/master/paper/challenge_data/preprocess_conic.ipynb\" target=\"_parent\"><img src=\"https://colab.research.google.com/assets/colab-badge.svg\" alt=\"Open In Colab\"/></a>"
      ]
    },
    {
      "cell_type": "markdown",
      "source": [
        "# Data preprocessing for the CoNIC: Colon Nuclei Identification and Counting Challenge 2022\n",
        "\n",
        "\n",
        "![Conic Logo](https://rumc-gcorg-p-public.s3.amazonaws.com/b/648/banner.x10.jpeg)\n",
        "\n",
        "\n",
        "from  https://conic-challenge.grand-challenge.org/:\n",
        "- The dataset is available at https://warwick.ac.uk/fac/cross_fac/tia/data/lizard/\n",
        "\n",
        "**References:** Graham, Simon, et al. \"Lizard: A Large-Scale Dataset for Colonic Nuclear Instance Segmentation and Classification.\" Proceedings of the IEEE/CVF International Conference on Computer Vision. 2021.\n"
      ],
      "metadata": {
        "id": "hOGFyya-3lIG"
      }
    },
    {
      "cell_type": "markdown",
      "source": [
        "## 1. Download and extract data"
      ],
      "metadata": {
        "id": "aar5O1iV4iG6"
      }
    },
    {
      "cell_type": "code",
      "source": [
        "!wget -O images1.zip https://warwick.ac.uk/fac/cross_fac/tia/data/lizard/lizard_images1.zip\n",
        "!wget -O images2.zip https://warwick.ac.uk/fac/cross_fac/tia/data/lizard/lizard_images2.zip\n",
        "!wget -O labels.zip https://warwick.ac.uk/fac/cross_fac/tia/data/lizard/lizard_labels.zip\n",
        "!mkdir train\n",
        "!unzip -ju images1.zip -d train/images \n",
        "!unzip -juo images2.zip -d train/images\n",
        "!unzip -oqju labels.zip -d mat_labels"
      ],
      "metadata": {
        "id": "axEj4k8NpuZ9"
      },
      "execution_count": null,
      "outputs": []
    },
    {
      "cell_type": "markdown",
      "source": [
        "## 2. Imports"
      ],
      "metadata": {
        "id": "Kazr23WC4y-N"
      }
    },
    {
      "cell_type": "code",
      "source": [
        "# deepflash2 preprocessing required\n",
        "!pip install -qq git+https://github.com/matjesg/deepflash2.git@master"
      ],
      "metadata": {
        "id": "9dcLbamf6qOH"
      },
      "execution_count": null,
      "outputs": []
    },
    {
      "cell_type": "code",
      "source": [
        "# Imports\n",
        "from pathlib import Path\n",
        "import scipy.io as sio\n",
        "import numpy as np\n",
        "import pandas as pd\n",
        "import imageio\n",
        "import cv2\n",
        "from fastprogress import progress_bar\n",
        "from deepflash2.data import preprocess_mask\n",
        "import shutil\n",
        "from fastai.vision.all import *\n",
        "from sklearn.model_selection import train_test_split"
      ],
      "metadata": {
        "id": "3tr_-z934yfK"
      },
      "execution_count": null,
      "outputs": []
    },
    {
      "cell_type": "markdown",
      "source": [
        "## 3. Convert and save masks"
      ],
      "metadata": {
        "id": "aP-Ny1kp4-Rb"
      }
    },
    {
      "cell_type": "code",
      "source": [
        "mat_path = Path('mat_labels')\n",
        "df = pd.read_csv(mat_path/'info.csv')\n",
        "out_path = Path('train')/'masks'\n",
        "out_path.mkdir(exist_ok=True)"
      ],
      "metadata": {
        "id": "l61LhrxlB24m"
      },
      "execution_count": null,
      "outputs": []
    },
    {
      "cell_type": "code",
      "source": [
        "for i, row in progress_bar(df.iterrows(), total=len(df)):\n",
        "    \n",
        "    label = sio.loadmat(mat_path/f'{row.Filename}.mat')\n",
        "    inst_map = label['inst_map'] \n",
        "    nuclei_id = label['id'] # shape (N, 1), where N is the number of nuclei.\n",
        "\n",
        "    # Load the nuclear categories / classes. \n",
        "    classes = label['class']\n",
        "\n",
        "    unique_values = np.unique(inst_map).tolist()[1:] # remove 0\n",
        "\n",
        "    # Convert nuclei_id to list.\n",
        "    nuclei_id = np.squeeze(nuclei_id).tolist()\n",
        "    clabels = np.zeros_like(inst_map, dtype='uint8')\n",
        "    for value, classid in zip(unique_values, classes):\n",
        "        # Get the position of the corresponding value\n",
        "        clabels[inst_map==value] = classid\n",
        "\n",
        "    labels = preprocess_mask(clabels=clabels, instlabels=inst_map, remove_connectivity=True, num_classes = classes.max()+1)\n",
        "\n",
        "    imageio.imsave(out_path/f'{row.Filename}.png', labels)"
      ],
      "metadata": {
        "id": "SkqGtdxS46k6"
      },
      "execution_count": null,
      "outputs": []
    },
    {
      "cell_type": "markdown",
      "source": [
        "## 4. Split into train and test set"
      ],
      "metadata": {
        "id": "Th1BA_VbB4Qb"
      }
    },
    {
      "cell_type": "code",
      "source": [
        "# Settings\n",
        "train_path = Path('train')\n",
        "test_path = Path('test')\n",
        "image_folder = 'images'\n",
        "mask_folder = 'masks'\n",
        "mask_suffix = '.png'\n",
        "\n",
        "# Functions for copying data\n",
        "cp_fn = lambda o: test_path/image_folder/p.name\n",
        "cp_fn_msk = lambda o: test_path/mask_folder/p.name\n",
        "label_fn = lambda o: train_path/mask_folder/f'{o.stem}{mask_suffix}'\n",
        "\n",
        "(test_path/image_folder).mkdir(exist_ok=True, parents=True)\n",
        "(test_path/mask_folder).mkdir(exist_ok=True)"
      ],
      "metadata": {
        "id": "92WxCtWLKZ8G"
      },
      "execution_count": null,
      "outputs": []
    },
    {
      "cell_type": "code",
      "source": [
        "#f_names = get_image_files(train_path/image_folder)\n",
        "#_, val = train_test_split(f_names, train_size=0.8, shuffle=True, random_state=0)\n",
        "\n",
        "# Original split was not sorted, so fixing file names here\n",
        "val = [Path('train/images/consep_10.png'),\n",
        " Path('train/images/consep_3.png'),\n",
        " Path('train/images/consep_6.png'),\n",
        " Path('train/images/consep_9.png'),\n",
        " Path('train/images/crag_19.png'),\n",
        " Path('train/images/crag_2.png'),\n",
        " Path('train/images/crag_22.png'),\n",
        " Path('train/images/crag_25.png'),\n",
        " Path('train/images/crag_27.png'),\n",
        " Path('train/images/crag_30.png'),\n",
        " Path('train/images/crag_33.png'),\n",
        " Path('train/images/crag_44.png'),\n",
        " Path('train/images/crag_48.png'),\n",
        " Path('train/images/crag_54.png'),\n",
        " Path('train/images/crag_58.png'),\n",
        " Path('train/images/crag_64.png'),\n",
        " Path('train/images/dpath_11.png'),\n",
        " Path('train/images/dpath_12.png'),\n",
        " Path('train/images/dpath_17.png'),\n",
        " Path('train/images/dpath_21.png'),\n",
        " Path('train/images/dpath_22.png'),\n",
        " Path('train/images/dpath_24.png'),\n",
        " Path('train/images/dpath_31.png'),\n",
        " Path('train/images/dpath_33.png'),\n",
        " Path('train/images/dpath_34.png'),\n",
        " Path('train/images/dpath_40.png'),\n",
        " Path('train/images/dpath_48.png'),\n",
        " Path('train/images/dpath_52.png'),\n",
        " Path('train/images/dpath_56.png'),\n",
        " Path('train/images/dpath_65.png'),\n",
        " Path('train/images/dpath_8.png'),\n",
        " Path('train/images/glas_11.png'),\n",
        " Path('train/images/glas_12.png'),\n",
        " Path('train/images/glas_16.png'),\n",
        " Path('train/images/glas_18.png'),\n",
        " Path('train/images/glas_29.png'),\n",
        " Path('train/images/glas_32.png'),\n",
        " Path('train/images/glas_41.png'),\n",
        " Path('train/images/glas_45.png'),\n",
        " Path('train/images/glas_46.png'),\n",
        " Path('train/images/glas_51.png'),\n",
        " Path('train/images/glas_59.png'),\n",
        " Path('train/images/glas_60.png'),\n",
        " Path('train/images/pannuke_11.png'),\n",
        " Path('train/images/pannuke_13.png'),\n",
        " Path('train/images/pannuke_15.png'),\n",
        " Path('train/images/pannuke_2.png'),\n",
        " Path('train/images/pannuke_20.png')]"
      ],
      "metadata": {
        "id": "AtwSbWrzLjI-"
      },
      "execution_count": null,
      "outputs": []
    },
    {
      "cell_type": "code",
      "source": [
        "for p in progress_bar(val):\n",
        "    shutil.move(str(p), str(cp_fn(p)))\n",
        "    msk_p = label_fn(p)\n",
        "    shutil.move(str(msk_p), str(cp_fn_msk(p)))"
      ],
      "metadata": {
        "id": "oNK1lAmoLFIN"
      },
      "execution_count": null,
      "outputs": []
    }
  ]
}