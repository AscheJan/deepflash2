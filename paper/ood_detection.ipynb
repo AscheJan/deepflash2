{
  "nbformat": 4,
  "nbformat_minor": 0,
  "metadata": {
    "colab": {
      "name": "ood_detection.ipynb",
      "provenance": [],
      "collapsed_sections": [],
      "include_colab_link": true
    },
    "kernelspec": {
      "name": "python3",
      "display_name": "Python 3"
    },
    "language_info": {
      "name": "python"
    },
    "accelerator": "GPU"
  },
  "cells": [
    {
      "cell_type": "markdown",
      "metadata": {
        "id": "view-in-github",
        "colab_type": "text"
      },
      "source": [
        "<a href=\"https://colab.research.google.com/github/matjesg/deepflash2/blob/master/paper/ood_detection.ipynb\" target=\"_parent\"><img src=\"https://colab.research.google.com/assets/colab-badge.svg\" alt=\"Open In Colab\"/></a>"
      ]
    },
    {
      "cell_type": "markdown",
      "metadata": {
        "id": "MJ0pRdHQGAPl"
      },
      "source": [
        "# deepflash2 - Out-of-distribution detection\n",
        "\n",
        "> This notebook reproduces the results of the deepflash2 [paper](https://arxiv.org/abs/2111.06693) for out-of-distribution detection.\n",
        "\n",
        "- **Data and models**: Data and trained models are available on [Google Drive](https://drive.google.com/drive/folders/1r9AqP9qW9JThbMIvT0jhoA5mPxWEeIjs?usp=sharing). To use the data in Google Colab, create a [shortcut](https://support.google.com/drive/answer/9700156?hl=en&co=GENIE.Platform%3DDesktop) of the data folder in your personal Google Drive.\n",
        "\n",
        "*Source files created with this notebook*:\n",
        "\n",
        "`ood_detection.csv`\n",
        "\n",
        "*References*:\n",
        "\n",
        "Griebel, M., Segebarth, D., Stein, N., Schukraft, N., Tovote, P., Blum, R., & Flath, C. M. (2021). Deep-learning in the bioimaging wild: Handling ambiguous data with deepflash2. arXiv preprint arXiv:2111.06693.\n"
      ]
    },
    {
      "cell_type": "markdown",
      "metadata": {
        "id": "nFQlTlPoKBM9"
      },
      "source": [
        "## Setup\n",
        "\n",
        "- Install dependecies\n",
        "- Connect to drive"
      ]
    },
    {
      "cell_type": "code",
      "metadata": {
        "id": "7DK5ySSWKESd"
      },
      "source": [
        "!pip install deepflash2"
      ],
      "execution_count": null,
      "outputs": []
    },
    {
      "cell_type": "code",
      "metadata": {
        "id": "XbDoXA3PKNAm"
      },
      "source": [
        "# Imports\n",
        "import numpy as np\n",
        "import pandas as pd\n",
        "from pathlib import Path\n",
        "from deepflash2.all import *\n",
        "from deepflash2.data import _read_msk"
      ],
      "execution_count": null,
      "outputs": []
    },
    {
      "cell_type": "code",
      "metadata": {
        "id": "LNwYiX9RmiMX"
      },
      "source": [
        "# Connect to drive\n",
        "from google.colab import drive\n",
        "drive.mount('/gdrive')"
      ],
      "execution_count": null,
      "outputs": []
    },
    {
      "cell_type": "markdown",
      "metadata": {
        "id": "l2ehFoOoJIox"
      },
      "source": [
        "## Settings\n"
      ]
    },
    {
      "cell_type": "code",
      "metadata": {
        "id": "-8LFII70JHOl"
      },
      "source": [
        "IN_DATASET = 'cFOS_in_HC'\n",
        "OOD_DATASETS = ['PV_in_HC', 'mScarlet_in_PAG', 'YFP_in_CTX', 'GFAP_in_HC']\n",
        "OUTPUT_PATH = Path(\"/content\") \n",
        "DATA_PATH = Path('/gdrive/MyDrive/deepflash2-paper/data')\n",
        "TRAINED_MODEL_PATH= Path('/gdrive/MyDrive/deepflash2-paper/models/')\n",
        "MODEL_NO = '1'\n",
        "SOURCE_DATA_URL = 'https://github.com/matjesg/deepflash2/releases/download/paper_source_data/'"
      ],
      "execution_count": null,
      "outputs": []
    },
    {
      "cell_type": "markdown",
      "metadata": {
        "id": "vbql-zGyF93s"
      },
      "source": [
        "## Analysis\n",
        "\n",
        "1. Collect files\n",
        "  - 280 in-distribution files and party out-of-ditribuition files from `cFOS_in_HC` additional data\n",
        "  - 32 fully out-of-ditribuition files from test sets of other datasets\n",
        "2. Predict segmentations and uncertainty scores with model trained on `cFOS_in_HC` data\n",
        "\n",
        "See `deepflash2_figures-and-tables.ipynb` for plots of the data."
      ]
    },
    {
      "cell_type": "code",
      "metadata": {
        "id": "8R08SmtqBp9j"
      },
      "source": [
        "# Collect files\n",
        "add_data_path = DATA_PATH/IN_DATASET/'additional_images'\n",
        "files = [f for f in add_data_path.iterdir()]\n",
        "\n",
        "for dataset in OOD_DATASETS:\n",
        "  test_data_path = DATA_PATH/dataset/'test'\n",
        "  files += [f for f in (test_data_path/'images').iterdir()]\n",
        "\n",
        "print(len(files))\n",
        "\n",
        "# Predict segmentations and uncertainty scores \n",
        "ensemble_path = TRAINED_MODEL_PATH/IN_DATASET/MODEL_NO\n",
        "\n",
        "el_pred = EnsembleLearner('images', # We will not use this data\n",
        "                          path=test_data_path, \n",
        "                          ensemble_path=ensemble_path) \n",
        "\n",
        "# Predict and save semantic segmentation masks\n",
        "_ = el_pred.get_ensemble_results(files, use_tta=True)\n",
        "\n",
        "# Merge predictions with information\n",
        "merge_cols = ['idx', 'dataset']\n",
        "df = el_pred.df_ens\n",
        "df['dataset'] = df['image_path'].apply(lambda x: x.parent.parent.parent.name)\n",
        "df.loc[df['dataset']=='data', 'dataset'] = 'cFOS_in_HC'\n",
        "df['idx'] = df['file'].str.split('.').str[0]\n",
        "df[['idx', 'dataset', 'uncertainty_score']].to_csv('ood_detection.csv', index=False)\n",
        "df_ood_scores = df[['idx', 'dataset', 'uncertainty_score']].set_index(merge_cols)\n",
        "df_ood_info = pd.read_csv(SOURCE_DATA_URL+'ood_information.csv').set_index(merge_cols)\n",
        "df_ood = df_ood_scores.join(df_ood_info).reset_index()\n",
        "\n",
        "# Sort\n",
        "df_ood = df_ood.sort_values('uncertainty_score', ascending=False).reset_index(drop=True)\n",
        "df_ood['rank'] = df_ood.reset_index()['index']\n",
        "\n",
        "# Save\n",
        "df_ood.to_csv('ood_detection.csv', index=False)"
      ],
      "execution_count": null,
      "outputs": []
    }
  ]
}